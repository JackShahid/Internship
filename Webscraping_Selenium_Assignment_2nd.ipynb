{
 "cells": [
  {
   "cell_type": "markdown",
   "metadata": {},
   "source": [
    "# Q1: Write a python program to scrape data for “Data Analyst” Job position in “Bangalore” location. You have to scrape the job-title, job-location,  company_name, experience_required. You have to scrape first 10 jobs data.\n"
   ]
  },
  {
   "cell_type": "code",
   "execution_count": 195,
   "metadata": {},
   "outputs": [],
   "source": [
    "import selenium\n",
    "import pandas as pd\n",
    "from selenium import webdriver"
   ]
  },
  {
   "cell_type": "code",
   "execution_count": 4,
   "metadata": {},
   "outputs": [],
   "source": [
    "driver = webdriver.Chrome('chromedriver.exe')"
   ]
  },
  {
   "cell_type": "code",
   "execution_count": 5,
   "metadata": {},
   "outputs": [],
   "source": [
    "url = 'https://www.naukri.com/'\n",
    "driver.get(url)"
   ]
  },
  {
   "cell_type": "code",
   "execution_count": 6,
   "metadata": {},
   "outputs": [
    {
     "data": {
      "text/plain": [
       "<selenium.webdriver.remote.webelement.WebElement (session=\"e268985cb33f56c23b7c118b7c77bbf9\", element=\"13c4b1e6-9e98-480f-8062-2d0215511e66\")>"
      ]
     },
     "execution_count": 6,
     "metadata": {},
     "output_type": "execute_result"
    }
   ],
   "source": [
    "search_job = driver.find_element_by_xpath(\"//input[@id = 'qsb-keyword-sugg']\")\n",
    "search_job"
   ]
  },
  {
   "cell_type": "code",
   "execution_count": 7,
   "metadata": {},
   "outputs": [],
   "source": [
    "# write on search bar\n",
    "search_job.send_keys(\"Data Analyst\")"
   ]
  },
  {
   "cell_type": "code",
   "execution_count": 8,
   "metadata": {},
   "outputs": [
    {
     "data": {
      "text/plain": [
       "<selenium.webdriver.remote.webelement.WebElement (session=\"e268985cb33f56c23b7c118b7c77bbf9\", element=\"bd9329ac-8d78-4f21-9462-49bc1942eb2c\")>"
      ]
     },
     "execution_count": 8,
     "metadata": {},
     "output_type": "execute_result"
    }
   ],
   "source": [
    "search_location = driver.find_element_by_xpath(\"//input[@id = 'qsb-location-sugg']\")\n",
    "search_location"
   ]
  },
  {
   "cell_type": "code",
   "execution_count": 9,
   "metadata": {},
   "outputs": [],
   "source": [
    "# finding element for job location \n",
    "search_location.send_keys(\"Bangalore\")"
   ]
  },
  {
   "cell_type": "code",
   "execution_count": 10,
   "metadata": {},
   "outputs": [
    {
     "data": {
      "text/plain": [
       "<selenium.webdriver.remote.webelement.WebElement (session=\"e268985cb33f56c23b7c118b7c77bbf9\", element=\"d2443871-a4eb-4973-827a-8722352f0b03\")>"
      ]
     },
     "execution_count": 10,
     "metadata": {},
     "output_type": "execute_result"
    }
   ],
   "source": [
    "search_button = driver.find_element_by_xpath(\"//button[@class = 'btn']\")\n",
    "search_button"
   ]
  },
  {
   "cell_type": "code",
   "execution_count": 11,
   "metadata": {},
   "outputs": [],
   "source": [
    "# do click using xpath\n",
    "search_button.click()"
   ]
  },
  {
   "cell_type": "code",
   "execution_count": 13,
   "metadata": {},
   "outputs": [
    {
     "data": {
      "text/plain": [
       "[<selenium.webdriver.remote.webelement.WebElement (session=\"e268985cb33f56c23b7c118b7c77bbf9\", element=\"fd7dab01-4d78-4ce0-b6af-ced397fae714\")>,\n",
       " <selenium.webdriver.remote.webelement.WebElement (session=\"e268985cb33f56c23b7c118b7c77bbf9\", element=\"77e6ab48-11c3-4b47-b704-0775326d84df\")>,\n",
       " <selenium.webdriver.remote.webelement.WebElement (session=\"e268985cb33f56c23b7c118b7c77bbf9\", element=\"811b5a61-e708-4b77-9623-5dfc4e6eba3c\")>,\n",
       " <selenium.webdriver.remote.webelement.WebElement (session=\"e268985cb33f56c23b7c118b7c77bbf9\", element=\"b12dc81b-96eb-4e4c-b6b5-5d4dde03eee0\")>,\n",
       " <selenium.webdriver.remote.webelement.WebElement (session=\"e268985cb33f56c23b7c118b7c77bbf9\", element=\"ab0e2e8a-5ac9-416a-a8d0-ed539ceedd49\")>,\n",
       " <selenium.webdriver.remote.webelement.WebElement (session=\"e268985cb33f56c23b7c118b7c77bbf9\", element=\"2a0c9af7-14d8-4def-9144-f88aad9652ec\")>,\n",
       " <selenium.webdriver.remote.webelement.WebElement (session=\"e268985cb33f56c23b7c118b7c77bbf9\", element=\"5d36d92b-bfbd-4345-b728-d95c47358d8d\")>,\n",
       " <selenium.webdriver.remote.webelement.WebElement (session=\"e268985cb33f56c23b7c118b7c77bbf9\", element=\"76f458c1-3da2-45d5-afec-ce0ebbf87e98\")>,\n",
       " <selenium.webdriver.remote.webelement.WebElement (session=\"e268985cb33f56c23b7c118b7c77bbf9\", element=\"7969fe97-ebc7-4ef1-bed3-8bdd1f394960\")>,\n",
       " <selenium.webdriver.remote.webelement.WebElement (session=\"e268985cb33f56c23b7c118b7c77bbf9\", element=\"7207b774-b34b-4494-94ee-5b867a5b5aa9\")>,\n",
       " <selenium.webdriver.remote.webelement.WebElement (session=\"e268985cb33f56c23b7c118b7c77bbf9\", element=\"360214cd-bd83-4667-89f3-df652ac3e7c5\")>,\n",
       " <selenium.webdriver.remote.webelement.WebElement (session=\"e268985cb33f56c23b7c118b7c77bbf9\", element=\"8d4eb21d-b19b-40da-ba4f-d6b9c50868d4\")>,\n",
       " <selenium.webdriver.remote.webelement.WebElement (session=\"e268985cb33f56c23b7c118b7c77bbf9\", element=\"c7adc345-411b-41ac-9101-539bb9e9b12b\")>,\n",
       " <selenium.webdriver.remote.webelement.WebElement (session=\"e268985cb33f56c23b7c118b7c77bbf9\", element=\"fec7b900-ea4d-4906-8cfd-4f1479607dfb\")>,\n",
       " <selenium.webdriver.remote.webelement.WebElement (session=\"e268985cb33f56c23b7c118b7c77bbf9\", element=\"bb26ea0c-67d0-44f7-b3fe-7de1f409c0e9\")>,\n",
       " <selenium.webdriver.remote.webelement.WebElement (session=\"e268985cb33f56c23b7c118b7c77bbf9\", element=\"c8e67040-760d-4ad4-bde8-1eef963bf3f3\")>,\n",
       " <selenium.webdriver.remote.webelement.WebElement (session=\"e268985cb33f56c23b7c118b7c77bbf9\", element=\"3447dcdf-2e5e-4bbf-ad4b-21096d579e9c\")>,\n",
       " <selenium.webdriver.remote.webelement.WebElement (session=\"e268985cb33f56c23b7c118b7c77bbf9\", element=\"aa1581b1-0281-496b-9b55-4a6b01921dbe\")>,\n",
       " <selenium.webdriver.remote.webelement.WebElement (session=\"e268985cb33f56c23b7c118b7c77bbf9\", element=\"5a1c4464-c930-4ff2-a677-aef3af17e047\")>,\n",
       " <selenium.webdriver.remote.webelement.WebElement (session=\"e268985cb33f56c23b7c118b7c77bbf9\", element=\"81036d60-2e59-4943-baa0-33d484f29291\")>]"
      ]
     },
     "execution_count": 13,
     "metadata": {},
     "output_type": "execute_result"
    }
   ],
   "source": [
    "# so Lets extract all the tags having the job-titles\n",
    "title = driver.find_elements_by_xpath(\"//a[@class = 'title fw500 ellipsis']\")\n",
    "title"
   ]
  },
  {
   "cell_type": "code",
   "execution_count": 14,
   "metadata": {},
   "outputs": [
    {
     "data": {
      "text/plain": [
       "['Senior Data Analyst',\n",
       " 'Executive Data Analyst',\n",
       " 'Business Data Analyst - MIS & Reporting',\n",
       " 'Senior Data Analyst',\n",
       " 'Senior Data Analyst',\n",
       " 'Senior Data Analyst - Supporting Audits',\n",
       " 'SENIOR MARKETING DATA ANALYST',\n",
       " 'Data Analyst - Quantitative Support Team',\n",
       " 'Urgent Openings For Data Analysts.',\n",
       " 'Sr Data Analyst',\n",
       " 'Business Data Analyst - Alteryx/Hadoop',\n",
       " 'Data Analyst',\n",
       " 'Senior Data Analyst',\n",
       " 'Senior Data Analyst',\n",
       " 'Data Analyst',\n",
       " 'Data Analyst',\n",
       " 'Data Analyst/Data Scientist',\n",
       " 'Lead Data Analyst - Risk Analytics',\n",
       " 'ID&A - Data Analyst - Informatica MDM',\n",
       " 'Data analysts']"
      ]
     },
     "execution_count": 14,
     "metadata": {},
     "output_type": "execute_result"
    }
   ],
   "source": [
    "# We will run a loop to iterate over the tags extracted above and extract the text inside them.\n",
    "job_title = []\n",
    "for i in title:\n",
    "    job_title.append(i.text)\n",
    "job_title"
   ]
  },
  {
   "cell_type": "code",
   "execution_count": 19,
   "metadata": {},
   "outputs": [
    {
     "data": {
      "text/plain": [
       "[<selenium.webdriver.remote.webelement.WebElement (session=\"e268985cb33f56c23b7c118b7c77bbf9\", element=\"cf472a4d-f0c4-4fb2-85b2-ac80bda8f954\")>,\n",
       " <selenium.webdriver.remote.webelement.WebElement (session=\"e268985cb33f56c23b7c118b7c77bbf9\", element=\"70868b74-14f9-416f-8a92-5081757ece9e\")>,\n",
       " <selenium.webdriver.remote.webelement.WebElement (session=\"e268985cb33f56c23b7c118b7c77bbf9\", element=\"a165da38-9712-48f3-bdff-0c23aea19666\")>,\n",
       " <selenium.webdriver.remote.webelement.WebElement (session=\"e268985cb33f56c23b7c118b7c77bbf9\", element=\"8e7765f1-6bac-4340-8865-12ee3568d710\")>,\n",
       " <selenium.webdriver.remote.webelement.WebElement (session=\"e268985cb33f56c23b7c118b7c77bbf9\", element=\"ef12ae27-907e-4edb-8fc7-55adb159591c\")>,\n",
       " <selenium.webdriver.remote.webelement.WebElement (session=\"e268985cb33f56c23b7c118b7c77bbf9\", element=\"a21fe8e6-6516-462b-a9a1-70e9e42ddbf9\")>,\n",
       " <selenium.webdriver.remote.webelement.WebElement (session=\"e268985cb33f56c23b7c118b7c77bbf9\", element=\"760ac68f-716b-404a-b13d-0f5a8069a8ce\")>,\n",
       " <selenium.webdriver.remote.webelement.WebElement (session=\"e268985cb33f56c23b7c118b7c77bbf9\", element=\"55303781-1254-454d-97d5-2d9dae379095\")>,\n",
       " <selenium.webdriver.remote.webelement.WebElement (session=\"e268985cb33f56c23b7c118b7c77bbf9\", element=\"54c0d9d5-75ff-48ad-853c-540b3b9b6a9c\")>,\n",
       " <selenium.webdriver.remote.webelement.WebElement (session=\"e268985cb33f56c23b7c118b7c77bbf9\", element=\"022b7b03-2d01-4247-be24-da6e3f4a4f97\")>,\n",
       " <selenium.webdriver.remote.webelement.WebElement (session=\"e268985cb33f56c23b7c118b7c77bbf9\", element=\"3e248845-b447-4e06-917a-69119f375e1a\")>,\n",
       " <selenium.webdriver.remote.webelement.WebElement (session=\"e268985cb33f56c23b7c118b7c77bbf9\", element=\"f982ad2f-fff0-4ec2-aecd-3836b162fae9\")>,\n",
       " <selenium.webdriver.remote.webelement.WebElement (session=\"e268985cb33f56c23b7c118b7c77bbf9\", element=\"6987e510-ec42-469f-93d2-b55a39145dc4\")>,\n",
       " <selenium.webdriver.remote.webelement.WebElement (session=\"e268985cb33f56c23b7c118b7c77bbf9\", element=\"0be34583-5144-4656-bd7b-1a939555a022\")>,\n",
       " <selenium.webdriver.remote.webelement.WebElement (session=\"e268985cb33f56c23b7c118b7c77bbf9\", element=\"b46b001e-fc56-40a4-84d6-f8e08db8e6f8\")>,\n",
       " <selenium.webdriver.remote.webelement.WebElement (session=\"e268985cb33f56c23b7c118b7c77bbf9\", element=\"e487975b-e61e-4e5d-8c53-0639a5786e6e\")>,\n",
       " <selenium.webdriver.remote.webelement.WebElement (session=\"e268985cb33f56c23b7c118b7c77bbf9\", element=\"0ba96d83-e506-4e43-9543-3d0123c6c8df\")>,\n",
       " <selenium.webdriver.remote.webelement.WebElement (session=\"e268985cb33f56c23b7c118b7c77bbf9\", element=\"fdf04294-2626-474a-ac9b-a1d1a4ffdbb0\")>,\n",
       " <selenium.webdriver.remote.webelement.WebElement (session=\"e268985cb33f56c23b7c118b7c77bbf9\", element=\"e0b76dd4-565d-4645-a8ca-fd788afab16b\")>,\n",
       " <selenium.webdriver.remote.webelement.WebElement (session=\"e268985cb33f56c23b7c118b7c77bbf9\", element=\"97c80dc3-f642-4d11-ab34-4b446bf09768\")>]"
      ]
     },
     "execution_count": 19,
     "metadata": {},
     "output_type": "execute_result"
    }
   ],
   "source": [
    "location = driver.find_elements_by_xpath(\"//li[@class ='fleft grey-text br2 placeHolderLi location']\")\n",
    "location"
   ]
  },
  {
   "cell_type": "code",
   "execution_count": 20,
   "metadata": {},
   "outputs": [
    {
     "data": {
      "text/plain": [
       "['Hyderabad/Secunderabad, Pune, Gurgaon/Gurugram, Chennai, Bangalore/Bengaluru, Mumbai (All Areas)\\n(WFH during Covid)',\n",
       " 'Bangalore/Bengaluru',\n",
       " 'Mumbai, Bangalore/Bengaluru',\n",
       " 'Bangalore/Bengaluru',\n",
       " 'Bangalore/Bengaluru',\n",
       " 'Bangalore/Bengaluru',\n",
       " 'Bangalore/Bengaluru',\n",
       " 'Mumbai, Pune, Bangalore/Bengaluru',\n",
       " 'Bangalore/Bengaluru(Devarabeesana Halli)\\n(WFH during Covid)',\n",
       " 'Bangalore/Bengaluru',\n",
       " 'Bangalore/Bengaluru',\n",
       " 'Bangalore/Bengaluru',\n",
       " 'Bangalore/Bengaluru',\n",
       " 'Bangalore/Bengaluru',\n",
       " 'Gurgaon/Gurugram, Bangalore/Bengaluru, Mumbai (All Areas)\\n(WFH during Covid)',\n",
       " 'Hyderabad/Secunderabad, Pune, Chennai, Bangalore/Bengaluru\\n(WFH during Covid)',\n",
       " 'Bangalore/Bengaluru, Delhi / NCR, Mumbai (All Areas)',\n",
       " 'Bangalore/Bengaluru',\n",
       " 'Bangalore/Bengaluru',\n",
       " 'Bangalore/Bengaluru']"
      ]
     },
     "execution_count": 20,
     "metadata": {},
     "output_type": "execute_result"
    }
   ],
   "source": [
    "job_location = []\n",
    "for i in location:\n",
    "    job_location.append(i.text)\n",
    "job_location"
   ]
  },
  {
   "cell_type": "code",
   "execution_count": 21,
   "metadata": {},
   "outputs": [
    {
     "data": {
      "text/plain": [
       "[<selenium.webdriver.remote.webelement.WebElement (session=\"e268985cb33f56c23b7c118b7c77bbf9\", element=\"07114c12-2968-4d67-85a9-ce525e872000\")>,\n",
       " <selenium.webdriver.remote.webelement.WebElement (session=\"e268985cb33f56c23b7c118b7c77bbf9\", element=\"9a32f710-1847-4dee-9e03-26c8269e10f6\")>,\n",
       " <selenium.webdriver.remote.webelement.WebElement (session=\"e268985cb33f56c23b7c118b7c77bbf9\", element=\"8e1a2a30-c07b-4d16-a65b-a9b669251560\")>,\n",
       " <selenium.webdriver.remote.webelement.WebElement (session=\"e268985cb33f56c23b7c118b7c77bbf9\", element=\"35a120ce-f719-4479-a9d3-54c01901c16a\")>,\n",
       " <selenium.webdriver.remote.webelement.WebElement (session=\"e268985cb33f56c23b7c118b7c77bbf9\", element=\"b49d72d1-f558-42a8-a25e-c11ad66315cf\")>,\n",
       " <selenium.webdriver.remote.webelement.WebElement (session=\"e268985cb33f56c23b7c118b7c77bbf9\", element=\"57b97871-dbc4-4b9b-8761-572bbd5a56a6\")>,\n",
       " <selenium.webdriver.remote.webelement.WebElement (session=\"e268985cb33f56c23b7c118b7c77bbf9\", element=\"e675d52b-75cb-4f6e-9fb9-cb273407d382\")>,\n",
       " <selenium.webdriver.remote.webelement.WebElement (session=\"e268985cb33f56c23b7c118b7c77bbf9\", element=\"0583ccc6-71c8-452d-9215-ed889899d7cf\")>,\n",
       " <selenium.webdriver.remote.webelement.WebElement (session=\"e268985cb33f56c23b7c118b7c77bbf9\", element=\"e01a8400-4ad9-4b06-b64c-c004be920654\")>,\n",
       " <selenium.webdriver.remote.webelement.WebElement (session=\"e268985cb33f56c23b7c118b7c77bbf9\", element=\"887a6aeb-3dd0-4368-9d98-d2a6cffbda86\")>,\n",
       " <selenium.webdriver.remote.webelement.WebElement (session=\"e268985cb33f56c23b7c118b7c77bbf9\", element=\"29b17c56-a933-4d97-8b21-7ef053b4d6a3\")>,\n",
       " <selenium.webdriver.remote.webelement.WebElement (session=\"e268985cb33f56c23b7c118b7c77bbf9\", element=\"4d14aaa4-fd85-4bd2-a2fc-5aa53c7c047c\")>,\n",
       " <selenium.webdriver.remote.webelement.WebElement (session=\"e268985cb33f56c23b7c118b7c77bbf9\", element=\"c13e866c-713e-4be9-864c-e1e3bf62b993\")>,\n",
       " <selenium.webdriver.remote.webelement.WebElement (session=\"e268985cb33f56c23b7c118b7c77bbf9\", element=\"a3fc4154-bdf7-45d5-8f51-055fb23dd986\")>,\n",
       " <selenium.webdriver.remote.webelement.WebElement (session=\"e268985cb33f56c23b7c118b7c77bbf9\", element=\"303fee1f-26c6-4513-884f-b83e5560177e\")>,\n",
       " <selenium.webdriver.remote.webelement.WebElement (session=\"e268985cb33f56c23b7c118b7c77bbf9\", element=\"8937449a-7157-414f-a358-56267a16304a\")>,\n",
       " <selenium.webdriver.remote.webelement.WebElement (session=\"e268985cb33f56c23b7c118b7c77bbf9\", element=\"887847ed-cb37-43eb-8fa6-eb2cc8775892\")>,\n",
       " <selenium.webdriver.remote.webelement.WebElement (session=\"e268985cb33f56c23b7c118b7c77bbf9\", element=\"3f16d9d6-b331-4dca-af8f-f51edadb5dd6\")>,\n",
       " <selenium.webdriver.remote.webelement.WebElement (session=\"e268985cb33f56c23b7c118b7c77bbf9\", element=\"f157fb6b-cb81-4fff-bae5-cf7f6e617763\")>,\n",
       " <selenium.webdriver.remote.webelement.WebElement (session=\"e268985cb33f56c23b7c118b7c77bbf9\", element=\"b9528137-792c-42bb-8757-3d846ce221c8\")>]"
      ]
     },
     "execution_count": 21,
     "metadata": {},
     "output_type": "execute_result"
    }
   ],
   "source": [
    "company = driver.find_elements_by_xpath(\"//a[@class = 'subTitle ellipsis fleft']\")\n",
    "company"
   ]
  },
  {
   "cell_type": "code",
   "execution_count": 22,
   "metadata": {},
   "outputs": [
    {
     "data": {
      "text/plain": [
       "['Virtusa Consulting Services Pvt Ltd',\n",
       " 'Gokaldas Exports Ltd',\n",
       " 'INTERTRUST GROUP',\n",
       " 'Flipkart',\n",
       " 'Flipkart',\n",
       " 'Visa Inc.',\n",
       " 'McAfee Software (India) Pvt. Ltd',\n",
       " 'TresVista Financial',\n",
       " 'Flipkart Internet Private Limited',\n",
       " 'Target Corporation India Pvt Ltd',\n",
       " 'Talent Placers',\n",
       " 'Flipkart',\n",
       " 'Valgen Decision Technologies Pvt Ltd',\n",
       " 'Kwalee ltd.',\n",
       " 'COLLABERA',\n",
       " 'Virtusa Consulting Services Pvt Ltd',\n",
       " 'Skillenable Fintech Private Limited',\n",
       " 'InnovAccer',\n",
       " 'Shell India Markets Private Limited',\n",
       " 'IBM India Pvt. Limited']"
      ]
     },
     "execution_count": 22,
     "metadata": {},
     "output_type": "execute_result"
    }
   ],
   "source": [
    "company_name = []\n",
    "for i in company:\n",
    "    company_name.append(i.text)\n",
    "company_name"
   ]
  },
  {
   "cell_type": "code",
   "execution_count": 23,
   "metadata": {},
   "outputs": [
    {
     "data": {
      "text/plain": [
       "[<selenium.webdriver.remote.webelement.WebElement (session=\"e268985cb33f56c23b7c118b7c77bbf9\", element=\"a4a24584-6a71-4416-946f-bd8d4ecdde8c\")>,\n",
       " <selenium.webdriver.remote.webelement.WebElement (session=\"e268985cb33f56c23b7c118b7c77bbf9\", element=\"5d275c53-d26d-48ca-8dc3-5e8c5a6cc7aa\")>,\n",
       " <selenium.webdriver.remote.webelement.WebElement (session=\"e268985cb33f56c23b7c118b7c77bbf9\", element=\"1ebc2d4e-ca4d-478a-8f94-e407f1473a43\")>,\n",
       " <selenium.webdriver.remote.webelement.WebElement (session=\"e268985cb33f56c23b7c118b7c77bbf9\", element=\"a5b8ae5b-4431-49f4-8c0f-94db48cfcc66\")>,\n",
       " <selenium.webdriver.remote.webelement.WebElement (session=\"e268985cb33f56c23b7c118b7c77bbf9\", element=\"22da86bb-1cec-4624-9b3b-b56ed6018f00\")>,\n",
       " <selenium.webdriver.remote.webelement.WebElement (session=\"e268985cb33f56c23b7c118b7c77bbf9\", element=\"1cf7a8da-6dd2-42e2-929c-706903e1d68b\")>,\n",
       " <selenium.webdriver.remote.webelement.WebElement (session=\"e268985cb33f56c23b7c118b7c77bbf9\", element=\"f71b1bcc-7714-4df6-81eb-c74b2b903f45\")>,\n",
       " <selenium.webdriver.remote.webelement.WebElement (session=\"e268985cb33f56c23b7c118b7c77bbf9\", element=\"fcb6512f-c772-46ad-b8b9-70f81f4cfc00\")>,\n",
       " <selenium.webdriver.remote.webelement.WebElement (session=\"e268985cb33f56c23b7c118b7c77bbf9\", element=\"6de2300b-a8fd-417c-8584-d5fdc3a445cb\")>,\n",
       " <selenium.webdriver.remote.webelement.WebElement (session=\"e268985cb33f56c23b7c118b7c77bbf9\", element=\"2934971d-1458-4dbb-b11e-086460e32037\")>,\n",
       " <selenium.webdriver.remote.webelement.WebElement (session=\"e268985cb33f56c23b7c118b7c77bbf9\", element=\"e0241368-caf6-4797-a9ad-650da43d5e4c\")>,\n",
       " <selenium.webdriver.remote.webelement.WebElement (session=\"e268985cb33f56c23b7c118b7c77bbf9\", element=\"5bc99ebf-d1dc-411e-b956-4fb71552d77b\")>,\n",
       " <selenium.webdriver.remote.webelement.WebElement (session=\"e268985cb33f56c23b7c118b7c77bbf9\", element=\"189cbe1f-bf77-4b3a-8185-47b2ea947e39\")>,\n",
       " <selenium.webdriver.remote.webelement.WebElement (session=\"e268985cb33f56c23b7c118b7c77bbf9\", element=\"5a86e412-6767-45ea-9394-888c6138b72b\")>,\n",
       " <selenium.webdriver.remote.webelement.WebElement (session=\"e268985cb33f56c23b7c118b7c77bbf9\", element=\"d490c950-d840-45af-b0cb-6af73340dbe3\")>,\n",
       " <selenium.webdriver.remote.webelement.WebElement (session=\"e268985cb33f56c23b7c118b7c77bbf9\", element=\"8571376e-5757-484e-bafd-5aaeff1eaf6f\")>,\n",
       " <selenium.webdriver.remote.webelement.WebElement (session=\"e268985cb33f56c23b7c118b7c77bbf9\", element=\"b1b27fc8-62ac-4a39-9940-5b356d309d02\")>,\n",
       " <selenium.webdriver.remote.webelement.WebElement (session=\"e268985cb33f56c23b7c118b7c77bbf9\", element=\"68741b35-6400-4435-9ea4-dae0f6424b70\")>,\n",
       " <selenium.webdriver.remote.webelement.WebElement (session=\"e268985cb33f56c23b7c118b7c77bbf9\", element=\"cbb5153b-b629-49e9-bf65-5152127624e1\")>,\n",
       " <selenium.webdriver.remote.webelement.WebElement (session=\"e268985cb33f56c23b7c118b7c77bbf9\", element=\"6c0954e5-ea26-47fa-9199-89fc75ed3ddb\")>]"
      ]
     },
     "execution_count": 23,
     "metadata": {},
     "output_type": "execute_result"
    }
   ],
   "source": [
    "experience = driver.find_elements_by_xpath(\"//li[@class = 'fleft grey-text br2 placeHolderLi experience']\")\n",
    "experience"
   ]
  },
  {
   "cell_type": "code",
   "execution_count": 24,
   "metadata": {},
   "outputs": [
    {
     "data": {
      "text/plain": [
       "['8-12 Yrs',\n",
       " '0-3 Yrs',\n",
       " '3-8 Yrs',\n",
       " '2-3 Yrs',\n",
       " '3-8 Yrs',\n",
       " '8-13 Yrs',\n",
       " '3-7 Yrs',\n",
       " '0-1 Yrs',\n",
       " '1-6 Yrs',\n",
       " '6-11 Yrs',\n",
       " '5-8 Yrs',\n",
       " '1-2 Yrs',\n",
       " '5-7 Yrs',\n",
       " '5-10 Yrs',\n",
       " '2-5 Yrs',\n",
       " '5-10 Yrs',\n",
       " '2-5 Yrs',\n",
       " '6-11 Yrs',\n",
       " '6-9 Yrs',\n",
       " '5-10 Yrs']"
      ]
     },
     "execution_count": 24,
     "metadata": {},
     "output_type": "execute_result"
    }
   ],
   "source": [
    "experience_required = []\n",
    "for i in experience:\n",
    "    experience_required.append(i.text)\n",
    "experience_required"
   ]
  },
  {
   "cell_type": "code",
   "execution_count": 25,
   "metadata": {},
   "outputs": [
    {
     "name": "stdout",
     "output_type": "stream",
     "text": [
      "20 20 20 20\n"
     ]
    }
   ],
   "source": [
    "print(len(job_title), len(job_location), len(company_name), len(experience_required))"
   ]
  },
  {
   "cell_type": "code",
   "execution_count": 28,
   "metadata": {},
   "outputs": [],
   "source": [
    "# Let's make dataframe\n",
    "jobs = pd.DataFrame({})\n",
    "jobs[\"Job-Title\"] = job_title[:10]\n",
    "jobs[\"Job_Location\"] = job_location[:10]\n",
    "jobs[\"Company_name\"] = company_name[:10]\n",
    "jobs[\"Experience_Required\"] = experience_required[:10]"
   ]
  },
  {
   "cell_type": "code",
   "execution_count": 29,
   "metadata": {},
   "outputs": [
    {
     "data": {
      "text/html": [
       "<div>\n",
       "<style scoped>\n",
       "    .dataframe tbody tr th:only-of-type {\n",
       "        vertical-align: middle;\n",
       "    }\n",
       "\n",
       "    .dataframe tbody tr th {\n",
       "        vertical-align: top;\n",
       "    }\n",
       "\n",
       "    .dataframe thead th {\n",
       "        text-align: right;\n",
       "    }\n",
       "</style>\n",
       "<table border=\"1\" class=\"dataframe\">\n",
       "  <thead>\n",
       "    <tr style=\"text-align: right;\">\n",
       "      <th></th>\n",
       "      <th>Job-Title</th>\n",
       "      <th>Job_Location</th>\n",
       "      <th>Company_name</th>\n",
       "      <th>Experience_Required</th>\n",
       "    </tr>\n",
       "  </thead>\n",
       "  <tbody>\n",
       "    <tr>\n",
       "      <th>0</th>\n",
       "      <td>Senior Data Analyst</td>\n",
       "      <td>Hyderabad/Secunderabad, Pune, Gurgaon/Gurugram...</td>\n",
       "      <td>Virtusa Consulting Services Pvt Ltd</td>\n",
       "      <td>8-12 Yrs</td>\n",
       "    </tr>\n",
       "    <tr>\n",
       "      <th>1</th>\n",
       "      <td>Executive Data Analyst</td>\n",
       "      <td>Bangalore/Bengaluru</td>\n",
       "      <td>Gokaldas Exports Ltd</td>\n",
       "      <td>0-3 Yrs</td>\n",
       "    </tr>\n",
       "    <tr>\n",
       "      <th>2</th>\n",
       "      <td>Business Data Analyst - MIS &amp; Reporting</td>\n",
       "      <td>Mumbai, Bangalore/Bengaluru</td>\n",
       "      <td>INTERTRUST GROUP</td>\n",
       "      <td>3-8 Yrs</td>\n",
       "    </tr>\n",
       "    <tr>\n",
       "      <th>3</th>\n",
       "      <td>Senior Data Analyst</td>\n",
       "      <td>Bangalore/Bengaluru</td>\n",
       "      <td>Flipkart</td>\n",
       "      <td>2-3 Yrs</td>\n",
       "    </tr>\n",
       "    <tr>\n",
       "      <th>4</th>\n",
       "      <td>Senior Data Analyst</td>\n",
       "      <td>Bangalore/Bengaluru</td>\n",
       "      <td>Flipkart</td>\n",
       "      <td>3-8 Yrs</td>\n",
       "    </tr>\n",
       "    <tr>\n",
       "      <th>5</th>\n",
       "      <td>Senior Data Analyst - Supporting Audits</td>\n",
       "      <td>Bangalore/Bengaluru</td>\n",
       "      <td>Visa Inc.</td>\n",
       "      <td>8-13 Yrs</td>\n",
       "    </tr>\n",
       "    <tr>\n",
       "      <th>6</th>\n",
       "      <td>SENIOR MARKETING DATA ANALYST</td>\n",
       "      <td>Bangalore/Bengaluru</td>\n",
       "      <td>McAfee Software (India) Pvt. Ltd</td>\n",
       "      <td>3-7 Yrs</td>\n",
       "    </tr>\n",
       "    <tr>\n",
       "      <th>7</th>\n",
       "      <td>Data Analyst - Quantitative Support Team</td>\n",
       "      <td>Mumbai, Pune, Bangalore/Bengaluru</td>\n",
       "      <td>TresVista Financial</td>\n",
       "      <td>0-1 Yrs</td>\n",
       "    </tr>\n",
       "    <tr>\n",
       "      <th>8</th>\n",
       "      <td>Urgent Openings For Data Analysts.</td>\n",
       "      <td>Bangalore/Bengaluru(Devarabeesana Halli)\\n(WFH...</td>\n",
       "      <td>Flipkart Internet Private Limited</td>\n",
       "      <td>1-6 Yrs</td>\n",
       "    </tr>\n",
       "    <tr>\n",
       "      <th>9</th>\n",
       "      <td>Sr Data Analyst</td>\n",
       "      <td>Bangalore/Bengaluru</td>\n",
       "      <td>Target Corporation India Pvt Ltd</td>\n",
       "      <td>6-11 Yrs</td>\n",
       "    </tr>\n",
       "  </tbody>\n",
       "</table>\n",
       "</div>"
      ],
      "text/plain": [
       "                                  Job-Title  \\\n",
       "0                       Senior Data Analyst   \n",
       "1                    Executive Data Analyst   \n",
       "2   Business Data Analyst - MIS & Reporting   \n",
       "3                       Senior Data Analyst   \n",
       "4                       Senior Data Analyst   \n",
       "5   Senior Data Analyst - Supporting Audits   \n",
       "6             SENIOR MARKETING DATA ANALYST   \n",
       "7  Data Analyst - Quantitative Support Team   \n",
       "8        Urgent Openings For Data Analysts.   \n",
       "9                           Sr Data Analyst   \n",
       "\n",
       "                                        Job_Location  \\\n",
       "0  Hyderabad/Secunderabad, Pune, Gurgaon/Gurugram...   \n",
       "1                                Bangalore/Bengaluru   \n",
       "2                        Mumbai, Bangalore/Bengaluru   \n",
       "3                                Bangalore/Bengaluru   \n",
       "4                                Bangalore/Bengaluru   \n",
       "5                                Bangalore/Bengaluru   \n",
       "6                                Bangalore/Bengaluru   \n",
       "7                  Mumbai, Pune, Bangalore/Bengaluru   \n",
       "8  Bangalore/Bengaluru(Devarabeesana Halli)\\n(WFH...   \n",
       "9                                Bangalore/Bengaluru   \n",
       "\n",
       "                          Company_name Experience_Required  \n",
       "0  Virtusa Consulting Services Pvt Ltd            8-12 Yrs  \n",
       "1                 Gokaldas Exports Ltd             0-3 Yrs  \n",
       "2                     INTERTRUST GROUP             3-8 Yrs  \n",
       "3                             Flipkart             2-3 Yrs  \n",
       "4                             Flipkart             3-8 Yrs  \n",
       "5                            Visa Inc.            8-13 Yrs  \n",
       "6     McAfee Software (India) Pvt. Ltd             3-7 Yrs  \n",
       "7                  TresVista Financial             0-1 Yrs  \n",
       "8    Flipkart Internet Private Limited             1-6 Yrs  \n",
       "9     Target Corporation India Pvt Ltd            6-11 Yrs  "
      ]
     },
     "execution_count": 29,
     "metadata": {},
     "output_type": "execute_result"
    }
   ],
   "source": [
    "jobs"
   ]
  },
  {
   "cell_type": "code",
   "execution_count": null,
   "metadata": {},
   "outputs": [],
   "source": []
  },
  {
   "cell_type": "markdown",
   "metadata": {},
   "source": [
    "# Q2: Write a python program to scrape data for “Data Scientist” Job position in “Bangalore” location. You have to scrape the job-title, job-location, company_name, full job-description. You have to scrape first 10 jobs data.\n"
   ]
  },
  {
   "cell_type": "code",
   "execution_count": 30,
   "metadata": {},
   "outputs": [],
   "source": [
    "driver = webdriver.Chrome(\"chromedriver.exe\")"
   ]
  },
  {
   "cell_type": "code",
   "execution_count": 31,
   "metadata": {},
   "outputs": [],
   "source": [
    "url = 'https://www.naukri.com/'\n",
    "driver.get(url)"
   ]
  },
  {
   "cell_type": "code",
   "execution_count": 32,
   "metadata": {},
   "outputs": [
    {
     "data": {
      "text/plain": [
       "<selenium.webdriver.remote.webelement.WebElement (session=\"021e1c18de91ed31cfaae26f0884fabf\", element=\"20cd9b09-0e80-4898-b761-56d321a71d60\")>"
      ]
     },
     "execution_count": 32,
     "metadata": {},
     "output_type": "execute_result"
    }
   ],
   "source": [
    "search = driver.find_element_by_id('qsb-keyword-sugg')\n",
    "search"
   ]
  },
  {
   "cell_type": "code",
   "execution_count": 33,
   "metadata": {},
   "outputs": [],
   "source": [
    "search.send_keys(\"Data Scientist\")"
   ]
  },
  {
   "cell_type": "code",
   "execution_count": 34,
   "metadata": {},
   "outputs": [
    {
     "data": {
      "text/plain": [
       "<selenium.webdriver.remote.webelement.WebElement (session=\"021e1c18de91ed31cfaae26f0884fabf\", element=\"a94c6edb-0402-4013-869d-295d54aba707\")>"
      ]
     },
     "execution_count": 34,
     "metadata": {},
     "output_type": "execute_result"
    }
   ],
   "source": [
    "search_loc = driver.find_element_by_id(\"qsb-location-sugg\")\n",
    "search_loc"
   ]
  },
  {
   "cell_type": "code",
   "execution_count": 35,
   "metadata": {},
   "outputs": [],
   "source": [
    "search_loc.send_keys(\"Bangalore\")"
   ]
  },
  {
   "cell_type": "code",
   "execution_count": 38,
   "metadata": {},
   "outputs": [
    {
     "data": {
      "text/plain": [
       "<selenium.webdriver.remote.webelement.WebElement (session=\"021e1c18de91ed31cfaae26f0884fabf\", element=\"061265fb-23c5-4192-951a-13d9423357de\")>"
      ]
     },
     "execution_count": 38,
     "metadata": {},
     "output_type": "execute_result"
    }
   ],
   "source": [
    "button = driver.find_element_by_xpath(\"//button[@class = 'btn']\")\n",
    "button"
   ]
  },
  {
   "cell_type": "code",
   "execution_count": 39,
   "metadata": {},
   "outputs": [],
   "source": [
    "button.click()"
   ]
  },
  {
   "cell_type": "code",
   "execution_count": 41,
   "metadata": {},
   "outputs": [
    {
     "data": {
      "text/plain": [
       "[<selenium.webdriver.remote.webelement.WebElement (session=\"021e1c18de91ed31cfaae26f0884fabf\", element=\"bddc516e-6572-42f4-9481-1ac1561f72e8\")>,\n",
       " <selenium.webdriver.remote.webelement.WebElement (session=\"021e1c18de91ed31cfaae26f0884fabf\", element=\"f500f5c0-4adb-4362-b53d-95c6f7f82d88\")>,\n",
       " <selenium.webdriver.remote.webelement.WebElement (session=\"021e1c18de91ed31cfaae26f0884fabf\", element=\"911ad140-d26c-42bb-8822-f7585a553a65\")>,\n",
       " <selenium.webdriver.remote.webelement.WebElement (session=\"021e1c18de91ed31cfaae26f0884fabf\", element=\"0d31ad5d-cfc8-4e31-a0bc-f89f08acb5ef\")>,\n",
       " <selenium.webdriver.remote.webelement.WebElement (session=\"021e1c18de91ed31cfaae26f0884fabf\", element=\"0f6b0508-72b7-4afc-beb4-223884ec731c\")>,\n",
       " <selenium.webdriver.remote.webelement.WebElement (session=\"021e1c18de91ed31cfaae26f0884fabf\", element=\"6041d032-82ab-4292-93ba-9adcc2123103\")>,\n",
       " <selenium.webdriver.remote.webelement.WebElement (session=\"021e1c18de91ed31cfaae26f0884fabf\", element=\"d365b64e-b1b8-4e66-864c-45515d77c0ff\")>,\n",
       " <selenium.webdriver.remote.webelement.WebElement (session=\"021e1c18de91ed31cfaae26f0884fabf\", element=\"8e7b90e2-6003-497d-95db-1c87850f05a7\")>,\n",
       " <selenium.webdriver.remote.webelement.WebElement (session=\"021e1c18de91ed31cfaae26f0884fabf\", element=\"b9af174f-c148-481f-92b5-5a8f702ce948\")>,\n",
       " <selenium.webdriver.remote.webelement.WebElement (session=\"021e1c18de91ed31cfaae26f0884fabf\", element=\"009fbe78-d2e4-4b1e-8c5d-e299eabd001c\")>,\n",
       " <selenium.webdriver.remote.webelement.WebElement (session=\"021e1c18de91ed31cfaae26f0884fabf\", element=\"a9a42005-0888-458e-b8af-0e58903d6131\")>,\n",
       " <selenium.webdriver.remote.webelement.WebElement (session=\"021e1c18de91ed31cfaae26f0884fabf\", element=\"fb732ba4-690e-46f3-9b07-e0f8300097e8\")>,\n",
       " <selenium.webdriver.remote.webelement.WebElement (session=\"021e1c18de91ed31cfaae26f0884fabf\", element=\"5d7fc223-20a1-42cd-9ef8-1721293c47be\")>,\n",
       " <selenium.webdriver.remote.webelement.WebElement (session=\"021e1c18de91ed31cfaae26f0884fabf\", element=\"93243573-b80e-4b64-b613-99d4b1aa9b07\")>,\n",
       " <selenium.webdriver.remote.webelement.WebElement (session=\"021e1c18de91ed31cfaae26f0884fabf\", element=\"cda4025f-ec51-494f-9d9d-fca8ef9b79be\")>,\n",
       " <selenium.webdriver.remote.webelement.WebElement (session=\"021e1c18de91ed31cfaae26f0884fabf\", element=\"5a723d2c-6f76-4bc8-ad21-d00b9c68f7c0\")>,\n",
       " <selenium.webdriver.remote.webelement.WebElement (session=\"021e1c18de91ed31cfaae26f0884fabf\", element=\"0b37f9b3-525f-4e31-8d8c-c06d1a3cdade\")>,\n",
       " <selenium.webdriver.remote.webelement.WebElement (session=\"021e1c18de91ed31cfaae26f0884fabf\", element=\"cc842a92-ef4d-4975-92a8-c1756d26521e\")>,\n",
       " <selenium.webdriver.remote.webelement.WebElement (session=\"021e1c18de91ed31cfaae26f0884fabf\", element=\"21a8e3e3-8e04-40b9-9e80-1a836de114e1\")>,\n",
       " <selenium.webdriver.remote.webelement.WebElement (session=\"021e1c18de91ed31cfaae26f0884fabf\", element=\"2b7076f8-6ba4-4afb-8ecd-93764cd7c6e0\")>]"
      ]
     },
     "execution_count": 41,
     "metadata": {},
     "output_type": "execute_result"
    }
   ],
   "source": [
    "title = driver.find_elements_by_xpath(\"//a[@class = 'title fw500 ellipsis']\")\n",
    "title"
   ]
  },
  {
   "cell_type": "code",
   "execution_count": 42,
   "metadata": {},
   "outputs": [
    {
     "data": {
      "text/plain": [
       "['Data Scientist',\n",
       " 'Sr Data Scientist',\n",
       " 'Sr Data Scientist',\n",
       " 'Lead Data Scientist - Machine Learning/ Data Mining',\n",
       " 'Data Scientist: Advanced Analytics',\n",
       " 'Data Scientist',\n",
       " 'Cognitive Data Scientist',\n",
       " 'Data Scientist',\n",
       " 'Data Scientist + Python + Big DATA',\n",
       " 'Senior Data Scientist, Payments compliance',\n",
       " 'Principal, Applied Math Stats (Senior-Data Scientist)',\n",
       " 'Senior Data Scientist',\n",
       " 'Senior Data Scientist',\n",
       " 'Senior Data Scientist',\n",
       " 'Senior Data Scientist',\n",
       " 'Data Scientist - Python/ MATLAB/ Machine Learning Algorithms',\n",
       " 'Data Scientist',\n",
       " 'Lead Data Scientist',\n",
       " 'Lead Data Scientist',\n",
       " 'Lead Data Scientist BFSI']"
      ]
     },
     "execution_count": 42,
     "metadata": {},
     "output_type": "execute_result"
    }
   ],
   "source": [
    "job_title = []\n",
    "for i in title:\n",
    "    job_title.append(i.text)\n",
    "job_title"
   ]
  },
  {
   "cell_type": "code",
   "execution_count": 44,
   "metadata": {},
   "outputs": [
    {
     "data": {
      "text/plain": [
       "[<selenium.webdriver.remote.webelement.WebElement (session=\"021e1c18de91ed31cfaae26f0884fabf\", element=\"e00b5a01-79b1-429b-9862-d21dbb1e651f\")>,\n",
       " <selenium.webdriver.remote.webelement.WebElement (session=\"021e1c18de91ed31cfaae26f0884fabf\", element=\"c6f727bd-c25c-4dfb-bb84-b19499b3c24b\")>,\n",
       " <selenium.webdriver.remote.webelement.WebElement (session=\"021e1c18de91ed31cfaae26f0884fabf\", element=\"46268b54-7f0f-421b-a9de-e4deb96d4822\")>,\n",
       " <selenium.webdriver.remote.webelement.WebElement (session=\"021e1c18de91ed31cfaae26f0884fabf\", element=\"248f07a4-d648-48db-88a2-8b2d0d916fff\")>,\n",
       " <selenium.webdriver.remote.webelement.WebElement (session=\"021e1c18de91ed31cfaae26f0884fabf\", element=\"2648af57-b23a-43f8-8298-19f64685cf36\")>,\n",
       " <selenium.webdriver.remote.webelement.WebElement (session=\"021e1c18de91ed31cfaae26f0884fabf\", element=\"d27474b8-75e7-4e75-b04d-cbf4e7a3d83e\")>,\n",
       " <selenium.webdriver.remote.webelement.WebElement (session=\"021e1c18de91ed31cfaae26f0884fabf\", element=\"3100df41-6c0b-44bd-90fb-cc2ad102f0c8\")>,\n",
       " <selenium.webdriver.remote.webelement.WebElement (session=\"021e1c18de91ed31cfaae26f0884fabf\", element=\"7f58379d-4eaa-402b-ba94-ca086ddcb5ba\")>,\n",
       " <selenium.webdriver.remote.webelement.WebElement (session=\"021e1c18de91ed31cfaae26f0884fabf\", element=\"dc3637e5-4f60-43de-a011-b69bd5555fce\")>,\n",
       " <selenium.webdriver.remote.webelement.WebElement (session=\"021e1c18de91ed31cfaae26f0884fabf\", element=\"8afc6191-26f4-4ad0-a9ba-7178af202a3a\")>,\n",
       " <selenium.webdriver.remote.webelement.WebElement (session=\"021e1c18de91ed31cfaae26f0884fabf\", element=\"9e60f7fe-43e9-483a-aac7-d5eaf79e9aab\")>,\n",
       " <selenium.webdriver.remote.webelement.WebElement (session=\"021e1c18de91ed31cfaae26f0884fabf\", element=\"9bb2fae7-56e7-421d-bd64-f54681b1dc4a\")>,\n",
       " <selenium.webdriver.remote.webelement.WebElement (session=\"021e1c18de91ed31cfaae26f0884fabf\", element=\"04458b6d-81bd-44a9-b522-768187b79cbb\")>,\n",
       " <selenium.webdriver.remote.webelement.WebElement (session=\"021e1c18de91ed31cfaae26f0884fabf\", element=\"35518988-f87f-4ef9-86d3-07eaaafa85c9\")>,\n",
       " <selenium.webdriver.remote.webelement.WebElement (session=\"021e1c18de91ed31cfaae26f0884fabf\", element=\"0e8700af-55e8-404d-9a67-87851a2f48d4\")>,\n",
       " <selenium.webdriver.remote.webelement.WebElement (session=\"021e1c18de91ed31cfaae26f0884fabf\", element=\"b29c4ec8-f87f-4894-9ed8-e323d9fde0b3\")>,\n",
       " <selenium.webdriver.remote.webelement.WebElement (session=\"021e1c18de91ed31cfaae26f0884fabf\", element=\"e1a8f686-ea4f-4ce7-bb46-b34350b93147\")>,\n",
       " <selenium.webdriver.remote.webelement.WebElement (session=\"021e1c18de91ed31cfaae26f0884fabf\", element=\"ebd748e7-9da8-4df1-aa13-822a34caae4e\")>,\n",
       " <selenium.webdriver.remote.webelement.WebElement (session=\"021e1c18de91ed31cfaae26f0884fabf\", element=\"a7de1362-0a64-48b4-b452-0855852b9b2f\")>,\n",
       " <selenium.webdriver.remote.webelement.WebElement (session=\"021e1c18de91ed31cfaae26f0884fabf\", element=\"0293ea06-9371-4dc2-94f8-af1a80e6fa48\")>]"
      ]
     },
     "execution_count": 44,
     "metadata": {},
     "output_type": "execute_result"
    }
   ],
   "source": [
    "location = driver.find_elements_by_xpath(\"//li[@class = 'fleft grey-text br2 placeHolderLi location']\")\n",
    "location"
   ]
  },
  {
   "cell_type": "code",
   "execution_count": 45,
   "metadata": {},
   "outputs": [
    {
     "data": {
      "text/plain": [
       "['Noida, Bangalore/Bengaluru',\n",
       " 'Bengaluru/Bangalore',\n",
       " 'Bangalore/Bengaluru',\n",
       " 'Bangalore/Bengaluru',\n",
       " 'Bengaluru/Bangalore',\n",
       " 'Bangalore/Bengaluru',\n",
       " 'Bengaluru/Bangalore',\n",
       " 'Bengaluru/Bangalore',\n",
       " 'Hyderabad/Secunderabad, Chennai, Bangalore/Bengaluru',\n",
       " 'Bangalore/Bengaluru',\n",
       " 'Bangalore/Bengaluru',\n",
       " 'Bangalore/Bengaluru',\n",
       " 'Bangalore/Bengaluru',\n",
       " 'Bangalore/Bengaluru',\n",
       " 'Bangalore/Bengaluru',\n",
       " 'Bangalore/Bengaluru',\n",
       " 'Bangalore/Bengaluru',\n",
       " 'Bangalore/Bengaluru',\n",
       " 'Bangalore/Bengaluru',\n",
       " 'Bengaluru/Bangalore']"
      ]
     },
     "execution_count": 45,
     "metadata": {},
     "output_type": "execute_result"
    }
   ],
   "source": [
    "job_location = []\n",
    "for i in location:\n",
    "    job_location.append(i.text)\n",
    "job_location"
   ]
  },
  {
   "cell_type": "code",
   "execution_count": 46,
   "metadata": {},
   "outputs": [
    {
     "data": {
      "text/plain": [
       "[<selenium.webdriver.remote.webelement.WebElement (session=\"021e1c18de91ed31cfaae26f0884fabf\", element=\"61f47f73-1166-499d-852c-5bdff765f388\")>,\n",
       " <selenium.webdriver.remote.webelement.WebElement (session=\"021e1c18de91ed31cfaae26f0884fabf\", element=\"abffea33-50c5-44ee-a962-e5405ee5c5fc\")>,\n",
       " <selenium.webdriver.remote.webelement.WebElement (session=\"021e1c18de91ed31cfaae26f0884fabf\", element=\"c49988c4-e421-4fe1-958c-60a1ae1e4783\")>,\n",
       " <selenium.webdriver.remote.webelement.WebElement (session=\"021e1c18de91ed31cfaae26f0884fabf\", element=\"3190f8bf-c26f-473f-b730-868eb06c80be\")>,\n",
       " <selenium.webdriver.remote.webelement.WebElement (session=\"021e1c18de91ed31cfaae26f0884fabf\", element=\"085ec903-da42-4239-85e6-e5e2293a488e\")>,\n",
       " <selenium.webdriver.remote.webelement.WebElement (session=\"021e1c18de91ed31cfaae26f0884fabf\", element=\"9237180b-f20c-4458-ada8-548905370a85\")>,\n",
       " <selenium.webdriver.remote.webelement.WebElement (session=\"021e1c18de91ed31cfaae26f0884fabf\", element=\"e33bd0b6-7b8a-43f9-b760-354e394410a3\")>,\n",
       " <selenium.webdriver.remote.webelement.WebElement (session=\"021e1c18de91ed31cfaae26f0884fabf\", element=\"549a3ac1-6571-4d95-aed0-b46e700652cb\")>,\n",
       " <selenium.webdriver.remote.webelement.WebElement (session=\"021e1c18de91ed31cfaae26f0884fabf\", element=\"90528a98-e1f0-401f-97ed-94036e8ef461\")>,\n",
       " <selenium.webdriver.remote.webelement.WebElement (session=\"021e1c18de91ed31cfaae26f0884fabf\", element=\"861711ce-ab88-457a-81dc-3cf6c8a24fde\")>,\n",
       " <selenium.webdriver.remote.webelement.WebElement (session=\"021e1c18de91ed31cfaae26f0884fabf\", element=\"cbc727f8-2fc9-444a-b78d-02aea756857c\")>,\n",
       " <selenium.webdriver.remote.webelement.WebElement (session=\"021e1c18de91ed31cfaae26f0884fabf\", element=\"942e0bd0-ebd1-466e-bf44-f39845083389\")>,\n",
       " <selenium.webdriver.remote.webelement.WebElement (session=\"021e1c18de91ed31cfaae26f0884fabf\", element=\"df3ac06d-871d-45e7-9a50-ad02f8143468\")>,\n",
       " <selenium.webdriver.remote.webelement.WebElement (session=\"021e1c18de91ed31cfaae26f0884fabf\", element=\"d348266a-c588-471f-931c-f53d38efc2f6\")>,\n",
       " <selenium.webdriver.remote.webelement.WebElement (session=\"021e1c18de91ed31cfaae26f0884fabf\", element=\"cee74c3b-b33a-43fa-90aa-02be26f58e51\")>,\n",
       " <selenium.webdriver.remote.webelement.WebElement (session=\"021e1c18de91ed31cfaae26f0884fabf\", element=\"8b7ac69d-a859-4c61-8b05-89135c06d73a\")>,\n",
       " <selenium.webdriver.remote.webelement.WebElement (session=\"021e1c18de91ed31cfaae26f0884fabf\", element=\"9ecf4dd6-d4a4-4e21-932e-e3e50aedaee6\")>,\n",
       " <selenium.webdriver.remote.webelement.WebElement (session=\"021e1c18de91ed31cfaae26f0884fabf\", element=\"97064fee-6fe5-4b99-bcf1-074cb60814fb\")>,\n",
       " <selenium.webdriver.remote.webelement.WebElement (session=\"021e1c18de91ed31cfaae26f0884fabf\", element=\"34037404-72c5-443f-8fe2-9d1b0e059ae5\")>,\n",
       " <selenium.webdriver.remote.webelement.WebElement (session=\"021e1c18de91ed31cfaae26f0884fabf\", element=\"8118c66e-22e0-4d53-a53b-5e99a5259778\")>]"
      ]
     },
     "execution_count": 46,
     "metadata": {},
     "output_type": "execute_result"
    }
   ],
   "source": [
    "company = driver.find_elements_by_xpath(\"//a[@class = 'subTitle ellipsis fleft']\")\n",
    "company"
   ]
  },
  {
   "cell_type": "code",
   "execution_count": 47,
   "metadata": {},
   "outputs": [
    {
     "data": {
      "text/plain": [
       "['Oracle India Pvt. Ltd.',\n",
       " 'IBM India Pvt. Limited',\n",
       " 'IBM India Pvt. Limited',\n",
       " 'Wrackle Technologies Pvt Ltd',\n",
       " 'IBM India Pvt. Limited',\n",
       " 'Schneider Electric India Pvt. Ltd.',\n",
       " 'IBM India Pvt. Limited',\n",
       " 'IBM India Pvt. Limited',\n",
       " 'Capgemini Technology Services India Limited',\n",
       " 'AIRBNB GLOBAL CAPABILITY CENTER PRIVATE LIMITED',\n",
       " 'AT and T Global Business Services India P. Ltd.',\n",
       " 'Rakuten, Inc.',\n",
       " 'Kwalee India Pvt Ltd.',\n",
       " 'ANT work',\n",
       " 'Philips India Limited',\n",
       " 'Wrackle Technologies Pvt Ltd',\n",
       " 'Applied Materials',\n",
       " 'Rakuten, Inc.',\n",
       " 'Zycus Infotech Pvt Ltd',\n",
       " 'IBM India Pvt. Limited']"
      ]
     },
     "execution_count": 47,
     "metadata": {},
     "output_type": "execute_result"
    }
   ],
   "source": [
    "company_name = []\n",
    "for i in company:\n",
    "    company_name.append(i.text)\n",
    "company_name"
   ]
  },
  {
   "cell_type": "code",
   "execution_count": 78,
   "metadata": {},
   "outputs": [
    {
     "data": {
      "text/plain": [
       "[<selenium.webdriver.remote.webelement.WebElement (session=\"021e1c18de91ed31cfaae26f0884fabf\", element=\"8db9903a-b116-421c-b15e-4d2f09427ff6\")>,\n",
       " <selenium.webdriver.remote.webelement.WebElement (session=\"021e1c18de91ed31cfaae26f0884fabf\", element=\"5212fec9-d6ff-4da2-9eb9-5c6d81bfdab0\")>,\n",
       " <selenium.webdriver.remote.webelement.WebElement (session=\"021e1c18de91ed31cfaae26f0884fabf\", element=\"36263e3f-3fcc-485a-a4a4-9298df612a79\")>,\n",
       " <selenium.webdriver.remote.webelement.WebElement (session=\"021e1c18de91ed31cfaae26f0884fabf\", element=\"75b4d5c3-6c58-44db-bd87-4a8a1cf598c9\")>,\n",
       " <selenium.webdriver.remote.webelement.WebElement (session=\"021e1c18de91ed31cfaae26f0884fabf\", element=\"45b0b2fc-3878-4239-9e12-2020083d7982\")>,\n",
       " <selenium.webdriver.remote.webelement.WebElement (session=\"021e1c18de91ed31cfaae26f0884fabf\", element=\"e3641580-0cc0-4a28-91f8-30e5d87bc6ae\")>,\n",
       " <selenium.webdriver.remote.webelement.WebElement (session=\"021e1c18de91ed31cfaae26f0884fabf\", element=\"730839cb-0936-4819-ba65-ee7de0804fb1\")>,\n",
       " <selenium.webdriver.remote.webelement.WebElement (session=\"021e1c18de91ed31cfaae26f0884fabf\", element=\"fa2f3ee0-0d26-42ae-8f76-56aebc68c398\")>,\n",
       " <selenium.webdriver.remote.webelement.WebElement (session=\"021e1c18de91ed31cfaae26f0884fabf\", element=\"fc6a8212-71c9-41c8-8222-d2f27f628293\")>,\n",
       " <selenium.webdriver.remote.webelement.WebElement (session=\"021e1c18de91ed31cfaae26f0884fabf\", element=\"93c50359-7b6e-4eb1-883f-2b5d75fe9e3f\")>,\n",
       " <selenium.webdriver.remote.webelement.WebElement (session=\"021e1c18de91ed31cfaae26f0884fabf\", element=\"d3c87821-7d5b-4606-a714-3cbbe13bb31b\")>,\n",
       " <selenium.webdriver.remote.webelement.WebElement (session=\"021e1c18de91ed31cfaae26f0884fabf\", element=\"6f21fcaa-dabb-4875-94bd-254feca4f974\")>,\n",
       " <selenium.webdriver.remote.webelement.WebElement (session=\"021e1c18de91ed31cfaae26f0884fabf\", element=\"06f1c8f4-2962-4cbd-aa79-5d11c286631f\")>,\n",
       " <selenium.webdriver.remote.webelement.WebElement (session=\"021e1c18de91ed31cfaae26f0884fabf\", element=\"1459517a-64d2-46d4-ad0a-8569eaa55c02\")>,\n",
       " <selenium.webdriver.remote.webelement.WebElement (session=\"021e1c18de91ed31cfaae26f0884fabf\", element=\"ec7a84c6-a7d6-449c-9439-305994279c09\")>,\n",
       " <selenium.webdriver.remote.webelement.WebElement (session=\"021e1c18de91ed31cfaae26f0884fabf\", element=\"22a18884-0a4a-44b0-855f-dfa452ec65ef\")>,\n",
       " <selenium.webdriver.remote.webelement.WebElement (session=\"021e1c18de91ed31cfaae26f0884fabf\", element=\"234bbb48-ab5c-44e9-811e-f5068b3e97d8\")>,\n",
       " <selenium.webdriver.remote.webelement.WebElement (session=\"021e1c18de91ed31cfaae26f0884fabf\", element=\"052e93f9-eaa9-4195-9855-f6e32051377f\")>,\n",
       " <selenium.webdriver.remote.webelement.WebElement (session=\"021e1c18de91ed31cfaae26f0884fabf\", element=\"8344001d-685a-47d8-9945-16a2ffe9199c\")>,\n",
       " <selenium.webdriver.remote.webelement.WebElement (session=\"021e1c18de91ed31cfaae26f0884fabf\", element=\"a87ed51b-b4ef-41b7-bae3-453ef1b8816d\")>]"
      ]
     },
     "execution_count": 78,
     "metadata": {},
     "output_type": "execute_result"
    }
   ],
   "source": [
    "description = driver.find_elements_by_xpath(\"//div[@class = 'job-description fs12 grey-text']\")\n",
    "description"
   ]
  },
  {
   "cell_type": "code",
   "execution_count": 79,
   "metadata": {},
   "outputs": [
    {
     "data": {
      "text/plain": [
       "['Experience in delivering data science solutions in multiple tenancies is a plus Have a ...',\n",
       " 'Demonstrated extensive experience in building and deploying production quality models i...',\n",
       " 'Demonstrated extensive experience in building and deploying production quality models i...',\n",
       " 'BS/ MS/ PhD in Computer Science, Statistics, Applied Math, or related areas from Premie...',\n",
       " 'PhD / Masters in STEM-related fields with knowledge in Quantum ComputingRequired Techni...',\n",
       " 'Experience in creating and using advanced machine learning algorithms and statistics: r...',\n",
       " 'IntroductionAs a Data Scientist at IBM, you will help transform our clients data into t...',\n",
       " 'Experience in building and deploying production quality models in a live digital enviro...',\n",
       " \"Qualification: Bachelor's degree in Computer Science, Information Technology or related...\",\n",
       " '4+ years industry experience in a quantitative analysis roleExperience in Payments a st...',\n",
       " 'Preferred Bachelors of Science in Computer Science, Statistics, Math or Scientific Comp...',\n",
       " 'Masters/PhD in quantitative field (Computer Science, Mathematics, Machine Learning, AI,...',\n",
       " \"Kwalee is one of the world's leading multiplatform game publishers, with well over 600 ...\",\n",
       " 'The ideal candidate should possess programming experience in Python / R (C++ will be a ...',\n",
       " 'A Master s Degree or PhD in Computer Science, Econometrics, Artificial Intelligence, Ap...',\n",
       " 'BS / MS/PhD in Computer Science, Statistics, Applied Math, or related areas from Premie...',\n",
       " 'Education: Bachelors DegreeSkills Certifications: Languages:Years of Experience: 4 - 7 ...',\n",
       " 'We are looking for a Data Scientist for the Customer DNA (CDNA) group. The Data Scienti...',\n",
       " 'The candidate must also have expertise in programming traditional machine learning algo...',\n",
       " 'IntroductionSoftware Developers at IBM are the backbone of our strategic initiatives to...']"
      ]
     },
     "execution_count": 79,
     "metadata": {},
     "output_type": "execute_result"
    }
   ],
   "source": [
    "job_description = []\n",
    "for i in description:\n",
    "    job_description.append(i.text)\n",
    "job_description"
   ]
  },
  {
   "cell_type": "code",
   "execution_count": 80,
   "metadata": {},
   "outputs": [
    {
     "data": {
      "text/html": [
       "<div>\n",
       "<style scoped>\n",
       "    .dataframe tbody tr th:only-of-type {\n",
       "        vertical-align: middle;\n",
       "    }\n",
       "\n",
       "    .dataframe tbody tr th {\n",
       "        vertical-align: top;\n",
       "    }\n",
       "\n",
       "    .dataframe thead th {\n",
       "        text-align: right;\n",
       "    }\n",
       "</style>\n",
       "<table border=\"1\" class=\"dataframe\">\n",
       "  <thead>\n",
       "    <tr style=\"text-align: right;\">\n",
       "      <th></th>\n",
       "      <th>job-title</th>\n",
       "      <th>job_location</th>\n",
       "      <th>Comapny_Name</th>\n",
       "      <th>Job_Description</th>\n",
       "    </tr>\n",
       "  </thead>\n",
       "  <tbody>\n",
       "    <tr>\n",
       "      <th>0</th>\n",
       "      <td>Data Scientist</td>\n",
       "      <td>Noida, Bangalore/Bengaluru</td>\n",
       "      <td>Oracle India Pvt. Ltd.</td>\n",
       "      <td>Experience in delivering data science solution...</td>\n",
       "    </tr>\n",
       "    <tr>\n",
       "      <th>1</th>\n",
       "      <td>Sr Data Scientist</td>\n",
       "      <td>Bengaluru/Bangalore</td>\n",
       "      <td>IBM India Pvt. Limited</td>\n",
       "      <td>Demonstrated extensive experience in building ...</td>\n",
       "    </tr>\n",
       "    <tr>\n",
       "      <th>2</th>\n",
       "      <td>Sr Data Scientist</td>\n",
       "      <td>Bangalore/Bengaluru</td>\n",
       "      <td>IBM India Pvt. Limited</td>\n",
       "      <td>Demonstrated extensive experience in building ...</td>\n",
       "    </tr>\n",
       "    <tr>\n",
       "      <th>3</th>\n",
       "      <td>Lead Data Scientist - Machine Learning/ Data M...</td>\n",
       "      <td>Bangalore/Bengaluru</td>\n",
       "      <td>Wrackle Technologies Pvt Ltd</td>\n",
       "      <td>BS/ MS/ PhD in Computer Science, Statistics, A...</td>\n",
       "    </tr>\n",
       "    <tr>\n",
       "      <th>4</th>\n",
       "      <td>Data Scientist: Advanced Analytics</td>\n",
       "      <td>Bengaluru/Bangalore</td>\n",
       "      <td>IBM India Pvt. Limited</td>\n",
       "      <td>PhD / Masters in STEM-related fields with know...</td>\n",
       "    </tr>\n",
       "    <tr>\n",
       "      <th>5</th>\n",
       "      <td>Data Scientist</td>\n",
       "      <td>Bangalore/Bengaluru</td>\n",
       "      <td>Schneider Electric India Pvt. Ltd.</td>\n",
       "      <td>Experience in creating and using advanced mach...</td>\n",
       "    </tr>\n",
       "    <tr>\n",
       "      <th>6</th>\n",
       "      <td>Cognitive Data Scientist</td>\n",
       "      <td>Bengaluru/Bangalore</td>\n",
       "      <td>IBM India Pvt. Limited</td>\n",
       "      <td>IntroductionAs a Data Scientist at IBM, you wi...</td>\n",
       "    </tr>\n",
       "    <tr>\n",
       "      <th>7</th>\n",
       "      <td>Data Scientist</td>\n",
       "      <td>Bengaluru/Bangalore</td>\n",
       "      <td>IBM India Pvt. Limited</td>\n",
       "      <td>Experience in building and deploying productio...</td>\n",
       "    </tr>\n",
       "    <tr>\n",
       "      <th>8</th>\n",
       "      <td>Data Scientist + Python + Big DATA</td>\n",
       "      <td>Hyderabad/Secunderabad, Chennai, Bangalore/Ben...</td>\n",
       "      <td>Capgemini Technology Services India Limited</td>\n",
       "      <td>Qualification: Bachelor's degree in Computer S...</td>\n",
       "    </tr>\n",
       "    <tr>\n",
       "      <th>9</th>\n",
       "      <td>Senior Data Scientist, Payments compliance</td>\n",
       "      <td>Bangalore/Bengaluru</td>\n",
       "      <td>AIRBNB GLOBAL CAPABILITY CENTER PRIVATE LIMITED</td>\n",
       "      <td>4+ years industry experience in a quantitative...</td>\n",
       "    </tr>\n",
       "  </tbody>\n",
       "</table>\n",
       "</div>"
      ],
      "text/plain": [
       "                                           job-title  \\\n",
       "0                                     Data Scientist   \n",
       "1                                  Sr Data Scientist   \n",
       "2                                  Sr Data Scientist   \n",
       "3  Lead Data Scientist - Machine Learning/ Data M...   \n",
       "4                 Data Scientist: Advanced Analytics   \n",
       "5                                     Data Scientist   \n",
       "6                           Cognitive Data Scientist   \n",
       "7                                     Data Scientist   \n",
       "8                 Data Scientist + Python + Big DATA   \n",
       "9         Senior Data Scientist, Payments compliance   \n",
       "\n",
       "                                        job_location  \\\n",
       "0                         Noida, Bangalore/Bengaluru   \n",
       "1                                Bengaluru/Bangalore   \n",
       "2                                Bangalore/Bengaluru   \n",
       "3                                Bangalore/Bengaluru   \n",
       "4                                Bengaluru/Bangalore   \n",
       "5                                Bangalore/Bengaluru   \n",
       "6                                Bengaluru/Bangalore   \n",
       "7                                Bengaluru/Bangalore   \n",
       "8  Hyderabad/Secunderabad, Chennai, Bangalore/Ben...   \n",
       "9                                Bangalore/Bengaluru   \n",
       "\n",
       "                                      Comapny_Name  \\\n",
       "0                           Oracle India Pvt. Ltd.   \n",
       "1                           IBM India Pvt. Limited   \n",
       "2                           IBM India Pvt. Limited   \n",
       "3                     Wrackle Technologies Pvt Ltd   \n",
       "4                           IBM India Pvt. Limited   \n",
       "5               Schneider Electric India Pvt. Ltd.   \n",
       "6                           IBM India Pvt. Limited   \n",
       "7                           IBM India Pvt. Limited   \n",
       "8      Capgemini Technology Services India Limited   \n",
       "9  AIRBNB GLOBAL CAPABILITY CENTER PRIVATE LIMITED   \n",
       "\n",
       "                                     Job_Description  \n",
       "0  Experience in delivering data science solution...  \n",
       "1  Demonstrated extensive experience in building ...  \n",
       "2  Demonstrated extensive experience in building ...  \n",
       "3  BS/ MS/ PhD in Computer Science, Statistics, A...  \n",
       "4  PhD / Masters in STEM-related fields with know...  \n",
       "5  Experience in creating and using advanced mach...  \n",
       "6  IntroductionAs a Data Scientist at IBM, you wi...  \n",
       "7  Experience in building and deploying productio...  \n",
       "8  Qualification: Bachelor's degree in Computer S...  \n",
       "9  4+ years industry experience in a quantitative...  "
      ]
     },
     "execution_count": 80,
     "metadata": {},
     "output_type": "execute_result"
    }
   ],
   "source": [
    "job_profile = pd.DataFrame({})\n",
    "job_profile['job-title'] = job_title[:10]\n",
    "job_profile['job_location'] = job_location[:10]\n",
    "job_profile['Comapny_Name'] = company_name[:10]\n",
    "job_profile['Job_Description'] = job_description[:10]\n",
    "\n",
    "job_profile"
   ]
  },
  {
   "cell_type": "code",
   "execution_count": null,
   "metadata": {},
   "outputs": [],
   "source": []
  },
  {
   "cell_type": "markdown",
   "metadata": {},
   "source": [
    "# Q3: In this question you have to scrape data using the filters available on the webpage as shown below: The location filter to be used is “Delhi/NCR”, the salary filter to be used is “3-6” lakhs"
   ]
  },
  {
   "cell_type": "code",
   "execution_count": 82,
   "metadata": {},
   "outputs": [],
   "source": [
    "driver = webdriver.Chrome('chromedriver.exe')"
   ]
  },
  {
   "cell_type": "code",
   "execution_count": 85,
   "metadata": {},
   "outputs": [],
   "source": [
    "url = \"https://www.naukri.com/\"\n",
    "driver.get(url)"
   ]
  },
  {
   "cell_type": "code",
   "execution_count": 86,
   "metadata": {},
   "outputs": [
    {
     "data": {
      "text/plain": [
       "<selenium.webdriver.remote.webelement.WebElement (session=\"550c9f2f3720d065167c483c0c82e7d8\", element=\"d53cdcbe-f617-4b18-b148-be81464eeecd\")>"
      ]
     },
     "execution_count": 86,
     "metadata": {},
     "output_type": "execute_result"
    }
   ],
   "source": [
    "search_job = driver.find_element_by_id('qsb-keyword-sugg')\n",
    "search_job"
   ]
  },
  {
   "cell_type": "code",
   "execution_count": 87,
   "metadata": {},
   "outputs": [],
   "source": [
    "search_job.send_keys(\"Data Scientist\")"
   ]
  },
  {
   "cell_type": "code",
   "execution_count": 88,
   "metadata": {},
   "outputs": [
    {
     "data": {
      "text/plain": [
       "<selenium.webdriver.remote.webelement.WebElement (session=\"550c9f2f3720d065167c483c0c82e7d8\", element=\"8a15ff20-f0d2-4252-8480-853baad77822\")>"
      ]
     },
     "execution_count": 88,
     "metadata": {},
     "output_type": "execute_result"
    }
   ],
   "source": [
    "button = driver.find_element_by_xpath(\"//button[@class = 'btn']\")\n",
    "button"
   ]
  },
  {
   "cell_type": "code",
   "execution_count": 89,
   "metadata": {},
   "outputs": [],
   "source": [
    "button.click()"
   ]
  },
  {
   "cell_type": "code",
   "execution_count": 94,
   "metadata": {},
   "outputs": [
    {
     "data": {
      "text/plain": [
       "<selenium.webdriver.remote.webelement.WebElement (session=\"550c9f2f3720d065167c483c0c82e7d8\", element=\"17de6a09-5f32-4cdc-a5ce-3d9dda1b7742\")>"
      ]
     },
     "execution_count": 94,
     "metadata": {},
     "output_type": "execute_result"
    }
   ],
   "source": [
    "check_box = driver.find_element_by_xpath(\"//span[@title = 'Delhi / NCR']\")\n",
    "check_box"
   ]
  },
  {
   "cell_type": "code",
   "execution_count": 95,
   "metadata": {},
   "outputs": [],
   "source": [
    "check_box.click()"
   ]
  },
  {
   "cell_type": "code",
   "execution_count": 96,
   "metadata": {},
   "outputs": [
    {
     "data": {
      "text/plain": [
       "<selenium.webdriver.remote.webelement.WebElement (session=\"550c9f2f3720d065167c483c0c82e7d8\", element=\"2261c862-37ee-440b-b11e-d6e5ec2fe186\")>"
      ]
     },
     "execution_count": 96,
     "metadata": {},
     "output_type": "execute_result"
    }
   ],
   "source": [
    "salary = driver.find_element_by_xpath(\"//span[@title = '3-6 Lakhs']\")\n",
    "salary"
   ]
  },
  {
   "cell_type": "code",
   "execution_count": 97,
   "metadata": {},
   "outputs": [],
   "source": [
    "salary.click()"
   ]
  },
  {
   "cell_type": "code",
   "execution_count": 99,
   "metadata": {},
   "outputs": [
    {
     "data": {
      "text/plain": [
       "[<selenium.webdriver.remote.webelement.WebElement (session=\"550c9f2f3720d065167c483c0c82e7d8\", element=\"59563b26-4736-4b2a-8672-97fd58b44cf7\")>,\n",
       " <selenium.webdriver.remote.webelement.WebElement (session=\"550c9f2f3720d065167c483c0c82e7d8\", element=\"3c79e58e-b2a5-4df6-af4c-01b83d39ebdf\")>,\n",
       " <selenium.webdriver.remote.webelement.WebElement (session=\"550c9f2f3720d065167c483c0c82e7d8\", element=\"6a2a2b3c-9e10-4a2c-99d4-3bc277f9823a\")>,\n",
       " <selenium.webdriver.remote.webelement.WebElement (session=\"550c9f2f3720d065167c483c0c82e7d8\", element=\"e00a5f75-a196-4070-96ec-f8dd4c485f9c\")>,\n",
       " <selenium.webdriver.remote.webelement.WebElement (session=\"550c9f2f3720d065167c483c0c82e7d8\", element=\"2fde1683-59af-4106-87f9-cd4517563f6c\")>,\n",
       " <selenium.webdriver.remote.webelement.WebElement (session=\"550c9f2f3720d065167c483c0c82e7d8\", element=\"25cc6f12-4cac-40a3-bcb5-c9b6685fa2e2\")>,\n",
       " <selenium.webdriver.remote.webelement.WebElement (session=\"550c9f2f3720d065167c483c0c82e7d8\", element=\"d5f438ea-cc50-432e-bca8-5bd264c937b1\")>,\n",
       " <selenium.webdriver.remote.webelement.WebElement (session=\"550c9f2f3720d065167c483c0c82e7d8\", element=\"3fc7a9bd-2599-4bda-8b99-ae998efc56c3\")>,\n",
       " <selenium.webdriver.remote.webelement.WebElement (session=\"550c9f2f3720d065167c483c0c82e7d8\", element=\"c17bc9b3-7fe6-49e3-ad19-5fcf1032c965\")>,\n",
       " <selenium.webdriver.remote.webelement.WebElement (session=\"550c9f2f3720d065167c483c0c82e7d8\", element=\"1a760904-d3b9-4dd5-bb6d-edfb8b2c3820\")>,\n",
       " <selenium.webdriver.remote.webelement.WebElement (session=\"550c9f2f3720d065167c483c0c82e7d8\", element=\"cf468252-5667-4dcd-878b-0aa6a5febbac\")>,\n",
       " <selenium.webdriver.remote.webelement.WebElement (session=\"550c9f2f3720d065167c483c0c82e7d8\", element=\"243aaf2e-961d-44ae-af3a-26f1c693b17c\")>,\n",
       " <selenium.webdriver.remote.webelement.WebElement (session=\"550c9f2f3720d065167c483c0c82e7d8\", element=\"e2be63f0-5684-43a2-888b-e3d4c5240960\")>,\n",
       " <selenium.webdriver.remote.webelement.WebElement (session=\"550c9f2f3720d065167c483c0c82e7d8\", element=\"44f2b1b0-f289-46c3-865a-5f71e178d10f\")>,\n",
       " <selenium.webdriver.remote.webelement.WebElement (session=\"550c9f2f3720d065167c483c0c82e7d8\", element=\"cdd5b6cc-737a-462a-81b5-24b080271731\")>,\n",
       " <selenium.webdriver.remote.webelement.WebElement (session=\"550c9f2f3720d065167c483c0c82e7d8\", element=\"09f243b8-3905-4615-b19b-3406a5bf1998\")>,\n",
       " <selenium.webdriver.remote.webelement.WebElement (session=\"550c9f2f3720d065167c483c0c82e7d8\", element=\"49503c42-0a59-4e37-8958-2fbc2be0a911\")>,\n",
       " <selenium.webdriver.remote.webelement.WebElement (session=\"550c9f2f3720d065167c483c0c82e7d8\", element=\"a492f36c-75e5-441d-8826-88de2446bef0\")>,\n",
       " <selenium.webdriver.remote.webelement.WebElement (session=\"550c9f2f3720d065167c483c0c82e7d8\", element=\"9bad6c3f-1b2e-4a0c-bea8-9e58c9a164f3\")>,\n",
       " <selenium.webdriver.remote.webelement.WebElement (session=\"550c9f2f3720d065167c483c0c82e7d8\", element=\"b58ac58f-01bd-4678-a73d-54c3f687a00c\")>]"
      ]
     },
     "execution_count": 99,
     "metadata": {},
     "output_type": "execute_result"
    }
   ],
   "source": [
    "title = driver.find_elements_by_xpath(\"//a[@class = 'title fw500 ellipsis']\")\n",
    "title"
   ]
  },
  {
   "cell_type": "code",
   "execution_count": 100,
   "metadata": {},
   "outputs": [
    {
     "data": {
      "text/plain": [
       "['Data Scientist / Data Analyst',\n",
       " 'Urgent Opening For Data Scientist/Data Analyst-Gurgaon',\n",
       " 'Data Analyst/Data Scientist',\n",
       " 'Data Scientist/ Machine Learning Engineer',\n",
       " 'Data Scientist / Data Analyst / Business Analytics - MNC Jobs Freshers',\n",
       " 'Data Scientist - WFH - MIND Infotech',\n",
       " 'Junior Data Scientists & Engineers',\n",
       " 'Data Scientist',\n",
       " 'Data Scientist',\n",
       " 'Data Scientist - Machine Learning/ NLP',\n",
       " 'Data Scientist',\n",
       " 'Data Scientist Internship',\n",
       " 'Data Scientist',\n",
       " 'Senior Data Scientist',\n",
       " 'Data Scientist',\n",
       " 'Senior Data Scientist',\n",
       " 'Data Scientist / Sr. Data Scientist',\n",
       " 'Hiring Data Scientist Develope || IDS Infotech LTD || (Permanent WFH)',\n",
       " 'Data Scientist',\n",
       " 'Data Scientist']"
      ]
     },
     "execution_count": 100,
     "metadata": {},
     "output_type": "execute_result"
    }
   ],
   "source": [
    "job_title = []\n",
    "for i in title:\n",
    "    job_title.append(i.text)\n",
    "job_title"
   ]
  },
  {
   "cell_type": "code",
   "execution_count": 102,
   "metadata": {},
   "outputs": [
    {
     "data": {
      "text/plain": [
       "[<selenium.webdriver.remote.webelement.WebElement (session=\"550c9f2f3720d065167c483c0c82e7d8\", element=\"99d7232e-123b-467d-a27b-bc08d3784105\")>,\n",
       " <selenium.webdriver.remote.webelement.WebElement (session=\"550c9f2f3720d065167c483c0c82e7d8\", element=\"93585e9b-df7b-4fed-a954-8c7eb92bd153\")>,\n",
       " <selenium.webdriver.remote.webelement.WebElement (session=\"550c9f2f3720d065167c483c0c82e7d8\", element=\"517ab142-27f6-4b33-ab32-a8a226e11445\")>,\n",
       " <selenium.webdriver.remote.webelement.WebElement (session=\"550c9f2f3720d065167c483c0c82e7d8\", element=\"584aa3e2-3009-4ffc-81b9-68a7e1665018\")>,\n",
       " <selenium.webdriver.remote.webelement.WebElement (session=\"550c9f2f3720d065167c483c0c82e7d8\", element=\"9273b1e8-baef-4ea0-8d17-17a4e2699d39\")>,\n",
       " <selenium.webdriver.remote.webelement.WebElement (session=\"550c9f2f3720d065167c483c0c82e7d8\", element=\"fd4e17fc-872a-4273-9d7c-92127801d3f7\")>,\n",
       " <selenium.webdriver.remote.webelement.WebElement (session=\"550c9f2f3720d065167c483c0c82e7d8\", element=\"07bd2542-d89d-4bd2-86c2-4bc190358c6a\")>,\n",
       " <selenium.webdriver.remote.webelement.WebElement (session=\"550c9f2f3720d065167c483c0c82e7d8\", element=\"68c68045-4a78-424c-8036-97949b81ee86\")>,\n",
       " <selenium.webdriver.remote.webelement.WebElement (session=\"550c9f2f3720d065167c483c0c82e7d8\", element=\"7f5fb1a6-87aa-4411-a9dd-a138af8de3ae\")>,\n",
       " <selenium.webdriver.remote.webelement.WebElement (session=\"550c9f2f3720d065167c483c0c82e7d8\", element=\"345e2e8c-d778-4a85-ab26-edb349f585ac\")>,\n",
       " <selenium.webdriver.remote.webelement.WebElement (session=\"550c9f2f3720d065167c483c0c82e7d8\", element=\"5ac1e909-8b6e-4424-b0a6-d5ec06fbb975\")>,\n",
       " <selenium.webdriver.remote.webelement.WebElement (session=\"550c9f2f3720d065167c483c0c82e7d8\", element=\"936f7cfa-201e-4303-9eb0-31ce6fd4d58e\")>,\n",
       " <selenium.webdriver.remote.webelement.WebElement (session=\"550c9f2f3720d065167c483c0c82e7d8\", element=\"dfe65e1f-368f-4a51-80f1-cb1373203ee7\")>,\n",
       " <selenium.webdriver.remote.webelement.WebElement (session=\"550c9f2f3720d065167c483c0c82e7d8\", element=\"fece3846-3249-406c-9ee0-dfa358d53008\")>,\n",
       " <selenium.webdriver.remote.webelement.WebElement (session=\"550c9f2f3720d065167c483c0c82e7d8\", element=\"b8c06a29-5961-4784-8ed0-514bde959282\")>,\n",
       " <selenium.webdriver.remote.webelement.WebElement (session=\"550c9f2f3720d065167c483c0c82e7d8\", element=\"f789f189-7f9b-4dcc-92c6-4f7de185a8a1\")>,\n",
       " <selenium.webdriver.remote.webelement.WebElement (session=\"550c9f2f3720d065167c483c0c82e7d8\", element=\"0e596fdd-e803-404c-8ae1-40f11f7a227a\")>,\n",
       " <selenium.webdriver.remote.webelement.WebElement (session=\"550c9f2f3720d065167c483c0c82e7d8\", element=\"288bf4ab-a0e5-4ebc-9aa6-8451ab31bcf8\")>,\n",
       " <selenium.webdriver.remote.webelement.WebElement (session=\"550c9f2f3720d065167c483c0c82e7d8\", element=\"4a2abfa9-9547-4d8e-a0ca-c26cd85edb7f\")>,\n",
       " <selenium.webdriver.remote.webelement.WebElement (session=\"550c9f2f3720d065167c483c0c82e7d8\", element=\"f81995d2-fa65-4de7-ae81-f3289871a7d9\")>]"
      ]
     },
     "execution_count": 102,
     "metadata": {},
     "output_type": "execute_result"
    }
   ],
   "source": [
    "location = driver.find_elements_by_xpath(\"//li[@class = 'fleft grey-text br2 placeHolderLi location']\")\n",
    "location"
   ]
  },
  {
   "cell_type": "code",
   "execution_count": 103,
   "metadata": {},
   "outputs": [
    {
     "data": {
      "text/plain": [
       "['Gurgaon/Gurugram',\n",
       " 'Gurgaon/Gurugram, Bangalore/Bengaluru, any\\n(WFH during Covid)',\n",
       " 'Bangalore/Bengaluru, Delhi / NCR, Mumbai (All Areas)',\n",
       " 'Mohali/SAS Nagar, Hyderabad/Secunderabad, Ahmedabad, Gurgaon/Gurugram, Chennai, Bangalore/Bengaluru',\n",
       " 'Noida, New Delhi, Gurgaon/Gurugram',\n",
       " 'Pune, Chennai, Bangalore/Bengaluru, Delhi / NCR, Mumbai (All Areas)',\n",
       " 'New Delhi, Delhi / NCR',\n",
       " 'Delhi / NCR(Okhla)',\n",
       " 'Noida\\n(WFH during Covid)',\n",
       " 'Gurgaon/Gurugram',\n",
       " 'Noida(Sector-59 Noida)',\n",
       " 'New Delhi',\n",
       " 'Mumbai, Gurgaon/Gurugram, Bangalore/Bengaluru',\n",
       " 'Hyderabad/Secunderabad, Gurgaon/Gurugram, Bangalore/Bengaluru',\n",
       " 'Gurgaon/Gurugram',\n",
       " 'Delhi',\n",
       " 'Noida, Pune, Mumbai (All Areas)',\n",
       " 'Chandigarh, Hyderabad/Secunderabad, Chennai, Bangalore/Bengaluru, Delhi / NCR',\n",
       " 'Gurgaon/Gurugram',\n",
       " 'Delhi']"
      ]
     },
     "execution_count": 103,
     "metadata": {},
     "output_type": "execute_result"
    }
   ],
   "source": [
    "job_location = []\n",
    "for i in location:\n",
    "    job_location.append(i.text)\n",
    "job_location"
   ]
  },
  {
   "cell_type": "code",
   "execution_count": 104,
   "metadata": {},
   "outputs": [
    {
     "data": {
      "text/plain": [
       "[<selenium.webdriver.remote.webelement.WebElement (session=\"550c9f2f3720d065167c483c0c82e7d8\", element=\"7a6d8d66-1fcc-4909-8764-9182f006cbfb\")>,\n",
       " <selenium.webdriver.remote.webelement.WebElement (session=\"550c9f2f3720d065167c483c0c82e7d8\", element=\"ab4f864c-f46f-465e-9afc-08a1fef7530d\")>,\n",
       " <selenium.webdriver.remote.webelement.WebElement (session=\"550c9f2f3720d065167c483c0c82e7d8\", element=\"9f3e34bd-37ec-43b0-b915-ac348ca072b8\")>,\n",
       " <selenium.webdriver.remote.webelement.WebElement (session=\"550c9f2f3720d065167c483c0c82e7d8\", element=\"3dced5b6-f381-4c29-b85c-387a7e1928e4\")>,\n",
       " <selenium.webdriver.remote.webelement.WebElement (session=\"550c9f2f3720d065167c483c0c82e7d8\", element=\"ad7b8ed4-8f55-4bf3-a654-0465636e4c77\")>,\n",
       " <selenium.webdriver.remote.webelement.WebElement (session=\"550c9f2f3720d065167c483c0c82e7d8\", element=\"69dce3b1-884d-4790-bcb1-05d84c85da9e\")>,\n",
       " <selenium.webdriver.remote.webelement.WebElement (session=\"550c9f2f3720d065167c483c0c82e7d8\", element=\"1fd079ce-518d-4a24-b7c0-70939d9cbfc2\")>,\n",
       " <selenium.webdriver.remote.webelement.WebElement (session=\"550c9f2f3720d065167c483c0c82e7d8\", element=\"21ba8ea4-a830-4ab6-b087-45d2f981d8d4\")>,\n",
       " <selenium.webdriver.remote.webelement.WebElement (session=\"550c9f2f3720d065167c483c0c82e7d8\", element=\"cd887e21-421d-4653-a64b-6869ef531d35\")>,\n",
       " <selenium.webdriver.remote.webelement.WebElement (session=\"550c9f2f3720d065167c483c0c82e7d8\", element=\"4a4b7684-2322-4a9e-bc38-c89d8429307f\")>,\n",
       " <selenium.webdriver.remote.webelement.WebElement (session=\"550c9f2f3720d065167c483c0c82e7d8\", element=\"a1be73ff-63b1-4bac-9c16-74d435505c74\")>,\n",
       " <selenium.webdriver.remote.webelement.WebElement (session=\"550c9f2f3720d065167c483c0c82e7d8\", element=\"e5180ae1-bc0a-420d-a893-795e415e2b5a\")>,\n",
       " <selenium.webdriver.remote.webelement.WebElement (session=\"550c9f2f3720d065167c483c0c82e7d8\", element=\"c8065e5c-cdc9-47b4-a08d-f0458dbf21c0\")>,\n",
       " <selenium.webdriver.remote.webelement.WebElement (session=\"550c9f2f3720d065167c483c0c82e7d8\", element=\"eb9fb842-4347-4002-8c55-e9dfcbdfe4c8\")>,\n",
       " <selenium.webdriver.remote.webelement.WebElement (session=\"550c9f2f3720d065167c483c0c82e7d8\", element=\"ba0804c7-2c3c-49e7-ba46-56ce3d4d3bc1\")>,\n",
       " <selenium.webdriver.remote.webelement.WebElement (session=\"550c9f2f3720d065167c483c0c82e7d8\", element=\"99162efa-093e-46f3-a77e-401a57e057af\")>,\n",
       " <selenium.webdriver.remote.webelement.WebElement (session=\"550c9f2f3720d065167c483c0c82e7d8\", element=\"ddad8f8a-7d13-4f1b-98bf-754b27e12807\")>,\n",
       " <selenium.webdriver.remote.webelement.WebElement (session=\"550c9f2f3720d065167c483c0c82e7d8\", element=\"973034be-ba04-4e64-b74b-15bec4a48728\")>,\n",
       " <selenium.webdriver.remote.webelement.WebElement (session=\"550c9f2f3720d065167c483c0c82e7d8\", element=\"30ca0868-1e24-4fd2-b46b-6bbe30ff8725\")>,\n",
       " <selenium.webdriver.remote.webelement.WebElement (session=\"550c9f2f3720d065167c483c0c82e7d8\", element=\"b5208864-c621-4629-92b6-c5de3d93bd93\")>]"
      ]
     },
     "execution_count": 104,
     "metadata": {},
     "output_type": "execute_result"
    }
   ],
   "source": [
    "company = driver.find_elements_by_xpath(\"//a[@class = 'subTitle ellipsis fleft']\")\n",
    "company"
   ]
  },
  {
   "cell_type": "code",
   "execution_count": 105,
   "metadata": {},
   "outputs": [
    {
     "data": {
      "text/plain": [
       "['CARS24',\n",
       " 'Metaphor Infotech',\n",
       " 'Skillenable Fintech Private Limited',\n",
       " 'Creative Hands HR Consultancy',\n",
       " 'GABA Consultancy services',\n",
       " 'MOTHERSONSUMI INFOTECH & DESIGNS LIMITED',\n",
       " 'PY Consultancy',\n",
       " 'Kusum Healthcare Pvt. Ltd.',\n",
       " 'R Systems International Ltd.',\n",
       " 'TalPro',\n",
       " 'R Systems International Ltd.',\n",
       " 'iHackers Inc',\n",
       " 'Fractal Analytics',\n",
       " 'inVentiv International Pharma Services Pvt. Ltd.',\n",
       " 'CBRE South Asia Pvt Ltd',\n",
       " 'iNICU',\n",
       " 'WEGARNER SOLUTIONS PRIVATE LIMITED',\n",
       " 'IDS Infotech Ltd.',\n",
       " 'Decimal Technologies Pvt Ltd.',\n",
       " 'Sentieo']"
      ]
     },
     "execution_count": 105,
     "metadata": {},
     "output_type": "execute_result"
    }
   ],
   "source": [
    "company_name = []\n",
    "for i in company:\n",
    "    company_name.append(i.text)\n",
    "company_name"
   ]
  },
  {
   "cell_type": "code",
   "execution_count": 106,
   "metadata": {},
   "outputs": [
    {
     "data": {
      "text/plain": [
       "[<selenium.webdriver.remote.webelement.WebElement (session=\"550c9f2f3720d065167c483c0c82e7d8\", element=\"2beeaa10-0b81-4499-a68f-b5c6006e739f\")>,\n",
       " <selenium.webdriver.remote.webelement.WebElement (session=\"550c9f2f3720d065167c483c0c82e7d8\", element=\"cc404d8d-53ef-45d6-b0a6-e5cefa558fd4\")>,\n",
       " <selenium.webdriver.remote.webelement.WebElement (session=\"550c9f2f3720d065167c483c0c82e7d8\", element=\"c2669f9c-6960-4285-a934-9aec6267bd84\")>,\n",
       " <selenium.webdriver.remote.webelement.WebElement (session=\"550c9f2f3720d065167c483c0c82e7d8\", element=\"c5b2c487-750f-4a3e-852d-dc4133b47254\")>,\n",
       " <selenium.webdriver.remote.webelement.WebElement (session=\"550c9f2f3720d065167c483c0c82e7d8\", element=\"38e436f7-1bb1-4cdc-b6db-868ab50a4a17\")>,\n",
       " <selenium.webdriver.remote.webelement.WebElement (session=\"550c9f2f3720d065167c483c0c82e7d8\", element=\"cd48810a-1bc6-4efa-8523-d2c695307956\")>,\n",
       " <selenium.webdriver.remote.webelement.WebElement (session=\"550c9f2f3720d065167c483c0c82e7d8\", element=\"0543c323-1fca-4cdc-95e5-c0be2e703f48\")>,\n",
       " <selenium.webdriver.remote.webelement.WebElement (session=\"550c9f2f3720d065167c483c0c82e7d8\", element=\"3b8a7435-9fd4-4848-9cb3-8dea5fef31ad\")>,\n",
       " <selenium.webdriver.remote.webelement.WebElement (session=\"550c9f2f3720d065167c483c0c82e7d8\", element=\"b060df60-96a7-46ec-b57a-b776b027d167\")>,\n",
       " <selenium.webdriver.remote.webelement.WebElement (session=\"550c9f2f3720d065167c483c0c82e7d8\", element=\"a9912511-7d50-4243-886d-48293ed26ab4\")>,\n",
       " <selenium.webdriver.remote.webelement.WebElement (session=\"550c9f2f3720d065167c483c0c82e7d8\", element=\"2da7af38-2f77-43a1-87a0-58f0f3fdfbb1\")>,\n",
       " <selenium.webdriver.remote.webelement.WebElement (session=\"550c9f2f3720d065167c483c0c82e7d8\", element=\"cd3b89d7-0f70-476f-aa08-ed2e56726de0\")>,\n",
       " <selenium.webdriver.remote.webelement.WebElement (session=\"550c9f2f3720d065167c483c0c82e7d8\", element=\"f309e697-0e2d-4f58-b5f5-1da54b3adfad\")>,\n",
       " <selenium.webdriver.remote.webelement.WebElement (session=\"550c9f2f3720d065167c483c0c82e7d8\", element=\"161a1522-186c-4daf-b3bd-eea914ce8b4e\")>,\n",
       " <selenium.webdriver.remote.webelement.WebElement (session=\"550c9f2f3720d065167c483c0c82e7d8\", element=\"53d5cf4d-9077-4111-8b86-951b33c08f05\")>,\n",
       " <selenium.webdriver.remote.webelement.WebElement (session=\"550c9f2f3720d065167c483c0c82e7d8\", element=\"939fab70-a366-4272-bb28-af6453404271\")>,\n",
       " <selenium.webdriver.remote.webelement.WebElement (session=\"550c9f2f3720d065167c483c0c82e7d8\", element=\"cbe0b427-954a-409a-962f-efa3a60cee6d\")>,\n",
       " <selenium.webdriver.remote.webelement.WebElement (session=\"550c9f2f3720d065167c483c0c82e7d8\", element=\"b7205769-9762-4fad-af8e-4003dfb2f043\")>,\n",
       " <selenium.webdriver.remote.webelement.WebElement (session=\"550c9f2f3720d065167c483c0c82e7d8\", element=\"5721270d-ab76-4fbb-ae52-a8a9161705d4\")>,\n",
       " <selenium.webdriver.remote.webelement.WebElement (session=\"550c9f2f3720d065167c483c0c82e7d8\", element=\"3acb51ac-a609-47bc-82c5-7b39a68b34e6\")>]"
      ]
     },
     "execution_count": 106,
     "metadata": {},
     "output_type": "execute_result"
    }
   ],
   "source": [
    "experience = driver.find_elements_by_xpath(\"//li[@class = 'fleft grey-text br2 placeHolderLi experience']\")\n",
    "experience"
   ]
  },
  {
   "cell_type": "code",
   "execution_count": 107,
   "metadata": {},
   "outputs": [
    {
     "data": {
      "text/plain": [
       "['1-5 Yrs',\n",
       " '5-10 Yrs',\n",
       " '2-5 Yrs',\n",
       " '0-0 Yrs',\n",
       " '0-0 Yrs',\n",
       " '3-7 Yrs',\n",
       " '0-3 Yrs',\n",
       " '4-6 Yrs',\n",
       " '3-6 Yrs',\n",
       " '2-6 Yrs',\n",
       " '5-10 Yrs',\n",
       " '0-1 Yrs',\n",
       " '3-7 Yrs',\n",
       " '3-6 Yrs',\n",
       " '2-4 Yrs',\n",
       " '1-5 Yrs',\n",
       " '0-5 Yrs',\n",
       " '5-10 Yrs',\n",
       " '1-3 Yrs',\n",
       " '2-7 Yrs']"
      ]
     },
     "execution_count": 107,
     "metadata": {},
     "output_type": "execute_result"
    }
   ],
   "source": [
    "experience_required = []\n",
    "for i in experience:\n",
    "    experience_required.append(i.text)\n",
    "experience_required"
   ]
  },
  {
   "cell_type": "code",
   "execution_count": 108,
   "metadata": {},
   "outputs": [
    {
     "data": {
      "text/html": [
       "<div>\n",
       "<style scoped>\n",
       "    .dataframe tbody tr th:only-of-type {\n",
       "        vertical-align: middle;\n",
       "    }\n",
       "\n",
       "    .dataframe tbody tr th {\n",
       "        vertical-align: top;\n",
       "    }\n",
       "\n",
       "    .dataframe thead th {\n",
       "        text-align: right;\n",
       "    }\n",
       "</style>\n",
       "<table border=\"1\" class=\"dataframe\">\n",
       "  <thead>\n",
       "    <tr style=\"text-align: right;\">\n",
       "      <th></th>\n",
       "      <th>Job_Title</th>\n",
       "      <th>Job_Location</th>\n",
       "      <th>Company_Name</th>\n",
       "      <th>Experience_Required</th>\n",
       "    </tr>\n",
       "  </thead>\n",
       "  <tbody>\n",
       "    <tr>\n",
       "      <th>0</th>\n",
       "      <td>Data Scientist / Data Analyst</td>\n",
       "      <td>Gurgaon/Gurugram</td>\n",
       "      <td>CARS24</td>\n",
       "      <td>1-5 Yrs</td>\n",
       "    </tr>\n",
       "    <tr>\n",
       "      <th>1</th>\n",
       "      <td>Urgent Opening For Data Scientist/Data Analyst...</td>\n",
       "      <td>Gurgaon/Gurugram, Bangalore/Bengaluru, any\\n(W...</td>\n",
       "      <td>Metaphor Infotech</td>\n",
       "      <td>5-10 Yrs</td>\n",
       "    </tr>\n",
       "    <tr>\n",
       "      <th>2</th>\n",
       "      <td>Data Analyst/Data Scientist</td>\n",
       "      <td>Bangalore/Bengaluru, Delhi / NCR, Mumbai (All ...</td>\n",
       "      <td>Skillenable Fintech Private Limited</td>\n",
       "      <td>2-5 Yrs</td>\n",
       "    </tr>\n",
       "    <tr>\n",
       "      <th>3</th>\n",
       "      <td>Data Scientist/ Machine Learning Engineer</td>\n",
       "      <td>Mohali/SAS Nagar, Hyderabad/Secunderabad, Ahme...</td>\n",
       "      <td>Creative Hands HR Consultancy</td>\n",
       "      <td>0-0 Yrs</td>\n",
       "    </tr>\n",
       "    <tr>\n",
       "      <th>4</th>\n",
       "      <td>Data Scientist / Data Analyst / Business Analy...</td>\n",
       "      <td>Noida, New Delhi, Gurgaon/Gurugram</td>\n",
       "      <td>GABA Consultancy services</td>\n",
       "      <td>0-0 Yrs</td>\n",
       "    </tr>\n",
       "    <tr>\n",
       "      <th>5</th>\n",
       "      <td>Data Scientist - WFH - MIND Infotech</td>\n",
       "      <td>Pune, Chennai, Bangalore/Bengaluru, Delhi / NC...</td>\n",
       "      <td>MOTHERSONSUMI INFOTECH &amp; DESIGNS LIMITED</td>\n",
       "      <td>3-7 Yrs</td>\n",
       "    </tr>\n",
       "    <tr>\n",
       "      <th>6</th>\n",
       "      <td>Junior Data Scientists &amp; Engineers</td>\n",
       "      <td>New Delhi, Delhi / NCR</td>\n",
       "      <td>PY Consultancy</td>\n",
       "      <td>0-3 Yrs</td>\n",
       "    </tr>\n",
       "    <tr>\n",
       "      <th>7</th>\n",
       "      <td>Data Scientist</td>\n",
       "      <td>Delhi / NCR(Okhla)</td>\n",
       "      <td>Kusum Healthcare Pvt. Ltd.</td>\n",
       "      <td>4-6 Yrs</td>\n",
       "    </tr>\n",
       "    <tr>\n",
       "      <th>8</th>\n",
       "      <td>Data Scientist</td>\n",
       "      <td>Noida\\n(WFH during Covid)</td>\n",
       "      <td>R Systems International Ltd.</td>\n",
       "      <td>3-6 Yrs</td>\n",
       "    </tr>\n",
       "    <tr>\n",
       "      <th>9</th>\n",
       "      <td>Data Scientist - Machine Learning/ NLP</td>\n",
       "      <td>Gurgaon/Gurugram</td>\n",
       "      <td>TalPro</td>\n",
       "      <td>2-6 Yrs</td>\n",
       "    </tr>\n",
       "  </tbody>\n",
       "</table>\n",
       "</div>"
      ],
      "text/plain": [
       "                                           Job_Title  \\\n",
       "0                      Data Scientist / Data Analyst   \n",
       "1  Urgent Opening For Data Scientist/Data Analyst...   \n",
       "2                        Data Analyst/Data Scientist   \n",
       "3          Data Scientist/ Machine Learning Engineer   \n",
       "4  Data Scientist / Data Analyst / Business Analy...   \n",
       "5               Data Scientist - WFH - MIND Infotech   \n",
       "6                 Junior Data Scientists & Engineers   \n",
       "7                                     Data Scientist   \n",
       "8                                     Data Scientist   \n",
       "9             Data Scientist - Machine Learning/ NLP   \n",
       "\n",
       "                                        Job_Location  \\\n",
       "0                                   Gurgaon/Gurugram   \n",
       "1  Gurgaon/Gurugram, Bangalore/Bengaluru, any\\n(W...   \n",
       "2  Bangalore/Bengaluru, Delhi / NCR, Mumbai (All ...   \n",
       "3  Mohali/SAS Nagar, Hyderabad/Secunderabad, Ahme...   \n",
       "4                 Noida, New Delhi, Gurgaon/Gurugram   \n",
       "5  Pune, Chennai, Bangalore/Bengaluru, Delhi / NC...   \n",
       "6                             New Delhi, Delhi / NCR   \n",
       "7                                 Delhi / NCR(Okhla)   \n",
       "8                          Noida\\n(WFH during Covid)   \n",
       "9                                   Gurgaon/Gurugram   \n",
       "\n",
       "                               Company_Name Experience_Required  \n",
       "0                                    CARS24             1-5 Yrs  \n",
       "1                         Metaphor Infotech            5-10 Yrs  \n",
       "2       Skillenable Fintech Private Limited             2-5 Yrs  \n",
       "3             Creative Hands HR Consultancy             0-0 Yrs  \n",
       "4                 GABA Consultancy services             0-0 Yrs  \n",
       "5  MOTHERSONSUMI INFOTECH & DESIGNS LIMITED             3-7 Yrs  \n",
       "6                            PY Consultancy             0-3 Yrs  \n",
       "7                Kusum Healthcare Pvt. Ltd.             4-6 Yrs  \n",
       "8              R Systems International Ltd.             3-6 Yrs  \n",
       "9                                    TalPro             2-6 Yrs  "
      ]
     },
     "execution_count": 108,
     "metadata": {},
     "output_type": "execute_result"
    }
   ],
   "source": [
    "naukri = pd.DataFrame({})\n",
    "naukri['Job_Title'] = job_title[:10]\n",
    "naukri['Job_Location'] = job_location[:10]\n",
    "naukri['Company_Name'] = company_name[:10]\n",
    "naukri['Experience_Required'] = experience_required[:10]\n",
    "\n",
    "naukri"
   ]
  },
  {
   "cell_type": "code",
   "execution_count": null,
   "metadata": {},
   "outputs": [],
   "source": []
  },
  {
   "cell_type": "markdown",
   "metadata": {},
   "source": [
    "# Q4: Write a python program to scrape data for first 10 job results for Data scientist Designation in Noida location. You have to scrape company_name, No. of days ago when job was posted, Rating of the company."
   ]
  },
  {
   "cell_type": "code",
   "execution_count": 136,
   "metadata": {},
   "outputs": [],
   "source": [
    "driver = webdriver.Chrome('chromedriver.exe')"
   ]
  },
  {
   "cell_type": "code",
   "execution_count": 137,
   "metadata": {},
   "outputs": [],
   "source": [
    "url = 'https://www.glassdoor.co.in/index.htm'\n",
    "driver.get(url)"
   ]
  },
  {
   "cell_type": "code",
   "execution_count": 138,
   "metadata": {},
   "outputs": [
    {
     "data": {
      "text/plain": [
       "<selenium.webdriver.remote.webelement.WebElement (session=\"041d82c06e9a2e79e00ac09ab5e070f5\", element=\"0219a90f-33cb-4168-ace3-432abc437eab\")>"
      ]
     },
     "execution_count": 138,
     "metadata": {},
     "output_type": "execute_result"
    }
   ],
   "source": [
    "search = driver.find_element_by_id('scKeyword')\n",
    "search"
   ]
  },
  {
   "cell_type": "code",
   "execution_count": 139,
   "metadata": {},
   "outputs": [],
   "source": [
    "search.send_keys(\"Data Scientist\")"
   ]
  },
  {
   "cell_type": "code",
   "execution_count": 140,
   "metadata": {},
   "outputs": [
    {
     "data": {
      "text/plain": [
       "<selenium.webdriver.remote.webelement.WebElement (session=\"041d82c06e9a2e79e00ac09ab5e070f5\", element=\"97ea904e-4d2a-496e-8cc5-59c46a6a2692\")>"
      ]
     },
     "execution_count": 140,
     "metadata": {},
     "output_type": "execute_result"
    }
   ],
   "source": [
    "location = driver.find_element_by_xpath(\"//input[@id = 'sc.location']\")\n",
    "location"
   ]
  },
  {
   "cell_type": "code",
   "execution_count": 141,
   "metadata": {},
   "outputs": [],
   "source": [
    "search.send_keys(\",Noida\")"
   ]
  },
  {
   "cell_type": "code",
   "execution_count": 144,
   "metadata": {},
   "outputs": [
    {
     "data": {
      "text/plain": [
       "<selenium.webdriver.remote.webelement.WebElement (session=\"041d82c06e9a2e79e00ac09ab5e070f5\", element=\"35c346a1-7479-4385-8fbf-45513db5fd32\")>"
      ]
     },
     "execution_count": 144,
     "metadata": {},
     "output_type": "execute_result"
    }
   ],
   "source": [
    "button = driver.find_element_by_xpath(\"//button[@title = 'Submit search']\")\n",
    "button"
   ]
  },
  {
   "cell_type": "code",
   "execution_count": 145,
   "metadata": {},
   "outputs": [],
   "source": [
    "button.click()"
   ]
  },
  {
   "cell_type": "code",
   "execution_count": 147,
   "metadata": {},
   "outputs": [
    {
     "data": {
      "text/plain": [
       "[<selenium.webdriver.remote.webelement.WebElement (session=\"041d82c06e9a2e79e00ac09ab5e070f5\", element=\"13fb9254-fc67-443a-9fee-565f8cef0181\")>,\n",
       " <selenium.webdriver.remote.webelement.WebElement (session=\"041d82c06e9a2e79e00ac09ab5e070f5\", element=\"7bf070e4-4ca2-4989-99be-373277cafc30\")>,\n",
       " <selenium.webdriver.remote.webelement.WebElement (session=\"041d82c06e9a2e79e00ac09ab5e070f5\", element=\"83979aa5-2036-415d-a172-1213c2479da7\")>,\n",
       " <selenium.webdriver.remote.webelement.WebElement (session=\"041d82c06e9a2e79e00ac09ab5e070f5\", element=\"ca5f7750-ec11-43c1-bf7f-bffbe22c537b\")>,\n",
       " <selenium.webdriver.remote.webelement.WebElement (session=\"041d82c06e9a2e79e00ac09ab5e070f5\", element=\"a488ef8a-c15e-448b-b95c-1fd3baca8355\")>,\n",
       " <selenium.webdriver.remote.webelement.WebElement (session=\"041d82c06e9a2e79e00ac09ab5e070f5\", element=\"8d8ef03d-6e57-4ad5-805c-3244f9ac8e62\")>,\n",
       " <selenium.webdriver.remote.webelement.WebElement (session=\"041d82c06e9a2e79e00ac09ab5e070f5\", element=\"ed565f91-aaa2-462e-8bb9-3d82acc0287d\")>,\n",
       " <selenium.webdriver.remote.webelement.WebElement (session=\"041d82c06e9a2e79e00ac09ab5e070f5\", element=\"8b86af9b-85d3-447e-8fc4-6c15dd9de2d1\")>,\n",
       " <selenium.webdriver.remote.webelement.WebElement (session=\"041d82c06e9a2e79e00ac09ab5e070f5\", element=\"c5b5ca21-2a75-4689-9062-76620bffc9d0\")>,\n",
       " <selenium.webdriver.remote.webelement.WebElement (session=\"041d82c06e9a2e79e00ac09ab5e070f5\", element=\"fb31fbfc-79d5-4561-8061-b426dcbb2e58\")>,\n",
       " <selenium.webdriver.remote.webelement.WebElement (session=\"041d82c06e9a2e79e00ac09ab5e070f5\", element=\"e406a39a-1a2e-44dc-a154-9782e4dcfadf\")>,\n",
       " <selenium.webdriver.remote.webelement.WebElement (session=\"041d82c06e9a2e79e00ac09ab5e070f5\", element=\"28d052e3-1361-47c3-9de7-6c84f47dbd28\")>,\n",
       " <selenium.webdriver.remote.webelement.WebElement (session=\"041d82c06e9a2e79e00ac09ab5e070f5\", element=\"788f8da6-bc1d-4943-a185-cf5541a8876d\")>,\n",
       " <selenium.webdriver.remote.webelement.WebElement (session=\"041d82c06e9a2e79e00ac09ab5e070f5\", element=\"0155294f-07ff-471e-8259-6e92a886c698\")>,\n",
       " <selenium.webdriver.remote.webelement.WebElement (session=\"041d82c06e9a2e79e00ac09ab5e070f5\", element=\"382be892-07a7-452f-81ac-349f2aed7c1f\")>,\n",
       " <selenium.webdriver.remote.webelement.WebElement (session=\"041d82c06e9a2e79e00ac09ab5e070f5\", element=\"eebe9605-de89-4e91-8bf4-3b15d08b6916\")>,\n",
       " <selenium.webdriver.remote.webelement.WebElement (session=\"041d82c06e9a2e79e00ac09ab5e070f5\", element=\"898cc286-b5b1-474b-8522-c3f5aff35ef4\")>,\n",
       " <selenium.webdriver.remote.webelement.WebElement (session=\"041d82c06e9a2e79e00ac09ab5e070f5\", element=\"e959694b-3cdf-4954-b913-3dc18d475516\")>,\n",
       " <selenium.webdriver.remote.webelement.WebElement (session=\"041d82c06e9a2e79e00ac09ab5e070f5\", element=\"d74825d7-3c2c-4935-bd8f-ddde96ca30df\")>,\n",
       " <selenium.webdriver.remote.webelement.WebElement (session=\"041d82c06e9a2e79e00ac09ab5e070f5\", element=\"b004c673-43cc-4968-b3cc-8b38d98c2e02\")>,\n",
       " <selenium.webdriver.remote.webelement.WebElement (session=\"041d82c06e9a2e79e00ac09ab5e070f5\", element=\"0b9c8484-d2ec-40d5-aca4-3a936f9bc29b\")>,\n",
       " <selenium.webdriver.remote.webelement.WebElement (session=\"041d82c06e9a2e79e00ac09ab5e070f5\", element=\"988478fd-d0d7-4871-9690-79a3c2add806\")>,\n",
       " <selenium.webdriver.remote.webelement.WebElement (session=\"041d82c06e9a2e79e00ac09ab5e070f5\", element=\"2082a622-474f-4e1e-865c-33be35fd905f\")>,\n",
       " <selenium.webdriver.remote.webelement.WebElement (session=\"041d82c06e9a2e79e00ac09ab5e070f5\", element=\"6722dd37-9279-4369-8c81-e61596cc9e93\")>,\n",
       " <selenium.webdriver.remote.webelement.WebElement (session=\"041d82c06e9a2e79e00ac09ab5e070f5\", element=\"220ae284-cf3f-404e-a880-3a9eb4820747\")>,\n",
       " <selenium.webdriver.remote.webelement.WebElement (session=\"041d82c06e9a2e79e00ac09ab5e070f5\", element=\"46448819-229a-45eb-9184-f0ea5c169b10\")>,\n",
       " <selenium.webdriver.remote.webelement.WebElement (session=\"041d82c06e9a2e79e00ac09ab5e070f5\", element=\"8e6eef7f-ba11-4f5e-ad80-4601b5fcb21c\")>,\n",
       " <selenium.webdriver.remote.webelement.WebElement (session=\"041d82c06e9a2e79e00ac09ab5e070f5\", element=\"e9cc23c6-990c-488d-8d1e-cdb805b180bc\")>,\n",
       " <selenium.webdriver.remote.webelement.WebElement (session=\"041d82c06e9a2e79e00ac09ab5e070f5\", element=\"6e2917ff-1a54-4c63-8d59-1398988772b1\")>,\n",
       " <selenium.webdriver.remote.webelement.WebElement (session=\"041d82c06e9a2e79e00ac09ab5e070f5\", element=\"9054d823-e7f6-4a68-baa0-8e4c794734df\")>]"
      ]
     },
     "execution_count": 147,
     "metadata": {},
     "output_type": "execute_result"
    }
   ],
   "source": [
    "company = driver.find_elements_by_xpath(\"//a[@class =' css-l2wjgv e1n63ojh0 jobLink']\")\n",
    "company"
   ]
  },
  {
   "cell_type": "code",
   "execution_count": 148,
   "metadata": {},
   "outputs": [
    {
     "data": {
      "text/plain": [
       "['Innovacer',\n",
       " 'Salasar New Age Technologies',\n",
       " 'Salasar New Age Technologies',\n",
       " '2COMs',\n",
       " 'xtLytics',\n",
       " 'Alliance Recruitment Agency',\n",
       " 'xtLytics',\n",
       " 'Innovacer',\n",
       " 'Adobe',\n",
       " 'Surya Systems',\n",
       " 'Risk Management Solutions (RMS)',\n",
       " 'Innovacer',\n",
       " 'GAIN Credit',\n",
       " 'Intelegencia',\n",
       " 'Siemens',\n",
       " 'Risk Management Solutions',\n",
       " 'UnitedHealth Group',\n",
       " 'Risk Management Solutions (RMS)',\n",
       " 'IntegralBioSciences.com',\n",
       " 'Adobe',\n",
       " 'RannLab Technologies',\n",
       " 'Concirrus Ltd',\n",
       " 'i3nanotec',\n",
       " 'RannLab Technologies',\n",
       " 'Lumiq',\n",
       " 'Risk Management Solutions (RMS)',\n",
       " 'CareerXperts',\n",
       " 'Deal4loans',\n",
       " 'Genpact',\n",
       " 'Genpact']"
      ]
     },
     "execution_count": 148,
     "metadata": {},
     "output_type": "execute_result"
    }
   ],
   "source": [
    "company_name = []\n",
    "for i in company:\n",
    "    company_name.append(i.text)\n",
    "company_name"
   ]
  },
  {
   "cell_type": "code",
   "execution_count": 150,
   "metadata": {},
   "outputs": [
    {
     "data": {
      "text/plain": [
       "[<selenium.webdriver.remote.webelement.WebElement (session=\"041d82c06e9a2e79e00ac09ab5e070f5\", element=\"84bf5931-7176-4450-ad8e-12c923df2cce\")>,\n",
       " <selenium.webdriver.remote.webelement.WebElement (session=\"041d82c06e9a2e79e00ac09ab5e070f5\", element=\"d3c2850a-4096-4be3-98de-c74541a7c57a\")>,\n",
       " <selenium.webdriver.remote.webelement.WebElement (session=\"041d82c06e9a2e79e00ac09ab5e070f5\", element=\"6e037aee-ebaa-4ace-93b6-368b0e074ba6\")>,\n",
       " <selenium.webdriver.remote.webelement.WebElement (session=\"041d82c06e9a2e79e00ac09ab5e070f5\", element=\"07fa1b28-c4b5-47ca-a7a2-998d691083fd\")>,\n",
       " <selenium.webdriver.remote.webelement.WebElement (session=\"041d82c06e9a2e79e00ac09ab5e070f5\", element=\"c38e314a-1fcb-426b-8d64-32a1f2e254aa\")>,\n",
       " <selenium.webdriver.remote.webelement.WebElement (session=\"041d82c06e9a2e79e00ac09ab5e070f5\", element=\"2d8607ca-0afa-4804-8a7f-82ced04a2346\")>,\n",
       " <selenium.webdriver.remote.webelement.WebElement (session=\"041d82c06e9a2e79e00ac09ab5e070f5\", element=\"7a1592da-3915-43d8-ae0c-7fe642626373\")>,\n",
       " <selenium.webdriver.remote.webelement.WebElement (session=\"041d82c06e9a2e79e00ac09ab5e070f5\", element=\"ea09a128-d93a-4adf-8cdb-50fa9b680fe7\")>,\n",
       " <selenium.webdriver.remote.webelement.WebElement (session=\"041d82c06e9a2e79e00ac09ab5e070f5\", element=\"9fb07f03-dec1-44c1-8dda-fab578bcee85\")>,\n",
       " <selenium.webdriver.remote.webelement.WebElement (session=\"041d82c06e9a2e79e00ac09ab5e070f5\", element=\"209171ee-2ef6-498c-b2ef-e5305a7f4661\")>,\n",
       " <selenium.webdriver.remote.webelement.WebElement (session=\"041d82c06e9a2e79e00ac09ab5e070f5\", element=\"31730810-305b-41fb-8a26-a9ec792f81d9\")>,\n",
       " <selenium.webdriver.remote.webelement.WebElement (session=\"041d82c06e9a2e79e00ac09ab5e070f5\", element=\"d5fdd1ee-b591-44bf-9d1c-d183d2a7d567\")>,\n",
       " <selenium.webdriver.remote.webelement.WebElement (session=\"041d82c06e9a2e79e00ac09ab5e070f5\", element=\"7669257d-309e-462d-878d-d493fb631cf8\")>,\n",
       " <selenium.webdriver.remote.webelement.WebElement (session=\"041d82c06e9a2e79e00ac09ab5e070f5\", element=\"4859a5cf-39d2-4e64-a009-ec0e3c753b7e\")>,\n",
       " <selenium.webdriver.remote.webelement.WebElement (session=\"041d82c06e9a2e79e00ac09ab5e070f5\", element=\"58432e8a-6ca5-41b0-8dbe-063af7889351\")>,\n",
       " <selenium.webdriver.remote.webelement.WebElement (session=\"041d82c06e9a2e79e00ac09ab5e070f5\", element=\"2cfc846a-9598-40a0-9d31-2c40ed137fcf\")>,\n",
       " <selenium.webdriver.remote.webelement.WebElement (session=\"041d82c06e9a2e79e00ac09ab5e070f5\", element=\"a55b28bd-9089-42fd-a802-ee4f5bb5220b\")>,\n",
       " <selenium.webdriver.remote.webelement.WebElement (session=\"041d82c06e9a2e79e00ac09ab5e070f5\", element=\"09fac312-4808-40c4-a87f-6855ee5582c8\")>,\n",
       " <selenium.webdriver.remote.webelement.WebElement (session=\"041d82c06e9a2e79e00ac09ab5e070f5\", element=\"239f12f2-fbcf-4398-8377-a868890eb700\")>,\n",
       " <selenium.webdriver.remote.webelement.WebElement (session=\"041d82c06e9a2e79e00ac09ab5e070f5\", element=\"f0152829-f2bd-42e3-88d5-314ee46b09cd\")>,\n",
       " <selenium.webdriver.remote.webelement.WebElement (session=\"041d82c06e9a2e79e00ac09ab5e070f5\", element=\"62e3903d-8e6f-4d2a-bf27-e11dfceab2b2\")>,\n",
       " <selenium.webdriver.remote.webelement.WebElement (session=\"041d82c06e9a2e79e00ac09ab5e070f5\", element=\"c083b67c-640c-4f46-be45-4184fa091544\")>,\n",
       " <selenium.webdriver.remote.webelement.WebElement (session=\"041d82c06e9a2e79e00ac09ab5e070f5\", element=\"726513d8-349b-4906-8d19-ea3c0ffb3c29\")>,\n",
       " <selenium.webdriver.remote.webelement.WebElement (session=\"041d82c06e9a2e79e00ac09ab5e070f5\", element=\"ff5d8193-330c-401d-b2dd-e2e73d674101\")>,\n",
       " <selenium.webdriver.remote.webelement.WebElement (session=\"041d82c06e9a2e79e00ac09ab5e070f5\", element=\"7597ab01-3239-4d32-bd6d-74270e2ef36d\")>,\n",
       " <selenium.webdriver.remote.webelement.WebElement (session=\"041d82c06e9a2e79e00ac09ab5e070f5\", element=\"ded5b368-baea-4524-84f5-3e55b9312353\")>,\n",
       " <selenium.webdriver.remote.webelement.WebElement (session=\"041d82c06e9a2e79e00ac09ab5e070f5\", element=\"40312531-de8c-4418-8e62-27181563acbf\")>,\n",
       " <selenium.webdriver.remote.webelement.WebElement (session=\"041d82c06e9a2e79e00ac09ab5e070f5\", element=\"5ebd1406-45b7-47af-93be-f6ec7e4a8f55\")>,\n",
       " <selenium.webdriver.remote.webelement.WebElement (session=\"041d82c06e9a2e79e00ac09ab5e070f5\", element=\"ac1c1056-03e7-4891-9f6b-f5afb6e37a92\")>,\n",
       " <selenium.webdriver.remote.webelement.WebElement (session=\"041d82c06e9a2e79e00ac09ab5e070f5\", element=\"9fb8431b-078d-4e72-95b6-3c7255ef824f\")>]"
      ]
     },
     "execution_count": 150,
     "metadata": {},
     "output_type": "execute_result"
    }
   ],
   "source": [
    "days = driver.find_elements_by_xpath(\"//div[@class = 'd-flex justify-content-between css-1qtdns2']\")\n",
    "days"
   ]
  },
  {
   "cell_type": "code",
   "execution_count": 151,
   "metadata": {},
   "outputs": [
    {
     "data": {
      "text/plain": [
       "['30d+',\n",
       " '30d+',\n",
       " '30d+',\n",
       " '14d',\n",
       " '30d+',\n",
       " '18d',\n",
       " '30d+',\n",
       " '30d+',\n",
       " '30d+',\n",
       " '30d+',\n",
       " '28d',\n",
       " '30d+',\n",
       " '30d+',\n",
       " '30d+',\n",
       " '30d+',\n",
       " '30d+',\n",
       " '12d',\n",
       " '30d+',\n",
       " '30d+',\n",
       " '30d+',\n",
       " '30d+',\n",
       " 'Easy Apply\\n25d',\n",
       " '30d+',\n",
       " '30d+',\n",
       " '30d+',\n",
       " '26d',\n",
       " '30d+',\n",
       " '30d+',\n",
       " '30d+',\n",
       " '30d+']"
      ]
     },
     "execution_count": 151,
     "metadata": {},
     "output_type": "execute_result"
    }
   ],
   "source": [
    "no_of_days = []\n",
    "for i in days:\n",
    "    no_of_days.append(i.text)\n",
    "no_of_days"
   ]
  },
  {
   "cell_type": "code",
   "execution_count": 152,
   "metadata": {},
   "outputs": [
    {
     "data": {
      "text/plain": [
       "[<selenium.webdriver.remote.webelement.WebElement (session=\"041d82c06e9a2e79e00ac09ab5e070f5\", element=\"c3c21b75-00ba-4b37-8208-2ed8030aaeed\")>,\n",
       " <selenium.webdriver.remote.webelement.WebElement (session=\"041d82c06e9a2e79e00ac09ab5e070f5\", element=\"77a549f5-5ea9-47e8-a903-300b8a2dbc20\")>,\n",
       " <selenium.webdriver.remote.webelement.WebElement (session=\"041d82c06e9a2e79e00ac09ab5e070f5\", element=\"5ed60728-74e6-46eb-a640-5fffa9a5ec0c\")>,\n",
       " <selenium.webdriver.remote.webelement.WebElement (session=\"041d82c06e9a2e79e00ac09ab5e070f5\", element=\"0c6f99bd-8ca4-4194-8ff0-1f637a2e9b8a\")>,\n",
       " <selenium.webdriver.remote.webelement.WebElement (session=\"041d82c06e9a2e79e00ac09ab5e070f5\", element=\"92d2cbf9-6069-476a-999c-db4f09b5f00e\")>,\n",
       " <selenium.webdriver.remote.webelement.WebElement (session=\"041d82c06e9a2e79e00ac09ab5e070f5\", element=\"f45b5016-2697-43a7-828e-4f326a70f192\")>,\n",
       " <selenium.webdriver.remote.webelement.WebElement (session=\"041d82c06e9a2e79e00ac09ab5e070f5\", element=\"f3a82c68-7f43-4ca4-9a01-c4add17f98d8\")>,\n",
       " <selenium.webdriver.remote.webelement.WebElement (session=\"041d82c06e9a2e79e00ac09ab5e070f5\", element=\"1afe2047-6010-4b66-8cfd-fe8a39ac0be5\")>,\n",
       " <selenium.webdriver.remote.webelement.WebElement (session=\"041d82c06e9a2e79e00ac09ab5e070f5\", element=\"1383c58e-2952-4f8c-917c-2d23c97a62f2\")>,\n",
       " <selenium.webdriver.remote.webelement.WebElement (session=\"041d82c06e9a2e79e00ac09ab5e070f5\", element=\"3c13e63a-b113-441a-839d-20d3feb1e975\")>,\n",
       " <selenium.webdriver.remote.webelement.WebElement (session=\"041d82c06e9a2e79e00ac09ab5e070f5\", element=\"1a22dc91-96ba-4323-993d-d6c916dc12a9\")>,\n",
       " <selenium.webdriver.remote.webelement.WebElement (session=\"041d82c06e9a2e79e00ac09ab5e070f5\", element=\"3cbe303d-5132-4ac7-b911-8543255286be\")>,\n",
       " <selenium.webdriver.remote.webelement.WebElement (session=\"041d82c06e9a2e79e00ac09ab5e070f5\", element=\"ab496473-9921-4828-863e-0247d6c5e2b0\")>,\n",
       " <selenium.webdriver.remote.webelement.WebElement (session=\"041d82c06e9a2e79e00ac09ab5e070f5\", element=\"ebcefcee-741f-43c5-b4af-26ce218205f8\")>,\n",
       " <selenium.webdriver.remote.webelement.WebElement (session=\"041d82c06e9a2e79e00ac09ab5e070f5\", element=\"f65a4e7c-9bd1-4c2b-8cea-8e39040d5903\")>,\n",
       " <selenium.webdriver.remote.webelement.WebElement (session=\"041d82c06e9a2e79e00ac09ab5e070f5\", element=\"f7515820-f63b-421f-a826-b210ae198f52\")>,\n",
       " <selenium.webdriver.remote.webelement.WebElement (session=\"041d82c06e9a2e79e00ac09ab5e070f5\", element=\"a02f4a9f-b8d3-4eb3-be00-0ef90f4bee81\")>,\n",
       " <selenium.webdriver.remote.webelement.WebElement (session=\"041d82c06e9a2e79e00ac09ab5e070f5\", element=\"2fccce2c-dfdd-4816-a786-9ceecf1299bd\")>,\n",
       " <selenium.webdriver.remote.webelement.WebElement (session=\"041d82c06e9a2e79e00ac09ab5e070f5\", element=\"07441ac2-dd1f-415b-a958-53f9458f3961\")>,\n",
       " <selenium.webdriver.remote.webelement.WebElement (session=\"041d82c06e9a2e79e00ac09ab5e070f5\", element=\"f764fddd-109b-4d5a-982b-f3b96fd400eb\")>,\n",
       " <selenium.webdriver.remote.webelement.WebElement (session=\"041d82c06e9a2e79e00ac09ab5e070f5\", element=\"76ef8a8d-0ec0-4c59-868d-6f824e105064\")>,\n",
       " <selenium.webdriver.remote.webelement.WebElement (session=\"041d82c06e9a2e79e00ac09ab5e070f5\", element=\"b501e33a-544d-4656-8c9b-ae58489f9c87\")>,\n",
       " <selenium.webdriver.remote.webelement.WebElement (session=\"041d82c06e9a2e79e00ac09ab5e070f5\", element=\"271e6747-78b8-4658-b826-8df2ff0537da\")>,\n",
       " <selenium.webdriver.remote.webelement.WebElement (session=\"041d82c06e9a2e79e00ac09ab5e070f5\", element=\"9a96363c-a2d7-4a27-8fbe-1977653430cb\")>]"
      ]
     },
     "execution_count": 152,
     "metadata": {},
     "output_type": "execute_result"
    }
   ],
   "source": [
    "rating = driver.find_elements_by_xpath(\"//span[@class = 'css-19pjha7 e1cjmv6j1']\")\n",
    "rating"
   ]
  },
  {
   "cell_type": "code",
   "execution_count": 153,
   "metadata": {},
   "outputs": [
    {
     "data": {
      "text/plain": [
       "['3.8',\n",
       " '3.8',\n",
       " '3.0',\n",
       " '4.3',\n",
       " '3.8',\n",
       " '4.4',\n",
       " '4.0',\n",
       " '3.9',\n",
       " '3.8',\n",
       " '4.0',\n",
       " '3.8',\n",
       " '4.1',\n",
       " '3.9',\n",
       " '3.7',\n",
       " '3.9',\n",
       " '4.4',\n",
       " '3.6',\n",
       " '4.3',\n",
       " '2.3',\n",
       " '3.6',\n",
       " '3.6',\n",
       " '3.9',\n",
       " '3.8',\n",
       " '3.8']"
      ]
     },
     "execution_count": 153,
     "metadata": {},
     "output_type": "execute_result"
    }
   ],
   "source": [
    "company_rating = []\n",
    "for i in rating:\n",
    "    company_rating.append(i.text)\n",
    "company_rating"
   ]
  },
  {
   "cell_type": "code",
   "execution_count": 154,
   "metadata": {},
   "outputs": [
    {
     "data": {
      "text/html": [
       "<div>\n",
       "<style scoped>\n",
       "    .dataframe tbody tr th:only-of-type {\n",
       "        vertical-align: middle;\n",
       "    }\n",
       "\n",
       "    .dataframe tbody tr th {\n",
       "        vertical-align: top;\n",
       "    }\n",
       "\n",
       "    .dataframe thead th {\n",
       "        text-align: right;\n",
       "    }\n",
       "</style>\n",
       "<table border=\"1\" class=\"dataframe\">\n",
       "  <thead>\n",
       "    <tr style=\"text-align: right;\">\n",
       "      <th></th>\n",
       "      <th>Company_Name</th>\n",
       "      <th>No_of_days_ago</th>\n",
       "      <th>Company_Rating</th>\n",
       "    </tr>\n",
       "  </thead>\n",
       "  <tbody>\n",
       "    <tr>\n",
       "      <th>0</th>\n",
       "      <td>Innovacer</td>\n",
       "      <td>30d+</td>\n",
       "      <td>3.8</td>\n",
       "    </tr>\n",
       "    <tr>\n",
       "      <th>1</th>\n",
       "      <td>Salasar New Age Technologies</td>\n",
       "      <td>30d+</td>\n",
       "      <td>3.8</td>\n",
       "    </tr>\n",
       "    <tr>\n",
       "      <th>2</th>\n",
       "      <td>Salasar New Age Technologies</td>\n",
       "      <td>30d+</td>\n",
       "      <td>3.0</td>\n",
       "    </tr>\n",
       "    <tr>\n",
       "      <th>3</th>\n",
       "      <td>2COMs</td>\n",
       "      <td>14d</td>\n",
       "      <td>4.3</td>\n",
       "    </tr>\n",
       "    <tr>\n",
       "      <th>4</th>\n",
       "      <td>xtLytics</td>\n",
       "      <td>30d+</td>\n",
       "      <td>3.8</td>\n",
       "    </tr>\n",
       "    <tr>\n",
       "      <th>5</th>\n",
       "      <td>Alliance Recruitment Agency</td>\n",
       "      <td>18d</td>\n",
       "      <td>4.4</td>\n",
       "    </tr>\n",
       "    <tr>\n",
       "      <th>6</th>\n",
       "      <td>xtLytics</td>\n",
       "      <td>30d+</td>\n",
       "      <td>4.0</td>\n",
       "    </tr>\n",
       "    <tr>\n",
       "      <th>7</th>\n",
       "      <td>Innovacer</td>\n",
       "      <td>30d+</td>\n",
       "      <td>3.9</td>\n",
       "    </tr>\n",
       "    <tr>\n",
       "      <th>8</th>\n",
       "      <td>Adobe</td>\n",
       "      <td>30d+</td>\n",
       "      <td>3.8</td>\n",
       "    </tr>\n",
       "    <tr>\n",
       "      <th>9</th>\n",
       "      <td>Surya Systems</td>\n",
       "      <td>30d+</td>\n",
       "      <td>4.0</td>\n",
       "    </tr>\n",
       "  </tbody>\n",
       "</table>\n",
       "</div>"
      ],
      "text/plain": [
       "                   Company_Name No_of_days_ago Company_Rating\n",
       "0                     Innovacer           30d+            3.8\n",
       "1  Salasar New Age Technologies           30d+            3.8\n",
       "2  Salasar New Age Technologies           30d+            3.0\n",
       "3                         2COMs            14d            4.3\n",
       "4                      xtLytics           30d+            3.8\n",
       "5   Alliance Recruitment Agency            18d            4.4\n",
       "6                      xtLytics           30d+            4.0\n",
       "7                     Innovacer           30d+            3.9\n",
       "8                         Adobe           30d+            3.8\n",
       "9                 Surya Systems           30d+            4.0"
      ]
     },
     "execution_count": 154,
     "metadata": {},
     "output_type": "execute_result"
    }
   ],
   "source": [
    "glassdoor = pd.DataFrame({})\n",
    "glassdoor['Company_Name'] = company_name[:10]\n",
    "glassdoor['No_of_days_ago'] = no_of_days[:10]\n",
    "glassdoor['Company_Rating'] = company_rating[:10]\n",
    "\n",
    "glassdoor"
   ]
  },
  {
   "cell_type": "code",
   "execution_count": null,
   "metadata": {},
   "outputs": [],
   "source": []
  },
  {
   "cell_type": "markdown",
   "metadata": {},
   "source": [
    "# Q5: Write a python program to scrape the salary data for Data Scientist designation in Noida location. You have to scrape Company name, Number of salaries, Average salary, Min salary, Max Salary."
   ]
  },
  {
   "cell_type": "code",
   "execution_count": 155,
   "metadata": {},
   "outputs": [],
   "source": [
    "driver = webdriver.Chrome('chromedriver.exe')"
   ]
  },
  {
   "cell_type": "code",
   "execution_count": 163,
   "metadata": {},
   "outputs": [],
   "source": [
    "url = 'https://www.glassdoor.co.in/Salaries/index.htm'\n",
    "driver.get(url)"
   ]
  },
  {
   "cell_type": "code",
   "execution_count": 164,
   "metadata": {},
   "outputs": [
    {
     "data": {
      "text/plain": [
       "<selenium.webdriver.remote.webelement.WebElement (session=\"0834dd7fe0b1a84cfa3a46dcab8ce7f7\", element=\"0c61f15c-3cd4-4f08-83c0-13499b608bc6\")>"
      ]
     },
     "execution_count": 164,
     "metadata": {},
     "output_type": "execute_result"
    }
   ],
   "source": [
    "search = driver.find_element_by_xpath(\"//input[@class = 'keyword']\")\n",
    "search"
   ]
  },
  {
   "cell_type": "code",
   "execution_count": 165,
   "metadata": {},
   "outputs": [],
   "source": [
    "search.send_keys(\"Data Scientist\")"
   ]
  },
  {
   "cell_type": "code",
   "execution_count": 166,
   "metadata": {},
   "outputs": [
    {
     "data": {
      "text/plain": [
       "<selenium.webdriver.remote.webelement.WebElement (session=\"0834dd7fe0b1a84cfa3a46dcab8ce7f7\", element=\"e78b6bb9-4fc8-46fc-9f7e-a18c1610bfea\")>"
      ]
     },
     "execution_count": 166,
     "metadata": {},
     "output_type": "execute_result"
    }
   ],
   "source": [
    "loc = driver.find_element_by_xpath(\"//input[@id = 'LocationSearch']\")\n",
    "loc"
   ]
  },
  {
   "cell_type": "code",
   "execution_count": 167,
   "metadata": {},
   "outputs": [],
   "source": [
    "loc.send_keys(\"Noida\")"
   ]
  },
  {
   "cell_type": "code",
   "execution_count": 168,
   "metadata": {},
   "outputs": [
    {
     "data": {
      "text/plain": [
       "<selenium.webdriver.remote.webelement.WebElement (session=\"0834dd7fe0b1a84cfa3a46dcab8ce7f7\", element=\"dd2493d0-f441-4936-9a4f-5d1e4c606736\")>"
      ]
     },
     "execution_count": 168,
     "metadata": {},
     "output_type": "execute_result"
    }
   ],
   "source": [
    "button = driver.find_element_by_xpath(\"//button[@class = 'gd-btn-mkt']\")\n",
    "button"
   ]
  },
  {
   "cell_type": "code",
   "execution_count": 169,
   "metadata": {},
   "outputs": [],
   "source": [
    "button.click()"
   ]
  },
  {
   "cell_type": "code",
   "execution_count": 170,
   "metadata": {},
   "outputs": [],
   "source": [
    "# create a variable\n",
    "browser = driver.find_elements_by_xpath"
   ]
  },
  {
   "cell_type": "code",
   "execution_count": 173,
   "metadata": {},
   "outputs": [
    {
     "data": {
      "text/plain": [
       "[<selenium.webdriver.remote.webelement.WebElement (session=\"0834dd7fe0b1a84cfa3a46dcab8ce7f7\", element=\"84a26367-e09f-48ed-bd17-1219a12855fe\")>,\n",
       " <selenium.webdriver.remote.webelement.WebElement (session=\"0834dd7fe0b1a84cfa3a46dcab8ce7f7\", element=\"574a9c71-6636-4f1d-9113-1ed3cf429e63\")>,\n",
       " <selenium.webdriver.remote.webelement.WebElement (session=\"0834dd7fe0b1a84cfa3a46dcab8ce7f7\", element=\"58bcc3ed-6218-4dd7-9441-6464f4c6fadc\")>,\n",
       " <selenium.webdriver.remote.webelement.WebElement (session=\"0834dd7fe0b1a84cfa3a46dcab8ce7f7\", element=\"09cd48ee-cf21-40ce-ae44-a279fe7f3a18\")>,\n",
       " <selenium.webdriver.remote.webelement.WebElement (session=\"0834dd7fe0b1a84cfa3a46dcab8ce7f7\", element=\"6e96824d-5a4d-40d0-a63d-f69ace706a4f\")>,\n",
       " <selenium.webdriver.remote.webelement.WebElement (session=\"0834dd7fe0b1a84cfa3a46dcab8ce7f7\", element=\"b56ca89b-5714-478d-8f2f-8cd19f1ea597\")>,\n",
       " <selenium.webdriver.remote.webelement.WebElement (session=\"0834dd7fe0b1a84cfa3a46dcab8ce7f7\", element=\"1d6ccdd0-0d5b-4cd0-9bbd-76c875d1b22c\")>,\n",
       " <selenium.webdriver.remote.webelement.WebElement (session=\"0834dd7fe0b1a84cfa3a46dcab8ce7f7\", element=\"d5c6766d-c80c-4891-a0e6-6450c17b77c0\")>,\n",
       " <selenium.webdriver.remote.webelement.WebElement (session=\"0834dd7fe0b1a84cfa3a46dcab8ce7f7\", element=\"10dc4892-cbf1-4dc9-bb8b-ccf03e838830\")>,\n",
       " <selenium.webdriver.remote.webelement.WebElement (session=\"0834dd7fe0b1a84cfa3a46dcab8ce7f7\", element=\"90ea1b91-b147-45f7-b591-af056b0f9688\")>,\n",
       " <selenium.webdriver.remote.webelement.WebElement (session=\"0834dd7fe0b1a84cfa3a46dcab8ce7f7\", element=\"15c19b36-67ce-471d-932c-793321f19485\")>,\n",
       " <selenium.webdriver.remote.webelement.WebElement (session=\"0834dd7fe0b1a84cfa3a46dcab8ce7f7\", element=\"3c5522e8-b948-4f31-a735-d79a57c1ec2a\")>,\n",
       " <selenium.webdriver.remote.webelement.WebElement (session=\"0834dd7fe0b1a84cfa3a46dcab8ce7f7\", element=\"79779c14-2a93-498d-b031-6d9355c8a3a2\")>,\n",
       " <selenium.webdriver.remote.webelement.WebElement (session=\"0834dd7fe0b1a84cfa3a46dcab8ce7f7\", element=\"ddd557ca-13aa-4938-bb31-c8188823eff8\")>,\n",
       " <selenium.webdriver.remote.webelement.WebElement (session=\"0834dd7fe0b1a84cfa3a46dcab8ce7f7\", element=\"a2179aa0-f017-4348-be95-6bc3926c9d50\")>,\n",
       " <selenium.webdriver.remote.webelement.WebElement (session=\"0834dd7fe0b1a84cfa3a46dcab8ce7f7\", element=\"64b0cf3f-f047-48a3-ae60-a6fa1f892fd0\")>,\n",
       " <selenium.webdriver.remote.webelement.WebElement (session=\"0834dd7fe0b1a84cfa3a46dcab8ce7f7\", element=\"b3173077-98ac-4a4a-92be-89d0f1ac8229\")>,\n",
       " <selenium.webdriver.remote.webelement.WebElement (session=\"0834dd7fe0b1a84cfa3a46dcab8ce7f7\", element=\"966fbb7a-d6dd-4f68-8a34-519dca87c5bb\")>,\n",
       " <selenium.webdriver.remote.webelement.WebElement (session=\"0834dd7fe0b1a84cfa3a46dcab8ce7f7\", element=\"9b12cbda-8fd0-4713-b77f-54bfb8a1b76a\")>,\n",
       " <selenium.webdriver.remote.webelement.WebElement (session=\"0834dd7fe0b1a84cfa3a46dcab8ce7f7\", element=\"1fc739ac-cf76-4436-8ed9-3256d0ff82b2\")>]"
      ]
     },
     "execution_count": 173,
     "metadata": {},
     "output_type": "execute_result"
    }
   ],
   "source": [
    "company = browser(\"//a[@class = 'css-f3vw95 e1aj7ssy3']\")\n",
    "company"
   ]
  },
  {
   "cell_type": "code",
   "execution_count": 174,
   "metadata": {},
   "outputs": [
    {
     "data": {
      "text/plain": [
       "['Tata Consultancy Services',\n",
       " 'IBM',\n",
       " 'Accenture',\n",
       " 'Delhivery',\n",
       " 'Ericsson-Worldwide',\n",
       " 'UnitedHealth Group',\n",
       " 'Optum',\n",
       " 'Optum Global Solutions',\n",
       " 'Valiance Solutions',\n",
       " 'EXL Service',\n",
       " 'Cognizant Technology Solutions',\n",
       " 'ZS Associates',\n",
       " 'Nagarro',\n",
       " 'Innovaccer',\n",
       " 'OYO',\n",
       " 'dunnhumby',\n",
       " 'Amazon',\n",
       " 'CARS24.com',\n",
       " 'Vidooly Media Tech',\n",
       " 'ParallelDots']"
      ]
     },
     "execution_count": 174,
     "metadata": {},
     "output_type": "execute_result"
    }
   ],
   "source": [
    "company_name = []\n",
    "for i in company:\n",
    "    company_name.append(i.text)\n",
    "company_name"
   ]
  },
  {
   "cell_type": "code",
   "execution_count": 182,
   "metadata": {},
   "outputs": [
    {
     "data": {
      "text/plain": [
       "[<selenium.webdriver.remote.webelement.WebElement (session=\"0834dd7fe0b1a84cfa3a46dcab8ce7f7\", element=\"427c3531-f63e-49d3-a288-f1a700b81ba1\")>,\n",
       " <selenium.webdriver.remote.webelement.WebElement (session=\"0834dd7fe0b1a84cfa3a46dcab8ce7f7\", element=\"a1a45f88-a631-4a12-9ab0-ef0ff9d7ffd5\")>,\n",
       " <selenium.webdriver.remote.webelement.WebElement (session=\"0834dd7fe0b1a84cfa3a46dcab8ce7f7\", element=\"81832b37-db36-42af-af08-fc7d625d0ea9\")>,\n",
       " <selenium.webdriver.remote.webelement.WebElement (session=\"0834dd7fe0b1a84cfa3a46dcab8ce7f7\", element=\"36ee2d9c-edf4-4bf2-bce0-d71697d518ed\")>,\n",
       " <selenium.webdriver.remote.webelement.WebElement (session=\"0834dd7fe0b1a84cfa3a46dcab8ce7f7\", element=\"2ac49855-ab96-4977-9313-ce0fa051c07a\")>,\n",
       " <selenium.webdriver.remote.webelement.WebElement (session=\"0834dd7fe0b1a84cfa3a46dcab8ce7f7\", element=\"dd05ea33-dd52-433f-952b-4ef7fc29af76\")>,\n",
       " <selenium.webdriver.remote.webelement.WebElement (session=\"0834dd7fe0b1a84cfa3a46dcab8ce7f7\", element=\"e0b93dc2-6a3e-4d85-b569-dde33578442c\")>,\n",
       " <selenium.webdriver.remote.webelement.WebElement (session=\"0834dd7fe0b1a84cfa3a46dcab8ce7f7\", element=\"e34fedd5-e6e2-4c35-9ddb-cd0eeedb3296\")>,\n",
       " <selenium.webdriver.remote.webelement.WebElement (session=\"0834dd7fe0b1a84cfa3a46dcab8ce7f7\", element=\"daa77b38-9725-4852-9857-fdf09ad6482c\")>,\n",
       " <selenium.webdriver.remote.webelement.WebElement (session=\"0834dd7fe0b1a84cfa3a46dcab8ce7f7\", element=\"6aa1417b-8d5b-4f2e-9d18-727ae5873388\")>,\n",
       " <selenium.webdriver.remote.webelement.WebElement (session=\"0834dd7fe0b1a84cfa3a46dcab8ce7f7\", element=\"a3063305-6bec-48cb-b106-2a15453b3732\")>,\n",
       " <selenium.webdriver.remote.webelement.WebElement (session=\"0834dd7fe0b1a84cfa3a46dcab8ce7f7\", element=\"dbafb5ad-aeb8-4a97-b07c-aa17bea49dec\")>,\n",
       " <selenium.webdriver.remote.webelement.WebElement (session=\"0834dd7fe0b1a84cfa3a46dcab8ce7f7\", element=\"3ab2d350-b0be-47f5-a283-3f91a6764cf6\")>,\n",
       " <selenium.webdriver.remote.webelement.WebElement (session=\"0834dd7fe0b1a84cfa3a46dcab8ce7f7\", element=\"357f11fc-0f10-491f-af85-9abed7f2518e\")>,\n",
       " <selenium.webdriver.remote.webelement.WebElement (session=\"0834dd7fe0b1a84cfa3a46dcab8ce7f7\", element=\"e99f2ad2-36dc-41b4-acf6-ea8e652465fb\")>,\n",
       " <selenium.webdriver.remote.webelement.WebElement (session=\"0834dd7fe0b1a84cfa3a46dcab8ce7f7\", element=\"c6820439-9bf6-463f-bc1f-da536345ab68\")>,\n",
       " <selenium.webdriver.remote.webelement.WebElement (session=\"0834dd7fe0b1a84cfa3a46dcab8ce7f7\", element=\"01cdb972-7908-49c4-849f-6c6ae5be8b6b\")>,\n",
       " <selenium.webdriver.remote.webelement.WebElement (session=\"0834dd7fe0b1a84cfa3a46dcab8ce7f7\", element=\"3c4ecce7-312a-47e1-80e5-4fadda5b3b44\")>,\n",
       " <selenium.webdriver.remote.webelement.WebElement (session=\"0834dd7fe0b1a84cfa3a46dcab8ce7f7\", element=\"a9e91c9c-c3f8-443f-b547-ea967f9abc49\")>,\n",
       " <selenium.webdriver.remote.webelement.WebElement (session=\"0834dd7fe0b1a84cfa3a46dcab8ce7f7\", element=\"c944a157-ddd1-4325-bf61-862aeefa0a9e\")>]"
      ]
     },
     "execution_count": 182,
     "metadata": {},
     "output_type": "execute_result"
    }
   ],
   "source": [
    "avg = browser(\"//div[@class = 'col-12 col-lg-4 px-lg-0 d-flex align-items-baseline']\")\n",
    "avg"
   ]
  },
  {
   "cell_type": "code",
   "execution_count": 187,
   "metadata": {},
   "outputs": [
    {
     "data": {
      "text/plain": [
       "['₹6,19,349 ',\n",
       " '₹9,00,000 ',\n",
       " '₹11,71,012 ',\n",
       " '₹xx,xx,xxx ',\n",
       " '₹x,xx,xxx ',\n",
       " '₹xx,xx,xxx ',\n",
       " '₹xx,xx,xxx ',\n",
       " '₹xx,xx,xxx ',\n",
       " '₹x,xx,xxx ',\n",
       " '₹xx,xx,xxx ',\n",
       " '₹x,xx,xxx ',\n",
       " '₹xx,xx,xxx ',\n",
       " '₹xx,xx,xxx ',\n",
       " '₹xx,xx,xxx ',\n",
       " '₹xx,xx,xxx ',\n",
       " '₹xx,xx,xxx ',\n",
       " '₹xx,xx,xxx ',\n",
       " '₹xx,xx,xxx ',\n",
       " '₹xx,xxx\\n /mo',\n",
       " '₹x,xx,xxx ']"
      ]
     },
     "execution_count": 187,
     "metadata": {},
     "output_type": "execute_result"
    }
   ],
   "source": [
    "average = []\n",
    "for i in avg:\n",
    "    average.append(i.text.replace('\\n /yr',\" \"))\n",
    "average"
   ]
  },
  {
   "cell_type": "code",
   "execution_count": 200,
   "metadata": {},
   "outputs": [
    {
     "data": {
      "text/plain": [
       "[<selenium.webdriver.remote.webelement.WebElement (session=\"0834dd7fe0b1a84cfa3a46dcab8ce7f7\", element=\"064567bd-84f8-453d-ba03-36dc47ee782f\")>,\n",
       " <selenium.webdriver.remote.webelement.WebElement (session=\"0834dd7fe0b1a84cfa3a46dcab8ce7f7\", element=\"1e819fb2-eeab-400a-a04a-18e464efc3f7\")>,\n",
       " <selenium.webdriver.remote.webelement.WebElement (session=\"0834dd7fe0b1a84cfa3a46dcab8ce7f7\", element=\"7422a5ff-c7b5-41bb-a0a3-9f090b3e35b8\")>,\n",
       " <selenium.webdriver.remote.webelement.WebElement (session=\"0834dd7fe0b1a84cfa3a46dcab8ce7f7\", element=\"fd85d2d1-5ce9-408c-a1c7-d82b24b7182f\")>,\n",
       " <selenium.webdriver.remote.webelement.WebElement (session=\"0834dd7fe0b1a84cfa3a46dcab8ce7f7\", element=\"65c2cb12-ce53-4a2b-953f-722d74ee62e1\")>,\n",
       " <selenium.webdriver.remote.webelement.WebElement (session=\"0834dd7fe0b1a84cfa3a46dcab8ce7f7\", element=\"756b1e67-33cc-4936-8f6c-81b6e7bc5ebd\")>,\n",
       " <selenium.webdriver.remote.webelement.WebElement (session=\"0834dd7fe0b1a84cfa3a46dcab8ce7f7\", element=\"5c431929-5b68-477a-ab9d-def951bdd638\")>,\n",
       " <selenium.webdriver.remote.webelement.WebElement (session=\"0834dd7fe0b1a84cfa3a46dcab8ce7f7\", element=\"97c58e46-58ad-4798-a278-d65492986388\")>,\n",
       " <selenium.webdriver.remote.webelement.WebElement (session=\"0834dd7fe0b1a84cfa3a46dcab8ce7f7\", element=\"78a0a376-747e-4e2d-8375-56c08fc43a82\")>,\n",
       " <selenium.webdriver.remote.webelement.WebElement (session=\"0834dd7fe0b1a84cfa3a46dcab8ce7f7\", element=\"c3de3b8d-312f-4f43-9e9f-29aa493e4162\")>,\n",
       " <selenium.webdriver.remote.webelement.WebElement (session=\"0834dd7fe0b1a84cfa3a46dcab8ce7f7\", element=\"11d51f79-fb0a-48b0-8cfa-945d31d0e5a9\")>,\n",
       " <selenium.webdriver.remote.webelement.WebElement (session=\"0834dd7fe0b1a84cfa3a46dcab8ce7f7\", element=\"145fb109-d545-463d-8ee0-ebd7641e467f\")>,\n",
       " <selenium.webdriver.remote.webelement.WebElement (session=\"0834dd7fe0b1a84cfa3a46dcab8ce7f7\", element=\"9dd5f496-92b0-47f6-b45d-39e50689a23f\")>,\n",
       " <selenium.webdriver.remote.webelement.WebElement (session=\"0834dd7fe0b1a84cfa3a46dcab8ce7f7\", element=\"28d9f771-1be8-4590-a0b9-b11a87ad2550\")>,\n",
       " <selenium.webdriver.remote.webelement.WebElement (session=\"0834dd7fe0b1a84cfa3a46dcab8ce7f7\", element=\"b9c99f11-0492-4065-b536-0955e3dc4cd1\")>,\n",
       " <selenium.webdriver.remote.webelement.WebElement (session=\"0834dd7fe0b1a84cfa3a46dcab8ce7f7\", element=\"79cf7f36-19a2-4a97-b44e-161df4eec5d2\")>,\n",
       " <selenium.webdriver.remote.webelement.WebElement (session=\"0834dd7fe0b1a84cfa3a46dcab8ce7f7\", element=\"7f3c4910-45ae-498f-b3d0-d7d8e53086bd\")>,\n",
       " <selenium.webdriver.remote.webelement.WebElement (session=\"0834dd7fe0b1a84cfa3a46dcab8ce7f7\", element=\"8bac3e78-f787-4fba-baa2-8798da71298f\")>,\n",
       " <selenium.webdriver.remote.webelement.WebElement (session=\"0834dd7fe0b1a84cfa3a46dcab8ce7f7\", element=\"f2820cbe-1d1b-4290-a24c-d5310669ce64\")>,\n",
       " <selenium.webdriver.remote.webelement.WebElement (session=\"0834dd7fe0b1a84cfa3a46dcab8ce7f7\", element=\"974d61f9-6abb-475b-a447-8a93216a4931\")>]"
      ]
     },
     "execution_count": 200,
     "metadata": {},
     "output_type": "execute_result"
    }
   ],
   "source": [
    "min1 = browser(\"//span[@class = 'd-block d-lg-none m-0 css-1b6bxoo']\")\n",
    "min1"
   ]
  },
  {
   "cell_type": "code",
   "execution_count": 205,
   "metadata": {},
   "outputs": [
    {
     "data": {
      "text/plain": [
       "[' ₹4L - ₹13L',\n",
       " ' ₹1L - ₹28L',\n",
       " ' ₹6L - ₹22L',\n",
       " ' ₹xL - ₹xCr',\n",
       " ' ₹xL - ₹xxL',\n",
       " ' ₹xL - ₹xxL',\n",
       " ' ₹xL - ₹xxL',\n",
       " ' ₹xxL - ₹xxL',\n",
       " ' ₹xL - ₹xxL',\n",
       " ' ₹xL - ₹xxL',\n",
       " ' ₹xL - ₹xxL',\n",
       " ' ₹xL - ₹xxL',\n",
       " ' ₹xL - ₹xxL',\n",
       " ' ₹xL - ₹xxL',\n",
       " ' ₹xxL - ₹xxL',\n",
       " ' ₹xL - ₹xxL',\n",
       " ' ₹xxL - ₹xxL',\n",
       " ' ₹xL - ₹xxL',\n",
       " ' ₹xxT - ₹xxT',\n",
       " ' ₹xL - ₹xxL']"
      ]
     },
     "execution_count": 205,
     "metadata": {},
     "output_type": "execute_result"
    }
   ],
   "source": [
    "min_salary = []\n",
    "\n",
    "for i in min1:\n",
    "    min_salary.append(i.text.replace(\"Range:\", \"\"))\n",
    "min_salary"
   ]
  },
  {
   "cell_type": "code",
   "execution_count": 207,
   "metadata": {},
   "outputs": [
    {
     "data": {
      "text/plain": [
       "['  ₹4L - ₹13L',\n",
       " '  ₹1L - ₹28L',\n",
       " '  ₹6L - ₹22L',\n",
       " '  ₹xL - ₹xCr',\n",
       " '  ₹xL - ₹xxL',\n",
       " '  ₹xL - ₹xxL',\n",
       " '  ₹xL - ₹xxL',\n",
       " '  ₹xxL - ₹xxL',\n",
       " '  ₹xL - ₹xxL',\n",
       " '  ₹xL - ₹xxL',\n",
       " '  ₹xL - ₹xxL',\n",
       " '  ₹xL - ₹xxL',\n",
       " '  ₹xL - ₹xxL',\n",
       " '  ₹xL - ₹xxL',\n",
       " '  ₹xxL - ₹xxL',\n",
       " '  ₹xL - ₹xxL',\n",
       " '  ₹xxL - ₹xxL',\n",
       " '  ₹xL - ₹xxL',\n",
       " '  ₹xxT - ₹xxT',\n",
       " '  ₹xL - ₹xxL']"
      ]
     },
     "execution_count": 207,
     "metadata": {},
     "output_type": "execute_result"
    }
   ],
   "source": [
    "max_salary = []\n",
    "\n",
    "for i in min1:\n",
    "    max_salary.append(i.text.replace(\"Range:\",\" \"))\n",
    "\n",
    "max_salary"
   ]
  },
  {
   "cell_type": "code",
   "execution_count": 208,
   "metadata": {},
   "outputs": [
    {
     "data": {
      "text/plain": [
       "[<selenium.webdriver.remote.webelement.WebElement (session=\"0834dd7fe0b1a84cfa3a46dcab8ce7f7\", element=\"d42717a8-95fa-4451-8420-1b7793f67567\")>,\n",
       " <selenium.webdriver.remote.webelement.WebElement (session=\"0834dd7fe0b1a84cfa3a46dcab8ce7f7\", element=\"7b1f25c6-82cb-4f30-b8a3-f1415eaeecdc\")>,\n",
       " <selenium.webdriver.remote.webelement.WebElement (session=\"0834dd7fe0b1a84cfa3a46dcab8ce7f7\", element=\"3483a332-feff-4b67-82d4-5282041da5d5\")>,\n",
       " <selenium.webdriver.remote.webelement.WebElement (session=\"0834dd7fe0b1a84cfa3a46dcab8ce7f7\", element=\"04b8747f-f33b-4606-8f59-b98428e40f2d\")>,\n",
       " <selenium.webdriver.remote.webelement.WebElement (session=\"0834dd7fe0b1a84cfa3a46dcab8ce7f7\", element=\"e02948ee-ddc1-44b6-a502-5494c92e6348\")>,\n",
       " <selenium.webdriver.remote.webelement.WebElement (session=\"0834dd7fe0b1a84cfa3a46dcab8ce7f7\", element=\"219ae174-1e2b-4a5c-b7d1-831967edf695\")>,\n",
       " <selenium.webdriver.remote.webelement.WebElement (session=\"0834dd7fe0b1a84cfa3a46dcab8ce7f7\", element=\"1439fb99-149f-4033-8bfb-811959aa0764\")>,\n",
       " <selenium.webdriver.remote.webelement.WebElement (session=\"0834dd7fe0b1a84cfa3a46dcab8ce7f7\", element=\"e3c1275f-821a-4ef9-b1ae-a4236279ff49\")>,\n",
       " <selenium.webdriver.remote.webelement.WebElement (session=\"0834dd7fe0b1a84cfa3a46dcab8ce7f7\", element=\"69ed3900-5e16-463e-ad6d-6e81cdb5e772\")>,\n",
       " <selenium.webdriver.remote.webelement.WebElement (session=\"0834dd7fe0b1a84cfa3a46dcab8ce7f7\", element=\"4503a437-bb15-44b8-972d-c7f6f7fa092b\")>,\n",
       " <selenium.webdriver.remote.webelement.WebElement (session=\"0834dd7fe0b1a84cfa3a46dcab8ce7f7\", element=\"a64692d2-7b44-4544-bcae-a40f711cfea8\")>,\n",
       " <selenium.webdriver.remote.webelement.WebElement (session=\"0834dd7fe0b1a84cfa3a46dcab8ce7f7\", element=\"5bf77c5c-5398-4434-a00e-f0485c586df6\")>,\n",
       " <selenium.webdriver.remote.webelement.WebElement (session=\"0834dd7fe0b1a84cfa3a46dcab8ce7f7\", element=\"42df0d11-038b-4498-9a04-5ca16072245f\")>,\n",
       " <selenium.webdriver.remote.webelement.WebElement (session=\"0834dd7fe0b1a84cfa3a46dcab8ce7f7\", element=\"66a62bb6-9665-492d-9c3d-b9bb9eb4d1c3\")>,\n",
       " <selenium.webdriver.remote.webelement.WebElement (session=\"0834dd7fe0b1a84cfa3a46dcab8ce7f7\", element=\"f61d2674-920d-49f4-9999-ef3b9879e2a0\")>,\n",
       " <selenium.webdriver.remote.webelement.WebElement (session=\"0834dd7fe0b1a84cfa3a46dcab8ce7f7\", element=\"4c76a976-d1cb-4346-b8a4-eeee2242ee38\")>,\n",
       " <selenium.webdriver.remote.webelement.WebElement (session=\"0834dd7fe0b1a84cfa3a46dcab8ce7f7\", element=\"35e5a6ef-4d10-45b7-8fed-1aaa4b5ecd86\")>,\n",
       " <selenium.webdriver.remote.webelement.WebElement (session=\"0834dd7fe0b1a84cfa3a46dcab8ce7f7\", element=\"3493ae5f-6b5e-4b41-8455-3ce3714675ab\")>,\n",
       " <selenium.webdriver.remote.webelement.WebElement (session=\"0834dd7fe0b1a84cfa3a46dcab8ce7f7\", element=\"e860042f-3626-4566-85c3-281690e93fe5\")>,\n",
       " <selenium.webdriver.remote.webelement.WebElement (session=\"0834dd7fe0b1a84cfa3a46dcab8ce7f7\", element=\"7a526e47-68cc-4fc8-998f-b4b9a7878d57\")>]"
      ]
     },
     "execution_count": 208,
     "metadata": {},
     "output_type": "execute_result"
    }
   ],
   "source": [
    "rating = browser(\"//span[@class = 'm-0 css-kyx745']\")\n",
    "rating"
   ]
  },
  {
   "cell_type": "code",
   "execution_count": 210,
   "metadata": {},
   "outputs": [
    {
     "data": {
      "text/plain": [
       "['3.9',\n",
       " '3.9',\n",
       " '4.1',\n",
       " '3.8',\n",
       " '4',\n",
       " '3.7',\n",
       " '3.7',\n",
       " '3.9',\n",
       " '4.2',\n",
       " '3.6',\n",
       " '3.8',\n",
       " '4',\n",
       " '4',\n",
       " '3.8',\n",
       " '3.3',\n",
       " '4.1',\n",
       " '3.8',\n",
       " '4.1',\n",
       " '3.8',\n",
       " '3.8']"
      ]
     },
     "execution_count": 210,
     "metadata": {},
     "output_type": "execute_result"
    }
   ],
   "source": [
    "company_rating = []\n",
    "\n",
    "for i in rating:\n",
    "    company_rating.append(i.text)\n",
    "company_rating"
   ]
  },
  {
   "cell_type": "code",
   "execution_count": 212,
   "metadata": {},
   "outputs": [
    {
     "data": {
      "text/html": [
       "<div>\n",
       "<style scoped>\n",
       "    .dataframe tbody tr th:only-of-type {\n",
       "        vertical-align: middle;\n",
       "    }\n",
       "\n",
       "    .dataframe tbody tr th {\n",
       "        vertical-align: top;\n",
       "    }\n",
       "\n",
       "    .dataframe thead th {\n",
       "        text-align: right;\n",
       "    }\n",
       "</style>\n",
       "<table border=\"1\" class=\"dataframe\">\n",
       "  <thead>\n",
       "    <tr style=\"text-align: right;\">\n",
       "      <th></th>\n",
       "      <th>Company_name</th>\n",
       "      <th>Average</th>\n",
       "      <th>Min_Salary</th>\n",
       "      <th>Company_Rating</th>\n",
       "      <th>Max_salary</th>\n",
       "    </tr>\n",
       "  </thead>\n",
       "  <tbody>\n",
       "    <tr>\n",
       "      <th>0</th>\n",
       "      <td>Tata Consultancy Services</td>\n",
       "      <td>₹6,19,349</td>\n",
       "      <td>₹4L - ₹13L</td>\n",
       "      <td>3.9</td>\n",
       "      <td>₹4L - ₹13L</td>\n",
       "    </tr>\n",
       "    <tr>\n",
       "      <th>1</th>\n",
       "      <td>IBM</td>\n",
       "      <td>₹9,00,000</td>\n",
       "      <td>₹1L - ₹28L</td>\n",
       "      <td>3.9</td>\n",
       "      <td>₹1L - ₹28L</td>\n",
       "    </tr>\n",
       "    <tr>\n",
       "      <th>2</th>\n",
       "      <td>Accenture</td>\n",
       "      <td>₹11,71,012</td>\n",
       "      <td>₹6L - ₹22L</td>\n",
       "      <td>4.1</td>\n",
       "      <td>₹6L - ₹22L</td>\n",
       "    </tr>\n",
       "    <tr>\n",
       "      <th>3</th>\n",
       "      <td>Delhivery</td>\n",
       "      <td>₹xx,xx,xxx</td>\n",
       "      <td>₹xL - ₹xCr</td>\n",
       "      <td>3.8</td>\n",
       "      <td>₹xL - ₹xCr</td>\n",
       "    </tr>\n",
       "    <tr>\n",
       "      <th>4</th>\n",
       "      <td>Ericsson-Worldwide</td>\n",
       "      <td>₹x,xx,xxx</td>\n",
       "      <td>₹xL - ₹xxL</td>\n",
       "      <td>4</td>\n",
       "      <td>₹xL - ₹xxL</td>\n",
       "    </tr>\n",
       "    <tr>\n",
       "      <th>5</th>\n",
       "      <td>UnitedHealth Group</td>\n",
       "      <td>₹xx,xx,xxx</td>\n",
       "      <td>₹xL - ₹xxL</td>\n",
       "      <td>3.7</td>\n",
       "      <td>₹xL - ₹xxL</td>\n",
       "    </tr>\n",
       "    <tr>\n",
       "      <th>6</th>\n",
       "      <td>Optum</td>\n",
       "      <td>₹xx,xx,xxx</td>\n",
       "      <td>₹xL - ₹xxL</td>\n",
       "      <td>3.7</td>\n",
       "      <td>₹xL - ₹xxL</td>\n",
       "    </tr>\n",
       "    <tr>\n",
       "      <th>7</th>\n",
       "      <td>Optum Global Solutions</td>\n",
       "      <td>₹xx,xx,xxx</td>\n",
       "      <td>₹xxL - ₹xxL</td>\n",
       "      <td>3.9</td>\n",
       "      <td>₹xxL - ₹xxL</td>\n",
       "    </tr>\n",
       "    <tr>\n",
       "      <th>8</th>\n",
       "      <td>Valiance Solutions</td>\n",
       "      <td>₹x,xx,xxx</td>\n",
       "      <td>₹xL - ₹xxL</td>\n",
       "      <td>4.2</td>\n",
       "      <td>₹xL - ₹xxL</td>\n",
       "    </tr>\n",
       "    <tr>\n",
       "      <th>9</th>\n",
       "      <td>EXL Service</td>\n",
       "      <td>₹xx,xx,xxx</td>\n",
       "      <td>₹xL - ₹xxL</td>\n",
       "      <td>3.6</td>\n",
       "      <td>₹xL - ₹xxL</td>\n",
       "    </tr>\n",
       "  </tbody>\n",
       "</table>\n",
       "</div>"
      ],
      "text/plain": [
       "                Company_name      Average    Min_Salary Company_Rating  \\\n",
       "0  Tata Consultancy Services   ₹6,19,349     ₹4L - ₹13L            3.9   \n",
       "1                        IBM   ₹9,00,000     ₹1L - ₹28L            3.9   \n",
       "2                  Accenture  ₹11,71,012     ₹6L - ₹22L            4.1   \n",
       "3                  Delhivery  ₹xx,xx,xxx     ₹xL - ₹xCr            3.8   \n",
       "4         Ericsson-Worldwide   ₹x,xx,xxx     ₹xL - ₹xxL              4   \n",
       "5         UnitedHealth Group  ₹xx,xx,xxx     ₹xL - ₹xxL            3.7   \n",
       "6                      Optum  ₹xx,xx,xxx     ₹xL - ₹xxL            3.7   \n",
       "7     Optum Global Solutions  ₹xx,xx,xxx    ₹xxL - ₹xxL            3.9   \n",
       "8         Valiance Solutions   ₹x,xx,xxx     ₹xL - ₹xxL            4.2   \n",
       "9                EXL Service  ₹xx,xx,xxx     ₹xL - ₹xxL            3.6   \n",
       "\n",
       "      Max_salary  \n",
       "0     ₹4L - ₹13L  \n",
       "1     ₹1L - ₹28L  \n",
       "2     ₹6L - ₹22L  \n",
       "3     ₹xL - ₹xCr  \n",
       "4     ₹xL - ₹xxL  \n",
       "5     ₹xL - ₹xxL  \n",
       "6     ₹xL - ₹xxL  \n",
       "7    ₹xxL - ₹xxL  \n",
       "8     ₹xL - ₹xxL  \n",
       "9     ₹xL - ₹xxL  "
      ]
     },
     "execution_count": 212,
     "metadata": {},
     "output_type": "execute_result"
    }
   ],
   "source": [
    "salaries = pd.DataFrame({})\n",
    "\n",
    "salaries['Company_name'] = company_name[:10]\n",
    "salaries[\"Average\"] = average[:10]\n",
    "salaries[\"Min_Salary\"] = min_salary[:10]\n",
    "salaries[\"Company_Rating\"] = company_rating[:10]\n",
    "salaries[\"Max_salary\"] = max_salary[:10]\n",
    "\n",
    "salaries"
   ]
  },
  {
   "cell_type": "code",
   "execution_count": null,
   "metadata": {},
   "outputs": [],
   "source": []
  },
  {
   "cell_type": "markdown",
   "metadata": {},
   "source": [
    "# Q6 : Scrape data of first 100 sunglasses listings on flipkart.com. You have to scrape four attributes: 1. Brand, 2. Product Description, 3. Price, 4. Discount %"
   ]
  },
  {
   "cell_type": "code",
   "execution_count": 2,
   "metadata": {},
   "outputs": [],
   "source": [
    "driver = webdriver.Chrome('chromedriver.exe')"
   ]
  },
  {
   "cell_type": "code",
   "execution_count": 3,
   "metadata": {},
   "outputs": [],
   "source": [
    "url = 'https://www.flipkart.com/'\n",
    "driver.get(url)"
   ]
  },
  {
   "cell_type": "code",
   "execution_count": 4,
   "metadata": {},
   "outputs": [
    {
     "data": {
      "text/plain": [
       "<selenium.webdriver.remote.webelement.WebElement (session=\"d0a779e0d7e06c215b34e66412b63fd7\", element=\"402a57e8-49c9-4b5d-8d58-07dea90891d3\")>"
      ]
     },
     "execution_count": 4,
     "metadata": {},
     "output_type": "execute_result"
    }
   ],
   "source": [
    "search = driver.find_element_by_xpath(\"//input[@title = 'Search for products, brands and more']\")\n",
    "search"
   ]
  },
  {
   "cell_type": "code",
   "execution_count": 5,
   "metadata": {},
   "outputs": [],
   "source": [
    "search.send_keys(\"sunglasses\")"
   ]
  },
  {
   "cell_type": "code",
   "execution_count": 6,
   "metadata": {},
   "outputs": [
    {
     "name": "stdout",
     "output_type": "stream",
     "text": [
      "<selenium.webdriver.remote.webelement.WebElement (session=\"d0a779e0d7e06c215b34e66412b63fd7\", element=\"c07fe211-cc64-4291-b490-71f568335481\")>\n",
      "None\n"
     ]
    }
   ],
   "source": [
    "button = driver.find_element_by_xpath(\"//button[@class = 'L0Z3Pu']\")\n",
    "print(button)\n",
    "\n",
    "print(button.click())"
   ]
  },
  {
   "cell_type": "code",
   "execution_count": 7,
   "metadata": {},
   "outputs": [],
   "source": [
    "# make variable\n",
    "browser = driver.find_elements_by_xpath"
   ]
  },
  {
   "cell_type": "code",
   "execution_count": 8,
   "metadata": {},
   "outputs": [
    {
     "data": {
      "text/plain": [
       "[<selenium.webdriver.remote.webelement.WebElement (session=\"d0a779e0d7e06c215b34e66412b63fd7\", element=\"fea59539-1e22-4907-b532-026a6036028b\")>,\n",
       " <selenium.webdriver.remote.webelement.WebElement (session=\"d0a779e0d7e06c215b34e66412b63fd7\", element=\"02124096-5596-4991-b102-28bf9bd5caa3\")>,\n",
       " <selenium.webdriver.remote.webelement.WebElement (session=\"d0a779e0d7e06c215b34e66412b63fd7\", element=\"c1aa3be8-df78-43cc-a62e-faed724fe51b\")>,\n",
       " <selenium.webdriver.remote.webelement.WebElement (session=\"d0a779e0d7e06c215b34e66412b63fd7\", element=\"7c6878a4-a239-4232-946d-79ed77eda6d4\")>,\n",
       " <selenium.webdriver.remote.webelement.WebElement (session=\"d0a779e0d7e06c215b34e66412b63fd7\", element=\"baaf1fea-18de-42de-915f-e821398596b3\")>,\n",
       " <selenium.webdriver.remote.webelement.WebElement (session=\"d0a779e0d7e06c215b34e66412b63fd7\", element=\"a7e00217-298f-49a6-a113-f81c6cb282c9\")>,\n",
       " <selenium.webdriver.remote.webelement.WebElement (session=\"d0a779e0d7e06c215b34e66412b63fd7\", element=\"cac0423a-0d58-406c-af79-003d8618fb95\")>,\n",
       " <selenium.webdriver.remote.webelement.WebElement (session=\"d0a779e0d7e06c215b34e66412b63fd7\", element=\"ed4bc6ae-e229-4bba-aa45-6341cc26bffd\")>,\n",
       " <selenium.webdriver.remote.webelement.WebElement (session=\"d0a779e0d7e06c215b34e66412b63fd7\", element=\"4ec51661-3cd6-48a5-8969-9d2e72074e52\")>,\n",
       " <selenium.webdriver.remote.webelement.WebElement (session=\"d0a779e0d7e06c215b34e66412b63fd7\", element=\"05bf18dc-ca6d-4179-91e8-ee2b8db72f88\")>,\n",
       " <selenium.webdriver.remote.webelement.WebElement (session=\"d0a779e0d7e06c215b34e66412b63fd7\", element=\"d5796a77-0d60-41f6-ad34-c07cdfa1eb24\")>,\n",
       " <selenium.webdriver.remote.webelement.WebElement (session=\"d0a779e0d7e06c215b34e66412b63fd7\", element=\"0148cb17-8524-4347-a6ff-d67bd89bb467\")>,\n",
       " <selenium.webdriver.remote.webelement.WebElement (session=\"d0a779e0d7e06c215b34e66412b63fd7\", element=\"6740ea9b-0405-4bc7-a5da-ef3c3ee1d72e\")>,\n",
       " <selenium.webdriver.remote.webelement.WebElement (session=\"d0a779e0d7e06c215b34e66412b63fd7\", element=\"6d831557-b0b8-4349-a6f1-db64904540ba\")>,\n",
       " <selenium.webdriver.remote.webelement.WebElement (session=\"d0a779e0d7e06c215b34e66412b63fd7\", element=\"b15828b4-1bb4-45b9-859a-73c31ec7882f\")>,\n",
       " <selenium.webdriver.remote.webelement.WebElement (session=\"d0a779e0d7e06c215b34e66412b63fd7\", element=\"91fa7d64-0377-430f-8db3-d89d64368e46\")>,\n",
       " <selenium.webdriver.remote.webelement.WebElement (session=\"d0a779e0d7e06c215b34e66412b63fd7\", element=\"4d56141a-2b3c-4c79-a7d2-24a92e070ab3\")>,\n",
       " <selenium.webdriver.remote.webelement.WebElement (session=\"d0a779e0d7e06c215b34e66412b63fd7\", element=\"71f00d25-4bc7-489c-949e-f6a096fc93ad\")>,\n",
       " <selenium.webdriver.remote.webelement.WebElement (session=\"d0a779e0d7e06c215b34e66412b63fd7\", element=\"c330891e-de08-4956-9f56-13c36ed69ec9\")>,\n",
       " <selenium.webdriver.remote.webelement.WebElement (session=\"d0a779e0d7e06c215b34e66412b63fd7\", element=\"e3c9f48e-eb7e-4b13-9784-d9965665683c\")>,\n",
       " <selenium.webdriver.remote.webelement.WebElement (session=\"d0a779e0d7e06c215b34e66412b63fd7\", element=\"72404e0c-60d7-4df8-9fb8-6f411307f225\")>,\n",
       " <selenium.webdriver.remote.webelement.WebElement (session=\"d0a779e0d7e06c215b34e66412b63fd7\", element=\"11ec4b44-baf5-47d9-b028-ad59701c0acc\")>,\n",
       " <selenium.webdriver.remote.webelement.WebElement (session=\"d0a779e0d7e06c215b34e66412b63fd7\", element=\"dbe47b03-fd97-45fe-8556-6f358a8e4d3d\")>,\n",
       " <selenium.webdriver.remote.webelement.WebElement (session=\"d0a779e0d7e06c215b34e66412b63fd7\", element=\"8929e168-e092-4215-8f5b-bccbeaa945a3\")>,\n",
       " <selenium.webdriver.remote.webelement.WebElement (session=\"d0a779e0d7e06c215b34e66412b63fd7\", element=\"92eacb56-56c7-4527-8655-36c95ea61793\")>,\n",
       " <selenium.webdriver.remote.webelement.WebElement (session=\"d0a779e0d7e06c215b34e66412b63fd7\", element=\"5238e71e-c3b2-4070-8db6-4f78449fe77b\")>,\n",
       " <selenium.webdriver.remote.webelement.WebElement (session=\"d0a779e0d7e06c215b34e66412b63fd7\", element=\"94aba6e8-8f90-4e22-b8e4-018ce8e1de92\")>,\n",
       " <selenium.webdriver.remote.webelement.WebElement (session=\"d0a779e0d7e06c215b34e66412b63fd7\", element=\"899ebe7a-d4b6-4fd2-9154-f6b622c2c234\")>,\n",
       " <selenium.webdriver.remote.webelement.WebElement (session=\"d0a779e0d7e06c215b34e66412b63fd7\", element=\"3b3c5a5b-bf92-4e2e-9027-ad67db9e1190\")>,\n",
       " <selenium.webdriver.remote.webelement.WebElement (session=\"d0a779e0d7e06c215b34e66412b63fd7\", element=\"0ae50f94-15b8-4918-be61-fafd9e691b4a\")>,\n",
       " <selenium.webdriver.remote.webelement.WebElement (session=\"d0a779e0d7e06c215b34e66412b63fd7\", element=\"53476fa5-f150-4679-baac-2af0d9af9954\")>,\n",
       " <selenium.webdriver.remote.webelement.WebElement (session=\"d0a779e0d7e06c215b34e66412b63fd7\", element=\"56d2fd45-3c14-4f44-ab9f-0373d88d3bdd\")>,\n",
       " <selenium.webdriver.remote.webelement.WebElement (session=\"d0a779e0d7e06c215b34e66412b63fd7\", element=\"e4244104-b282-4a50-b363-229752218340\")>,\n",
       " <selenium.webdriver.remote.webelement.WebElement (session=\"d0a779e0d7e06c215b34e66412b63fd7\", element=\"ec6fd4a1-b4d9-4c1b-8f2c-4d7707c3ef4c\")>,\n",
       " <selenium.webdriver.remote.webelement.WebElement (session=\"d0a779e0d7e06c215b34e66412b63fd7\", element=\"ce62dfb3-594f-49f8-9070-a6b9eccceaaa\")>,\n",
       " <selenium.webdriver.remote.webelement.WebElement (session=\"d0a779e0d7e06c215b34e66412b63fd7\", element=\"23f4b7f6-01a8-4e2c-8e9b-2d53c1306e0b\")>,\n",
       " <selenium.webdriver.remote.webelement.WebElement (session=\"d0a779e0d7e06c215b34e66412b63fd7\", element=\"6bb93468-d9c2-4949-9ea7-9348e2b678e9\")>,\n",
       " <selenium.webdriver.remote.webelement.WebElement (session=\"d0a779e0d7e06c215b34e66412b63fd7\", element=\"fd636fa4-0b57-404a-aa99-aa82f25f5ae2\")>,\n",
       " <selenium.webdriver.remote.webelement.WebElement (session=\"d0a779e0d7e06c215b34e66412b63fd7\", element=\"7397e576-353c-4837-a86c-9b217a5fe5c5\")>,\n",
       " <selenium.webdriver.remote.webelement.WebElement (session=\"d0a779e0d7e06c215b34e66412b63fd7\", element=\"49ccc7a0-086b-4c66-b967-8a5b7324b15f\")>]"
      ]
     },
     "execution_count": 8,
     "metadata": {},
     "output_type": "execute_result"
    }
   ],
   "source": [
    "b = browser(\"//div[@class = '_2WkVRV']\")\n",
    "b"
   ]
  },
  {
   "cell_type": "code",
   "execution_count": 9,
   "metadata": {},
   "outputs": [
    {
     "data": {
      "text/plain": [
       "['bulgaria',\n",
       " 'Rich Club',\n",
       " 'Elligator',\n",
       " 'SHAAH COLLECTIONS',\n",
       " 'PIRASO',\n",
       " 'kingsunglasses',\n",
       " 'kingsunglasses',\n",
       " 'Villain',\n",
       " 'Fastrack',\n",
       " 'Fastrack',\n",
       " 'PIRASO',\n",
       " 'WROGN',\n",
       " 'SHAAH COLLECTIONS',\n",
       " 'Fastrack',\n",
       " 'SHAAH COLLECTIONS',\n",
       " 'VINCENT CHASE',\n",
       " 'PHENOMENAL',\n",
       " 'ROZZETTA CRAFT',\n",
       " 'PIRASO',\n",
       " 'Riffko',\n",
       " 'Rich Club',\n",
       " 'ROZZETTA CRAFT',\n",
       " 'ROYAL SON',\n",
       " 'Resist',\n",
       " 'kingsunglasses',\n",
       " 'Silver Kartz',\n",
       " 'SUNBEE',\n",
       " 'AISLIN',\n",
       " 'PIRASO',\n",
       " 'PIRASO',\n",
       " 'SUNBEE',\n",
       " 'AISLIN',\n",
       " 'Elligator',\n",
       " 'Fastrack',\n",
       " 'SUNBEE',\n",
       " 'Resist',\n",
       " 'ROYAL SON',\n",
       " 'PHENOMENAL',\n",
       " 'ROZZETTA CRAFT',\n",
       " 'OCHILA']"
      ]
     },
     "execution_count": 9,
     "metadata": {},
     "output_type": "execute_result"
    }
   ],
   "source": [
    "brand = []\n",
    "for i in b:\n",
    "    brand.append(i.text)\n",
    "brand"
   ]
  },
  {
   "cell_type": "code",
   "execution_count": 10,
   "metadata": {},
   "outputs": [
    {
     "data": {
      "text/plain": [
       "40"
      ]
     },
     "execution_count": 10,
     "metadata": {},
     "output_type": "execute_result"
    }
   ],
   "source": [
    "len(brand)"
   ]
  },
  {
   "cell_type": "code",
   "execution_count": 12,
   "metadata": {},
   "outputs": [
    {
     "data": {
      "text/plain": [
       "[<selenium.webdriver.remote.webelement.WebElement (session=\"d0a779e0d7e06c215b34e66412b63fd7\", element=\"2b8d317a-513a-42f5-91dd-eeef6e88c6f2\")>,\n",
       " <selenium.webdriver.remote.webelement.WebElement (session=\"d0a779e0d7e06c215b34e66412b63fd7\", element=\"c96e3e0b-2733-4264-80cf-b537e6f9f998\")>,\n",
       " <selenium.webdriver.remote.webelement.WebElement (session=\"d0a779e0d7e06c215b34e66412b63fd7\", element=\"13b0eb36-8b80-4e27-bcfc-c9bb301731ae\")>,\n",
       " <selenium.webdriver.remote.webelement.WebElement (session=\"d0a779e0d7e06c215b34e66412b63fd7\", element=\"cba2e6a1-20d0-4dd4-9823-270065ac5b60\")>,\n",
       " <selenium.webdriver.remote.webelement.WebElement (session=\"d0a779e0d7e06c215b34e66412b63fd7\", element=\"6ab984e3-80dd-486b-a0e0-85a38b5c529a\")>,\n",
       " <selenium.webdriver.remote.webelement.WebElement (session=\"d0a779e0d7e06c215b34e66412b63fd7\", element=\"9f2f4ce5-cdfe-4e90-8449-93269f42b0d3\")>,\n",
       " <selenium.webdriver.remote.webelement.WebElement (session=\"d0a779e0d7e06c215b34e66412b63fd7\", element=\"87fedb65-7d92-445d-bd01-857b9c6708b8\")>,\n",
       " <selenium.webdriver.remote.webelement.WebElement (session=\"d0a779e0d7e06c215b34e66412b63fd7\", element=\"2bfe36ab-5ecc-44ad-a080-a12d70f78d4b\")>,\n",
       " <selenium.webdriver.remote.webelement.WebElement (session=\"d0a779e0d7e06c215b34e66412b63fd7\", element=\"eb759b51-858f-4447-bbe4-37829f5d829c\")>,\n",
       " <selenium.webdriver.remote.webelement.WebElement (session=\"d0a779e0d7e06c215b34e66412b63fd7\", element=\"0b68f6a1-e3ab-4da6-aa81-3e856fde8bac\")>,\n",
       " <selenium.webdriver.remote.webelement.WebElement (session=\"d0a779e0d7e06c215b34e66412b63fd7\", element=\"b1fb0ef1-785a-4dba-9ad9-5dcaedefd6c7\")>,\n",
       " <selenium.webdriver.remote.webelement.WebElement (session=\"d0a779e0d7e06c215b34e66412b63fd7\", element=\"3dde19a4-188b-450b-a714-4fe329823be1\")>,\n",
       " <selenium.webdriver.remote.webelement.WebElement (session=\"d0a779e0d7e06c215b34e66412b63fd7\", element=\"50b3495b-42b4-445a-a95e-fb88b216d8cb\")>,\n",
       " <selenium.webdriver.remote.webelement.WebElement (session=\"d0a779e0d7e06c215b34e66412b63fd7\", element=\"74965166-7185-4b99-9087-06ccffe9a0f9\")>,\n",
       " <selenium.webdriver.remote.webelement.WebElement (session=\"d0a779e0d7e06c215b34e66412b63fd7\", element=\"6466ddf4-016e-4408-9061-de078d1f48ec\")>,\n",
       " <selenium.webdriver.remote.webelement.WebElement (session=\"d0a779e0d7e06c215b34e66412b63fd7\", element=\"f849dfd2-749c-4584-8954-5fcb64ef2041\")>,\n",
       " <selenium.webdriver.remote.webelement.WebElement (session=\"d0a779e0d7e06c215b34e66412b63fd7\", element=\"18c57831-a60b-4aae-94a3-1a8ebf72e5e9\")>,\n",
       " <selenium.webdriver.remote.webelement.WebElement (session=\"d0a779e0d7e06c215b34e66412b63fd7\", element=\"35873841-e443-4e01-9a35-a718a5531520\")>,\n",
       " <selenium.webdriver.remote.webelement.WebElement (session=\"d0a779e0d7e06c215b34e66412b63fd7\", element=\"362c325c-6fef-4466-adc7-d9d54d3ba6f2\")>,\n",
       " <selenium.webdriver.remote.webelement.WebElement (session=\"d0a779e0d7e06c215b34e66412b63fd7\", element=\"f3e3ee66-ef78-4cb0-b185-8fbdda8cb8c4\")>,\n",
       " <selenium.webdriver.remote.webelement.WebElement (session=\"d0a779e0d7e06c215b34e66412b63fd7\", element=\"ea66ae23-9d5a-4d58-b436-1600d57910d1\")>,\n",
       " <selenium.webdriver.remote.webelement.WebElement (session=\"d0a779e0d7e06c215b34e66412b63fd7\", element=\"ef799c4b-8183-4733-af14-8f8fcb404920\")>,\n",
       " <selenium.webdriver.remote.webelement.WebElement (session=\"d0a779e0d7e06c215b34e66412b63fd7\", element=\"dad3ed2e-28fb-4315-8dd5-d46bfe9e5c92\")>,\n",
       " <selenium.webdriver.remote.webelement.WebElement (session=\"d0a779e0d7e06c215b34e66412b63fd7\", element=\"7d52a185-86b9-4128-84f8-2586645253f1\")>,\n",
       " <selenium.webdriver.remote.webelement.WebElement (session=\"d0a779e0d7e06c215b34e66412b63fd7\", element=\"a83c4fc1-4e55-492d-9d41-8e83936f06f7\")>,\n",
       " <selenium.webdriver.remote.webelement.WebElement (session=\"d0a779e0d7e06c215b34e66412b63fd7\", element=\"4ae02af2-cd1a-4c87-8e59-7b48dc2ab4f8\")>,\n",
       " <selenium.webdriver.remote.webelement.WebElement (session=\"d0a779e0d7e06c215b34e66412b63fd7\", element=\"b137a9a3-d7b3-491b-b4bf-6ed2e6b5574a\")>,\n",
       " <selenium.webdriver.remote.webelement.WebElement (session=\"d0a779e0d7e06c215b34e66412b63fd7\", element=\"81488328-f66c-46c6-846c-fba0ba8fae14\")>,\n",
       " <selenium.webdriver.remote.webelement.WebElement (session=\"d0a779e0d7e06c215b34e66412b63fd7\", element=\"5e330ab2-a9fe-42fa-a337-53e88bdd798e\")>,\n",
       " <selenium.webdriver.remote.webelement.WebElement (session=\"d0a779e0d7e06c215b34e66412b63fd7\", element=\"f0f81dd1-2725-4f8e-9c39-8e808a0f2a94\")>,\n",
       " <selenium.webdriver.remote.webelement.WebElement (session=\"d0a779e0d7e06c215b34e66412b63fd7\", element=\"2234f394-9193-4764-ac5f-08238bacf8bb\")>,\n",
       " <selenium.webdriver.remote.webelement.WebElement (session=\"d0a779e0d7e06c215b34e66412b63fd7\", element=\"5634ebdb-6784-4303-ba53-24c749c018dc\")>,\n",
       " <selenium.webdriver.remote.webelement.WebElement (session=\"d0a779e0d7e06c215b34e66412b63fd7\", element=\"50e69d46-7d23-432e-a225-5f663f081bbe\")>,\n",
       " <selenium.webdriver.remote.webelement.WebElement (session=\"d0a779e0d7e06c215b34e66412b63fd7\", element=\"6dcae822-374a-4ed5-821d-d8cd03116335\")>,\n",
       " <selenium.webdriver.remote.webelement.WebElement (session=\"d0a779e0d7e06c215b34e66412b63fd7\", element=\"ba2de928-52ef-45b0-b5ab-4b67cb8681f2\")>,\n",
       " <selenium.webdriver.remote.webelement.WebElement (session=\"d0a779e0d7e06c215b34e66412b63fd7\", element=\"d2f1188b-1e82-42df-a604-0ff7c767952f\")>]"
      ]
     },
     "execution_count": 12,
     "metadata": {},
     "output_type": "execute_result"
    }
   ],
   "source": [
    "pd = browser(\"//a[@class = 'IRpwTa']\")\n",
    "pd"
   ]
  },
  {
   "cell_type": "code",
   "execution_count": 13,
   "metadata": {},
   "outputs": [
    {
     "data": {
      "text/plain": [
       "['Others Rectangular Sunglasses (Free Size)',\n",
       " 'UV Protection, Others Round Sunglasses (48)',\n",
       " 'UV Protection Round Sunglasses (54)',\n",
       " 'UV Protection, Polarized, Mirrored Rectangular Sunglass...',\n",
       " 'UV Protection Aviator Sunglasses (54)',\n",
       " 'Mirrored, UV Protection Wayfarer Sunglasses (Free Size)',\n",
       " 'UV Protection Round Sunglasses (54)',\n",
       " 'Others Wayfarer Sunglasses (Free Size)',\n",
       " 'UV Protection Wayfarer Sunglasses (Free Size)',\n",
       " 'Gradient, UV Protection Wayfarer Sunglasses (Free Size)',\n",
       " 'UV Protection Aviator Sunglasses (54)',\n",
       " 'UV Protection Aviator Sunglasses (60)',\n",
       " 'UV Protection Round Sunglasses (Free Size)',\n",
       " 'UV Protection Aviator Sunglasses (Free Size)',\n",
       " 'UV Protection, Polarized, Mirrored Rectangular Sunglass...',\n",
       " 'Polarized Cat-eye Sunglasses (54)',\n",
       " 'UV Protection Retro Square Sunglasses (Free Size)',\n",
       " 'UV Protection, Gradient Rectangular Sunglasses (Free Si...',\n",
       " 'UV Protection Aviator Sunglasses (54)',\n",
       " 'UV Protection, Mirrored, Gradient Round Sunglasses (51)',\n",
       " 'UV Protection Retro Square Sunglasses (Free Size)',\n",
       " 'UV Protection Rectangular Sunglasses (58)',\n",
       " 'Mirrored, UV Protection Wayfarer Sunglasses (Free Size)',\n",
       " 'UV Protection Wayfarer Sunglasses (Free Size)',\n",
       " 'UV Protection, Polarized, Mirrored Wayfarer Sunglasses ...',\n",
       " 'Polarized, UV Protection, Gradient Wayfarer, Rectangula...',\n",
       " 'UV Protection Butterfly Sunglasses (65)',\n",
       " 'UV Protection Aviator Sunglasses (58)',\n",
       " 'UV Protection, Polarized, Mirrored Wayfarer Sunglasses ...',\n",
       " 'Mirrored Round Sunglasses (53)',\n",
       " 'UV Protection Wayfarer Sunglasses (57)',\n",
       " 'UV Protection, Polarized, Mirrored Wayfarer Sunglasses ...',\n",
       " 'Mirrored Aviator Sunglasses (55)',\n",
       " 'UV Protection Round Sunglasses (53)',\n",
       " 'UV Protection, Riding Glasses Rectangular Sunglasses (F...',\n",
       " 'UV Protection Aviator Sunglasses (58)']"
      ]
     },
     "execution_count": 13,
     "metadata": {},
     "output_type": "execute_result"
    }
   ],
   "source": [
    "product = []\n",
    "for i in pd:\n",
    "    product.append(i.text)\n",
    "product"
   ]
  },
  {
   "cell_type": "code",
   "execution_count": 14,
   "metadata": {},
   "outputs": [
    {
     "data": {
      "text/plain": [
       "36"
      ]
     },
     "execution_count": 14,
     "metadata": {},
     "output_type": "execute_result"
    }
   ],
   "source": [
    "len(product)"
   ]
  },
  {
   "cell_type": "code",
   "execution_count": 15,
   "metadata": {},
   "outputs": [
    {
     "data": {
      "text/plain": [
       "[<selenium.webdriver.remote.webelement.WebElement (session=\"d0a779e0d7e06c215b34e66412b63fd7\", element=\"56584039-2545-4647-813a-640a04cc06f6\")>,\n",
       " <selenium.webdriver.remote.webelement.WebElement (session=\"d0a779e0d7e06c215b34e66412b63fd7\", element=\"d2c49f7e-2772-4e4d-898c-4af93b141f9a\")>,\n",
       " <selenium.webdriver.remote.webelement.WebElement (session=\"d0a779e0d7e06c215b34e66412b63fd7\", element=\"63a5e727-e34a-41b5-92ec-f0deb2a78a7f\")>,\n",
       " <selenium.webdriver.remote.webelement.WebElement (session=\"d0a779e0d7e06c215b34e66412b63fd7\", element=\"30999702-f696-45fb-ba11-c1263296633e\")>,\n",
       " <selenium.webdriver.remote.webelement.WebElement (session=\"d0a779e0d7e06c215b34e66412b63fd7\", element=\"6ff7d3ec-9552-4a65-a071-3ee4df80e6eb\")>,\n",
       " <selenium.webdriver.remote.webelement.WebElement (session=\"d0a779e0d7e06c215b34e66412b63fd7\", element=\"a686ef26-03a0-42ef-81f8-1feabe076c0c\")>,\n",
       " <selenium.webdriver.remote.webelement.WebElement (session=\"d0a779e0d7e06c215b34e66412b63fd7\", element=\"a05f6b94-79b0-4f63-b60a-3129c7be52b5\")>,\n",
       " <selenium.webdriver.remote.webelement.WebElement (session=\"d0a779e0d7e06c215b34e66412b63fd7\", element=\"f3199d14-ebe2-475b-b0f1-c97313ebafbb\")>,\n",
       " <selenium.webdriver.remote.webelement.WebElement (session=\"d0a779e0d7e06c215b34e66412b63fd7\", element=\"b0349d2e-d013-43d5-b31c-5b1b2c988156\")>,\n",
       " <selenium.webdriver.remote.webelement.WebElement (session=\"d0a779e0d7e06c215b34e66412b63fd7\", element=\"d1445c19-1306-42f9-85fe-5ff894356069\")>,\n",
       " <selenium.webdriver.remote.webelement.WebElement (session=\"d0a779e0d7e06c215b34e66412b63fd7\", element=\"7e2014bc-11cb-4b25-9979-d70242d38603\")>,\n",
       " <selenium.webdriver.remote.webelement.WebElement (session=\"d0a779e0d7e06c215b34e66412b63fd7\", element=\"0faf18aa-a125-4899-890d-9e44c9dac11a\")>,\n",
       " <selenium.webdriver.remote.webelement.WebElement (session=\"d0a779e0d7e06c215b34e66412b63fd7\", element=\"cdaeea01-13d2-4cba-a231-de5848117530\")>,\n",
       " <selenium.webdriver.remote.webelement.WebElement (session=\"d0a779e0d7e06c215b34e66412b63fd7\", element=\"4251d0ad-de6c-4f8c-95fb-62d3d0547ffb\")>,\n",
       " <selenium.webdriver.remote.webelement.WebElement (session=\"d0a779e0d7e06c215b34e66412b63fd7\", element=\"563ccbee-2757-460c-b7ea-1f14333ae9f1\")>,\n",
       " <selenium.webdriver.remote.webelement.WebElement (session=\"d0a779e0d7e06c215b34e66412b63fd7\", element=\"f8d0e236-cec8-43af-a206-e1e705bb6fd4\")>,\n",
       " <selenium.webdriver.remote.webelement.WebElement (session=\"d0a779e0d7e06c215b34e66412b63fd7\", element=\"f05d3e96-acdc-4e8a-a13e-7979e7ed799f\")>,\n",
       " <selenium.webdriver.remote.webelement.WebElement (session=\"d0a779e0d7e06c215b34e66412b63fd7\", element=\"8b664ae9-f519-4444-9ed2-4eee07bdbaf9\")>,\n",
       " <selenium.webdriver.remote.webelement.WebElement (session=\"d0a779e0d7e06c215b34e66412b63fd7\", element=\"d918d5a8-12fb-4f94-987b-dadb931bae4d\")>,\n",
       " <selenium.webdriver.remote.webelement.WebElement (session=\"d0a779e0d7e06c215b34e66412b63fd7\", element=\"4da5b812-3d8f-4a72-a1d2-7f5a15828c8f\")>,\n",
       " <selenium.webdriver.remote.webelement.WebElement (session=\"d0a779e0d7e06c215b34e66412b63fd7\", element=\"db447240-dbf3-48d3-9ec5-a90321e4f599\")>,\n",
       " <selenium.webdriver.remote.webelement.WebElement (session=\"d0a779e0d7e06c215b34e66412b63fd7\", element=\"2ab3c2b0-e0fa-44f6-b3d3-f6419d35683b\")>,\n",
       " <selenium.webdriver.remote.webelement.WebElement (session=\"d0a779e0d7e06c215b34e66412b63fd7\", element=\"37030b0c-af0b-4cff-9569-dc5acb3c99fa\")>,\n",
       " <selenium.webdriver.remote.webelement.WebElement (session=\"d0a779e0d7e06c215b34e66412b63fd7\", element=\"8effcc9b-0b24-440e-85f9-ffb8c8a07b61\")>,\n",
       " <selenium.webdriver.remote.webelement.WebElement (session=\"d0a779e0d7e06c215b34e66412b63fd7\", element=\"72317a0b-76e8-4dcb-91df-854ae5058255\")>,\n",
       " <selenium.webdriver.remote.webelement.WebElement (session=\"d0a779e0d7e06c215b34e66412b63fd7\", element=\"b98b2a46-4f94-40b7-bc92-a19477fcc173\")>,\n",
       " <selenium.webdriver.remote.webelement.WebElement (session=\"d0a779e0d7e06c215b34e66412b63fd7\", element=\"1055c14f-978f-4c1a-9d0d-a99bfb2adb53\")>,\n",
       " <selenium.webdriver.remote.webelement.WebElement (session=\"d0a779e0d7e06c215b34e66412b63fd7\", element=\"35f8dfb3-f44b-41b2-887c-d94297eceb4d\")>,\n",
       " <selenium.webdriver.remote.webelement.WebElement (session=\"d0a779e0d7e06c215b34e66412b63fd7\", element=\"a77d2f80-d3f9-4879-9e86-a218949e39f7\")>,\n",
       " <selenium.webdriver.remote.webelement.WebElement (session=\"d0a779e0d7e06c215b34e66412b63fd7\", element=\"e42ca3d9-14ea-49af-9726-a308df5a1d67\")>,\n",
       " <selenium.webdriver.remote.webelement.WebElement (session=\"d0a779e0d7e06c215b34e66412b63fd7\", element=\"97de9185-1f1d-4e1f-9c8e-8fbf9f4444cd\")>,\n",
       " <selenium.webdriver.remote.webelement.WebElement (session=\"d0a779e0d7e06c215b34e66412b63fd7\", element=\"11352f80-7665-4735-811c-b2341413bdd2\")>,\n",
       " <selenium.webdriver.remote.webelement.WebElement (session=\"d0a779e0d7e06c215b34e66412b63fd7\", element=\"dd0cc210-ca39-4bc8-b47d-ef09554d9b47\")>,\n",
       " <selenium.webdriver.remote.webelement.WebElement (session=\"d0a779e0d7e06c215b34e66412b63fd7\", element=\"dd318359-9d68-4934-a0dd-bccd8137c20c\")>,\n",
       " <selenium.webdriver.remote.webelement.WebElement (session=\"d0a779e0d7e06c215b34e66412b63fd7\", element=\"54f38c54-c044-4493-b8d3-6add12f3495e\")>,\n",
       " <selenium.webdriver.remote.webelement.WebElement (session=\"d0a779e0d7e06c215b34e66412b63fd7\", element=\"05da7af3-439e-4d1e-9713-b673929f8f1f\")>,\n",
       " <selenium.webdriver.remote.webelement.WebElement (session=\"d0a779e0d7e06c215b34e66412b63fd7\", element=\"55259303-6e17-4ca2-ae87-be2f053f790a\")>,\n",
       " <selenium.webdriver.remote.webelement.WebElement (session=\"d0a779e0d7e06c215b34e66412b63fd7\", element=\"194bca22-0cfa-4d8e-9ec7-b3ab43bc910d\")>,\n",
       " <selenium.webdriver.remote.webelement.WebElement (session=\"d0a779e0d7e06c215b34e66412b63fd7\", element=\"adb88feb-b012-4189-a809-8f2ebc8e23b7\")>,\n",
       " <selenium.webdriver.remote.webelement.WebElement (session=\"d0a779e0d7e06c215b34e66412b63fd7\", element=\"ad39747f-61dc-482b-b763-be4c6b9c8103\")>]"
      ]
     },
     "execution_count": 15,
     "metadata": {},
     "output_type": "execute_result"
    }
   ],
   "source": [
    "p = browser(\"//div[@class = '_30jeq3']\")\n",
    "p"
   ]
  },
  {
   "cell_type": "code",
   "execution_count": 16,
   "metadata": {},
   "outputs": [
    {
     "data": {
      "text/plain": [
       "['₹449',\n",
       " '₹299',\n",
       " '₹295',\n",
       " '₹198',\n",
       " '₹237',\n",
       " '₹284',\n",
       " '₹213',\n",
       " '₹599',\n",
       " '₹758',\n",
       " '₹509',\n",
       " '₹237',\n",
       " '₹1,007',\n",
       " '₹331',\n",
       " '₹546',\n",
       " '₹215',\n",
       " '₹1,415',\n",
       " '₹399',\n",
       " '₹404',\n",
       " '₹237',\n",
       " '₹210',\n",
       " '₹215',\n",
       " '₹499',\n",
       " '₹474',\n",
       " '₹899',\n",
       " '₹284',\n",
       " '₹246',\n",
       " '₹284',\n",
       " '₹1,138',\n",
       " '₹449',\n",
       " '₹399',\n",
       " '₹265',\n",
       " '₹498',\n",
       " '₹312',\n",
       " '₹503',\n",
       " '₹314',\n",
       " '₹854',\n",
       " '₹379',\n",
       " '₹295',\n",
       " '₹449',\n",
       " '₹230']"
      ]
     },
     "execution_count": 16,
     "metadata": {},
     "output_type": "execute_result"
    }
   ],
   "source": [
    "price = []\n",
    "for i in p:\n",
    "    price.append(i.text)\n",
    "price"
   ]
  },
  {
   "cell_type": "code",
   "execution_count": 17,
   "metadata": {},
   "outputs": [
    {
     "data": {
      "text/plain": [
       "40"
      ]
     },
     "execution_count": 17,
     "metadata": {},
     "output_type": "execute_result"
    }
   ],
   "source": [
    "len(price)"
   ]
  },
  {
   "cell_type": "code",
   "execution_count": 18,
   "metadata": {},
   "outputs": [
    {
     "data": {
      "text/plain": [
       "[<selenium.webdriver.remote.webelement.WebElement (session=\"d0a779e0d7e06c215b34e66412b63fd7\", element=\"63f9cd3e-52ba-45ff-b9ec-4441ccb4019e\")>,\n",
       " <selenium.webdriver.remote.webelement.WebElement (session=\"d0a779e0d7e06c215b34e66412b63fd7\", element=\"4bd80c79-6a40-4de3-9148-f82ae51e560b\")>,\n",
       " <selenium.webdriver.remote.webelement.WebElement (session=\"d0a779e0d7e06c215b34e66412b63fd7\", element=\"5826b26f-ec02-4e73-ae86-f968dc2648df\")>,\n",
       " <selenium.webdriver.remote.webelement.WebElement (session=\"d0a779e0d7e06c215b34e66412b63fd7\", element=\"0174e70b-6186-4152-8d67-b2910d42432c\")>,\n",
       " <selenium.webdriver.remote.webelement.WebElement (session=\"d0a779e0d7e06c215b34e66412b63fd7\", element=\"f126382c-58d9-4edf-85ee-ea918845b9a9\")>,\n",
       " <selenium.webdriver.remote.webelement.WebElement (session=\"d0a779e0d7e06c215b34e66412b63fd7\", element=\"9e1cdf31-d0d2-4ff8-9a45-d9708d7d9422\")>,\n",
       " <selenium.webdriver.remote.webelement.WebElement (session=\"d0a779e0d7e06c215b34e66412b63fd7\", element=\"e743e3ac-6e1e-4df9-bcc1-883c65a7b488\")>,\n",
       " <selenium.webdriver.remote.webelement.WebElement (session=\"d0a779e0d7e06c215b34e66412b63fd7\", element=\"176e3ed8-8fd9-4401-9fed-87af0cc14bc9\")>,\n",
       " <selenium.webdriver.remote.webelement.WebElement (session=\"d0a779e0d7e06c215b34e66412b63fd7\", element=\"e3ce036c-2c16-416a-9b43-729e0bae95f7\")>,\n",
       " <selenium.webdriver.remote.webelement.WebElement (session=\"d0a779e0d7e06c215b34e66412b63fd7\", element=\"fd14f710-2500-4b65-9abb-fbf6644c6e79\")>,\n",
       " <selenium.webdriver.remote.webelement.WebElement (session=\"d0a779e0d7e06c215b34e66412b63fd7\", element=\"ec849643-51d2-4f2b-84d2-4adfe250e952\")>,\n",
       " <selenium.webdriver.remote.webelement.WebElement (session=\"d0a779e0d7e06c215b34e66412b63fd7\", element=\"0e03617e-6366-4110-81be-76a0fc2e249a\")>,\n",
       " <selenium.webdriver.remote.webelement.WebElement (session=\"d0a779e0d7e06c215b34e66412b63fd7\", element=\"41d7ad27-d2ce-437a-b538-b59aa05d5ad5\")>,\n",
       " <selenium.webdriver.remote.webelement.WebElement (session=\"d0a779e0d7e06c215b34e66412b63fd7\", element=\"8e421efe-fd2e-4377-b35e-99816dc7fb36\")>,\n",
       " <selenium.webdriver.remote.webelement.WebElement (session=\"d0a779e0d7e06c215b34e66412b63fd7\", element=\"ba423b03-31a2-4178-b1e2-a5099f4c99e4\")>,\n",
       " <selenium.webdriver.remote.webelement.WebElement (session=\"d0a779e0d7e06c215b34e66412b63fd7\", element=\"1359b285-13e0-4e8a-91a3-b0401697b749\")>,\n",
       " <selenium.webdriver.remote.webelement.WebElement (session=\"d0a779e0d7e06c215b34e66412b63fd7\", element=\"88a4514f-ac4c-465b-bda2-157ec8f6485f\")>,\n",
       " <selenium.webdriver.remote.webelement.WebElement (session=\"d0a779e0d7e06c215b34e66412b63fd7\", element=\"879bdb25-0c8d-4f09-b0e9-d1dd8888f831\")>,\n",
       " <selenium.webdriver.remote.webelement.WebElement (session=\"d0a779e0d7e06c215b34e66412b63fd7\", element=\"42ff585a-d85f-4d87-9e3c-0b5f53ca511a\")>,\n",
       " <selenium.webdriver.remote.webelement.WebElement (session=\"d0a779e0d7e06c215b34e66412b63fd7\", element=\"1556d6fa-6d89-453b-9858-a88a5075b4de\")>,\n",
       " <selenium.webdriver.remote.webelement.WebElement (session=\"d0a779e0d7e06c215b34e66412b63fd7\", element=\"9d0c66b2-f1fc-4bfd-bd2f-e7ee522e9771\")>,\n",
       " <selenium.webdriver.remote.webelement.WebElement (session=\"d0a779e0d7e06c215b34e66412b63fd7\", element=\"969876e5-18d3-4370-a848-725d3b2372b9\")>,\n",
       " <selenium.webdriver.remote.webelement.WebElement (session=\"d0a779e0d7e06c215b34e66412b63fd7\", element=\"1194b913-b93c-4008-aacd-f35301d8ccf3\")>,\n",
       " <selenium.webdriver.remote.webelement.WebElement (session=\"d0a779e0d7e06c215b34e66412b63fd7\", element=\"5cb79e81-9731-4853-a2be-fc9fb7edbae1\")>,\n",
       " <selenium.webdriver.remote.webelement.WebElement (session=\"d0a779e0d7e06c215b34e66412b63fd7\", element=\"8607d58a-0f77-4ff1-82aa-921755c97cfe\")>,\n",
       " <selenium.webdriver.remote.webelement.WebElement (session=\"d0a779e0d7e06c215b34e66412b63fd7\", element=\"bd0a4bb9-ef23-4418-be6f-694734e1b5f5\")>,\n",
       " <selenium.webdriver.remote.webelement.WebElement (session=\"d0a779e0d7e06c215b34e66412b63fd7\", element=\"713a3b4c-2676-4e2c-93c7-fcd8744af6d8\")>,\n",
       " <selenium.webdriver.remote.webelement.WebElement (session=\"d0a779e0d7e06c215b34e66412b63fd7\", element=\"6f261eac-ccd4-41ac-814c-33c00167d5ae\")>,\n",
       " <selenium.webdriver.remote.webelement.WebElement (session=\"d0a779e0d7e06c215b34e66412b63fd7\", element=\"aebe186b-57c4-4254-92d2-1e90d93c2c7b\")>,\n",
       " <selenium.webdriver.remote.webelement.WebElement (session=\"d0a779e0d7e06c215b34e66412b63fd7\", element=\"bc778a63-f1b0-4d33-93f5-a89c443d24b2\")>,\n",
       " <selenium.webdriver.remote.webelement.WebElement (session=\"d0a779e0d7e06c215b34e66412b63fd7\", element=\"8146129a-acec-4f88-b377-45c394c19fd2\")>,\n",
       " <selenium.webdriver.remote.webelement.WebElement (session=\"d0a779e0d7e06c215b34e66412b63fd7\", element=\"e9651eeb-8f47-4021-bc23-99b0060bd0dd\")>,\n",
       " <selenium.webdriver.remote.webelement.WebElement (session=\"d0a779e0d7e06c215b34e66412b63fd7\", element=\"c9301cf9-4ef1-4134-8399-133f83fe0907\")>,\n",
       " <selenium.webdriver.remote.webelement.WebElement (session=\"d0a779e0d7e06c215b34e66412b63fd7\", element=\"301898f8-0dde-4738-bdec-ee086e822b1b\")>,\n",
       " <selenium.webdriver.remote.webelement.WebElement (session=\"d0a779e0d7e06c215b34e66412b63fd7\", element=\"364a794b-be08-42a8-8f6d-6c0230568930\")>,\n",
       " <selenium.webdriver.remote.webelement.WebElement (session=\"d0a779e0d7e06c215b34e66412b63fd7\", element=\"1c01e70b-9d0b-4282-b431-dc6d13ae4ff7\")>,\n",
       " <selenium.webdriver.remote.webelement.WebElement (session=\"d0a779e0d7e06c215b34e66412b63fd7\", element=\"0400d766-2bd8-4350-963c-419e60657d5c\")>,\n",
       " <selenium.webdriver.remote.webelement.WebElement (session=\"d0a779e0d7e06c215b34e66412b63fd7\", element=\"3627041a-a198-4ce4-9b91-48e6b9f5478c\")>,\n",
       " <selenium.webdriver.remote.webelement.WebElement (session=\"d0a779e0d7e06c215b34e66412b63fd7\", element=\"bbc77600-6ecc-426c-836e-44dbf58a9fe1\")>,\n",
       " <selenium.webdriver.remote.webelement.WebElement (session=\"d0a779e0d7e06c215b34e66412b63fd7\", element=\"abb1553d-6ca9-478c-95e6-2718a05cdd32\")>]"
      ]
     },
     "execution_count": 18,
     "metadata": {},
     "output_type": "execute_result"
    }
   ],
   "source": [
    "d = browser(\"//div[@class = '_3Ay6Sb']\")\n",
    "d"
   ]
  },
  {
   "cell_type": "code",
   "execution_count": 19,
   "metadata": {},
   "outputs": [
    {
     "data": {
      "text/plain": [
       "['43% off',\n",
       " '62% off',\n",
       " '88% off',\n",
       " '88% off',\n",
       " '85% off',\n",
       " '89% off',\n",
       " '80% off',\n",
       " '40% off',\n",
       " '15% off',\n",
       " '36% off',\n",
       " '85% off',\n",
       " '69% off',\n",
       " '80% off',\n",
       " '31% off',\n",
       " '78% off',\n",
       " '29% off',\n",
       " '80% off',\n",
       " '79% off',\n",
       " '85% off',\n",
       " '82% off',\n",
       " '73% off',\n",
       " '77% off',\n",
       " '68% off',\n",
       " '55% off',\n",
       " '89% off',\n",
       " '83% off',\n",
       " '71% off',\n",
       " '73% off',\n",
       " '82% off',\n",
       " '84% off',\n",
       " '73% off',\n",
       " '70% off',\n",
       " '87% off',\n",
       " '37% off',\n",
       " '75% off',\n",
       " '57% off',\n",
       " '74% off',\n",
       " '87% off',\n",
       " '79% off',\n",
       " '80% off']"
      ]
     },
     "execution_count": 19,
     "metadata": {},
     "output_type": "execute_result"
    }
   ],
   "source": [
    "discount = []\n",
    "for i in d:\n",
    "    discount.append(i.text)\n",
    "discount"
   ]
  },
  {
   "cell_type": "code",
   "execution_count": 20,
   "metadata": {},
   "outputs": [
    {
     "data": {
      "text/plain": [
       "40"
      ]
     },
     "execution_count": 20,
     "metadata": {},
     "output_type": "execute_result"
    }
   ],
   "source": [
    "len(discount)"
   ]
  },
  {
   "cell_type": "code",
   "execution_count": 21,
   "metadata": {},
   "outputs": [
    {
     "name": "stdout",
     "output_type": "stream",
     "text": [
      "<selenium.webdriver.remote.webelement.WebElement (session=\"d0a779e0d7e06c215b34e66412b63fd7\", element=\"969b761a-5be1-48ec-9bdf-d0bd47961c5a\")>\n",
      "None\n"
     ]
    }
   ],
   "source": [
    "next1 = driver.find_element_by_xpath(\"//a[@class = '_1LKTO3']\")\n",
    "print(next1)\n",
    "print(next1.click())"
   ]
  },
  {
   "cell_type": "code",
   "execution_count": 22,
   "metadata": {},
   "outputs": [
    {
     "data": {
      "text/plain": [
       "[<selenium.webdriver.remote.webelement.WebElement (session=\"d0a779e0d7e06c215b34e66412b63fd7\", element=\"997e10da-f511-4688-895b-ec8ca2112a74\")>,\n",
       " <selenium.webdriver.remote.webelement.WebElement (session=\"d0a779e0d7e06c215b34e66412b63fd7\", element=\"bd67e404-c0e8-4499-80eb-6b1af6179a6d\")>,\n",
       " <selenium.webdriver.remote.webelement.WebElement (session=\"d0a779e0d7e06c215b34e66412b63fd7\", element=\"9ecf4574-26af-4c60-a482-2ab597cfae9c\")>,\n",
       " <selenium.webdriver.remote.webelement.WebElement (session=\"d0a779e0d7e06c215b34e66412b63fd7\", element=\"55f28fab-1a69-45c6-9c4b-f05725a6e68b\")>,\n",
       " <selenium.webdriver.remote.webelement.WebElement (session=\"d0a779e0d7e06c215b34e66412b63fd7\", element=\"6670fd86-c15b-453e-b495-a4504165a408\")>,\n",
       " <selenium.webdriver.remote.webelement.WebElement (session=\"d0a779e0d7e06c215b34e66412b63fd7\", element=\"5f2f087c-7ca1-4391-b2de-0de460085ef9\")>,\n",
       " <selenium.webdriver.remote.webelement.WebElement (session=\"d0a779e0d7e06c215b34e66412b63fd7\", element=\"ab3b57e1-8b97-4b24-b8cb-4a91953e6811\")>,\n",
       " <selenium.webdriver.remote.webelement.WebElement (session=\"d0a779e0d7e06c215b34e66412b63fd7\", element=\"08265b4c-f98e-423f-96dd-4d63c97c16ed\")>,\n",
       " <selenium.webdriver.remote.webelement.WebElement (session=\"d0a779e0d7e06c215b34e66412b63fd7\", element=\"831750c1-09ec-485f-bffd-b14f833af6a0\")>,\n",
       " <selenium.webdriver.remote.webelement.WebElement (session=\"d0a779e0d7e06c215b34e66412b63fd7\", element=\"c973a56e-a32d-41a4-ae89-49ac874383cd\")>,\n",
       " <selenium.webdriver.remote.webelement.WebElement (session=\"d0a779e0d7e06c215b34e66412b63fd7\", element=\"f9e03300-6c96-4d1b-8def-c383b24e7ac2\")>,\n",
       " <selenium.webdriver.remote.webelement.WebElement (session=\"d0a779e0d7e06c215b34e66412b63fd7\", element=\"ba48ef58-f04f-4b42-9c2c-6534c40c9d99\")>,\n",
       " <selenium.webdriver.remote.webelement.WebElement (session=\"d0a779e0d7e06c215b34e66412b63fd7\", element=\"e6118fc7-60f0-430d-8882-55b967267767\")>,\n",
       " <selenium.webdriver.remote.webelement.WebElement (session=\"d0a779e0d7e06c215b34e66412b63fd7\", element=\"065fcb98-fabd-449a-8d49-9b3ad8b98c54\")>,\n",
       " <selenium.webdriver.remote.webelement.WebElement (session=\"d0a779e0d7e06c215b34e66412b63fd7\", element=\"027f3373-7779-4157-9443-c168e5adece6\")>,\n",
       " <selenium.webdriver.remote.webelement.WebElement (session=\"d0a779e0d7e06c215b34e66412b63fd7\", element=\"4b9a3054-2800-480f-a99c-2fe714a6b006\")>,\n",
       " <selenium.webdriver.remote.webelement.WebElement (session=\"d0a779e0d7e06c215b34e66412b63fd7\", element=\"cb0c776f-a5d1-4aab-9459-51607b4eabd6\")>,\n",
       " <selenium.webdriver.remote.webelement.WebElement (session=\"d0a779e0d7e06c215b34e66412b63fd7\", element=\"0b258198-3b78-44cc-b64b-0ffdf38803d0\")>,\n",
       " <selenium.webdriver.remote.webelement.WebElement (session=\"d0a779e0d7e06c215b34e66412b63fd7\", element=\"8ece6a2a-f97c-48be-9640-d0b18f513eab\")>,\n",
       " <selenium.webdriver.remote.webelement.WebElement (session=\"d0a779e0d7e06c215b34e66412b63fd7\", element=\"af6d144b-00e3-4149-97bb-f689bfa89660\")>,\n",
       " <selenium.webdriver.remote.webelement.WebElement (session=\"d0a779e0d7e06c215b34e66412b63fd7\", element=\"edf48519-098c-448e-9052-b5bb141f450a\")>,\n",
       " <selenium.webdriver.remote.webelement.WebElement (session=\"d0a779e0d7e06c215b34e66412b63fd7\", element=\"3004f2c3-5e64-4811-8a43-210307699ac6\")>,\n",
       " <selenium.webdriver.remote.webelement.WebElement (session=\"d0a779e0d7e06c215b34e66412b63fd7\", element=\"ec360759-cae5-4a24-8eb7-f1e162da2232\")>,\n",
       " <selenium.webdriver.remote.webelement.WebElement (session=\"d0a779e0d7e06c215b34e66412b63fd7\", element=\"4adb0821-2096-4bc3-8e8c-409fb6b46b3b\")>,\n",
       " <selenium.webdriver.remote.webelement.WebElement (session=\"d0a779e0d7e06c215b34e66412b63fd7\", element=\"3c385447-a62d-4a8e-8a6d-f174065da23c\")>,\n",
       " <selenium.webdriver.remote.webelement.WebElement (session=\"d0a779e0d7e06c215b34e66412b63fd7\", element=\"ebd291d5-4ab7-48c1-9f1b-550d19d81935\")>,\n",
       " <selenium.webdriver.remote.webelement.WebElement (session=\"d0a779e0d7e06c215b34e66412b63fd7\", element=\"e100244b-4534-44ed-9f2b-a1a43dc23b5a\")>,\n",
       " <selenium.webdriver.remote.webelement.WebElement (session=\"d0a779e0d7e06c215b34e66412b63fd7\", element=\"db1c04a6-e916-4d71-bd06-f250c4894180\")>,\n",
       " <selenium.webdriver.remote.webelement.WebElement (session=\"d0a779e0d7e06c215b34e66412b63fd7\", element=\"1965051f-6539-4123-b181-d6e2b642a6fe\")>,\n",
       " <selenium.webdriver.remote.webelement.WebElement (session=\"d0a779e0d7e06c215b34e66412b63fd7\", element=\"ca2e1963-e8a1-4492-85e5-9ff85130fc64\")>,\n",
       " <selenium.webdriver.remote.webelement.WebElement (session=\"d0a779e0d7e06c215b34e66412b63fd7\", element=\"bbed868a-5b0d-4def-b5c1-bbd66b266444\")>,\n",
       " <selenium.webdriver.remote.webelement.WebElement (session=\"d0a779e0d7e06c215b34e66412b63fd7\", element=\"c7736da8-b355-4028-9cc6-4f1835887de7\")>,\n",
       " <selenium.webdriver.remote.webelement.WebElement (session=\"d0a779e0d7e06c215b34e66412b63fd7\", element=\"dd195777-e7db-4b82-87bb-f6e9296d4ef4\")>,\n",
       " <selenium.webdriver.remote.webelement.WebElement (session=\"d0a779e0d7e06c215b34e66412b63fd7\", element=\"2def85e1-7f6a-4092-8515-0d1951d58ff0\")>,\n",
       " <selenium.webdriver.remote.webelement.WebElement (session=\"d0a779e0d7e06c215b34e66412b63fd7\", element=\"872751fe-0eee-4af2-820c-9c6e4e5d63b7\")>,\n",
       " <selenium.webdriver.remote.webelement.WebElement (session=\"d0a779e0d7e06c215b34e66412b63fd7\", element=\"df21d005-3f04-4cc4-a82c-97e59a45de87\")>,\n",
       " <selenium.webdriver.remote.webelement.WebElement (session=\"d0a779e0d7e06c215b34e66412b63fd7\", element=\"68c24f93-3a8f-4852-a6b7-f1f7014b1e6d\")>,\n",
       " <selenium.webdriver.remote.webelement.WebElement (session=\"d0a779e0d7e06c215b34e66412b63fd7\", element=\"d918aff7-a220-4c42-a459-3b1dbf3d6d7a\")>,\n",
       " <selenium.webdriver.remote.webelement.WebElement (session=\"d0a779e0d7e06c215b34e66412b63fd7\", element=\"08b56ab4-437d-476c-9ca5-fd33a26c823d\")>,\n",
       " <selenium.webdriver.remote.webelement.WebElement (session=\"d0a779e0d7e06c215b34e66412b63fd7\", element=\"e68d24c0-de1a-497c-9517-5bbda388200e\")>]"
      ]
     },
     "execution_count": 22,
     "metadata": {},
     "output_type": "execute_result"
    }
   ],
   "source": [
    "b1 = browser(\"//div[@class ='_2WkVRV']\")\n",
    "b1"
   ]
  },
  {
   "cell_type": "code",
   "execution_count": 23,
   "metadata": {},
   "outputs": [
    {
     "data": {
      "text/plain": [
       "['PHENOMENAL',\n",
       " 'Singco',\n",
       " 'HIPPON',\n",
       " 'bulgaria',\n",
       " 'ROZZETTA CRAFT',\n",
       " 'NuVew',\n",
       " 'Fastrack',\n",
       " 'Rich Club',\n",
       " 'GANSTA',\n",
       " 'kingsunglasses',\n",
       " 'kingsunglasses',\n",
       " 'Villain',\n",
       " 'PHENOMENAL',\n",
       " 'PIRASO',\n",
       " 'Singco India',\n",
       " 'Campeon',\n",
       " 'SRPM',\n",
       " 'Fastrack',\n",
       " 'Elligator',\n",
       " 'WROGN',\n",
       " 'Fastrack',\n",
       " 'Fastrack',\n",
       " 'Singco India',\n",
       " 'VINCENT CHASE',\n",
       " 'hipe',\n",
       " 'hipe',\n",
       " 'Fastrack',\n",
       " 'OCHILA',\n",
       " 'ROYAL SON',\n",
       " 'DEIXELS',\n",
       " 'Fastrack',\n",
       " 'EYEWEARLABS',\n",
       " 'Singco India',\n",
       " 'like future',\n",
       " 'ROZZETTA CRAFT',\n",
       " 'OCHILA',\n",
       " 'kingsunglasses',\n",
       " 'kingsunglasses',\n",
       " 'Elligator',\n",
       " 'WROGN']"
      ]
     },
     "execution_count": 23,
     "metadata": {},
     "output_type": "execute_result"
    }
   ],
   "source": [
    "brand1 = []\n",
    "for i in b1:\n",
    "    brand1.append(i.text)\n",
    "brand1"
   ]
  },
  {
   "cell_type": "code",
   "execution_count": 24,
   "metadata": {},
   "outputs": [
    {
     "data": {
      "text/plain": [
       "[<selenium.webdriver.remote.webelement.WebElement (session=\"d0a779e0d7e06c215b34e66412b63fd7\", element=\"3f19ca64-6341-42ab-9c28-5b3837c403e6\")>,\n",
       " <selenium.webdriver.remote.webelement.WebElement (session=\"d0a779e0d7e06c215b34e66412b63fd7\", element=\"5553f01b-d30d-415d-94ff-4736025b747c\")>,\n",
       " <selenium.webdriver.remote.webelement.WebElement (session=\"d0a779e0d7e06c215b34e66412b63fd7\", element=\"c32aa132-7afe-42b1-b180-d58a64c51b9d\")>,\n",
       " <selenium.webdriver.remote.webelement.WebElement (session=\"d0a779e0d7e06c215b34e66412b63fd7\", element=\"6d4eb269-1f20-4155-801f-cffd2c8d8231\")>,\n",
       " <selenium.webdriver.remote.webelement.WebElement (session=\"d0a779e0d7e06c215b34e66412b63fd7\", element=\"0ca98603-3aa0-4a42-90aa-1338319a2527\")>,\n",
       " <selenium.webdriver.remote.webelement.WebElement (session=\"d0a779e0d7e06c215b34e66412b63fd7\", element=\"8973ec70-804a-44f7-ad32-05d64ccf36f1\")>,\n",
       " <selenium.webdriver.remote.webelement.WebElement (session=\"d0a779e0d7e06c215b34e66412b63fd7\", element=\"e07d9d1b-0175-4659-8955-d1bf954b63b2\")>,\n",
       " <selenium.webdriver.remote.webelement.WebElement (session=\"d0a779e0d7e06c215b34e66412b63fd7\", element=\"9c646776-dca3-4436-9075-858b91f02ec1\")>,\n",
       " <selenium.webdriver.remote.webelement.WebElement (session=\"d0a779e0d7e06c215b34e66412b63fd7\", element=\"cbcc1453-e494-4028-a28c-c2c5d0e62f9f\")>,\n",
       " <selenium.webdriver.remote.webelement.WebElement (session=\"d0a779e0d7e06c215b34e66412b63fd7\", element=\"d19d974d-cbe6-4056-970c-9b16142c0d44\")>,\n",
       " <selenium.webdriver.remote.webelement.WebElement (session=\"d0a779e0d7e06c215b34e66412b63fd7\", element=\"c9e139b9-b977-41bc-b01c-dc0c7fe5847f\")>,\n",
       " <selenium.webdriver.remote.webelement.WebElement (session=\"d0a779e0d7e06c215b34e66412b63fd7\", element=\"347bab8d-6ac1-4bf4-b4f7-a96d5b82d1ef\")>,\n",
       " <selenium.webdriver.remote.webelement.WebElement (session=\"d0a779e0d7e06c215b34e66412b63fd7\", element=\"ac13fde4-65a4-4606-8530-93e6cf5fc158\")>,\n",
       " <selenium.webdriver.remote.webelement.WebElement (session=\"d0a779e0d7e06c215b34e66412b63fd7\", element=\"935aa16d-6850-4285-b3c4-37e48d861805\")>,\n",
       " <selenium.webdriver.remote.webelement.WebElement (session=\"d0a779e0d7e06c215b34e66412b63fd7\", element=\"c0f2d045-8523-4c76-9e2f-4993eb6b7ddd\")>,\n",
       " <selenium.webdriver.remote.webelement.WebElement (session=\"d0a779e0d7e06c215b34e66412b63fd7\", element=\"39845dfb-0eeb-4e01-abbd-a77a37208834\")>,\n",
       " <selenium.webdriver.remote.webelement.WebElement (session=\"d0a779e0d7e06c215b34e66412b63fd7\", element=\"6b122880-dee8-46fb-ab42-2fa7e411fcaa\")>,\n",
       " <selenium.webdriver.remote.webelement.WebElement (session=\"d0a779e0d7e06c215b34e66412b63fd7\", element=\"f438e34c-9582-4fbf-91ea-884acbad6d6e\")>,\n",
       " <selenium.webdriver.remote.webelement.WebElement (session=\"d0a779e0d7e06c215b34e66412b63fd7\", element=\"ab156fb3-8130-4d85-b232-72c3479ee3c0\")>,\n",
       " <selenium.webdriver.remote.webelement.WebElement (session=\"d0a779e0d7e06c215b34e66412b63fd7\", element=\"b1c9f64d-254a-48cb-87cf-41e8c9130fff\")>,\n",
       " <selenium.webdriver.remote.webelement.WebElement (session=\"d0a779e0d7e06c215b34e66412b63fd7\", element=\"61b45254-5e8f-49e2-8ca9-19a11b5f4719\")>,\n",
       " <selenium.webdriver.remote.webelement.WebElement (session=\"d0a779e0d7e06c215b34e66412b63fd7\", element=\"30bee3c9-04fe-4027-a0e8-f9f9493e04a6\")>,\n",
       " <selenium.webdriver.remote.webelement.WebElement (session=\"d0a779e0d7e06c215b34e66412b63fd7\", element=\"d186f8e3-9505-47b7-afd3-4bc283ab417e\")>,\n",
       " <selenium.webdriver.remote.webelement.WebElement (session=\"d0a779e0d7e06c215b34e66412b63fd7\", element=\"5795e1e3-09a7-47b6-b36a-8c14cf122f76\")>,\n",
       " <selenium.webdriver.remote.webelement.WebElement (session=\"d0a779e0d7e06c215b34e66412b63fd7\", element=\"8d2fd070-8212-4a07-9992-f0cdfee7d284\")>,\n",
       " <selenium.webdriver.remote.webelement.WebElement (session=\"d0a779e0d7e06c215b34e66412b63fd7\", element=\"bf049706-3c9c-4a79-9df8-c572c10de575\")>,\n",
       " <selenium.webdriver.remote.webelement.WebElement (session=\"d0a779e0d7e06c215b34e66412b63fd7\", element=\"addd06a8-f865-47ef-94d6-c4504cdb8b31\")>,\n",
       " <selenium.webdriver.remote.webelement.WebElement (session=\"d0a779e0d7e06c215b34e66412b63fd7\", element=\"436035ab-8d63-423d-a1b0-0b5995aac655\")>,\n",
       " <selenium.webdriver.remote.webelement.WebElement (session=\"d0a779e0d7e06c215b34e66412b63fd7\", element=\"0d923cfb-a714-4181-a9ac-d7cf6ea5c6e5\")>,\n",
       " <selenium.webdriver.remote.webelement.WebElement (session=\"d0a779e0d7e06c215b34e66412b63fd7\", element=\"f3c7c97a-851c-4fa0-b7a4-dc47264eeb11\")>,\n",
       " <selenium.webdriver.remote.webelement.WebElement (session=\"d0a779e0d7e06c215b34e66412b63fd7\", element=\"7eb5a4d4-5ee1-4b76-92f0-8793dff016da\")>,\n",
       " <selenium.webdriver.remote.webelement.WebElement (session=\"d0a779e0d7e06c215b34e66412b63fd7\", element=\"9aa52f8e-6120-4241-a4cb-6b95c3c64619\")>,\n",
       " <selenium.webdriver.remote.webelement.WebElement (session=\"d0a779e0d7e06c215b34e66412b63fd7\", element=\"86faae2e-df61-443f-9606-cc002a05c600\")>,\n",
       " <selenium.webdriver.remote.webelement.WebElement (session=\"d0a779e0d7e06c215b34e66412b63fd7\", element=\"152dc9b0-81b2-48af-b8fb-023dc26d91ac\")>,\n",
       " <selenium.webdriver.remote.webelement.WebElement (session=\"d0a779e0d7e06c215b34e66412b63fd7\", element=\"9aa7bf30-9d01-4758-a97b-3c8cfdab08d0\")>,\n",
       " <selenium.webdriver.remote.webelement.WebElement (session=\"d0a779e0d7e06c215b34e66412b63fd7\", element=\"73220bc0-270f-418b-8133-4a5b0a521052\")>,\n",
       " <selenium.webdriver.remote.webelement.WebElement (session=\"d0a779e0d7e06c215b34e66412b63fd7\", element=\"4216eb9b-467b-44d5-91fb-cbf651f70bde\")>,\n",
       " <selenium.webdriver.remote.webelement.WebElement (session=\"d0a779e0d7e06c215b34e66412b63fd7\", element=\"56c2b0f9-cf19-40dc-b465-0373d52bf6f1\")>]"
      ]
     },
     "execution_count": 24,
     "metadata": {},
     "output_type": "execute_result"
    }
   ],
   "source": [
    "pd1 = browser(\"//a[@class = 'IRpwTa']\")\n",
    "pd1"
   ]
  },
  {
   "cell_type": "code",
   "execution_count": 25,
   "metadata": {},
   "outputs": [
    {
     "data": {
      "text/plain": [
       "['UV Protection, Mirrored Retro Square Sunglasses (53)',\n",
       " 'Mirrored Aviator Sunglasses (53)',\n",
       " 'UV Protection Wayfarer Sunglasses (55)',\n",
       " 'Others Rectangular Sunglasses (Free Size)',\n",
       " 'UV Protection, Gradient Round Sunglasses (Free Size)',\n",
       " 'UV Protection, Mirrored Aviator Sunglasses (58)',\n",
       " 'UV Protection Wayfarer Sunglasses (Free Size)',\n",
       " 'UV Protection, Others Round Sunglasses (48)',\n",
       " 'UV Protection, Night Vision, Riding Glasses Aviator Sun...',\n",
       " 'UV Protection, Mirrored Round Sunglasses (54)',\n",
       " 'UV Protection, Riding Glasses, Mirrored Wayfarer Sungla...',\n",
       " 'Others Wayfarer Sunglasses (Free Size)',\n",
       " 'UV Protection, Mirrored Retro Square Sunglasses (Free S...',\n",
       " 'UV Protection Aviator Sunglasses (Free Size)',\n",
       " 'UV Protection Aviator Sunglasses (Free Size)',\n",
       " 'UV Protection Wayfarer Sunglasses (53)',\n",
       " 'UV Protection Aviator Sunglasses (58)',\n",
       " 'UV Protection Retro Square, Aviator Sunglasses (54)',\n",
       " 'UV Protection Aviator Sunglasses (60)',\n",
       " 'UV Protection Wrap-around Sunglasses (63)',\n",
       " 'UV Protection Aviator Sunglasses (Free Size)',\n",
       " 'Riding Glasses, Others, UV Protection Wrap-around Sungl...',\n",
       " 'Polarized Cat-eye Sunglasses (54)',\n",
       " 'UV Protection, Gradient, Mirrored, Riding Glasses Aviat...',\n",
       " 'UV Protection, Night Vision, Riding Glasses, Gradient, ...',\n",
       " 'Mirrored, UV Protection Wayfarer Sunglasses (Free Size)',\n",
       " 'UV Protection Aviator Sunglasses (58)',\n",
       " 'UV Protection Retro Square Sunglasses (88)',\n",
       " 'UV Protection Aviator, Wayfarer Sunglasses (Free Size)',\n",
       " 'UV Protection Aviator Sunglasses (58)',\n",
       " 'UV Protection, Riding Glasses, Others Aviator, Wayfarer...',\n",
       " 'UV Protection, Gradient, Mirrored Wayfarer Sunglasses (...',\n",
       " 'Gradient, UV Protection Round Sunglasses (Free Size)',\n",
       " 'UV Protection Aviator Sunglasses (58)',\n",
       " 'UV Protection Round Sunglasses (Free Size)',\n",
       " 'UV Protection Rectangular Sunglasses (55)',\n",
       " 'UV Protection, Riding Glasses Rectangular, Retro Square...',\n",
       " 'Mirrored Wayfarer Sunglasses (56)']"
      ]
     },
     "execution_count": 25,
     "metadata": {},
     "output_type": "execute_result"
    }
   ],
   "source": [
    "product1 = []\n",
    "for i in pd1:\n",
    "    product1.append(i.text)\n",
    "product1"
   ]
  },
  {
   "cell_type": "code",
   "execution_count": 26,
   "metadata": {},
   "outputs": [
    {
     "data": {
      "text/plain": [
       "38"
      ]
     },
     "execution_count": 26,
     "metadata": {},
     "output_type": "execute_result"
    }
   ],
   "source": [
    "len(product1)"
   ]
  },
  {
   "cell_type": "code",
   "execution_count": 27,
   "metadata": {},
   "outputs": [
    {
     "data": {
      "text/plain": [
       "[<selenium.webdriver.remote.webelement.WebElement (session=\"d0a779e0d7e06c215b34e66412b63fd7\", element=\"a2165957-17c0-45fe-8d75-e654ef6c5e83\")>,\n",
       " <selenium.webdriver.remote.webelement.WebElement (session=\"d0a779e0d7e06c215b34e66412b63fd7\", element=\"07620f7d-c869-4c78-90c0-ea2f53913a20\")>,\n",
       " <selenium.webdriver.remote.webelement.WebElement (session=\"d0a779e0d7e06c215b34e66412b63fd7\", element=\"74764b6b-b2ba-4c52-a181-86271f45498d\")>,\n",
       " <selenium.webdriver.remote.webelement.WebElement (session=\"d0a779e0d7e06c215b34e66412b63fd7\", element=\"dadfe220-aa54-49bb-91c3-e0ea5b01a9f9\")>,\n",
       " <selenium.webdriver.remote.webelement.WebElement (session=\"d0a779e0d7e06c215b34e66412b63fd7\", element=\"ffee1ac9-fb64-47f1-ab85-4320f0b5726f\")>,\n",
       " <selenium.webdriver.remote.webelement.WebElement (session=\"d0a779e0d7e06c215b34e66412b63fd7\", element=\"cc87981f-5f44-4821-be7f-8c6d42da920a\")>,\n",
       " <selenium.webdriver.remote.webelement.WebElement (session=\"d0a779e0d7e06c215b34e66412b63fd7\", element=\"7f835a71-b59a-409c-bc9e-237dc43135de\")>,\n",
       " <selenium.webdriver.remote.webelement.WebElement (session=\"d0a779e0d7e06c215b34e66412b63fd7\", element=\"787cc382-a036-4604-bfbf-ab4f95ae992e\")>,\n",
       " <selenium.webdriver.remote.webelement.WebElement (session=\"d0a779e0d7e06c215b34e66412b63fd7\", element=\"634e6b4b-95d1-4cf0-b5ba-dad0683697cd\")>,\n",
       " <selenium.webdriver.remote.webelement.WebElement (session=\"d0a779e0d7e06c215b34e66412b63fd7\", element=\"dbd3288a-fdce-40e8-94c7-35c65098a7d3\")>,\n",
       " <selenium.webdriver.remote.webelement.WebElement (session=\"d0a779e0d7e06c215b34e66412b63fd7\", element=\"d4335ec5-ec9a-4790-a4f4-846b0c80268f\")>,\n",
       " <selenium.webdriver.remote.webelement.WebElement (session=\"d0a779e0d7e06c215b34e66412b63fd7\", element=\"b45b5ced-b400-4be4-9c4d-69f173f18c75\")>,\n",
       " <selenium.webdriver.remote.webelement.WebElement (session=\"d0a779e0d7e06c215b34e66412b63fd7\", element=\"28ed2eb7-5761-4857-80c6-e46ce9a63cce\")>,\n",
       " <selenium.webdriver.remote.webelement.WebElement (session=\"d0a779e0d7e06c215b34e66412b63fd7\", element=\"b8e89c08-926b-4b8e-ba48-d6784391dde2\")>,\n",
       " <selenium.webdriver.remote.webelement.WebElement (session=\"d0a779e0d7e06c215b34e66412b63fd7\", element=\"212b58e9-aeeb-4df6-81d5-205e1dff3f59\")>,\n",
       " <selenium.webdriver.remote.webelement.WebElement (session=\"d0a779e0d7e06c215b34e66412b63fd7\", element=\"8991331d-8090-4541-8f4a-e72f2c3bf5a1\")>,\n",
       " <selenium.webdriver.remote.webelement.WebElement (session=\"d0a779e0d7e06c215b34e66412b63fd7\", element=\"756793f5-5679-49e7-aac9-613955d27fb7\")>,\n",
       " <selenium.webdriver.remote.webelement.WebElement (session=\"d0a779e0d7e06c215b34e66412b63fd7\", element=\"9eaccecf-3c7a-4dda-a25c-6b3128514129\")>,\n",
       " <selenium.webdriver.remote.webelement.WebElement (session=\"d0a779e0d7e06c215b34e66412b63fd7\", element=\"ab1fc568-fd82-404f-9d9c-7fa9a0c3dcac\")>,\n",
       " <selenium.webdriver.remote.webelement.WebElement (session=\"d0a779e0d7e06c215b34e66412b63fd7\", element=\"ff68abc9-9899-48ba-b883-54fcb6216fb2\")>,\n",
       " <selenium.webdriver.remote.webelement.WebElement (session=\"d0a779e0d7e06c215b34e66412b63fd7\", element=\"601af9c2-6b8a-490e-bd44-f43b8dba7ba9\")>,\n",
       " <selenium.webdriver.remote.webelement.WebElement (session=\"d0a779e0d7e06c215b34e66412b63fd7\", element=\"8caabecb-d079-4679-b533-327330e0bc85\")>,\n",
       " <selenium.webdriver.remote.webelement.WebElement (session=\"d0a779e0d7e06c215b34e66412b63fd7\", element=\"e24a1be0-e960-4cf6-a58a-00b626e23f8f\")>,\n",
       " <selenium.webdriver.remote.webelement.WebElement (session=\"d0a779e0d7e06c215b34e66412b63fd7\", element=\"e2f70b53-f24a-47df-97a9-0a4ba79ac287\")>,\n",
       " <selenium.webdriver.remote.webelement.WebElement (session=\"d0a779e0d7e06c215b34e66412b63fd7\", element=\"0cb6b5b7-3691-45d4-a49e-a8aa6143568c\")>,\n",
       " <selenium.webdriver.remote.webelement.WebElement (session=\"d0a779e0d7e06c215b34e66412b63fd7\", element=\"fd0f1420-2227-4e96-a8f9-2fcb484621e6\")>,\n",
       " <selenium.webdriver.remote.webelement.WebElement (session=\"d0a779e0d7e06c215b34e66412b63fd7\", element=\"22405132-37ff-4ee0-9548-acc3452470f2\")>,\n",
       " <selenium.webdriver.remote.webelement.WebElement (session=\"d0a779e0d7e06c215b34e66412b63fd7\", element=\"04fd601a-0aff-493f-b5f7-c5a0a0c4df97\")>,\n",
       " <selenium.webdriver.remote.webelement.WebElement (session=\"d0a779e0d7e06c215b34e66412b63fd7\", element=\"ddd3ed29-db67-4802-9036-9fc9d38dae0f\")>,\n",
       " <selenium.webdriver.remote.webelement.WebElement (session=\"d0a779e0d7e06c215b34e66412b63fd7\", element=\"6a6a5f8b-d969-42f8-ae42-f975dc2b19b3\")>,\n",
       " <selenium.webdriver.remote.webelement.WebElement (session=\"d0a779e0d7e06c215b34e66412b63fd7\", element=\"ed7fefa9-208e-4930-b973-38696f7de671\")>,\n",
       " <selenium.webdriver.remote.webelement.WebElement (session=\"d0a779e0d7e06c215b34e66412b63fd7\", element=\"478a8351-6c54-4e15-af47-d2ec6570338c\")>,\n",
       " <selenium.webdriver.remote.webelement.WebElement (session=\"d0a779e0d7e06c215b34e66412b63fd7\", element=\"75d82bdf-6ba8-4b6c-8ee6-80143f26367e\")>,\n",
       " <selenium.webdriver.remote.webelement.WebElement (session=\"d0a779e0d7e06c215b34e66412b63fd7\", element=\"c9ba9f8b-af9e-4c76-8fb2-8c9c156fb1b7\")>,\n",
       " <selenium.webdriver.remote.webelement.WebElement (session=\"d0a779e0d7e06c215b34e66412b63fd7\", element=\"38e65373-4483-4d27-95b8-0e01a375c2c1\")>,\n",
       " <selenium.webdriver.remote.webelement.WebElement (session=\"d0a779e0d7e06c215b34e66412b63fd7\", element=\"d0fe618f-cc1d-42bb-b23c-2ce6b3b13c3e\")>,\n",
       " <selenium.webdriver.remote.webelement.WebElement (session=\"d0a779e0d7e06c215b34e66412b63fd7\", element=\"f53f3392-09b9-4dbf-adfb-6038b4dc464a\")>,\n",
       " <selenium.webdriver.remote.webelement.WebElement (session=\"d0a779e0d7e06c215b34e66412b63fd7\", element=\"ffd2e610-f9df-4e44-804f-fb82fca3f8aa\")>,\n",
       " <selenium.webdriver.remote.webelement.WebElement (session=\"d0a779e0d7e06c215b34e66412b63fd7\", element=\"b76a3a90-c8f1-4f5a-8d72-e707af6b0c4a\")>,\n",
       " <selenium.webdriver.remote.webelement.WebElement (session=\"d0a779e0d7e06c215b34e66412b63fd7\", element=\"e9a17f83-e2e7-4d6c-8cc0-ed8ee9234124\")>]"
      ]
     },
     "execution_count": 27,
     "metadata": {},
     "output_type": "execute_result"
    }
   ],
   "source": [
    "p1 = browser(\"//div[@class = '_30jeq3']\")\n",
    "p1"
   ]
  },
  {
   "cell_type": "code",
   "execution_count": 28,
   "metadata": {},
   "outputs": [
    {
     "data": {
      "text/plain": [
       "['₹399',\n",
       " '₹252',\n",
       " '₹257',\n",
       " '₹449',\n",
       " '₹449',\n",
       " '₹186',\n",
       " '₹689',\n",
       " '₹299',\n",
       " '₹295',\n",
       " '₹236',\n",
       " '₹217',\n",
       " '₹599',\n",
       " '₹399',\n",
       " '₹331',\n",
       " '₹352',\n",
       " '₹1,099',\n",
       " '₹230',\n",
       " '₹1,085',\n",
       " '₹312',\n",
       " '₹1,007',\n",
       " '₹837',\n",
       " '₹695',\n",
       " '₹309',\n",
       " '₹1,415',\n",
       " '₹209',\n",
       " '₹199',\n",
       " '₹738',\n",
       " '₹221',\n",
       " '₹569',\n",
       " '₹202',\n",
       " '₹1,059',\n",
       " '₹1,598',\n",
       " '₹225',\n",
       " '₹314',\n",
       " '₹449',\n",
       " '₹230',\n",
       " '₹331',\n",
       " '₹210',\n",
       " '₹398',\n",
       " '₹699']"
      ]
     },
     "execution_count": 28,
     "metadata": {},
     "output_type": "execute_result"
    }
   ],
   "source": [
    "price1 = []\n",
    "for i in p1:\n",
    "    price1 .append(i.text)\n",
    "price1"
   ]
  },
  {
   "cell_type": "code",
   "execution_count": 29,
   "metadata": {},
   "outputs": [
    {
     "data": {
      "text/plain": [
       "40"
      ]
     },
     "execution_count": 29,
     "metadata": {},
     "output_type": "execute_result"
    }
   ],
   "source": [
    "len(price1)"
   ]
  },
  {
   "cell_type": "code",
   "execution_count": 30,
   "metadata": {},
   "outputs": [
    {
     "data": {
      "text/plain": [
       "[<selenium.webdriver.remote.webelement.WebElement (session=\"d0a779e0d7e06c215b34e66412b63fd7\", element=\"0edaf8be-e854-4091-8111-0dd2562e67da\")>,\n",
       " <selenium.webdriver.remote.webelement.WebElement (session=\"d0a779e0d7e06c215b34e66412b63fd7\", element=\"708d6478-75de-43a5-be25-a35d766d4a16\")>,\n",
       " <selenium.webdriver.remote.webelement.WebElement (session=\"d0a779e0d7e06c215b34e66412b63fd7\", element=\"13928047-5638-4b4c-b2bb-024e0dc2b468\")>,\n",
       " <selenium.webdriver.remote.webelement.WebElement (session=\"d0a779e0d7e06c215b34e66412b63fd7\", element=\"33643a6d-2cbd-4042-a1db-cdc184959ace\")>,\n",
       " <selenium.webdriver.remote.webelement.WebElement (session=\"d0a779e0d7e06c215b34e66412b63fd7\", element=\"2e7eebe2-5f49-4c4e-8a40-170f09cf5f9c\")>,\n",
       " <selenium.webdriver.remote.webelement.WebElement (session=\"d0a779e0d7e06c215b34e66412b63fd7\", element=\"732fb554-bcc9-4e99-acb7-75855c29eb2c\")>,\n",
       " <selenium.webdriver.remote.webelement.WebElement (session=\"d0a779e0d7e06c215b34e66412b63fd7\", element=\"46859de1-31e1-4ce2-a461-e9e7dedec26b\")>,\n",
       " <selenium.webdriver.remote.webelement.WebElement (session=\"d0a779e0d7e06c215b34e66412b63fd7\", element=\"04f8c602-27fd-4735-9202-d5104284f3ab\")>,\n",
       " <selenium.webdriver.remote.webelement.WebElement (session=\"d0a779e0d7e06c215b34e66412b63fd7\", element=\"3d6033ba-19b0-4148-99c2-9bb18ca407a6\")>,\n",
       " <selenium.webdriver.remote.webelement.WebElement (session=\"d0a779e0d7e06c215b34e66412b63fd7\", element=\"506da0ce-2009-475f-b824-e409ec839f1c\")>,\n",
       " <selenium.webdriver.remote.webelement.WebElement (session=\"d0a779e0d7e06c215b34e66412b63fd7\", element=\"05b7199c-033f-4216-a5e8-07a8f96155e5\")>,\n",
       " <selenium.webdriver.remote.webelement.WebElement (session=\"d0a779e0d7e06c215b34e66412b63fd7\", element=\"c5db31ec-94b7-4c0f-a476-fe7ce4da9998\")>,\n",
       " <selenium.webdriver.remote.webelement.WebElement (session=\"d0a779e0d7e06c215b34e66412b63fd7\", element=\"d1c7b6ed-c73f-446f-b0c8-e78e963ec7fa\")>,\n",
       " <selenium.webdriver.remote.webelement.WebElement (session=\"d0a779e0d7e06c215b34e66412b63fd7\", element=\"de3aba79-88df-4d7e-921e-137b6d3af730\")>,\n",
       " <selenium.webdriver.remote.webelement.WebElement (session=\"d0a779e0d7e06c215b34e66412b63fd7\", element=\"03f1deac-e5a1-4887-abd1-8c7a51878a8c\")>,\n",
       " <selenium.webdriver.remote.webelement.WebElement (session=\"d0a779e0d7e06c215b34e66412b63fd7\", element=\"d75536b8-c0d6-4f1d-98a1-a7aa005c92fb\")>,\n",
       " <selenium.webdriver.remote.webelement.WebElement (session=\"d0a779e0d7e06c215b34e66412b63fd7\", element=\"67039307-6c19-4efe-9bee-8c98aabd5690\")>,\n",
       " <selenium.webdriver.remote.webelement.WebElement (session=\"d0a779e0d7e06c215b34e66412b63fd7\", element=\"375ebae4-2b53-4197-87c9-43b8e355dd83\")>,\n",
       " <selenium.webdriver.remote.webelement.WebElement (session=\"d0a779e0d7e06c215b34e66412b63fd7\", element=\"7f0eb10f-4d74-4d19-8203-1f4f0e613a78\")>,\n",
       " <selenium.webdriver.remote.webelement.WebElement (session=\"d0a779e0d7e06c215b34e66412b63fd7\", element=\"439be080-41cb-4d6a-9b09-91b6c8755342\")>,\n",
       " <selenium.webdriver.remote.webelement.WebElement (session=\"d0a779e0d7e06c215b34e66412b63fd7\", element=\"023c7473-1010-4d71-8e40-d13094d70e8b\")>,\n",
       " <selenium.webdriver.remote.webelement.WebElement (session=\"d0a779e0d7e06c215b34e66412b63fd7\", element=\"2bc2f6ab-efdd-4196-8259-8307ca5809a8\")>,\n",
       " <selenium.webdriver.remote.webelement.WebElement (session=\"d0a779e0d7e06c215b34e66412b63fd7\", element=\"eceb49d7-1d19-4e65-a6ea-faa5f3dc0833\")>,\n",
       " <selenium.webdriver.remote.webelement.WebElement (session=\"d0a779e0d7e06c215b34e66412b63fd7\", element=\"97c59160-84ef-4df2-816f-236050c24e35\")>,\n",
       " <selenium.webdriver.remote.webelement.WebElement (session=\"d0a779e0d7e06c215b34e66412b63fd7\", element=\"cb010896-60f1-4dea-ab6b-a535f22a3d14\")>,\n",
       " <selenium.webdriver.remote.webelement.WebElement (session=\"d0a779e0d7e06c215b34e66412b63fd7\", element=\"dcf82f55-68b1-451d-b12b-b8512eb35de4\")>,\n",
       " <selenium.webdriver.remote.webelement.WebElement (session=\"d0a779e0d7e06c215b34e66412b63fd7\", element=\"5fbca7bf-541e-49b1-858f-41f76673057e\")>,\n",
       " <selenium.webdriver.remote.webelement.WebElement (session=\"d0a779e0d7e06c215b34e66412b63fd7\", element=\"7719cf98-7afb-439b-925e-5535ad13ddf6\")>,\n",
       " <selenium.webdriver.remote.webelement.WebElement (session=\"d0a779e0d7e06c215b34e66412b63fd7\", element=\"6d4ae85a-cad0-4f36-88e6-2b0e18304453\")>,\n",
       " <selenium.webdriver.remote.webelement.WebElement (session=\"d0a779e0d7e06c215b34e66412b63fd7\", element=\"24f50bbd-78ad-4d06-a6ab-a63bf193b174\")>,\n",
       " <selenium.webdriver.remote.webelement.WebElement (session=\"d0a779e0d7e06c215b34e66412b63fd7\", element=\"e1954ac3-0d6e-445d-a428-b91b1c655249\")>,\n",
       " <selenium.webdriver.remote.webelement.WebElement (session=\"d0a779e0d7e06c215b34e66412b63fd7\", element=\"d5ebbb87-cf4b-4b0f-9e64-8f87e5836e36\")>,\n",
       " <selenium.webdriver.remote.webelement.WebElement (session=\"d0a779e0d7e06c215b34e66412b63fd7\", element=\"cd246a8d-8320-446a-a19b-88b418f9f4c3\")>,\n",
       " <selenium.webdriver.remote.webelement.WebElement (session=\"d0a779e0d7e06c215b34e66412b63fd7\", element=\"63253ac0-b432-44b2-81ed-1f2a3e639a0c\")>,\n",
       " <selenium.webdriver.remote.webelement.WebElement (session=\"d0a779e0d7e06c215b34e66412b63fd7\", element=\"5e7e9921-1197-4da6-a717-0fa4418f8d3e\")>,\n",
       " <selenium.webdriver.remote.webelement.WebElement (session=\"d0a779e0d7e06c215b34e66412b63fd7\", element=\"d738705a-76ed-4087-a8c6-642f286d2354\")>,\n",
       " <selenium.webdriver.remote.webelement.WebElement (session=\"d0a779e0d7e06c215b34e66412b63fd7\", element=\"e6a2240a-d76c-4be8-8817-4ff1a7254d66\")>,\n",
       " <selenium.webdriver.remote.webelement.WebElement (session=\"d0a779e0d7e06c215b34e66412b63fd7\", element=\"31c5a1f9-2638-42ba-ad23-d1ceab31a7ae\")>,\n",
       " <selenium.webdriver.remote.webelement.WebElement (session=\"d0a779e0d7e06c215b34e66412b63fd7\", element=\"db19cd10-3fbc-4b83-99a2-46312a58d9c9\")>,\n",
       " <selenium.webdriver.remote.webelement.WebElement (session=\"d0a779e0d7e06c215b34e66412b63fd7\", element=\"32105b9b-a65e-45a2-b67c-5d863e5b8a77\")>]"
      ]
     },
     "execution_count": 30,
     "metadata": {},
     "output_type": "execute_result"
    }
   ],
   "source": [
    "d1 = browser(\"//div[@class = '_3Ay6Sb']\")\n",
    "d1"
   ]
  },
  {
   "cell_type": "code",
   "execution_count": 31,
   "metadata": {},
   "outputs": [
    {
     "data": {
      "text/plain": [
       "['80% off',\n",
       " '74% off',\n",
       " '78% off',\n",
       " '43% off',\n",
       " '77% off',\n",
       " '78% off',\n",
       " '23% off',\n",
       " '62% off',\n",
       " '85% off',\n",
       " '80% off',\n",
       " '81% off',\n",
       " '40% off',\n",
       " '80% off',\n",
       " '79% off',\n",
       " '70% off',\n",
       " '56% off',\n",
       " '76% off',\n",
       " '16% off',\n",
       " '84% off',\n",
       " '69% off',\n",
       " '6% off',\n",
       " '13% off',\n",
       " '81% off',\n",
       " '29% off',\n",
       " '79% off',\n",
       " '84% off',\n",
       " '26% off',\n",
       " '81% off',\n",
       " '71% off',\n",
       " '83% off',\n",
       " '18% off',\n",
       " '36% off',\n",
       " '67% off',\n",
       " '75% off',\n",
       " '77% off',\n",
       " '80% off',\n",
       " '79% off',\n",
       " '83% off',\n",
       " '73% off',\n",
       " '72% off']"
      ]
     },
     "execution_count": 31,
     "metadata": {},
     "output_type": "execute_result"
    }
   ],
   "source": [
    "discount1 = []\n",
    "for i in d1:\n",
    "    discount1.append(i.text)\n",
    "discount1"
   ]
  },
  {
   "cell_type": "code",
   "execution_count": 32,
   "metadata": {},
   "outputs": [
    {
     "data": {
      "text/plain": [
       "40"
      ]
     },
     "execution_count": 32,
     "metadata": {},
     "output_type": "execute_result"
    }
   ],
   "source": [
    "len(discount1)"
   ]
  },
  {
   "cell_type": "code",
   "execution_count": 42,
   "metadata": {},
   "outputs": [
    {
     "name": "stdout",
     "output_type": "stream",
     "text": [
      "<selenium.webdriver.remote.webelement.WebElement (session=\"d0a779e0d7e06c215b34e66412b63fd7\", element=\"8d47daac-513a-46d4-914c-12e8eef98b94\")>\n",
      "None\n"
     ]
    }
   ],
   "source": [
    "# we need to scrape data from next page\n",
    "next2 = driver.find_element_by_xpath(\"//a[@class = '_1LKTO3']\")\n",
    "print(next2)\n",
    "print(next2.click())"
   ]
  },
  {
   "cell_type": "code",
   "execution_count": 43,
   "metadata": {},
   "outputs": [
    {
     "data": {
      "text/plain": [
       "[<selenium.webdriver.remote.webelement.WebElement (session=\"d0a779e0d7e06c215b34e66412b63fd7\", element=\"4cd47099-c5f2-440a-a9a6-e1c49035f2b9\")>,\n",
       " <selenium.webdriver.remote.webelement.WebElement (session=\"d0a779e0d7e06c215b34e66412b63fd7\", element=\"28fff5e5-d4c9-4ef6-9523-2916a4252778\")>,\n",
       " <selenium.webdriver.remote.webelement.WebElement (session=\"d0a779e0d7e06c215b34e66412b63fd7\", element=\"dd5972d3-0c59-41a4-bba5-e4c9ae7270c6\")>,\n",
       " <selenium.webdriver.remote.webelement.WebElement (session=\"d0a779e0d7e06c215b34e66412b63fd7\", element=\"87d350ba-766d-4dc7-bd96-2ad1e0fdd0c8\")>,\n",
       " <selenium.webdriver.remote.webelement.WebElement (session=\"d0a779e0d7e06c215b34e66412b63fd7\", element=\"b2642dca-8deb-4b0c-b9b3-133c96b94b94\")>,\n",
       " <selenium.webdriver.remote.webelement.WebElement (session=\"d0a779e0d7e06c215b34e66412b63fd7\", element=\"938d634d-67d5-4911-8928-6105654ba844\")>,\n",
       " <selenium.webdriver.remote.webelement.WebElement (session=\"d0a779e0d7e06c215b34e66412b63fd7\", element=\"5302757c-ede5-4885-951e-224f2252a329\")>,\n",
       " <selenium.webdriver.remote.webelement.WebElement (session=\"d0a779e0d7e06c215b34e66412b63fd7\", element=\"ecfa38db-fa37-4439-a8cc-94ed09756290\")>,\n",
       " <selenium.webdriver.remote.webelement.WebElement (session=\"d0a779e0d7e06c215b34e66412b63fd7\", element=\"d0e1121f-2a11-4ecf-ad11-ebaff093a7cd\")>,\n",
       " <selenium.webdriver.remote.webelement.WebElement (session=\"d0a779e0d7e06c215b34e66412b63fd7\", element=\"0b39f77a-2cbd-4cc4-bf16-dcbe04343d3b\")>,\n",
       " <selenium.webdriver.remote.webelement.WebElement (session=\"d0a779e0d7e06c215b34e66412b63fd7\", element=\"7e10d304-6428-41b4-8880-f75efbf91c6a\")>,\n",
       " <selenium.webdriver.remote.webelement.WebElement (session=\"d0a779e0d7e06c215b34e66412b63fd7\", element=\"8b450ba4-5eb9-408f-a2a4-994e60e8ee0e\")>,\n",
       " <selenium.webdriver.remote.webelement.WebElement (session=\"d0a779e0d7e06c215b34e66412b63fd7\", element=\"6a8ad389-bcc0-4e39-a27e-77215119f6bd\")>,\n",
       " <selenium.webdriver.remote.webelement.WebElement (session=\"d0a779e0d7e06c215b34e66412b63fd7\", element=\"45556e7f-27c5-4482-9d20-79eae37dd7d4\")>,\n",
       " <selenium.webdriver.remote.webelement.WebElement (session=\"d0a779e0d7e06c215b34e66412b63fd7\", element=\"a321e2f4-3591-4ea2-bd22-209fbe8c0280\")>,\n",
       " <selenium.webdriver.remote.webelement.WebElement (session=\"d0a779e0d7e06c215b34e66412b63fd7\", element=\"e61bac20-04e8-4193-805d-b2cc92315488\")>,\n",
       " <selenium.webdriver.remote.webelement.WebElement (session=\"d0a779e0d7e06c215b34e66412b63fd7\", element=\"ba414ad9-0927-400d-b5e2-4ca0cfb872b9\")>,\n",
       " <selenium.webdriver.remote.webelement.WebElement (session=\"d0a779e0d7e06c215b34e66412b63fd7\", element=\"8cb32e80-f439-4934-bd8e-0c27023cdae6\")>,\n",
       " <selenium.webdriver.remote.webelement.WebElement (session=\"d0a779e0d7e06c215b34e66412b63fd7\", element=\"7f2906a6-b565-4095-b807-2f0f0d9376e2\")>,\n",
       " <selenium.webdriver.remote.webelement.WebElement (session=\"d0a779e0d7e06c215b34e66412b63fd7\", element=\"f8cf7533-4acc-40fa-8230-3dc0cb57829a\")>,\n",
       " <selenium.webdriver.remote.webelement.WebElement (session=\"d0a779e0d7e06c215b34e66412b63fd7\", element=\"1f1253be-9c8b-41ca-9166-b46eef16fc86\")>,\n",
       " <selenium.webdriver.remote.webelement.WebElement (session=\"d0a779e0d7e06c215b34e66412b63fd7\", element=\"692178d9-9932-4e55-8a54-19f8a3f782dd\")>,\n",
       " <selenium.webdriver.remote.webelement.WebElement (session=\"d0a779e0d7e06c215b34e66412b63fd7\", element=\"2651496b-831a-44d1-9a6b-634a9af0d39a\")>,\n",
       " <selenium.webdriver.remote.webelement.WebElement (session=\"d0a779e0d7e06c215b34e66412b63fd7\", element=\"c0f0bdb0-5d7f-43c0-8cf4-69071cf48dd3\")>,\n",
       " <selenium.webdriver.remote.webelement.WebElement (session=\"d0a779e0d7e06c215b34e66412b63fd7\", element=\"9407d147-ea39-4ef9-b0b2-3f7dc2b7e041\")>,\n",
       " <selenium.webdriver.remote.webelement.WebElement (session=\"d0a779e0d7e06c215b34e66412b63fd7\", element=\"f9607dd3-7cd4-4247-b6e1-96bb7bf8db9a\")>,\n",
       " <selenium.webdriver.remote.webelement.WebElement (session=\"d0a779e0d7e06c215b34e66412b63fd7\", element=\"d228df17-e35e-474e-b76e-db178b4927ce\")>,\n",
       " <selenium.webdriver.remote.webelement.WebElement (session=\"d0a779e0d7e06c215b34e66412b63fd7\", element=\"179b2c71-64fe-4cea-b117-4b99d086bd1e\")>,\n",
       " <selenium.webdriver.remote.webelement.WebElement (session=\"d0a779e0d7e06c215b34e66412b63fd7\", element=\"607600ab-893a-4aa5-a190-7b93a0b84f67\")>,\n",
       " <selenium.webdriver.remote.webelement.WebElement (session=\"d0a779e0d7e06c215b34e66412b63fd7\", element=\"4137ffb4-fcc3-4a58-8a7b-1ff9e53893f4\")>,\n",
       " <selenium.webdriver.remote.webelement.WebElement (session=\"d0a779e0d7e06c215b34e66412b63fd7\", element=\"3f7720e5-8fd3-4c91-9aa7-d8302d6af7ce\")>,\n",
       " <selenium.webdriver.remote.webelement.WebElement (session=\"d0a779e0d7e06c215b34e66412b63fd7\", element=\"7e7eef1a-ff73-4d83-8233-b886e0637e89\")>,\n",
       " <selenium.webdriver.remote.webelement.WebElement (session=\"d0a779e0d7e06c215b34e66412b63fd7\", element=\"d7a26a15-c33d-44ea-81e1-a1eb02972587\")>,\n",
       " <selenium.webdriver.remote.webelement.WebElement (session=\"d0a779e0d7e06c215b34e66412b63fd7\", element=\"03ab3728-53d7-4a66-b10f-6c00c9c913a6\")>,\n",
       " <selenium.webdriver.remote.webelement.WebElement (session=\"d0a779e0d7e06c215b34e66412b63fd7\", element=\"34e96402-a716-4b13-98ff-6df249161fda\")>,\n",
       " <selenium.webdriver.remote.webelement.WebElement (session=\"d0a779e0d7e06c215b34e66412b63fd7\", element=\"0e9dac11-13e1-4270-b101-6a06ba1a55d9\")>,\n",
       " <selenium.webdriver.remote.webelement.WebElement (session=\"d0a779e0d7e06c215b34e66412b63fd7\", element=\"6e755788-d100-4b35-a693-bc18ab923822\")>,\n",
       " <selenium.webdriver.remote.webelement.WebElement (session=\"d0a779e0d7e06c215b34e66412b63fd7\", element=\"52217934-a5d2-4e59-b47a-43252275b25c\")>,\n",
       " <selenium.webdriver.remote.webelement.WebElement (session=\"d0a779e0d7e06c215b34e66412b63fd7\", element=\"737168e9-4b4f-40bd-acc7-be22b345fdd4\")>,\n",
       " <selenium.webdriver.remote.webelement.WebElement (session=\"d0a779e0d7e06c215b34e66412b63fd7\", element=\"52ae21da-ace5-49f2-b305-a83ce83c0837\")>]"
      ]
     },
     "execution_count": 43,
     "metadata": {},
     "output_type": "execute_result"
    }
   ],
   "source": [
    "b2 = browser(\"//div[@class = '_2WkVRV']\")\n",
    "b2"
   ]
  },
  {
   "cell_type": "code",
   "execution_count": 44,
   "metadata": {},
   "outputs": [
    {
     "data": {
      "text/plain": [
       "['kingsunglasses',\n",
       " 'ROYAL SON',\n",
       " 'Elligator',\n",
       " 'BAJERO',\n",
       " 'GANSTA',\n",
       " 'NuVew',\n",
       " 'kingsunglasses',\n",
       " 'LOUIS KOUROS',\n",
       " 'NuVew',\n",
       " 'Fastrack',\n",
       " 'ROZZETTA CRAFT',\n",
       " 'ROYAL SON',\n",
       " 'Fastrack',\n",
       " 'Fastrack',\n",
       " 'PHENOMENAL',\n",
       " 'PETER JONES',\n",
       " 'Fastrack',\n",
       " 'SUNBEE',\n",
       " 'Fravy',\n",
       " 'ROZZETTA CRAFT',\n",
       " 'kingsunglasses',\n",
       " 'elegante',\n",
       " 'NuVew',\n",
       " 'kingsunglasses',\n",
       " 'DEIXELS',\n",
       " 'NuVew',\n",
       " 'elegante',\n",
       " 'PIRASO',\n",
       " 'ROYAL SON',\n",
       " 'Fastrack',\n",
       " 'GANSTA',\n",
       " 'Fastrack',\n",
       " 'Fastrack',\n",
       " 'GANSTA',\n",
       " 'Rich Club',\n",
       " 'SUNBEE',\n",
       " 'PIRASO',\n",
       " 'ROYAL SON',\n",
       " 'AISLIN',\n",
       " 'GANSTA']"
      ]
     },
     "execution_count": 44,
     "metadata": {},
     "output_type": "execute_result"
    }
   ],
   "source": [
    "brand2 = []\n",
    "for i in b2:\n",
    "    brand2.append(i.text)\n",
    "brand2"
   ]
  },
  {
   "cell_type": "code",
   "execution_count": 45,
   "metadata": {},
   "outputs": [
    {
     "data": {
      "text/plain": [
       "[<selenium.webdriver.remote.webelement.WebElement (session=\"d0a779e0d7e06c215b34e66412b63fd7\", element=\"64e4cc24-b326-40b7-b7d5-7644dc9e1988\")>,\n",
       " <selenium.webdriver.remote.webelement.WebElement (session=\"d0a779e0d7e06c215b34e66412b63fd7\", element=\"9de1281a-c2a7-44fd-822b-353218a1c79b\")>,\n",
       " <selenium.webdriver.remote.webelement.WebElement (session=\"d0a779e0d7e06c215b34e66412b63fd7\", element=\"0c25f43d-44c1-4e82-a863-dea89e157d21\")>,\n",
       " <selenium.webdriver.remote.webelement.WebElement (session=\"d0a779e0d7e06c215b34e66412b63fd7\", element=\"971fae93-652c-433e-aa46-d1f15f88ce32\")>,\n",
       " <selenium.webdriver.remote.webelement.WebElement (session=\"d0a779e0d7e06c215b34e66412b63fd7\", element=\"2c8c2c5c-885a-4499-93bf-3f7dbe1e1274\")>,\n",
       " <selenium.webdriver.remote.webelement.WebElement (session=\"d0a779e0d7e06c215b34e66412b63fd7\", element=\"67e55465-3619-4804-a108-a88b082a194d\")>,\n",
       " <selenium.webdriver.remote.webelement.WebElement (session=\"d0a779e0d7e06c215b34e66412b63fd7\", element=\"8c0cd5ee-87b8-42a9-abde-aa50384c3d3e\")>,\n",
       " <selenium.webdriver.remote.webelement.WebElement (session=\"d0a779e0d7e06c215b34e66412b63fd7\", element=\"f8554292-884f-43e0-9b3b-2d26cf81ebbc\")>,\n",
       " <selenium.webdriver.remote.webelement.WebElement (session=\"d0a779e0d7e06c215b34e66412b63fd7\", element=\"2b3cbb3f-5636-45cc-b534-4843baf2a91a\")>,\n",
       " <selenium.webdriver.remote.webelement.WebElement (session=\"d0a779e0d7e06c215b34e66412b63fd7\", element=\"a009172a-eca6-446a-afc1-c43b83374094\")>,\n",
       " <selenium.webdriver.remote.webelement.WebElement (session=\"d0a779e0d7e06c215b34e66412b63fd7\", element=\"71c7886c-1c5a-4d4d-91f7-3b93a53d5941\")>,\n",
       " <selenium.webdriver.remote.webelement.WebElement (session=\"d0a779e0d7e06c215b34e66412b63fd7\", element=\"87a5d67d-857c-4926-844e-417a919a2522\")>,\n",
       " <selenium.webdriver.remote.webelement.WebElement (session=\"d0a779e0d7e06c215b34e66412b63fd7\", element=\"dfdf12d2-7ee9-4863-9012-c3f2df6994e7\")>,\n",
       " <selenium.webdriver.remote.webelement.WebElement (session=\"d0a779e0d7e06c215b34e66412b63fd7\", element=\"3b838c2a-e2b5-433b-bfb4-e13c3f379af1\")>,\n",
       " <selenium.webdriver.remote.webelement.WebElement (session=\"d0a779e0d7e06c215b34e66412b63fd7\", element=\"0badb734-95ff-423d-9b42-9523c6edc7cb\")>,\n",
       " <selenium.webdriver.remote.webelement.WebElement (session=\"d0a779e0d7e06c215b34e66412b63fd7\", element=\"b42e0614-dcb8-49e2-b004-ed8fe4d00fd0\")>,\n",
       " <selenium.webdriver.remote.webelement.WebElement (session=\"d0a779e0d7e06c215b34e66412b63fd7\", element=\"57c194bf-f896-4690-a48f-f6ff886edfe2\")>,\n",
       " <selenium.webdriver.remote.webelement.WebElement (session=\"d0a779e0d7e06c215b34e66412b63fd7\", element=\"26d35a49-0baa-470e-85d3-810558cb4bf9\")>,\n",
       " <selenium.webdriver.remote.webelement.WebElement (session=\"d0a779e0d7e06c215b34e66412b63fd7\", element=\"a69863e2-860e-48de-b91e-ef3ad2bbb2d7\")>,\n",
       " <selenium.webdriver.remote.webelement.WebElement (session=\"d0a779e0d7e06c215b34e66412b63fd7\", element=\"10c3a645-fad2-4792-8fbf-f071c0fdebf0\")>,\n",
       " <selenium.webdriver.remote.webelement.WebElement (session=\"d0a779e0d7e06c215b34e66412b63fd7\", element=\"b24ecbd8-d0f4-4060-b6a9-95eee27b1481\")>,\n",
       " <selenium.webdriver.remote.webelement.WebElement (session=\"d0a779e0d7e06c215b34e66412b63fd7\", element=\"62c2fef6-2e42-4b3c-b770-656574f861e8\")>,\n",
       " <selenium.webdriver.remote.webelement.WebElement (session=\"d0a779e0d7e06c215b34e66412b63fd7\", element=\"e23514fa-7313-4097-a4a8-2886aadb23c7\")>,\n",
       " <selenium.webdriver.remote.webelement.WebElement (session=\"d0a779e0d7e06c215b34e66412b63fd7\", element=\"faf8094a-4491-4afd-8782-ee061bcd2b21\")>,\n",
       " <selenium.webdriver.remote.webelement.WebElement (session=\"d0a779e0d7e06c215b34e66412b63fd7\", element=\"00bc4980-0f26-4cb6-b41d-973fe9c64cd8\")>,\n",
       " <selenium.webdriver.remote.webelement.WebElement (session=\"d0a779e0d7e06c215b34e66412b63fd7\", element=\"163e578e-860e-41b4-859e-dad6dd286620\")>,\n",
       " <selenium.webdriver.remote.webelement.WebElement (session=\"d0a779e0d7e06c215b34e66412b63fd7\", element=\"34ea4e7c-d2f6-482f-ad6f-653e1e370319\")>,\n",
       " <selenium.webdriver.remote.webelement.WebElement (session=\"d0a779e0d7e06c215b34e66412b63fd7\", element=\"635742c1-753c-4946-a399-bafda03ed109\")>,\n",
       " <selenium.webdriver.remote.webelement.WebElement (session=\"d0a779e0d7e06c215b34e66412b63fd7\", element=\"92bda1dd-632c-4cea-a995-eaf6b3a55a5f\")>,\n",
       " <selenium.webdriver.remote.webelement.WebElement (session=\"d0a779e0d7e06c215b34e66412b63fd7\", element=\"bfa4d4e4-76ce-4914-9640-0f08d646a40a\")>,\n",
       " <selenium.webdriver.remote.webelement.WebElement (session=\"d0a779e0d7e06c215b34e66412b63fd7\", element=\"fa6daf26-8873-4e94-a3a0-d89fc6d4fbc6\")>,\n",
       " <selenium.webdriver.remote.webelement.WebElement (session=\"d0a779e0d7e06c215b34e66412b63fd7\", element=\"15f0337e-262f-4920-a48e-08f4e3126b1c\")>,\n",
       " <selenium.webdriver.remote.webelement.WebElement (session=\"d0a779e0d7e06c215b34e66412b63fd7\", element=\"f3110f77-8a57-4b0f-99dd-31ee73d3d7c3\")>,\n",
       " <selenium.webdriver.remote.webelement.WebElement (session=\"d0a779e0d7e06c215b34e66412b63fd7\", element=\"a7e701b1-3441-4e8b-8c00-405ce6e8fce9\")>,\n",
       " <selenium.webdriver.remote.webelement.WebElement (session=\"d0a779e0d7e06c215b34e66412b63fd7\", element=\"265b5fba-7649-471f-83a4-8794993452c6\")>,\n",
       " <selenium.webdriver.remote.webelement.WebElement (session=\"d0a779e0d7e06c215b34e66412b63fd7\", element=\"d029e92e-d4c5-4be8-bf95-41217ae47b58\")>,\n",
       " <selenium.webdriver.remote.webelement.WebElement (session=\"d0a779e0d7e06c215b34e66412b63fd7\", element=\"5f17c8f8-1249-47d1-93bf-0bd24a20788d\")>,\n",
       " <selenium.webdriver.remote.webelement.WebElement (session=\"d0a779e0d7e06c215b34e66412b63fd7\", element=\"18d42c68-0eb1-429e-b799-fdfbd5b75b40\")>,\n",
       " <selenium.webdriver.remote.webelement.WebElement (session=\"d0a779e0d7e06c215b34e66412b63fd7\", element=\"4568fbb0-75d8-466a-a9a0-86d583cf7721\")>,\n",
       " <selenium.webdriver.remote.webelement.WebElement (session=\"d0a779e0d7e06c215b34e66412b63fd7\", element=\"94e3abc4-b886-4e90-9001-305c29d3cddd\")>]"
      ]
     },
     "execution_count": 45,
     "metadata": {},
     "output_type": "execute_result"
    }
   ],
   "source": [
    "pd2 = browser(\"//a[@class = 'IRpwTa']\")\n",
    "pd2"
   ]
  },
  {
   "cell_type": "code",
   "execution_count": 46,
   "metadata": {},
   "outputs": [
    {
     "data": {
      "text/plain": [
       "['UV Protection Rectangular Sunglasses (55)',\n",
       " 'UV Protection, Gradient Wayfarer Sunglasses (55)',\n",
       " 'UV Protection Round Sunglasses (55)',\n",
       " 'UV Protection Oval Sunglasses (Free Size)',\n",
       " 'UV Protection Aviator Sunglasses (57)',\n",
       " 'UV Protection Aviator Sunglasses (58)',\n",
       " 'Mirrored, UV Protection Aviator Sunglasses (56)',\n",
       " 'UV Protection Aviator Sunglasses (Free Size)',\n",
       " 'UV Protection, Night Vision, Riding Glasses Sports Sung...',\n",
       " 'UV Protection Shield Sunglasses (Free Size)',\n",
       " 'UV Protection Retro Square Sunglasses (Free Size)',\n",
       " 'UV Protection Retro Square Sunglasses (60)',\n",
       " 'UV Protection Wayfarer Sunglasses (Free Size)',\n",
       " 'UV Protection Wayfarer Sunglasses (Free Size)',\n",
       " 'UV Protection Clubmaster Sunglasses (Free Size)',\n",
       " 'UV Protection, Gradient Retro Square Sunglasses (60)',\n",
       " 'UV Protection Oval Sunglasses (Free Size)',\n",
       " 'UV Protection, Polarized, Mirrored Retro Square Sunglas...',\n",
       " 'UV Protection Retro Square Sunglasses (Free Size)',\n",
       " 'UV Protection, Gradient Retro Square Sunglasses (Free S...',\n",
       " 'Mirrored, UV Protection Wayfarer, Wayfarer, Wayfarer, W...',\n",
       " 'Mirrored Round Sunglasses (Free Size)',\n",
       " 'UV Protection Aviator Sunglasses (57)',\n",
       " 'UV Protection Round Sunglasses (Free Size)',\n",
       " 'Polarized, UV Protection, Riding Glasses Wayfarer Sungl...',\n",
       " 'UV Protection, Riding Glasses Aviator Sunglasses (58)',\n",
       " 'UV Protection Round Sunglasses (Free Size)',\n",
       " 'UV Protection Wayfarer Sunglasses (32)',\n",
       " 'UV Protection Wayfarer Sunglasses (55)',\n",
       " 'Polarized Sports Sunglasses (Free Size)',\n",
       " 'UV Protection, Mirrored Wayfarer Sunglasses (53)',\n",
       " 'UV Protection Wayfarer Sunglasses (Free Size)',\n",
       " 'UV Protection Aviator Sunglasses (Free Size)',\n",
       " 'UV Protection Aviator Sunglasses (57)',\n",
       " 'UV Protection, Others Round Sunglasses (48)',\n",
       " 'UV Protection, Polarized, Mirrored Wayfarer Sunglasses ...',\n",
       " 'UV Protection, Polarized Aviator Sunglasses (32)',\n",
       " 'Mirrored Aviator Sunglasses (Free Size)',\n",
       " 'UV Protection Wayfarer, Shield Sunglasses (60)',\n",
       " 'UV Protection Wayfarer Sunglasses (54)']"
      ]
     },
     "execution_count": 46,
     "metadata": {},
     "output_type": "execute_result"
    }
   ],
   "source": [
    "product2 =[]\n",
    "for i in pd2:\n",
    "    product2.append(i.text)\n",
    "product2"
   ]
  },
  {
   "cell_type": "code",
   "execution_count": 47,
   "metadata": {},
   "outputs": [
    {
     "data": {
      "text/plain": [
       "[<selenium.webdriver.remote.webelement.WebElement (session=\"d0a779e0d7e06c215b34e66412b63fd7\", element=\"2d4db42e-870f-4940-87a2-1607391f9268\")>,\n",
       " <selenium.webdriver.remote.webelement.WebElement (session=\"d0a779e0d7e06c215b34e66412b63fd7\", element=\"8793e0c9-bd31-4d8b-a86e-e95c61c38fb3\")>,\n",
       " <selenium.webdriver.remote.webelement.WebElement (session=\"d0a779e0d7e06c215b34e66412b63fd7\", element=\"53920188-30af-4576-95d4-78c10bbcde7a\")>,\n",
       " <selenium.webdriver.remote.webelement.WebElement (session=\"d0a779e0d7e06c215b34e66412b63fd7\", element=\"271ea46e-12fa-4a69-b110-ea70342bb3f0\")>,\n",
       " <selenium.webdriver.remote.webelement.WebElement (session=\"d0a779e0d7e06c215b34e66412b63fd7\", element=\"9b28b9e1-7987-4980-ae9c-bedf7709f771\")>,\n",
       " <selenium.webdriver.remote.webelement.WebElement (session=\"d0a779e0d7e06c215b34e66412b63fd7\", element=\"69180262-124e-4ff0-accb-5dde8e9d6188\")>,\n",
       " <selenium.webdriver.remote.webelement.WebElement (session=\"d0a779e0d7e06c215b34e66412b63fd7\", element=\"3f16cb37-df9f-4dfa-bd1f-bbc1f5c5801c\")>,\n",
       " <selenium.webdriver.remote.webelement.WebElement (session=\"d0a779e0d7e06c215b34e66412b63fd7\", element=\"a716b979-6e32-4e97-8538-0b98d3b388a6\")>,\n",
       " <selenium.webdriver.remote.webelement.WebElement (session=\"d0a779e0d7e06c215b34e66412b63fd7\", element=\"70c7c0ad-df12-4bfd-8dea-bcebd2785d3a\")>,\n",
       " <selenium.webdriver.remote.webelement.WebElement (session=\"d0a779e0d7e06c215b34e66412b63fd7\", element=\"8c92f10d-937a-4b8a-b2f3-f4ee3ef64e36\")>,\n",
       " <selenium.webdriver.remote.webelement.WebElement (session=\"d0a779e0d7e06c215b34e66412b63fd7\", element=\"4bbd2ba4-d049-4419-9109-6dccdb179f8e\")>,\n",
       " <selenium.webdriver.remote.webelement.WebElement (session=\"d0a779e0d7e06c215b34e66412b63fd7\", element=\"a126e357-26f4-4bde-b7df-e52edbb360b8\")>,\n",
       " <selenium.webdriver.remote.webelement.WebElement (session=\"d0a779e0d7e06c215b34e66412b63fd7\", element=\"fef22d87-3b4c-4902-bf25-629a95f4867f\")>,\n",
       " <selenium.webdriver.remote.webelement.WebElement (session=\"d0a779e0d7e06c215b34e66412b63fd7\", element=\"ba850181-e4b7-4201-a285-dc677ada377c\")>,\n",
       " <selenium.webdriver.remote.webelement.WebElement (session=\"d0a779e0d7e06c215b34e66412b63fd7\", element=\"a9d08867-5b18-4e59-a685-0ff7e2abbd4a\")>,\n",
       " <selenium.webdriver.remote.webelement.WebElement (session=\"d0a779e0d7e06c215b34e66412b63fd7\", element=\"31f90530-70b8-40f6-bf57-1577196ae068\")>,\n",
       " <selenium.webdriver.remote.webelement.WebElement (session=\"d0a779e0d7e06c215b34e66412b63fd7\", element=\"39c536a1-01a6-4a7a-beba-a56e89b1a3af\")>,\n",
       " <selenium.webdriver.remote.webelement.WebElement (session=\"d0a779e0d7e06c215b34e66412b63fd7\", element=\"38abd22a-5bce-4c90-93d2-1598d7475c39\")>,\n",
       " <selenium.webdriver.remote.webelement.WebElement (session=\"d0a779e0d7e06c215b34e66412b63fd7\", element=\"a6adbeeb-3030-4aaf-97e8-3d1edacd8a1a\")>,\n",
       " <selenium.webdriver.remote.webelement.WebElement (session=\"d0a779e0d7e06c215b34e66412b63fd7\", element=\"083c5f41-177a-4777-a095-35f765eb5b7e\")>,\n",
       " <selenium.webdriver.remote.webelement.WebElement (session=\"d0a779e0d7e06c215b34e66412b63fd7\", element=\"e38946a5-6bba-4032-b55d-366f678b61da\")>,\n",
       " <selenium.webdriver.remote.webelement.WebElement (session=\"d0a779e0d7e06c215b34e66412b63fd7\", element=\"accdfaed-6e74-443b-9dfc-07c50fd6381c\")>,\n",
       " <selenium.webdriver.remote.webelement.WebElement (session=\"d0a779e0d7e06c215b34e66412b63fd7\", element=\"4a399d75-0609-4842-af81-1511dc5214ae\")>,\n",
       " <selenium.webdriver.remote.webelement.WebElement (session=\"d0a779e0d7e06c215b34e66412b63fd7\", element=\"8acfd86a-02b3-4d11-9603-e8e17bbac08b\")>,\n",
       " <selenium.webdriver.remote.webelement.WebElement (session=\"d0a779e0d7e06c215b34e66412b63fd7\", element=\"61b0c011-4943-4311-8893-fbae8ba59e0c\")>,\n",
       " <selenium.webdriver.remote.webelement.WebElement (session=\"d0a779e0d7e06c215b34e66412b63fd7\", element=\"a9e0bf87-f82f-4fc8-a10a-14af1486b49a\")>,\n",
       " <selenium.webdriver.remote.webelement.WebElement (session=\"d0a779e0d7e06c215b34e66412b63fd7\", element=\"9fd4b254-3bb4-49a5-948c-e71ac98921f2\")>,\n",
       " <selenium.webdriver.remote.webelement.WebElement (session=\"d0a779e0d7e06c215b34e66412b63fd7\", element=\"d2324c68-0b12-4ffb-9a5b-952fe1393985\")>,\n",
       " <selenium.webdriver.remote.webelement.WebElement (session=\"d0a779e0d7e06c215b34e66412b63fd7\", element=\"95d4d3ca-e868-4db1-a972-cb2b659f1ebb\")>,\n",
       " <selenium.webdriver.remote.webelement.WebElement (session=\"d0a779e0d7e06c215b34e66412b63fd7\", element=\"ef94dffb-630e-4d70-81dc-c4b566a45d14\")>,\n",
       " <selenium.webdriver.remote.webelement.WebElement (session=\"d0a779e0d7e06c215b34e66412b63fd7\", element=\"2b1e550d-1e66-46cd-aa40-b3f19924f54c\")>,\n",
       " <selenium.webdriver.remote.webelement.WebElement (session=\"d0a779e0d7e06c215b34e66412b63fd7\", element=\"42886888-667e-4c99-95fe-72802eb5a600\")>,\n",
       " <selenium.webdriver.remote.webelement.WebElement (session=\"d0a779e0d7e06c215b34e66412b63fd7\", element=\"e7763af3-32b6-425c-b677-1ad2823effd8\")>,\n",
       " <selenium.webdriver.remote.webelement.WebElement (session=\"d0a779e0d7e06c215b34e66412b63fd7\", element=\"62f1c434-ff50-4259-a2d1-55e88fe0e7f8\")>,\n",
       " <selenium.webdriver.remote.webelement.WebElement (session=\"d0a779e0d7e06c215b34e66412b63fd7\", element=\"bdb41461-6922-4211-9a0c-c0d18ed138be\")>,\n",
       " <selenium.webdriver.remote.webelement.WebElement (session=\"d0a779e0d7e06c215b34e66412b63fd7\", element=\"f3f5dbf0-be60-4bd4-a32d-0202c84916dd\")>,\n",
       " <selenium.webdriver.remote.webelement.WebElement (session=\"d0a779e0d7e06c215b34e66412b63fd7\", element=\"5ec3991c-91e7-4a2d-8c6d-967fd585724f\")>,\n",
       " <selenium.webdriver.remote.webelement.WebElement (session=\"d0a779e0d7e06c215b34e66412b63fd7\", element=\"7988d14b-ffbb-4efe-9937-5f57428c6015\")>,\n",
       " <selenium.webdriver.remote.webelement.WebElement (session=\"d0a779e0d7e06c215b34e66412b63fd7\", element=\"91c7d4fd-d154-4b00-81ee-928abd5f6e10\")>,\n",
       " <selenium.webdriver.remote.webelement.WebElement (session=\"d0a779e0d7e06c215b34e66412b63fd7\", element=\"005b43a9-06c8-4c06-b58a-4c4c92189f46\")>]"
      ]
     },
     "execution_count": 47,
     "metadata": {},
     "output_type": "execute_result"
    }
   ],
   "source": [
    "p2 = browser(\"//div[@class = '_30jeq3']\")\n",
    "p2"
   ]
  },
  {
   "cell_type": "code",
   "execution_count": 48,
   "metadata": {},
   "outputs": [
    {
     "data": {
      "text/plain": [
       "['₹199',\n",
       " '₹203',\n",
       " '₹266',\n",
       " '₹1,169',\n",
       " '₹230',\n",
       " '₹202',\n",
       " '₹236',\n",
       " '₹1,169',\n",
       " '₹267',\n",
       " '₹853',\n",
       " '₹499',\n",
       " '₹664',\n",
       " '₹649',\n",
       " '₹733',\n",
       " '₹319',\n",
       " '₹599',\n",
       " '₹1,971',\n",
       " '₹314',\n",
       " '₹299',\n",
       " '₹449',\n",
       " '₹284',\n",
       " '₹399',\n",
       " '₹173',\n",
       " '₹331',\n",
       " '₹236',\n",
       " '₹308',\n",
       " '₹199',\n",
       " '₹237',\n",
       " '₹248',\n",
       " '₹1,791',\n",
       " '₹221',\n",
       " '₹758',\n",
       " '₹689',\n",
       " '₹284',\n",
       " '₹299',\n",
       " '₹314',\n",
       " '₹198',\n",
       " '₹379',\n",
       " '₹445',\n",
       " '₹221']"
      ]
     },
     "execution_count": 48,
     "metadata": {},
     "output_type": "execute_result"
    }
   ],
   "source": [
    "price2 = []\n",
    "for i in p2:\n",
    "    price2.append(i.text)\n",
    "price2"
   ]
  },
  {
   "cell_type": "code",
   "execution_count": 50,
   "metadata": {},
   "outputs": [
    {
     "data": {
      "text/plain": [
       "[<selenium.webdriver.remote.webelement.WebElement (session=\"d0a779e0d7e06c215b34e66412b63fd7\", element=\"545504c8-2a87-45b0-8552-cc4e09b8531e\")>,\n",
       " <selenium.webdriver.remote.webelement.WebElement (session=\"d0a779e0d7e06c215b34e66412b63fd7\", element=\"d15e97f6-5c42-44a3-82bb-40c5a20be346\")>,\n",
       " <selenium.webdriver.remote.webelement.WebElement (session=\"d0a779e0d7e06c215b34e66412b63fd7\", element=\"4429d767-3824-405c-b59b-cb9f4e983716\")>,\n",
       " <selenium.webdriver.remote.webelement.WebElement (session=\"d0a779e0d7e06c215b34e66412b63fd7\", element=\"1333647b-f9a0-4f52-b9dd-e6560077ec5f\")>,\n",
       " <selenium.webdriver.remote.webelement.WebElement (session=\"d0a779e0d7e06c215b34e66412b63fd7\", element=\"e528ca25-a384-45fb-8a1b-6f0ab1506f8e\")>,\n",
       " <selenium.webdriver.remote.webelement.WebElement (session=\"d0a779e0d7e06c215b34e66412b63fd7\", element=\"026c42cc-9488-4ada-b84b-dbb475fd9566\")>,\n",
       " <selenium.webdriver.remote.webelement.WebElement (session=\"d0a779e0d7e06c215b34e66412b63fd7\", element=\"f0628b0b-1656-4e3d-81f3-7304b8a5fc87\")>,\n",
       " <selenium.webdriver.remote.webelement.WebElement (session=\"d0a779e0d7e06c215b34e66412b63fd7\", element=\"0e3576e0-167a-48e0-957c-624ca800201c\")>,\n",
       " <selenium.webdriver.remote.webelement.WebElement (session=\"d0a779e0d7e06c215b34e66412b63fd7\", element=\"9b97a03d-89e3-4960-be86-793a65fa5489\")>,\n",
       " <selenium.webdriver.remote.webelement.WebElement (session=\"d0a779e0d7e06c215b34e66412b63fd7\", element=\"7f19469c-ffa0-45e3-8003-bd7010529448\")>,\n",
       " <selenium.webdriver.remote.webelement.WebElement (session=\"d0a779e0d7e06c215b34e66412b63fd7\", element=\"6af5820b-ea29-496f-a1ff-8fa06a13d341\")>,\n",
       " <selenium.webdriver.remote.webelement.WebElement (session=\"d0a779e0d7e06c215b34e66412b63fd7\", element=\"f5d403ea-d263-4da5-8926-7093932231e9\")>,\n",
       " <selenium.webdriver.remote.webelement.WebElement (session=\"d0a779e0d7e06c215b34e66412b63fd7\", element=\"cde5f47b-89a3-4df2-9b0b-974135feb858\")>,\n",
       " <selenium.webdriver.remote.webelement.WebElement (session=\"d0a779e0d7e06c215b34e66412b63fd7\", element=\"fddaa255-beda-47cc-98db-2f2d355ab3d3\")>,\n",
       " <selenium.webdriver.remote.webelement.WebElement (session=\"d0a779e0d7e06c215b34e66412b63fd7\", element=\"46289def-1e2c-499f-86e2-d130415e8215\")>,\n",
       " <selenium.webdriver.remote.webelement.WebElement (session=\"d0a779e0d7e06c215b34e66412b63fd7\", element=\"0a6b9c60-aeca-4b83-b05b-78821bfa73fe\")>,\n",
       " <selenium.webdriver.remote.webelement.WebElement (session=\"d0a779e0d7e06c215b34e66412b63fd7\", element=\"67d9e9ba-b435-4626-8308-88a195be8ed5\")>,\n",
       " <selenium.webdriver.remote.webelement.WebElement (session=\"d0a779e0d7e06c215b34e66412b63fd7\", element=\"5b1fe440-2639-44be-882d-bc894a0b53bd\")>,\n",
       " <selenium.webdriver.remote.webelement.WebElement (session=\"d0a779e0d7e06c215b34e66412b63fd7\", element=\"e3e91ca1-7740-4813-91f1-71b6684fc28f\")>,\n",
       " <selenium.webdriver.remote.webelement.WebElement (session=\"d0a779e0d7e06c215b34e66412b63fd7\", element=\"47f9ece2-1890-480f-9ba6-3d95a7151967\")>,\n",
       " <selenium.webdriver.remote.webelement.WebElement (session=\"d0a779e0d7e06c215b34e66412b63fd7\", element=\"03edc5c0-ee61-41d3-b04d-f7acead75b69\")>,\n",
       " <selenium.webdriver.remote.webelement.WebElement (session=\"d0a779e0d7e06c215b34e66412b63fd7\", element=\"2c3dbb32-43bf-4976-bdae-7ab940b32867\")>,\n",
       " <selenium.webdriver.remote.webelement.WebElement (session=\"d0a779e0d7e06c215b34e66412b63fd7\", element=\"f9ef9188-bc4e-4778-9aa9-07499a56953a\")>,\n",
       " <selenium.webdriver.remote.webelement.WebElement (session=\"d0a779e0d7e06c215b34e66412b63fd7\", element=\"fb1168f4-8a05-4a62-b991-4b5968129f36\")>,\n",
       " <selenium.webdriver.remote.webelement.WebElement (session=\"d0a779e0d7e06c215b34e66412b63fd7\", element=\"b635342c-c02f-4e9f-a241-2bd85bf3fd04\")>,\n",
       " <selenium.webdriver.remote.webelement.WebElement (session=\"d0a779e0d7e06c215b34e66412b63fd7\", element=\"fd9c1c55-4767-4d79-ba07-83c448132c2b\")>,\n",
       " <selenium.webdriver.remote.webelement.WebElement (session=\"d0a779e0d7e06c215b34e66412b63fd7\", element=\"ed3fedcb-2004-4c76-b534-aa7c13f394ba\")>,\n",
       " <selenium.webdriver.remote.webelement.WebElement (session=\"d0a779e0d7e06c215b34e66412b63fd7\", element=\"b7d1ac8f-8699-44a1-a711-cd01d1e54573\")>,\n",
       " <selenium.webdriver.remote.webelement.WebElement (session=\"d0a779e0d7e06c215b34e66412b63fd7\", element=\"3b7cd924-9457-4fb4-a029-22afb9b60485\")>,\n",
       " <selenium.webdriver.remote.webelement.WebElement (session=\"d0a779e0d7e06c215b34e66412b63fd7\", element=\"c5a57518-aa24-4d01-8477-8644d0394588\")>,\n",
       " <selenium.webdriver.remote.webelement.WebElement (session=\"d0a779e0d7e06c215b34e66412b63fd7\", element=\"962f3a9a-8c32-4ae6-adfa-ad944ed1d104\")>,\n",
       " <selenium.webdriver.remote.webelement.WebElement (session=\"d0a779e0d7e06c215b34e66412b63fd7\", element=\"13b3fb41-1543-47e6-a3ca-7ee20de45a52\")>,\n",
       " <selenium.webdriver.remote.webelement.WebElement (session=\"d0a779e0d7e06c215b34e66412b63fd7\", element=\"dfe09b10-54e8-4d45-a193-bb7a4d9ea34a\")>,\n",
       " <selenium.webdriver.remote.webelement.WebElement (session=\"d0a779e0d7e06c215b34e66412b63fd7\", element=\"f5156f79-bb59-4b82-abfb-f657ab616ee8\")>,\n",
       " <selenium.webdriver.remote.webelement.WebElement (session=\"d0a779e0d7e06c215b34e66412b63fd7\", element=\"fe413b7b-51c9-499f-a56e-cfde1c465f12\")>,\n",
       " <selenium.webdriver.remote.webelement.WebElement (session=\"d0a779e0d7e06c215b34e66412b63fd7\", element=\"042bcd32-9eb2-4c85-a11f-d9bb4b2f4ad2\")>,\n",
       " <selenium.webdriver.remote.webelement.WebElement (session=\"d0a779e0d7e06c215b34e66412b63fd7\", element=\"3be44883-e740-4f2c-9d8f-6ee7f1558a66\")>,\n",
       " <selenium.webdriver.remote.webelement.WebElement (session=\"d0a779e0d7e06c215b34e66412b63fd7\", element=\"2e240425-642f-42ae-8659-5cb4150fe3f3\")>,\n",
       " <selenium.webdriver.remote.webelement.WebElement (session=\"d0a779e0d7e06c215b34e66412b63fd7\", element=\"bc41cd07-ab51-43f4-9f43-b837026dc53b\")>]"
      ]
     },
     "execution_count": 50,
     "metadata": {},
     "output_type": "execute_result"
    }
   ],
   "source": [
    "d2 = browser(\"//div[@class = '_3Ay6Sb']\")\n",
    "d2"
   ]
  },
  {
   "cell_type": "code",
   "execution_count": 51,
   "metadata": {},
   "outputs": [
    {
     "data": {
      "text/plain": [
       "['84% off',\n",
       " '79% off',\n",
       " '86% off',\n",
       " '66% off',\n",
       " '78% off',\n",
       " '74% off',\n",
       " '81% off',\n",
       " '55% off',\n",
       " '65% off',\n",
       " '5% off',\n",
       " '77% off',\n",
       " '66% off',\n",
       " '18% off',\n",
       " '18% off',\n",
       " '84% off',\n",
       " '70% off',\n",
       " '1% off',\n",
       " '75% off',\n",
       " '80% off',\n",
       " '77% off',\n",
       " '81% off',\n",
       " '80% off',\n",
       " '76% off',\n",
       " '79% off',\n",
       " '60% off',\n",
       " '76% off',\n",
       " '80% off',\n",
       " '85% off',\n",
       " '80% off',\n",
       " '77% off',\n",
       " '15% off',\n",
       " '23% off',\n",
       " '85% off',\n",
       " '62% off',\n",
       " '75% off',\n",
       " '87% off',\n",
       " '74% off',\n",
       " '73% off',\n",
       " '72% off']"
      ]
     },
     "execution_count": 51,
     "metadata": {},
     "output_type": "execute_result"
    }
   ],
   "source": [
    "discount2 = []\n",
    "for i in d2:\n",
    "    discount2.append(i.text)\n",
    "discount2"
   ]
  },
  {
   "cell_type": "code",
   "execution_count": 52,
   "metadata": {},
   "outputs": [
    {
     "data": {
      "text/plain": [
       "['bulgaria',\n",
       " 'Rich Club',\n",
       " 'Elligator',\n",
       " 'SHAAH COLLECTIONS',\n",
       " 'PIRASO',\n",
       " 'kingsunglasses',\n",
       " 'kingsunglasses',\n",
       " 'Villain',\n",
       " 'Fastrack',\n",
       " 'Fastrack',\n",
       " 'PIRASO',\n",
       " 'WROGN',\n",
       " 'SHAAH COLLECTIONS',\n",
       " 'Fastrack',\n",
       " 'SHAAH COLLECTIONS',\n",
       " 'VINCENT CHASE',\n",
       " 'PHENOMENAL',\n",
       " 'ROZZETTA CRAFT',\n",
       " 'PIRASO',\n",
       " 'Riffko',\n",
       " 'Rich Club',\n",
       " 'ROZZETTA CRAFT',\n",
       " 'ROYAL SON',\n",
       " 'Resist',\n",
       " 'kingsunglasses',\n",
       " 'Silver Kartz',\n",
       " 'SUNBEE',\n",
       " 'AISLIN',\n",
       " 'PIRASO',\n",
       " 'PIRASO',\n",
       " 'SUNBEE',\n",
       " 'AISLIN',\n",
       " 'Elligator',\n",
       " 'Fastrack',\n",
       " 'SUNBEE',\n",
       " 'Resist',\n",
       " 'ROYAL SON',\n",
       " 'PHENOMENAL',\n",
       " 'ROZZETTA CRAFT',\n",
       " 'OCHILA',\n",
       " 'PHENOMENAL',\n",
       " 'Singco',\n",
       " 'HIPPON',\n",
       " 'bulgaria',\n",
       " 'ROZZETTA CRAFT',\n",
       " 'NuVew',\n",
       " 'Fastrack',\n",
       " 'Rich Club',\n",
       " 'GANSTA',\n",
       " 'kingsunglasses',\n",
       " 'kingsunglasses',\n",
       " 'Villain',\n",
       " 'PHENOMENAL',\n",
       " 'PIRASO',\n",
       " 'Singco India',\n",
       " 'Campeon',\n",
       " 'SRPM',\n",
       " 'Fastrack',\n",
       " 'Elligator',\n",
       " 'WROGN',\n",
       " 'Fastrack',\n",
       " 'Fastrack',\n",
       " 'Singco India',\n",
       " 'VINCENT CHASE',\n",
       " 'hipe',\n",
       " 'hipe',\n",
       " 'Fastrack',\n",
       " 'OCHILA',\n",
       " 'ROYAL SON',\n",
       " 'DEIXELS',\n",
       " 'Fastrack',\n",
       " 'EYEWEARLABS',\n",
       " 'Singco India',\n",
       " 'like future',\n",
       " 'ROZZETTA CRAFT',\n",
       " 'OCHILA',\n",
       " 'kingsunglasses',\n",
       " 'kingsunglasses',\n",
       " 'Elligator',\n",
       " 'WROGN',\n",
       " 'kingsunglasses',\n",
       " 'ROYAL SON',\n",
       " 'Elligator',\n",
       " 'BAJERO',\n",
       " 'GANSTA',\n",
       " 'NuVew',\n",
       " 'kingsunglasses',\n",
       " 'LOUIS KOUROS',\n",
       " 'NuVew',\n",
       " 'Fastrack',\n",
       " 'ROZZETTA CRAFT',\n",
       " 'ROYAL SON',\n",
       " 'Fastrack',\n",
       " 'Fastrack',\n",
       " 'PHENOMENAL',\n",
       " 'PETER JONES',\n",
       " 'Fastrack',\n",
       " 'SUNBEE',\n",
       " 'Fravy',\n",
       " 'ROZZETTA CRAFT',\n",
       " 'kingsunglasses',\n",
       " 'elegante',\n",
       " 'NuVew',\n",
       " 'kingsunglasses',\n",
       " 'DEIXELS',\n",
       " 'NuVew',\n",
       " 'elegante',\n",
       " 'PIRASO',\n",
       " 'ROYAL SON',\n",
       " 'Fastrack',\n",
       " 'GANSTA',\n",
       " 'Fastrack',\n",
       " 'Fastrack',\n",
       " 'GANSTA',\n",
       " 'Rich Club',\n",
       " 'SUNBEE',\n",
       " 'PIRASO',\n",
       " 'ROYAL SON',\n",
       " 'AISLIN',\n",
       " 'GANSTA']"
      ]
     },
     "execution_count": 52,
     "metadata": {},
     "output_type": "execute_result"
    }
   ],
   "source": [
    "Brand = (brand + brand1 + brand2)\n",
    "Brand"
   ]
  },
  {
   "cell_type": "code",
   "execution_count": 53,
   "metadata": {},
   "outputs": [
    {
     "data": {
      "text/plain": [
       "120"
      ]
     },
     "execution_count": 53,
     "metadata": {},
     "output_type": "execute_result"
    }
   ],
   "source": [
    "len(Brand)"
   ]
  },
  {
   "cell_type": "code",
   "execution_count": 54,
   "metadata": {},
   "outputs": [
    {
     "data": {
      "text/plain": [
       "['Others Rectangular Sunglasses (Free Size)',\n",
       " 'UV Protection, Others Round Sunglasses (48)',\n",
       " 'UV Protection Round Sunglasses (54)',\n",
       " 'UV Protection, Polarized, Mirrored Rectangular Sunglass...',\n",
       " 'UV Protection Aviator Sunglasses (54)',\n",
       " 'Mirrored, UV Protection Wayfarer Sunglasses (Free Size)',\n",
       " 'UV Protection Round Sunglasses (54)',\n",
       " 'Others Wayfarer Sunglasses (Free Size)',\n",
       " 'UV Protection Wayfarer Sunglasses (Free Size)',\n",
       " 'Gradient, UV Protection Wayfarer Sunglasses (Free Size)',\n",
       " 'UV Protection Aviator Sunglasses (54)',\n",
       " 'UV Protection Aviator Sunglasses (60)',\n",
       " 'UV Protection Round Sunglasses (Free Size)',\n",
       " 'UV Protection Aviator Sunglasses (Free Size)',\n",
       " 'UV Protection, Polarized, Mirrored Rectangular Sunglass...',\n",
       " 'Polarized Cat-eye Sunglasses (54)',\n",
       " 'UV Protection Retro Square Sunglasses (Free Size)',\n",
       " 'UV Protection, Gradient Rectangular Sunglasses (Free Si...',\n",
       " 'UV Protection Aviator Sunglasses (54)',\n",
       " 'UV Protection, Mirrored, Gradient Round Sunglasses (51)',\n",
       " 'UV Protection Retro Square Sunglasses (Free Size)',\n",
       " 'UV Protection Rectangular Sunglasses (58)',\n",
       " 'Mirrored, UV Protection Wayfarer Sunglasses (Free Size)',\n",
       " 'UV Protection Wayfarer Sunglasses (Free Size)',\n",
       " 'UV Protection, Polarized, Mirrored Wayfarer Sunglasses ...',\n",
       " 'Polarized, UV Protection, Gradient Wayfarer, Rectangula...',\n",
       " 'UV Protection Butterfly Sunglasses (65)',\n",
       " 'UV Protection Aviator Sunglasses (58)',\n",
       " 'UV Protection, Polarized, Mirrored Wayfarer Sunglasses ...',\n",
       " 'Mirrored Round Sunglasses (53)',\n",
       " 'UV Protection Wayfarer Sunglasses (57)',\n",
       " 'UV Protection, Polarized, Mirrored Wayfarer Sunglasses ...',\n",
       " 'Mirrored Aviator Sunglasses (55)',\n",
       " 'UV Protection Round Sunglasses (53)',\n",
       " 'UV Protection, Riding Glasses Rectangular Sunglasses (F...',\n",
       " 'UV Protection Aviator Sunglasses (58)',\n",
       " 'UV Protection, Mirrored Retro Square Sunglasses (53)',\n",
       " 'Mirrored Aviator Sunglasses (53)',\n",
       " 'UV Protection Wayfarer Sunglasses (55)',\n",
       " 'Others Rectangular Sunglasses (Free Size)',\n",
       " 'UV Protection, Gradient Round Sunglasses (Free Size)',\n",
       " 'UV Protection, Mirrored Aviator Sunglasses (58)',\n",
       " 'UV Protection Wayfarer Sunglasses (Free Size)',\n",
       " 'UV Protection, Others Round Sunglasses (48)',\n",
       " 'UV Protection, Night Vision, Riding Glasses Aviator Sun...',\n",
       " 'UV Protection, Mirrored Round Sunglasses (54)',\n",
       " 'UV Protection, Riding Glasses, Mirrored Wayfarer Sungla...',\n",
       " 'Others Wayfarer Sunglasses (Free Size)',\n",
       " 'UV Protection, Mirrored Retro Square Sunglasses (Free S...',\n",
       " 'UV Protection Aviator Sunglasses (Free Size)',\n",
       " 'UV Protection Aviator Sunglasses (Free Size)',\n",
       " 'UV Protection Wayfarer Sunglasses (53)',\n",
       " 'UV Protection Aviator Sunglasses (58)',\n",
       " 'UV Protection Retro Square, Aviator Sunglasses (54)',\n",
       " 'UV Protection Aviator Sunglasses (60)',\n",
       " 'UV Protection Wrap-around Sunglasses (63)',\n",
       " 'UV Protection Aviator Sunglasses (Free Size)',\n",
       " 'Riding Glasses, Others, UV Protection Wrap-around Sungl...',\n",
       " 'Polarized Cat-eye Sunglasses (54)',\n",
       " 'UV Protection, Gradient, Mirrored, Riding Glasses Aviat...',\n",
       " 'UV Protection, Night Vision, Riding Glasses, Gradient, ...',\n",
       " 'Mirrored, UV Protection Wayfarer Sunglasses (Free Size)',\n",
       " 'UV Protection Aviator Sunglasses (58)',\n",
       " 'UV Protection Retro Square Sunglasses (88)',\n",
       " 'UV Protection Aviator, Wayfarer Sunglasses (Free Size)',\n",
       " 'UV Protection Aviator Sunglasses (58)',\n",
       " 'UV Protection, Riding Glasses, Others Aviator, Wayfarer...',\n",
       " 'UV Protection, Gradient, Mirrored Wayfarer Sunglasses (...',\n",
       " 'Gradient, UV Protection Round Sunglasses (Free Size)',\n",
       " 'UV Protection Aviator Sunglasses (58)',\n",
       " 'UV Protection Round Sunglasses (Free Size)',\n",
       " 'UV Protection Rectangular Sunglasses (55)',\n",
       " 'UV Protection, Riding Glasses Rectangular, Retro Square...',\n",
       " 'Mirrored Wayfarer Sunglasses (56)',\n",
       " 'UV Protection Rectangular Sunglasses (55)',\n",
       " 'UV Protection, Gradient Wayfarer Sunglasses (55)',\n",
       " 'UV Protection Round Sunglasses (55)',\n",
       " 'UV Protection Oval Sunglasses (Free Size)',\n",
       " 'UV Protection Aviator Sunglasses (57)',\n",
       " 'UV Protection Aviator Sunglasses (58)',\n",
       " 'Mirrored, UV Protection Aviator Sunglasses (56)',\n",
       " 'UV Protection Aviator Sunglasses (Free Size)',\n",
       " 'UV Protection, Night Vision, Riding Glasses Sports Sung...',\n",
       " 'UV Protection Shield Sunglasses (Free Size)',\n",
       " 'UV Protection Retro Square Sunglasses (Free Size)',\n",
       " 'UV Protection Retro Square Sunglasses (60)',\n",
       " 'UV Protection Wayfarer Sunglasses (Free Size)',\n",
       " 'UV Protection Wayfarer Sunglasses (Free Size)',\n",
       " 'UV Protection Clubmaster Sunglasses (Free Size)',\n",
       " 'UV Protection, Gradient Retro Square Sunglasses (60)',\n",
       " 'UV Protection Oval Sunglasses (Free Size)',\n",
       " 'UV Protection, Polarized, Mirrored Retro Square Sunglas...',\n",
       " 'UV Protection Retro Square Sunglasses (Free Size)',\n",
       " 'UV Protection, Gradient Retro Square Sunglasses (Free S...',\n",
       " 'Mirrored, UV Protection Wayfarer, Wayfarer, Wayfarer, W...',\n",
       " 'Mirrored Round Sunglasses (Free Size)',\n",
       " 'UV Protection Aviator Sunglasses (57)',\n",
       " 'UV Protection Round Sunglasses (Free Size)',\n",
       " 'Polarized, UV Protection, Riding Glasses Wayfarer Sungl...',\n",
       " 'UV Protection, Riding Glasses Aviator Sunglasses (58)',\n",
       " 'UV Protection Round Sunglasses (Free Size)',\n",
       " 'UV Protection Wayfarer Sunglasses (32)',\n",
       " 'UV Protection Wayfarer Sunglasses (55)',\n",
       " 'Polarized Sports Sunglasses (Free Size)',\n",
       " 'UV Protection, Mirrored Wayfarer Sunglasses (53)',\n",
       " 'UV Protection Wayfarer Sunglasses (Free Size)',\n",
       " 'UV Protection Aviator Sunglasses (Free Size)',\n",
       " 'UV Protection Aviator Sunglasses (57)',\n",
       " 'UV Protection, Others Round Sunglasses (48)',\n",
       " 'UV Protection, Polarized, Mirrored Wayfarer Sunglasses ...',\n",
       " 'UV Protection, Polarized Aviator Sunglasses (32)',\n",
       " 'Mirrored Aviator Sunglasses (Free Size)',\n",
       " 'UV Protection Wayfarer, Shield Sunglasses (60)',\n",
       " 'UV Protection Wayfarer Sunglasses (54)']"
      ]
     },
     "execution_count": 54,
     "metadata": {},
     "output_type": "execute_result"
    }
   ],
   "source": [
    "Product = (product + product1 + product2)\n",
    "Product"
   ]
  },
  {
   "cell_type": "code",
   "execution_count": 55,
   "metadata": {},
   "outputs": [
    {
     "data": {
      "text/plain": [
       "114"
      ]
     },
     "execution_count": 55,
     "metadata": {},
     "output_type": "execute_result"
    }
   ],
   "source": [
    "len(Product)"
   ]
  },
  {
   "cell_type": "code",
   "execution_count": 56,
   "metadata": {},
   "outputs": [
    {
     "data": {
      "text/plain": [
       "['₹449',\n",
       " '₹299',\n",
       " '₹295',\n",
       " '₹198',\n",
       " '₹237',\n",
       " '₹284',\n",
       " '₹213',\n",
       " '₹599',\n",
       " '₹758',\n",
       " '₹509',\n",
       " '₹237',\n",
       " '₹1,007',\n",
       " '₹331',\n",
       " '₹546',\n",
       " '₹215',\n",
       " '₹1,415',\n",
       " '₹399',\n",
       " '₹404',\n",
       " '₹237',\n",
       " '₹210',\n",
       " '₹215',\n",
       " '₹499',\n",
       " '₹474',\n",
       " '₹899',\n",
       " '₹284',\n",
       " '₹246',\n",
       " '₹284',\n",
       " '₹1,138',\n",
       " '₹449',\n",
       " '₹399',\n",
       " '₹265',\n",
       " '₹498',\n",
       " '₹312',\n",
       " '₹503',\n",
       " '₹314',\n",
       " '₹854',\n",
       " '₹379',\n",
       " '₹295',\n",
       " '₹449',\n",
       " '₹230',\n",
       " '₹399',\n",
       " '₹252',\n",
       " '₹257',\n",
       " '₹449',\n",
       " '₹449',\n",
       " '₹186',\n",
       " '₹689',\n",
       " '₹299',\n",
       " '₹295',\n",
       " '₹236',\n",
       " '₹217',\n",
       " '₹599',\n",
       " '₹399',\n",
       " '₹331',\n",
       " '₹352',\n",
       " '₹1,099',\n",
       " '₹230',\n",
       " '₹1,085',\n",
       " '₹312',\n",
       " '₹1,007',\n",
       " '₹837',\n",
       " '₹695',\n",
       " '₹309',\n",
       " '₹1,415',\n",
       " '₹209',\n",
       " '₹199',\n",
       " '₹738',\n",
       " '₹221',\n",
       " '₹569',\n",
       " '₹202',\n",
       " '₹1,059',\n",
       " '₹1,598',\n",
       " '₹225',\n",
       " '₹314',\n",
       " '₹449',\n",
       " '₹230',\n",
       " '₹331',\n",
       " '₹210',\n",
       " '₹398',\n",
       " '₹699',\n",
       " '₹199',\n",
       " '₹203',\n",
       " '₹266',\n",
       " '₹1,169',\n",
       " '₹230',\n",
       " '₹202',\n",
       " '₹236',\n",
       " '₹1,169',\n",
       " '₹267',\n",
       " '₹853',\n",
       " '₹499',\n",
       " '₹664',\n",
       " '₹649',\n",
       " '₹733',\n",
       " '₹319',\n",
       " '₹599',\n",
       " '₹1,971',\n",
       " '₹314',\n",
       " '₹299',\n",
       " '₹449',\n",
       " '₹284',\n",
       " '₹399',\n",
       " '₹173',\n",
       " '₹331',\n",
       " '₹236',\n",
       " '₹308',\n",
       " '₹199',\n",
       " '₹237',\n",
       " '₹248',\n",
       " '₹1,791',\n",
       " '₹221',\n",
       " '₹758',\n",
       " '₹689',\n",
       " '₹284',\n",
       " '₹299',\n",
       " '₹314',\n",
       " '₹198',\n",
       " '₹379',\n",
       " '₹445',\n",
       " '₹221']"
      ]
     },
     "execution_count": 56,
     "metadata": {},
     "output_type": "execute_result"
    }
   ],
   "source": [
    "Price = (price + price1 + price2)\n",
    "Price"
   ]
  },
  {
   "cell_type": "code",
   "execution_count": 57,
   "metadata": {},
   "outputs": [
    {
     "data": {
      "text/plain": [
       "120"
      ]
     },
     "execution_count": 57,
     "metadata": {},
     "output_type": "execute_result"
    }
   ],
   "source": [
    "len(Price)"
   ]
  },
  {
   "cell_type": "code",
   "execution_count": 58,
   "metadata": {},
   "outputs": [
    {
     "data": {
      "text/plain": [
       "['43% off',\n",
       " '62% off',\n",
       " '88% off',\n",
       " '88% off',\n",
       " '85% off',\n",
       " '89% off',\n",
       " '80% off',\n",
       " '40% off',\n",
       " '15% off',\n",
       " '36% off',\n",
       " '85% off',\n",
       " '69% off',\n",
       " '80% off',\n",
       " '31% off',\n",
       " '78% off',\n",
       " '29% off',\n",
       " '80% off',\n",
       " '79% off',\n",
       " '85% off',\n",
       " '82% off',\n",
       " '73% off',\n",
       " '77% off',\n",
       " '68% off',\n",
       " '55% off',\n",
       " '89% off',\n",
       " '83% off',\n",
       " '71% off',\n",
       " '73% off',\n",
       " '82% off',\n",
       " '84% off',\n",
       " '73% off',\n",
       " '70% off',\n",
       " '87% off',\n",
       " '37% off',\n",
       " '75% off',\n",
       " '57% off',\n",
       " '74% off',\n",
       " '87% off',\n",
       " '79% off',\n",
       " '80% off',\n",
       " '80% off',\n",
       " '74% off',\n",
       " '78% off',\n",
       " '43% off',\n",
       " '77% off',\n",
       " '78% off',\n",
       " '23% off',\n",
       " '62% off',\n",
       " '85% off',\n",
       " '80% off',\n",
       " '81% off',\n",
       " '40% off',\n",
       " '80% off',\n",
       " '79% off',\n",
       " '70% off',\n",
       " '56% off',\n",
       " '76% off',\n",
       " '16% off',\n",
       " '84% off',\n",
       " '69% off',\n",
       " '6% off',\n",
       " '13% off',\n",
       " '81% off',\n",
       " '29% off',\n",
       " '79% off',\n",
       " '84% off',\n",
       " '26% off',\n",
       " '81% off',\n",
       " '71% off',\n",
       " '83% off',\n",
       " '18% off',\n",
       " '36% off',\n",
       " '67% off',\n",
       " '75% off',\n",
       " '77% off',\n",
       " '80% off',\n",
       " '79% off',\n",
       " '83% off',\n",
       " '73% off',\n",
       " '72% off',\n",
       " '84% off',\n",
       " '79% off',\n",
       " '86% off',\n",
       " '66% off',\n",
       " '78% off',\n",
       " '74% off',\n",
       " '81% off',\n",
       " '55% off',\n",
       " '65% off',\n",
       " '5% off',\n",
       " '77% off',\n",
       " '66% off',\n",
       " '18% off',\n",
       " '18% off',\n",
       " '84% off',\n",
       " '70% off',\n",
       " '1% off',\n",
       " '75% off',\n",
       " '80% off',\n",
       " '77% off',\n",
       " '81% off',\n",
       " '80% off',\n",
       " '76% off',\n",
       " '79% off',\n",
       " '60% off',\n",
       " '76% off',\n",
       " '80% off',\n",
       " '85% off',\n",
       " '80% off',\n",
       " '77% off',\n",
       " '15% off',\n",
       " '23% off',\n",
       " '85% off',\n",
       " '62% off',\n",
       " '75% off',\n",
       " '87% off',\n",
       " '74% off',\n",
       " '73% off',\n",
       " '72% off']"
      ]
     },
     "execution_count": 58,
     "metadata": {},
     "output_type": "execute_result"
    }
   ],
   "source": [
    "Discount = (discount + discount1 + discount2)\n",
    "Discount"
   ]
  },
  {
   "cell_type": "code",
   "execution_count": 59,
   "metadata": {},
   "outputs": [
    {
     "data": {
      "text/plain": [
       "119"
      ]
     },
     "execution_count": 59,
     "metadata": {},
     "output_type": "execute_result"
    }
   ],
   "source": [
    "len(Discount)"
   ]
  },
  {
   "cell_type": "code",
   "execution_count": 61,
   "metadata": {},
   "outputs": [
    {
     "data": {
      "text/html": [
       "<div>\n",
       "<style scoped>\n",
       "    .dataframe tbody tr th:only-of-type {\n",
       "        vertical-align: middle;\n",
       "    }\n",
       "\n",
       "    .dataframe tbody tr th {\n",
       "        vertical-align: top;\n",
       "    }\n",
       "\n",
       "    .dataframe thead th {\n",
       "        text-align: right;\n",
       "    }\n",
       "</style>\n",
       "<table border=\"1\" class=\"dataframe\">\n",
       "  <thead>\n",
       "    <tr style=\"text-align: right;\">\n",
       "      <th></th>\n",
       "      <th>Brand</th>\n",
       "      <th>Product_Description</th>\n",
       "      <th>Price</th>\n",
       "      <th>Discount %</th>\n",
       "    </tr>\n",
       "  </thead>\n",
       "  <tbody>\n",
       "    <tr>\n",
       "      <th>0</th>\n",
       "      <td>bulgaria</td>\n",
       "      <td>Others Rectangular Sunglasses (Free Size)</td>\n",
       "      <td>₹449</td>\n",
       "      <td>43% off</td>\n",
       "    </tr>\n",
       "    <tr>\n",
       "      <th>1</th>\n",
       "      <td>Rich Club</td>\n",
       "      <td>UV Protection, Others Round Sunglasses (48)</td>\n",
       "      <td>₹299</td>\n",
       "      <td>62% off</td>\n",
       "    </tr>\n",
       "    <tr>\n",
       "      <th>2</th>\n",
       "      <td>Elligator</td>\n",
       "      <td>UV Protection Round Sunglasses (54)</td>\n",
       "      <td>₹295</td>\n",
       "      <td>88% off</td>\n",
       "    </tr>\n",
       "    <tr>\n",
       "      <th>3</th>\n",
       "      <td>SHAAH COLLECTIONS</td>\n",
       "      <td>UV Protection, Polarized, Mirrored Rectangular...</td>\n",
       "      <td>₹198</td>\n",
       "      <td>88% off</td>\n",
       "    </tr>\n",
       "    <tr>\n",
       "      <th>4</th>\n",
       "      <td>PIRASO</td>\n",
       "      <td>UV Protection Aviator Sunglasses (54)</td>\n",
       "      <td>₹237</td>\n",
       "      <td>85% off</td>\n",
       "    </tr>\n",
       "    <tr>\n",
       "      <th>...</th>\n",
       "      <td>...</td>\n",
       "      <td>...</td>\n",
       "      <td>...</td>\n",
       "      <td>...</td>\n",
       "    </tr>\n",
       "    <tr>\n",
       "      <th>95</th>\n",
       "      <td>PETER JONES</td>\n",
       "      <td>Mirrored Round Sunglasses (Free Size)</td>\n",
       "      <td>₹599</td>\n",
       "      <td>70% off</td>\n",
       "    </tr>\n",
       "    <tr>\n",
       "      <th>96</th>\n",
       "      <td>Fastrack</td>\n",
       "      <td>UV Protection Aviator Sunglasses (57)</td>\n",
       "      <td>₹1,971</td>\n",
       "      <td>1% off</td>\n",
       "    </tr>\n",
       "    <tr>\n",
       "      <th>97</th>\n",
       "      <td>SUNBEE</td>\n",
       "      <td>UV Protection Round Sunglasses (Free Size)</td>\n",
       "      <td>₹314</td>\n",
       "      <td>75% off</td>\n",
       "    </tr>\n",
       "    <tr>\n",
       "      <th>98</th>\n",
       "      <td>Fravy</td>\n",
       "      <td>Polarized, UV Protection, Riding Glasses Wayfa...</td>\n",
       "      <td>₹299</td>\n",
       "      <td>80% off</td>\n",
       "    </tr>\n",
       "    <tr>\n",
       "      <th>99</th>\n",
       "      <td>ROZZETTA CRAFT</td>\n",
       "      <td>UV Protection, Riding Glasses Aviator Sunglass...</td>\n",
       "      <td>₹449</td>\n",
       "      <td>77% off</td>\n",
       "    </tr>\n",
       "  </tbody>\n",
       "</table>\n",
       "<p>100 rows × 4 columns</p>\n",
       "</div>"
      ],
      "text/plain": [
       "                Brand                                Product_Description  \\\n",
       "0            bulgaria          Others Rectangular Sunglasses (Free Size)   \n",
       "1           Rich Club        UV Protection, Others Round Sunglasses (48)   \n",
       "2           Elligator                UV Protection Round Sunglasses (54)   \n",
       "3   SHAAH COLLECTIONS  UV Protection, Polarized, Mirrored Rectangular...   \n",
       "4              PIRASO              UV Protection Aviator Sunglasses (54)   \n",
       "..                ...                                                ...   \n",
       "95        PETER JONES              Mirrored Round Sunglasses (Free Size)   \n",
       "96           Fastrack              UV Protection Aviator Sunglasses (57)   \n",
       "97             SUNBEE         UV Protection Round Sunglasses (Free Size)   \n",
       "98              Fravy  Polarized, UV Protection, Riding Glasses Wayfa...   \n",
       "99     ROZZETTA CRAFT  UV Protection, Riding Glasses Aviator Sunglass...   \n",
       "\n",
       "     Price Discount %  \n",
       "0     ₹449    43% off  \n",
       "1     ₹299    62% off  \n",
       "2     ₹295    88% off  \n",
       "3     ₹198    88% off  \n",
       "4     ₹237    85% off  \n",
       "..     ...        ...  \n",
       "95    ₹599    70% off  \n",
       "96  ₹1,971     1% off  \n",
       "97    ₹314    75% off  \n",
       "98    ₹299    80% off  \n",
       "99    ₹449    77% off  \n",
       "\n",
       "[100 rows x 4 columns]"
      ]
     },
     "execution_count": 61,
     "metadata": {},
     "output_type": "execute_result"
    }
   ],
   "source": [
    "# Create DataFrame\n",
    "import pandas as pd\n",
    "sunglasses = pd.DataFrame({})\n",
    "sunglasses['Brand'] = Brand[:100]\n",
    "sunglasses['Product_Description'] = Product[:100]\n",
    "sunglasses['Price'] = Price[:100]\n",
    "sunglasses['Discount %'] = Discount[:100]\n",
    "\n",
    "sunglasses"
   ]
  },
  {
   "cell_type": "code",
   "execution_count": null,
   "metadata": {},
   "outputs": [],
   "source": []
  },
  {
   "cell_type": "markdown",
   "metadata": {},
   "source": [
    "# Q7: Scrape 100 reviews data from flipkart.com for iphone11 phone. "
   ]
  },
  {
   "cell_type": "code",
   "execution_count": 62,
   "metadata": {},
   "outputs": [],
   "source": [
    "driver = webdriver.Chrome('chromedriver.exe')"
   ]
  },
  {
   "cell_type": "code",
   "execution_count": 376,
   "metadata": {},
   "outputs": [],
   "source": [
    "url = 'https://www.flipkart.com/apple-iphone-11-black-64-gb-includes-earpods-power-adapter/p/itm0f37c2240b217?pid=MOBFKCTSVZAXUHGR&lid=LSTMOBFKCTSVZAXUHGREPBFGI&marketplace'\n",
    "driver.get(url)"
   ]
  },
  {
   "cell_type": "code",
   "execution_count": 377,
   "metadata": {},
   "outputs": [],
   "source": [
    "# create variable \n",
    "browser = driver.find_elements_by_xpath"
   ]
  },
  {
   "cell_type": "code",
   "execution_count": 378,
   "metadata": {},
   "outputs": [
    {
     "data": {
      "text/plain": [
       "[<selenium.webdriver.remote.webelement.WebElement (session=\"157a413c10571bcc12c9b938fa30d99f\", element=\"d6e093e1-70dc-4c77-8f5c-f48d673c0aca\")>,\n",
       " <selenium.webdriver.remote.webelement.WebElement (session=\"157a413c10571bcc12c9b938fa30d99f\", element=\"077a3078-f20c-4509-b260-264f807c2f8c\")>,\n",
       " <selenium.webdriver.remote.webelement.WebElement (session=\"157a413c10571bcc12c9b938fa30d99f\", element=\"9788e58f-e0c5-498f-9197-6d4ea002ff63\")>,\n",
       " <selenium.webdriver.remote.webelement.WebElement (session=\"157a413c10571bcc12c9b938fa30d99f\", element=\"a1bf6998-df3f-4f32-abcb-4a2ec24ddcd3\")>,\n",
       " <selenium.webdriver.remote.webelement.WebElement (session=\"157a413c10571bcc12c9b938fa30d99f\", element=\"00f22d25-f1ae-465b-a28a-6b01a84345d4\")>,\n",
       " <selenium.webdriver.remote.webelement.WebElement (session=\"157a413c10571bcc12c9b938fa30d99f\", element=\"3acea04a-408b-474c-862f-c8377ecc246f\")>,\n",
       " <selenium.webdriver.remote.webelement.WebElement (session=\"157a413c10571bcc12c9b938fa30d99f\", element=\"b9f715f0-7ad4-4b94-a655-9774a7d6c337\")>,\n",
       " <selenium.webdriver.remote.webelement.WebElement (session=\"157a413c10571bcc12c9b938fa30d99f\", element=\"be67283e-f62c-48fb-b277-08e812f143e6\")>,\n",
       " <selenium.webdriver.remote.webelement.WebElement (session=\"157a413c10571bcc12c9b938fa30d99f\", element=\"ae903da1-2aa4-4a3d-b844-2e32884da3fa\")>,\n",
       " <selenium.webdriver.remote.webelement.WebElement (session=\"157a413c10571bcc12c9b938fa30d99f\", element=\"5b7637ab-60e9-4526-8833-798e86faef00\")>]"
      ]
     },
     "execution_count": 378,
     "metadata": {},
     "output_type": "execute_result"
    }
   ],
   "source": [
    "#  Scrape Rating\n",
    "r1 = browser(\"//div[@class = '_3LWZlK _1BLPMq']\")\n",
    "r1"
   ]
  },
  {
   "cell_type": "code",
   "execution_count": 379,
   "metadata": {},
   "outputs": [
    {
     "data": {
      "text/plain": [
       "10"
      ]
     },
     "execution_count": 379,
     "metadata": {},
     "output_type": "execute_result"
    }
   ],
   "source": [
    "len(r1)"
   ]
  },
  {
   "cell_type": "code",
   "execution_count": 380,
   "metadata": {},
   "outputs": [
    {
     "data": {
      "text/plain": [
       "[<selenium.webdriver.remote.webelement.WebElement (session=\"157a413c10571bcc12c9b938fa30d99f\", element=\"ffffc1f6-ff59-4cbb-a926-88d2c326146b\")>,\n",
       " <selenium.webdriver.remote.webelement.WebElement (session=\"157a413c10571bcc12c9b938fa30d99f\", element=\"c80fcdc4-de83-40cd-8cdb-9299a0adcfd2\")>,\n",
       " <selenium.webdriver.remote.webelement.WebElement (session=\"157a413c10571bcc12c9b938fa30d99f\", element=\"2e43a690-feb4-4e0e-a23f-1381b89397ab\")>,\n",
       " <selenium.webdriver.remote.webelement.WebElement (session=\"157a413c10571bcc12c9b938fa30d99f\", element=\"f728c6f6-14da-4aa3-a8b1-3f0da6d7a046\")>,\n",
       " <selenium.webdriver.remote.webelement.WebElement (session=\"157a413c10571bcc12c9b938fa30d99f\", element=\"838179b4-cdf7-4129-8dda-703adf4ac603\")>,\n",
       " <selenium.webdriver.remote.webelement.WebElement (session=\"157a413c10571bcc12c9b938fa30d99f\", element=\"08dc82a7-1e99-4240-979e-73c9025f9e8e\")>,\n",
       " <selenium.webdriver.remote.webelement.WebElement (session=\"157a413c10571bcc12c9b938fa30d99f\", element=\"4b9cf150-6759-406c-86f7-8ac7f32c867b\")>,\n",
       " <selenium.webdriver.remote.webelement.WebElement (session=\"157a413c10571bcc12c9b938fa30d99f\", element=\"e5497735-bf5d-4413-b7ab-95416e88b525\")>,\n",
       " <selenium.webdriver.remote.webelement.WebElement (session=\"157a413c10571bcc12c9b938fa30d99f\", element=\"5b600261-256f-4991-9a08-95c7f18e926f\")>,\n",
       " <selenium.webdriver.remote.webelement.WebElement (session=\"157a413c10571bcc12c9b938fa30d99f\", element=\"c7864a63-94bb-4c26-9225-7f71aa56a449\")>]"
      ]
     },
     "execution_count": 380,
     "metadata": {},
     "output_type": "execute_result"
    }
   ],
   "source": [
    "# Review - summary\n",
    "s1 = browser(\"//p[@class = '_2-N8zT']\")\n",
    "s1"
   ]
  },
  {
   "cell_type": "code",
   "execution_count": 68,
   "metadata": {},
   "outputs": [
    {
     "data": {
      "text/plain": [
       "10"
      ]
     },
     "execution_count": 68,
     "metadata": {},
     "output_type": "execute_result"
    }
   ],
   "source": [
    "len(s1)"
   ]
  },
  {
   "cell_type": "code",
   "execution_count": 381,
   "metadata": {},
   "outputs": [
    {
     "data": {
      "text/plain": [
       "[<selenium.webdriver.remote.webelement.WebElement (session=\"157a413c10571bcc12c9b938fa30d99f\", element=\"0ee704c1-f255-4087-8077-5baa34b585a1\")>,\n",
       " <selenium.webdriver.remote.webelement.WebElement (session=\"157a413c10571bcc12c9b938fa30d99f\", element=\"6a296a9b-3a0b-4012-8498-ceca1a28757f\")>,\n",
       " <selenium.webdriver.remote.webelement.WebElement (session=\"157a413c10571bcc12c9b938fa30d99f\", element=\"392abba6-20ce-4159-991f-790f12cd9629\")>,\n",
       " <selenium.webdriver.remote.webelement.WebElement (session=\"157a413c10571bcc12c9b938fa30d99f\", element=\"03a4a06d-75dc-4d9c-8ca7-fe92bf63498e\")>,\n",
       " <selenium.webdriver.remote.webelement.WebElement (session=\"157a413c10571bcc12c9b938fa30d99f\", element=\"df6b2e39-b3b9-4ec7-8949-48b6106b1ac2\")>,\n",
       " <selenium.webdriver.remote.webelement.WebElement (session=\"157a413c10571bcc12c9b938fa30d99f\", element=\"3dd9c0bd-ff2e-4c27-9fdf-342cd0c35a70\")>,\n",
       " <selenium.webdriver.remote.webelement.WebElement (session=\"157a413c10571bcc12c9b938fa30d99f\", element=\"9d5a1d45-6261-4597-ad58-f765209e2d22\")>,\n",
       " <selenium.webdriver.remote.webelement.WebElement (session=\"157a413c10571bcc12c9b938fa30d99f\", element=\"c8fbb858-990e-430c-97e5-a88de29fe0a7\")>,\n",
       " <selenium.webdriver.remote.webelement.WebElement (session=\"157a413c10571bcc12c9b938fa30d99f\", element=\"cf3f5b0c-9362-4a21-a5ed-57cc2a545e30\")>,\n",
       " <selenium.webdriver.remote.webelement.WebElement (session=\"157a413c10571bcc12c9b938fa30d99f\", element=\"246e0eee-74c4-4f63-93c9-890b040dd438\")>]"
      ]
     },
     "execution_count": 381,
     "metadata": {},
     "output_type": "execute_result"
    }
   ],
   "source": [
    "# Full- Review\n",
    "f1 = browser(\"//div[@class = 't-ZTKy']\")\n",
    "f1"
   ]
  },
  {
   "cell_type": "code",
   "execution_count": 70,
   "metadata": {},
   "outputs": [
    {
     "data": {
      "text/plain": [
       "10"
      ]
     },
     "execution_count": 70,
     "metadata": {},
     "output_type": "execute_result"
    }
   ],
   "source": [
    "len(f1)"
   ]
  },
  {
   "cell_type": "code",
   "execution_count": 131,
   "metadata": {},
   "outputs": [
    {
     "data": {
      "text/plain": [
       "<selenium.webdriver.remote.webelement.WebElement (session=\"0aeeec9d3f40c733ff08d0eab276ae17\", element=\"bb67e87f-7254-4203-8892-d21e4c0e970f\")>"
      ]
     },
     "execution_count": 131,
     "metadata": {},
     "output_type": "execute_result"
    }
   ],
   "source": [
    "# More Reviews \n",
    "button = driver.find_element_by_xpath(\"//div[@class = '_3UAT2v _16PBlm']\")\n",
    "button"
   ]
  },
  {
   "cell_type": "code",
   "execution_count": 132,
   "metadata": {},
   "outputs": [],
   "source": [
    "button.click()"
   ]
  },
  {
   "cell_type": "code",
   "execution_count": 135,
   "metadata": {},
   "outputs": [
    {
     "data": {
      "text/plain": [
       "<selenium.webdriver.remote.webelement.WebElement (session=\"0aeeec9d3f40c733ff08d0eab276ae17\", element=\"d0407f23-6df6-4e9b-bdac-e80bc3627837\")>"
      ]
     },
     "execution_count": 135,
     "metadata": {},
     "output_type": "execute_result"
    }
   ],
   "source": [
    "# For click on next page\n",
    "next1 = driver.find_element_by_xpath(\"//a[@class = '_1LKTO3']\")\n",
    "next1"
   ]
  },
  {
   "cell_type": "code",
   "execution_count": 136,
   "metadata": {},
   "outputs": [],
   "source": [
    "next1.click()"
   ]
  },
  {
   "cell_type": "code",
   "execution_count": 382,
   "metadata": {},
   "outputs": [
    {
     "data": {
      "text/plain": [
       "[<selenium.webdriver.remote.webelement.WebElement (session=\"157a413c10571bcc12c9b938fa30d99f\", element=\"d6e093e1-70dc-4c77-8f5c-f48d673c0aca\")>,\n",
       " <selenium.webdriver.remote.webelement.WebElement (session=\"157a413c10571bcc12c9b938fa30d99f\", element=\"077a3078-f20c-4509-b260-264f807c2f8c\")>,\n",
       " <selenium.webdriver.remote.webelement.WebElement (session=\"157a413c10571bcc12c9b938fa30d99f\", element=\"9788e58f-e0c5-498f-9197-6d4ea002ff63\")>,\n",
       " <selenium.webdriver.remote.webelement.WebElement (session=\"157a413c10571bcc12c9b938fa30d99f\", element=\"a1bf6998-df3f-4f32-abcb-4a2ec24ddcd3\")>,\n",
       " <selenium.webdriver.remote.webelement.WebElement (session=\"157a413c10571bcc12c9b938fa30d99f\", element=\"00f22d25-f1ae-465b-a28a-6b01a84345d4\")>,\n",
       " <selenium.webdriver.remote.webelement.WebElement (session=\"157a413c10571bcc12c9b938fa30d99f\", element=\"3acea04a-408b-474c-862f-c8377ecc246f\")>,\n",
       " <selenium.webdriver.remote.webelement.WebElement (session=\"157a413c10571bcc12c9b938fa30d99f\", element=\"b9f715f0-7ad4-4b94-a655-9774a7d6c337\")>,\n",
       " <selenium.webdriver.remote.webelement.WebElement (session=\"157a413c10571bcc12c9b938fa30d99f\", element=\"be67283e-f62c-48fb-b277-08e812f143e6\")>,\n",
       " <selenium.webdriver.remote.webelement.WebElement (session=\"157a413c10571bcc12c9b938fa30d99f\", element=\"ae903da1-2aa4-4a3d-b844-2e32884da3fa\")>,\n",
       " <selenium.webdriver.remote.webelement.WebElement (session=\"157a413c10571bcc12c9b938fa30d99f\", element=\"5b7637ab-60e9-4526-8833-798e86faef00\")>]"
      ]
     },
     "execution_count": 382,
     "metadata": {},
     "output_type": "execute_result"
    }
   ],
   "source": [
    "r2 =browser(\"//div[@class = '_3LWZlK _1BLPMq']\")\n",
    "r2"
   ]
  },
  {
   "cell_type": "code",
   "execution_count": 81,
   "metadata": {},
   "outputs": [
    {
     "data": {
      "text/plain": [
       "10"
      ]
     },
     "execution_count": 81,
     "metadata": {},
     "output_type": "execute_result"
    }
   ],
   "source": [
    "len(r2)"
   ]
  },
  {
   "cell_type": "code",
   "execution_count": 383,
   "metadata": {},
   "outputs": [
    {
     "data": {
      "text/plain": [
       "[<selenium.webdriver.remote.webelement.WebElement (session=\"157a413c10571bcc12c9b938fa30d99f\", element=\"ffffc1f6-ff59-4cbb-a926-88d2c326146b\")>,\n",
       " <selenium.webdriver.remote.webelement.WebElement (session=\"157a413c10571bcc12c9b938fa30d99f\", element=\"c80fcdc4-de83-40cd-8cdb-9299a0adcfd2\")>,\n",
       " <selenium.webdriver.remote.webelement.WebElement (session=\"157a413c10571bcc12c9b938fa30d99f\", element=\"2e43a690-feb4-4e0e-a23f-1381b89397ab\")>,\n",
       " <selenium.webdriver.remote.webelement.WebElement (session=\"157a413c10571bcc12c9b938fa30d99f\", element=\"f728c6f6-14da-4aa3-a8b1-3f0da6d7a046\")>,\n",
       " <selenium.webdriver.remote.webelement.WebElement (session=\"157a413c10571bcc12c9b938fa30d99f\", element=\"838179b4-cdf7-4129-8dda-703adf4ac603\")>,\n",
       " <selenium.webdriver.remote.webelement.WebElement (session=\"157a413c10571bcc12c9b938fa30d99f\", element=\"08dc82a7-1e99-4240-979e-73c9025f9e8e\")>,\n",
       " <selenium.webdriver.remote.webelement.WebElement (session=\"157a413c10571bcc12c9b938fa30d99f\", element=\"4b9cf150-6759-406c-86f7-8ac7f32c867b\")>,\n",
       " <selenium.webdriver.remote.webelement.WebElement (session=\"157a413c10571bcc12c9b938fa30d99f\", element=\"e5497735-bf5d-4413-b7ab-95416e88b525\")>,\n",
       " <selenium.webdriver.remote.webelement.WebElement (session=\"157a413c10571bcc12c9b938fa30d99f\", element=\"5b600261-256f-4991-9a08-95c7f18e926f\")>,\n",
       " <selenium.webdriver.remote.webelement.WebElement (session=\"157a413c10571bcc12c9b938fa30d99f\", element=\"c7864a63-94bb-4c26-9225-7f71aa56a449\")>]"
      ]
     },
     "execution_count": 383,
     "metadata": {},
     "output_type": "execute_result"
    }
   ],
   "source": [
    "s2 = browser(\"//p[@class = '_2-N8zT']\")\n",
    "s2"
   ]
  },
  {
   "cell_type": "code",
   "execution_count": 119,
   "metadata": {},
   "outputs": [
    {
     "data": {
      "text/plain": [
       "10"
      ]
     },
     "execution_count": 119,
     "metadata": {},
     "output_type": "execute_result"
    }
   ],
   "source": [
    "len(s2)"
   ]
  },
  {
   "cell_type": "code",
   "execution_count": 384,
   "metadata": {},
   "outputs": [
    {
     "data": {
      "text/plain": [
       "[<selenium.webdriver.remote.webelement.WebElement (session=\"157a413c10571bcc12c9b938fa30d99f\", element=\"0ee704c1-f255-4087-8077-5baa34b585a1\")>,\n",
       " <selenium.webdriver.remote.webelement.WebElement (session=\"157a413c10571bcc12c9b938fa30d99f\", element=\"6a296a9b-3a0b-4012-8498-ceca1a28757f\")>,\n",
       " <selenium.webdriver.remote.webelement.WebElement (session=\"157a413c10571bcc12c9b938fa30d99f\", element=\"392abba6-20ce-4159-991f-790f12cd9629\")>,\n",
       " <selenium.webdriver.remote.webelement.WebElement (session=\"157a413c10571bcc12c9b938fa30d99f\", element=\"03a4a06d-75dc-4d9c-8ca7-fe92bf63498e\")>,\n",
       " <selenium.webdriver.remote.webelement.WebElement (session=\"157a413c10571bcc12c9b938fa30d99f\", element=\"df6b2e39-b3b9-4ec7-8949-48b6106b1ac2\")>,\n",
       " <selenium.webdriver.remote.webelement.WebElement (session=\"157a413c10571bcc12c9b938fa30d99f\", element=\"3dd9c0bd-ff2e-4c27-9fdf-342cd0c35a70\")>,\n",
       " <selenium.webdriver.remote.webelement.WebElement (session=\"157a413c10571bcc12c9b938fa30d99f\", element=\"9d5a1d45-6261-4597-ad58-f765209e2d22\")>,\n",
       " <selenium.webdriver.remote.webelement.WebElement (session=\"157a413c10571bcc12c9b938fa30d99f\", element=\"c8fbb858-990e-430c-97e5-a88de29fe0a7\")>,\n",
       " <selenium.webdriver.remote.webelement.WebElement (session=\"157a413c10571bcc12c9b938fa30d99f\", element=\"cf3f5b0c-9362-4a21-a5ed-57cc2a545e30\")>,\n",
       " <selenium.webdriver.remote.webelement.WebElement (session=\"157a413c10571bcc12c9b938fa30d99f\", element=\"246e0eee-74c4-4f63-93c9-890b040dd438\")>]"
      ]
     },
     "execution_count": 384,
     "metadata": {},
     "output_type": "execute_result"
    }
   ],
   "source": [
    "f2 = browser(\"//div[@class = 't-ZTKy']\")\n",
    "f2"
   ]
  },
  {
   "cell_type": "code",
   "execution_count": 124,
   "metadata": {},
   "outputs": [
    {
     "data": {
      "text/plain": [
       "10"
      ]
     },
     "execution_count": 124,
     "metadata": {},
     "output_type": "execute_result"
    }
   ],
   "source": [
    "len(f2)"
   ]
  },
  {
   "cell_type": "code",
   "execution_count": 159,
   "metadata": {},
   "outputs": [],
   "source": [
    "next2 = driver.find_element_by_xpath(\"//a[@class = 'ge-49M']\")\n",
    "next2.click()"
   ]
  },
  {
   "cell_type": "code",
   "execution_count": 385,
   "metadata": {},
   "outputs": [
    {
     "data": {
      "text/plain": [
       "[<selenium.webdriver.remote.webelement.WebElement (session=\"157a413c10571bcc12c9b938fa30d99f\", element=\"d6e093e1-70dc-4c77-8f5c-f48d673c0aca\")>,\n",
       " <selenium.webdriver.remote.webelement.WebElement (session=\"157a413c10571bcc12c9b938fa30d99f\", element=\"077a3078-f20c-4509-b260-264f807c2f8c\")>,\n",
       " <selenium.webdriver.remote.webelement.WebElement (session=\"157a413c10571bcc12c9b938fa30d99f\", element=\"9788e58f-e0c5-498f-9197-6d4ea002ff63\")>,\n",
       " <selenium.webdriver.remote.webelement.WebElement (session=\"157a413c10571bcc12c9b938fa30d99f\", element=\"a1bf6998-df3f-4f32-abcb-4a2ec24ddcd3\")>,\n",
       " <selenium.webdriver.remote.webelement.WebElement (session=\"157a413c10571bcc12c9b938fa30d99f\", element=\"00f22d25-f1ae-465b-a28a-6b01a84345d4\")>,\n",
       " <selenium.webdriver.remote.webelement.WebElement (session=\"157a413c10571bcc12c9b938fa30d99f\", element=\"3acea04a-408b-474c-862f-c8377ecc246f\")>,\n",
       " <selenium.webdriver.remote.webelement.WebElement (session=\"157a413c10571bcc12c9b938fa30d99f\", element=\"b9f715f0-7ad4-4b94-a655-9774a7d6c337\")>,\n",
       " <selenium.webdriver.remote.webelement.WebElement (session=\"157a413c10571bcc12c9b938fa30d99f\", element=\"be67283e-f62c-48fb-b277-08e812f143e6\")>,\n",
       " <selenium.webdriver.remote.webelement.WebElement (session=\"157a413c10571bcc12c9b938fa30d99f\", element=\"ae903da1-2aa4-4a3d-b844-2e32884da3fa\")>,\n",
       " <selenium.webdriver.remote.webelement.WebElement (session=\"157a413c10571bcc12c9b938fa30d99f\", element=\"5b7637ab-60e9-4526-8833-798e86faef00\")>]"
      ]
     },
     "execution_count": 385,
     "metadata": {},
     "output_type": "execute_result"
    }
   ],
   "source": [
    "r3 = browser(\"//div[@class = '_3LWZlK _1BLPMq']\")\n",
    "r3"
   ]
  },
  {
   "cell_type": "code",
   "execution_count": 148,
   "metadata": {},
   "outputs": [
    {
     "data": {
      "text/plain": [
       "10"
      ]
     },
     "execution_count": 148,
     "metadata": {},
     "output_type": "execute_result"
    }
   ],
   "source": [
    "len(r3)"
   ]
  },
  {
   "cell_type": "code",
   "execution_count": 386,
   "metadata": {},
   "outputs": [
    {
     "data": {
      "text/plain": [
       "[<selenium.webdriver.remote.webelement.WebElement (session=\"157a413c10571bcc12c9b938fa30d99f\", element=\"ffffc1f6-ff59-4cbb-a926-88d2c326146b\")>,\n",
       " <selenium.webdriver.remote.webelement.WebElement (session=\"157a413c10571bcc12c9b938fa30d99f\", element=\"c80fcdc4-de83-40cd-8cdb-9299a0adcfd2\")>,\n",
       " <selenium.webdriver.remote.webelement.WebElement (session=\"157a413c10571bcc12c9b938fa30d99f\", element=\"2e43a690-feb4-4e0e-a23f-1381b89397ab\")>,\n",
       " <selenium.webdriver.remote.webelement.WebElement (session=\"157a413c10571bcc12c9b938fa30d99f\", element=\"f728c6f6-14da-4aa3-a8b1-3f0da6d7a046\")>,\n",
       " <selenium.webdriver.remote.webelement.WebElement (session=\"157a413c10571bcc12c9b938fa30d99f\", element=\"838179b4-cdf7-4129-8dda-703adf4ac603\")>,\n",
       " <selenium.webdriver.remote.webelement.WebElement (session=\"157a413c10571bcc12c9b938fa30d99f\", element=\"08dc82a7-1e99-4240-979e-73c9025f9e8e\")>,\n",
       " <selenium.webdriver.remote.webelement.WebElement (session=\"157a413c10571bcc12c9b938fa30d99f\", element=\"4b9cf150-6759-406c-86f7-8ac7f32c867b\")>,\n",
       " <selenium.webdriver.remote.webelement.WebElement (session=\"157a413c10571bcc12c9b938fa30d99f\", element=\"e5497735-bf5d-4413-b7ab-95416e88b525\")>,\n",
       " <selenium.webdriver.remote.webelement.WebElement (session=\"157a413c10571bcc12c9b938fa30d99f\", element=\"5b600261-256f-4991-9a08-95c7f18e926f\")>,\n",
       " <selenium.webdriver.remote.webelement.WebElement (session=\"157a413c10571bcc12c9b938fa30d99f\", element=\"c7864a63-94bb-4c26-9225-7f71aa56a449\")>]"
      ]
     },
     "execution_count": 386,
     "metadata": {},
     "output_type": "execute_result"
    }
   ],
   "source": [
    "s3 =browser(\"//p[@class = '_2-N8zT']\")\n",
    "s3"
   ]
  },
  {
   "cell_type": "code",
   "execution_count": 150,
   "metadata": {},
   "outputs": [
    {
     "data": {
      "text/plain": [
       "10"
      ]
     },
     "execution_count": 150,
     "metadata": {},
     "output_type": "execute_result"
    }
   ],
   "source": [
    "len(s3)"
   ]
  },
  {
   "cell_type": "code",
   "execution_count": 387,
   "metadata": {},
   "outputs": [
    {
     "data": {
      "text/plain": [
       "[<selenium.webdriver.remote.webelement.WebElement (session=\"157a413c10571bcc12c9b938fa30d99f\", element=\"0ee704c1-f255-4087-8077-5baa34b585a1\")>,\n",
       " <selenium.webdriver.remote.webelement.WebElement (session=\"157a413c10571bcc12c9b938fa30d99f\", element=\"6a296a9b-3a0b-4012-8498-ceca1a28757f\")>,\n",
       " <selenium.webdriver.remote.webelement.WebElement (session=\"157a413c10571bcc12c9b938fa30d99f\", element=\"392abba6-20ce-4159-991f-790f12cd9629\")>,\n",
       " <selenium.webdriver.remote.webelement.WebElement (session=\"157a413c10571bcc12c9b938fa30d99f\", element=\"03a4a06d-75dc-4d9c-8ca7-fe92bf63498e\")>,\n",
       " <selenium.webdriver.remote.webelement.WebElement (session=\"157a413c10571bcc12c9b938fa30d99f\", element=\"df6b2e39-b3b9-4ec7-8949-48b6106b1ac2\")>,\n",
       " <selenium.webdriver.remote.webelement.WebElement (session=\"157a413c10571bcc12c9b938fa30d99f\", element=\"3dd9c0bd-ff2e-4c27-9fdf-342cd0c35a70\")>,\n",
       " <selenium.webdriver.remote.webelement.WebElement (session=\"157a413c10571bcc12c9b938fa30d99f\", element=\"9d5a1d45-6261-4597-ad58-f765209e2d22\")>,\n",
       " <selenium.webdriver.remote.webelement.WebElement (session=\"157a413c10571bcc12c9b938fa30d99f\", element=\"c8fbb858-990e-430c-97e5-a88de29fe0a7\")>,\n",
       " <selenium.webdriver.remote.webelement.WebElement (session=\"157a413c10571bcc12c9b938fa30d99f\", element=\"cf3f5b0c-9362-4a21-a5ed-57cc2a545e30\")>,\n",
       " <selenium.webdriver.remote.webelement.WebElement (session=\"157a413c10571bcc12c9b938fa30d99f\", element=\"246e0eee-74c4-4f63-93c9-890b040dd438\")>]"
      ]
     },
     "execution_count": 387,
     "metadata": {},
     "output_type": "execute_result"
    }
   ],
   "source": [
    "f3 = browser(\"//div[@class = 't-ZTKy']\")\n",
    "f3"
   ]
  },
  {
   "cell_type": "code",
   "execution_count": 152,
   "metadata": {},
   "outputs": [
    {
     "data": {
      "text/plain": [
       "10"
      ]
     },
     "execution_count": 152,
     "metadata": {},
     "output_type": "execute_result"
    }
   ],
   "source": [
    "len(f3)"
   ]
  },
  {
   "cell_type": "code",
   "execution_count": 388,
   "metadata": {},
   "outputs": [
    {
     "data": {
      "text/plain": [
       "[<selenium.webdriver.remote.webelement.WebElement (session=\"157a413c10571bcc12c9b938fa30d99f\", element=\"d6e093e1-70dc-4c77-8f5c-f48d673c0aca\")>,\n",
       " <selenium.webdriver.remote.webelement.WebElement (session=\"157a413c10571bcc12c9b938fa30d99f\", element=\"077a3078-f20c-4509-b260-264f807c2f8c\")>,\n",
       " <selenium.webdriver.remote.webelement.WebElement (session=\"157a413c10571bcc12c9b938fa30d99f\", element=\"9788e58f-e0c5-498f-9197-6d4ea002ff63\")>,\n",
       " <selenium.webdriver.remote.webelement.WebElement (session=\"157a413c10571bcc12c9b938fa30d99f\", element=\"a1bf6998-df3f-4f32-abcb-4a2ec24ddcd3\")>,\n",
       " <selenium.webdriver.remote.webelement.WebElement (session=\"157a413c10571bcc12c9b938fa30d99f\", element=\"00f22d25-f1ae-465b-a28a-6b01a84345d4\")>,\n",
       " <selenium.webdriver.remote.webelement.WebElement (session=\"157a413c10571bcc12c9b938fa30d99f\", element=\"3acea04a-408b-474c-862f-c8377ecc246f\")>,\n",
       " <selenium.webdriver.remote.webelement.WebElement (session=\"157a413c10571bcc12c9b938fa30d99f\", element=\"b9f715f0-7ad4-4b94-a655-9774a7d6c337\")>,\n",
       " <selenium.webdriver.remote.webelement.WebElement (session=\"157a413c10571bcc12c9b938fa30d99f\", element=\"be67283e-f62c-48fb-b277-08e812f143e6\")>,\n",
       " <selenium.webdriver.remote.webelement.WebElement (session=\"157a413c10571bcc12c9b938fa30d99f\", element=\"ae903da1-2aa4-4a3d-b844-2e32884da3fa\")>,\n",
       " <selenium.webdriver.remote.webelement.WebElement (session=\"157a413c10571bcc12c9b938fa30d99f\", element=\"5b7637ab-60e9-4526-8833-798e86faef00\")>]"
      ]
     },
     "execution_count": 388,
     "metadata": {},
     "output_type": "execute_result"
    }
   ],
   "source": [
    "r4 = browser(\"//div[@class = '_3LWZlK _1BLPMq']\")\n",
    "r4"
   ]
  },
  {
   "cell_type": "code",
   "execution_count": 154,
   "metadata": {},
   "outputs": [
    {
     "data": {
      "text/plain": [
       "10"
      ]
     },
     "execution_count": 154,
     "metadata": {},
     "output_type": "execute_result"
    }
   ],
   "source": [
    "len(r4)"
   ]
  },
  {
   "cell_type": "code",
   "execution_count": 389,
   "metadata": {},
   "outputs": [
    {
     "data": {
      "text/plain": [
       "[<selenium.webdriver.remote.webelement.WebElement (session=\"157a413c10571bcc12c9b938fa30d99f\", element=\"ffffc1f6-ff59-4cbb-a926-88d2c326146b\")>,\n",
       " <selenium.webdriver.remote.webelement.WebElement (session=\"157a413c10571bcc12c9b938fa30d99f\", element=\"c80fcdc4-de83-40cd-8cdb-9299a0adcfd2\")>,\n",
       " <selenium.webdriver.remote.webelement.WebElement (session=\"157a413c10571bcc12c9b938fa30d99f\", element=\"2e43a690-feb4-4e0e-a23f-1381b89397ab\")>,\n",
       " <selenium.webdriver.remote.webelement.WebElement (session=\"157a413c10571bcc12c9b938fa30d99f\", element=\"f728c6f6-14da-4aa3-a8b1-3f0da6d7a046\")>,\n",
       " <selenium.webdriver.remote.webelement.WebElement (session=\"157a413c10571bcc12c9b938fa30d99f\", element=\"838179b4-cdf7-4129-8dda-703adf4ac603\")>,\n",
       " <selenium.webdriver.remote.webelement.WebElement (session=\"157a413c10571bcc12c9b938fa30d99f\", element=\"08dc82a7-1e99-4240-979e-73c9025f9e8e\")>,\n",
       " <selenium.webdriver.remote.webelement.WebElement (session=\"157a413c10571bcc12c9b938fa30d99f\", element=\"4b9cf150-6759-406c-86f7-8ac7f32c867b\")>,\n",
       " <selenium.webdriver.remote.webelement.WebElement (session=\"157a413c10571bcc12c9b938fa30d99f\", element=\"e5497735-bf5d-4413-b7ab-95416e88b525\")>,\n",
       " <selenium.webdriver.remote.webelement.WebElement (session=\"157a413c10571bcc12c9b938fa30d99f\", element=\"5b600261-256f-4991-9a08-95c7f18e926f\")>,\n",
       " <selenium.webdriver.remote.webelement.WebElement (session=\"157a413c10571bcc12c9b938fa30d99f\", element=\"c7864a63-94bb-4c26-9225-7f71aa56a449\")>]"
      ]
     },
     "execution_count": 389,
     "metadata": {},
     "output_type": "execute_result"
    }
   ],
   "source": [
    "s4 = browser(\"//p[@class = '_2-N8zT']\")\n",
    "s4"
   ]
  },
  {
   "cell_type": "code",
   "execution_count": 156,
   "metadata": {},
   "outputs": [
    {
     "data": {
      "text/plain": [
       "10"
      ]
     },
     "execution_count": 156,
     "metadata": {},
     "output_type": "execute_result"
    }
   ],
   "source": [
    "len(s4)"
   ]
  },
  {
   "cell_type": "code",
   "execution_count": 390,
   "metadata": {},
   "outputs": [
    {
     "data": {
      "text/plain": [
       "[<selenium.webdriver.remote.webelement.WebElement (session=\"157a413c10571bcc12c9b938fa30d99f\", element=\"0ee704c1-f255-4087-8077-5baa34b585a1\")>,\n",
       " <selenium.webdriver.remote.webelement.WebElement (session=\"157a413c10571bcc12c9b938fa30d99f\", element=\"6a296a9b-3a0b-4012-8498-ceca1a28757f\")>,\n",
       " <selenium.webdriver.remote.webelement.WebElement (session=\"157a413c10571bcc12c9b938fa30d99f\", element=\"392abba6-20ce-4159-991f-790f12cd9629\")>,\n",
       " <selenium.webdriver.remote.webelement.WebElement (session=\"157a413c10571bcc12c9b938fa30d99f\", element=\"03a4a06d-75dc-4d9c-8ca7-fe92bf63498e\")>,\n",
       " <selenium.webdriver.remote.webelement.WebElement (session=\"157a413c10571bcc12c9b938fa30d99f\", element=\"df6b2e39-b3b9-4ec7-8949-48b6106b1ac2\")>,\n",
       " <selenium.webdriver.remote.webelement.WebElement (session=\"157a413c10571bcc12c9b938fa30d99f\", element=\"3dd9c0bd-ff2e-4c27-9fdf-342cd0c35a70\")>,\n",
       " <selenium.webdriver.remote.webelement.WebElement (session=\"157a413c10571bcc12c9b938fa30d99f\", element=\"9d5a1d45-6261-4597-ad58-f765209e2d22\")>,\n",
       " <selenium.webdriver.remote.webelement.WebElement (session=\"157a413c10571bcc12c9b938fa30d99f\", element=\"c8fbb858-990e-430c-97e5-a88de29fe0a7\")>,\n",
       " <selenium.webdriver.remote.webelement.WebElement (session=\"157a413c10571bcc12c9b938fa30d99f\", element=\"cf3f5b0c-9362-4a21-a5ed-57cc2a545e30\")>,\n",
       " <selenium.webdriver.remote.webelement.WebElement (session=\"157a413c10571bcc12c9b938fa30d99f\", element=\"246e0eee-74c4-4f63-93c9-890b040dd438\")>]"
      ]
     },
     "execution_count": 390,
     "metadata": {},
     "output_type": "execute_result"
    }
   ],
   "source": [
    "f4 = browser(\"//div[@class = 't-ZTKy']\")\n",
    "f4"
   ]
  },
  {
   "cell_type": "code",
   "execution_count": 158,
   "metadata": {},
   "outputs": [
    {
     "data": {
      "text/plain": [
       "10"
      ]
     },
     "execution_count": 158,
     "metadata": {},
     "output_type": "execute_result"
    }
   ],
   "source": [
    "len(f4)"
   ]
  },
  {
   "cell_type": "code",
   "execution_count": 391,
   "metadata": {},
   "outputs": [
    {
     "data": {
      "text/plain": [
       "[<selenium.webdriver.remote.webelement.WebElement (session=\"157a413c10571bcc12c9b938fa30d99f\", element=\"d6e093e1-70dc-4c77-8f5c-f48d673c0aca\")>,\n",
       " <selenium.webdriver.remote.webelement.WebElement (session=\"157a413c10571bcc12c9b938fa30d99f\", element=\"077a3078-f20c-4509-b260-264f807c2f8c\")>,\n",
       " <selenium.webdriver.remote.webelement.WebElement (session=\"157a413c10571bcc12c9b938fa30d99f\", element=\"9788e58f-e0c5-498f-9197-6d4ea002ff63\")>,\n",
       " <selenium.webdriver.remote.webelement.WebElement (session=\"157a413c10571bcc12c9b938fa30d99f\", element=\"a1bf6998-df3f-4f32-abcb-4a2ec24ddcd3\")>,\n",
       " <selenium.webdriver.remote.webelement.WebElement (session=\"157a413c10571bcc12c9b938fa30d99f\", element=\"00f22d25-f1ae-465b-a28a-6b01a84345d4\")>,\n",
       " <selenium.webdriver.remote.webelement.WebElement (session=\"157a413c10571bcc12c9b938fa30d99f\", element=\"3acea04a-408b-474c-862f-c8377ecc246f\")>,\n",
       " <selenium.webdriver.remote.webelement.WebElement (session=\"157a413c10571bcc12c9b938fa30d99f\", element=\"b9f715f0-7ad4-4b94-a655-9774a7d6c337\")>,\n",
       " <selenium.webdriver.remote.webelement.WebElement (session=\"157a413c10571bcc12c9b938fa30d99f\", element=\"be67283e-f62c-48fb-b277-08e812f143e6\")>,\n",
       " <selenium.webdriver.remote.webelement.WebElement (session=\"157a413c10571bcc12c9b938fa30d99f\", element=\"ae903da1-2aa4-4a3d-b844-2e32884da3fa\")>,\n",
       " <selenium.webdriver.remote.webelement.WebElement (session=\"157a413c10571bcc12c9b938fa30d99f\", element=\"5b7637ab-60e9-4526-8833-798e86faef00\")>]"
      ]
     },
     "execution_count": 391,
     "metadata": {},
     "output_type": "execute_result"
    }
   ],
   "source": [
    "r5 = browser(\"//div[@class = '_3LWZlK _1BLPMq']\")\n",
    "r5"
   ]
  },
  {
   "cell_type": "code",
   "execution_count": 161,
   "metadata": {},
   "outputs": [
    {
     "data": {
      "text/plain": [
       "10"
      ]
     },
     "execution_count": 161,
     "metadata": {},
     "output_type": "execute_result"
    }
   ],
   "source": [
    "len(r5)"
   ]
  },
  {
   "cell_type": "code",
   "execution_count": 392,
   "metadata": {},
   "outputs": [
    {
     "data": {
      "text/plain": [
       "[<selenium.webdriver.remote.webelement.WebElement (session=\"157a413c10571bcc12c9b938fa30d99f\", element=\"ffffc1f6-ff59-4cbb-a926-88d2c326146b\")>,\n",
       " <selenium.webdriver.remote.webelement.WebElement (session=\"157a413c10571bcc12c9b938fa30d99f\", element=\"c80fcdc4-de83-40cd-8cdb-9299a0adcfd2\")>,\n",
       " <selenium.webdriver.remote.webelement.WebElement (session=\"157a413c10571bcc12c9b938fa30d99f\", element=\"2e43a690-feb4-4e0e-a23f-1381b89397ab\")>,\n",
       " <selenium.webdriver.remote.webelement.WebElement (session=\"157a413c10571bcc12c9b938fa30d99f\", element=\"f728c6f6-14da-4aa3-a8b1-3f0da6d7a046\")>,\n",
       " <selenium.webdriver.remote.webelement.WebElement (session=\"157a413c10571bcc12c9b938fa30d99f\", element=\"838179b4-cdf7-4129-8dda-703adf4ac603\")>,\n",
       " <selenium.webdriver.remote.webelement.WebElement (session=\"157a413c10571bcc12c9b938fa30d99f\", element=\"08dc82a7-1e99-4240-979e-73c9025f9e8e\")>,\n",
       " <selenium.webdriver.remote.webelement.WebElement (session=\"157a413c10571bcc12c9b938fa30d99f\", element=\"4b9cf150-6759-406c-86f7-8ac7f32c867b\")>,\n",
       " <selenium.webdriver.remote.webelement.WebElement (session=\"157a413c10571bcc12c9b938fa30d99f\", element=\"e5497735-bf5d-4413-b7ab-95416e88b525\")>,\n",
       " <selenium.webdriver.remote.webelement.WebElement (session=\"157a413c10571bcc12c9b938fa30d99f\", element=\"5b600261-256f-4991-9a08-95c7f18e926f\")>,\n",
       " <selenium.webdriver.remote.webelement.WebElement (session=\"157a413c10571bcc12c9b938fa30d99f\", element=\"c7864a63-94bb-4c26-9225-7f71aa56a449\")>]"
      ]
     },
     "execution_count": 392,
     "metadata": {},
     "output_type": "execute_result"
    }
   ],
   "source": [
    "s5 = browser(\"//p[@class = '_2-N8zT']\")\n",
    "s5"
   ]
  },
  {
   "cell_type": "code",
   "execution_count": 163,
   "metadata": {},
   "outputs": [
    {
     "data": {
      "text/plain": [
       "10"
      ]
     },
     "execution_count": 163,
     "metadata": {},
     "output_type": "execute_result"
    }
   ],
   "source": [
    "len(s5)"
   ]
  },
  {
   "cell_type": "code",
   "execution_count": 393,
   "metadata": {},
   "outputs": [
    {
     "data": {
      "text/plain": [
       "[<selenium.webdriver.remote.webelement.WebElement (session=\"157a413c10571bcc12c9b938fa30d99f\", element=\"0ee704c1-f255-4087-8077-5baa34b585a1\")>,\n",
       " <selenium.webdriver.remote.webelement.WebElement (session=\"157a413c10571bcc12c9b938fa30d99f\", element=\"6a296a9b-3a0b-4012-8498-ceca1a28757f\")>,\n",
       " <selenium.webdriver.remote.webelement.WebElement (session=\"157a413c10571bcc12c9b938fa30d99f\", element=\"392abba6-20ce-4159-991f-790f12cd9629\")>,\n",
       " <selenium.webdriver.remote.webelement.WebElement (session=\"157a413c10571bcc12c9b938fa30d99f\", element=\"03a4a06d-75dc-4d9c-8ca7-fe92bf63498e\")>,\n",
       " <selenium.webdriver.remote.webelement.WebElement (session=\"157a413c10571bcc12c9b938fa30d99f\", element=\"df6b2e39-b3b9-4ec7-8949-48b6106b1ac2\")>,\n",
       " <selenium.webdriver.remote.webelement.WebElement (session=\"157a413c10571bcc12c9b938fa30d99f\", element=\"3dd9c0bd-ff2e-4c27-9fdf-342cd0c35a70\")>,\n",
       " <selenium.webdriver.remote.webelement.WebElement (session=\"157a413c10571bcc12c9b938fa30d99f\", element=\"9d5a1d45-6261-4597-ad58-f765209e2d22\")>,\n",
       " <selenium.webdriver.remote.webelement.WebElement (session=\"157a413c10571bcc12c9b938fa30d99f\", element=\"c8fbb858-990e-430c-97e5-a88de29fe0a7\")>,\n",
       " <selenium.webdriver.remote.webelement.WebElement (session=\"157a413c10571bcc12c9b938fa30d99f\", element=\"cf3f5b0c-9362-4a21-a5ed-57cc2a545e30\")>,\n",
       " <selenium.webdriver.remote.webelement.WebElement (session=\"157a413c10571bcc12c9b938fa30d99f\", element=\"246e0eee-74c4-4f63-93c9-890b040dd438\")>]"
      ]
     },
     "execution_count": 393,
     "metadata": {},
     "output_type": "execute_result"
    }
   ],
   "source": [
    "f5 = browser(\"//div[@class = 't-ZTKy']\")\n",
    "f5"
   ]
  },
  {
   "cell_type": "code",
   "execution_count": 165,
   "metadata": {},
   "outputs": [
    {
     "data": {
      "text/plain": [
       "10"
      ]
     },
     "execution_count": 165,
     "metadata": {},
     "output_type": "execute_result"
    }
   ],
   "source": [
    "len(f5)"
   ]
  },
  {
   "cell_type": "code",
   "execution_count": 394,
   "metadata": {},
   "outputs": [
    {
     "data": {
      "text/plain": [
       "[<selenium.webdriver.remote.webelement.WebElement (session=\"157a413c10571bcc12c9b938fa30d99f\", element=\"d6e093e1-70dc-4c77-8f5c-f48d673c0aca\")>,\n",
       " <selenium.webdriver.remote.webelement.WebElement (session=\"157a413c10571bcc12c9b938fa30d99f\", element=\"077a3078-f20c-4509-b260-264f807c2f8c\")>,\n",
       " <selenium.webdriver.remote.webelement.WebElement (session=\"157a413c10571bcc12c9b938fa30d99f\", element=\"9788e58f-e0c5-498f-9197-6d4ea002ff63\")>,\n",
       " <selenium.webdriver.remote.webelement.WebElement (session=\"157a413c10571bcc12c9b938fa30d99f\", element=\"a1bf6998-df3f-4f32-abcb-4a2ec24ddcd3\")>,\n",
       " <selenium.webdriver.remote.webelement.WebElement (session=\"157a413c10571bcc12c9b938fa30d99f\", element=\"00f22d25-f1ae-465b-a28a-6b01a84345d4\")>,\n",
       " <selenium.webdriver.remote.webelement.WebElement (session=\"157a413c10571bcc12c9b938fa30d99f\", element=\"3acea04a-408b-474c-862f-c8377ecc246f\")>,\n",
       " <selenium.webdriver.remote.webelement.WebElement (session=\"157a413c10571bcc12c9b938fa30d99f\", element=\"b9f715f0-7ad4-4b94-a655-9774a7d6c337\")>,\n",
       " <selenium.webdriver.remote.webelement.WebElement (session=\"157a413c10571bcc12c9b938fa30d99f\", element=\"be67283e-f62c-48fb-b277-08e812f143e6\")>,\n",
       " <selenium.webdriver.remote.webelement.WebElement (session=\"157a413c10571bcc12c9b938fa30d99f\", element=\"ae903da1-2aa4-4a3d-b844-2e32884da3fa\")>,\n",
       " <selenium.webdriver.remote.webelement.WebElement (session=\"157a413c10571bcc12c9b938fa30d99f\", element=\"5b7637ab-60e9-4526-8833-798e86faef00\")>]"
      ]
     },
     "execution_count": 394,
     "metadata": {},
     "output_type": "execute_result"
    }
   ],
   "source": [
    "r6 = browser(\"//div[@class = '_3LWZlK _1BLPMq']\")\n",
    "r6"
   ]
  },
  {
   "cell_type": "code",
   "execution_count": 167,
   "metadata": {},
   "outputs": [
    {
     "data": {
      "text/plain": [
       "10"
      ]
     },
     "execution_count": 167,
     "metadata": {},
     "output_type": "execute_result"
    }
   ],
   "source": [
    "len(r6)"
   ]
  },
  {
   "cell_type": "code",
   "execution_count": 395,
   "metadata": {},
   "outputs": [
    {
     "data": {
      "text/plain": [
       "[<selenium.webdriver.remote.webelement.WebElement (session=\"157a413c10571bcc12c9b938fa30d99f\", element=\"ffffc1f6-ff59-4cbb-a926-88d2c326146b\")>,\n",
       " <selenium.webdriver.remote.webelement.WebElement (session=\"157a413c10571bcc12c9b938fa30d99f\", element=\"c80fcdc4-de83-40cd-8cdb-9299a0adcfd2\")>,\n",
       " <selenium.webdriver.remote.webelement.WebElement (session=\"157a413c10571bcc12c9b938fa30d99f\", element=\"2e43a690-feb4-4e0e-a23f-1381b89397ab\")>,\n",
       " <selenium.webdriver.remote.webelement.WebElement (session=\"157a413c10571bcc12c9b938fa30d99f\", element=\"f728c6f6-14da-4aa3-a8b1-3f0da6d7a046\")>,\n",
       " <selenium.webdriver.remote.webelement.WebElement (session=\"157a413c10571bcc12c9b938fa30d99f\", element=\"838179b4-cdf7-4129-8dda-703adf4ac603\")>,\n",
       " <selenium.webdriver.remote.webelement.WebElement (session=\"157a413c10571bcc12c9b938fa30d99f\", element=\"08dc82a7-1e99-4240-979e-73c9025f9e8e\")>,\n",
       " <selenium.webdriver.remote.webelement.WebElement (session=\"157a413c10571bcc12c9b938fa30d99f\", element=\"4b9cf150-6759-406c-86f7-8ac7f32c867b\")>,\n",
       " <selenium.webdriver.remote.webelement.WebElement (session=\"157a413c10571bcc12c9b938fa30d99f\", element=\"e5497735-bf5d-4413-b7ab-95416e88b525\")>,\n",
       " <selenium.webdriver.remote.webelement.WebElement (session=\"157a413c10571bcc12c9b938fa30d99f\", element=\"5b600261-256f-4991-9a08-95c7f18e926f\")>,\n",
       " <selenium.webdriver.remote.webelement.WebElement (session=\"157a413c10571bcc12c9b938fa30d99f\", element=\"c7864a63-94bb-4c26-9225-7f71aa56a449\")>]"
      ]
     },
     "execution_count": 395,
     "metadata": {},
     "output_type": "execute_result"
    }
   ],
   "source": [
    "s6 = browser(\"//p[@class = '_2-N8zT']\")\n",
    "s6"
   ]
  },
  {
   "cell_type": "code",
   "execution_count": 169,
   "metadata": {},
   "outputs": [
    {
     "data": {
      "text/plain": [
       "10"
      ]
     },
     "execution_count": 169,
     "metadata": {},
     "output_type": "execute_result"
    }
   ],
   "source": [
    "len(s6)"
   ]
  },
  {
   "cell_type": "code",
   "execution_count": 396,
   "metadata": {},
   "outputs": [
    {
     "data": {
      "text/plain": [
       "[<selenium.webdriver.remote.webelement.WebElement (session=\"157a413c10571bcc12c9b938fa30d99f\", element=\"0ee704c1-f255-4087-8077-5baa34b585a1\")>,\n",
       " <selenium.webdriver.remote.webelement.WebElement (session=\"157a413c10571bcc12c9b938fa30d99f\", element=\"6a296a9b-3a0b-4012-8498-ceca1a28757f\")>,\n",
       " <selenium.webdriver.remote.webelement.WebElement (session=\"157a413c10571bcc12c9b938fa30d99f\", element=\"392abba6-20ce-4159-991f-790f12cd9629\")>,\n",
       " <selenium.webdriver.remote.webelement.WebElement (session=\"157a413c10571bcc12c9b938fa30d99f\", element=\"03a4a06d-75dc-4d9c-8ca7-fe92bf63498e\")>,\n",
       " <selenium.webdriver.remote.webelement.WebElement (session=\"157a413c10571bcc12c9b938fa30d99f\", element=\"df6b2e39-b3b9-4ec7-8949-48b6106b1ac2\")>,\n",
       " <selenium.webdriver.remote.webelement.WebElement (session=\"157a413c10571bcc12c9b938fa30d99f\", element=\"3dd9c0bd-ff2e-4c27-9fdf-342cd0c35a70\")>,\n",
       " <selenium.webdriver.remote.webelement.WebElement (session=\"157a413c10571bcc12c9b938fa30d99f\", element=\"9d5a1d45-6261-4597-ad58-f765209e2d22\")>,\n",
       " <selenium.webdriver.remote.webelement.WebElement (session=\"157a413c10571bcc12c9b938fa30d99f\", element=\"c8fbb858-990e-430c-97e5-a88de29fe0a7\")>,\n",
       " <selenium.webdriver.remote.webelement.WebElement (session=\"157a413c10571bcc12c9b938fa30d99f\", element=\"cf3f5b0c-9362-4a21-a5ed-57cc2a545e30\")>,\n",
       " <selenium.webdriver.remote.webelement.WebElement (session=\"157a413c10571bcc12c9b938fa30d99f\", element=\"246e0eee-74c4-4f63-93c9-890b040dd438\")>]"
      ]
     },
     "execution_count": 396,
     "metadata": {},
     "output_type": "execute_result"
    }
   ],
   "source": [
    "f6 = browser(\"//div[@class = 't-ZTKy']\")\n",
    "f6"
   ]
  },
  {
   "cell_type": "code",
   "execution_count": 171,
   "metadata": {},
   "outputs": [
    {
     "data": {
      "text/plain": [
       "10"
      ]
     },
     "execution_count": 171,
     "metadata": {},
     "output_type": "execute_result"
    }
   ],
   "source": [
    "len(f6)"
   ]
  },
  {
   "cell_type": "code",
   "execution_count": 397,
   "metadata": {},
   "outputs": [
    {
     "data": {
      "text/plain": [
       "[<selenium.webdriver.remote.webelement.WebElement (session=\"157a413c10571bcc12c9b938fa30d99f\", element=\"d6e093e1-70dc-4c77-8f5c-f48d673c0aca\")>,\n",
       " <selenium.webdriver.remote.webelement.WebElement (session=\"157a413c10571bcc12c9b938fa30d99f\", element=\"077a3078-f20c-4509-b260-264f807c2f8c\")>,\n",
       " <selenium.webdriver.remote.webelement.WebElement (session=\"157a413c10571bcc12c9b938fa30d99f\", element=\"9788e58f-e0c5-498f-9197-6d4ea002ff63\")>,\n",
       " <selenium.webdriver.remote.webelement.WebElement (session=\"157a413c10571bcc12c9b938fa30d99f\", element=\"a1bf6998-df3f-4f32-abcb-4a2ec24ddcd3\")>,\n",
       " <selenium.webdriver.remote.webelement.WebElement (session=\"157a413c10571bcc12c9b938fa30d99f\", element=\"00f22d25-f1ae-465b-a28a-6b01a84345d4\")>,\n",
       " <selenium.webdriver.remote.webelement.WebElement (session=\"157a413c10571bcc12c9b938fa30d99f\", element=\"3acea04a-408b-474c-862f-c8377ecc246f\")>,\n",
       " <selenium.webdriver.remote.webelement.WebElement (session=\"157a413c10571bcc12c9b938fa30d99f\", element=\"b9f715f0-7ad4-4b94-a655-9774a7d6c337\")>,\n",
       " <selenium.webdriver.remote.webelement.WebElement (session=\"157a413c10571bcc12c9b938fa30d99f\", element=\"be67283e-f62c-48fb-b277-08e812f143e6\")>,\n",
       " <selenium.webdriver.remote.webelement.WebElement (session=\"157a413c10571bcc12c9b938fa30d99f\", element=\"ae903da1-2aa4-4a3d-b844-2e32884da3fa\")>,\n",
       " <selenium.webdriver.remote.webelement.WebElement (session=\"157a413c10571bcc12c9b938fa30d99f\", element=\"5b7637ab-60e9-4526-8833-798e86faef00\")>]"
      ]
     },
     "execution_count": 397,
     "metadata": {},
     "output_type": "execute_result"
    }
   ],
   "source": [
    "r7 = browser(\"//div[@class = '_3LWZlK _1BLPMq']\")\n",
    "r7"
   ]
  },
  {
   "cell_type": "code",
   "execution_count": 173,
   "metadata": {},
   "outputs": [
    {
     "data": {
      "text/plain": [
       "10"
      ]
     },
     "execution_count": 173,
     "metadata": {},
     "output_type": "execute_result"
    }
   ],
   "source": [
    "len(r7)"
   ]
  },
  {
   "cell_type": "code",
   "execution_count": 398,
   "metadata": {},
   "outputs": [
    {
     "data": {
      "text/plain": [
       "[<selenium.webdriver.remote.webelement.WebElement (session=\"157a413c10571bcc12c9b938fa30d99f\", element=\"ffffc1f6-ff59-4cbb-a926-88d2c326146b\")>,\n",
       " <selenium.webdriver.remote.webelement.WebElement (session=\"157a413c10571bcc12c9b938fa30d99f\", element=\"c80fcdc4-de83-40cd-8cdb-9299a0adcfd2\")>,\n",
       " <selenium.webdriver.remote.webelement.WebElement (session=\"157a413c10571bcc12c9b938fa30d99f\", element=\"2e43a690-feb4-4e0e-a23f-1381b89397ab\")>,\n",
       " <selenium.webdriver.remote.webelement.WebElement (session=\"157a413c10571bcc12c9b938fa30d99f\", element=\"f728c6f6-14da-4aa3-a8b1-3f0da6d7a046\")>,\n",
       " <selenium.webdriver.remote.webelement.WebElement (session=\"157a413c10571bcc12c9b938fa30d99f\", element=\"838179b4-cdf7-4129-8dda-703adf4ac603\")>,\n",
       " <selenium.webdriver.remote.webelement.WebElement (session=\"157a413c10571bcc12c9b938fa30d99f\", element=\"08dc82a7-1e99-4240-979e-73c9025f9e8e\")>,\n",
       " <selenium.webdriver.remote.webelement.WebElement (session=\"157a413c10571bcc12c9b938fa30d99f\", element=\"4b9cf150-6759-406c-86f7-8ac7f32c867b\")>,\n",
       " <selenium.webdriver.remote.webelement.WebElement (session=\"157a413c10571bcc12c9b938fa30d99f\", element=\"e5497735-bf5d-4413-b7ab-95416e88b525\")>,\n",
       " <selenium.webdriver.remote.webelement.WebElement (session=\"157a413c10571bcc12c9b938fa30d99f\", element=\"5b600261-256f-4991-9a08-95c7f18e926f\")>,\n",
       " <selenium.webdriver.remote.webelement.WebElement (session=\"157a413c10571bcc12c9b938fa30d99f\", element=\"c7864a63-94bb-4c26-9225-7f71aa56a449\")>]"
      ]
     },
     "execution_count": 398,
     "metadata": {},
     "output_type": "execute_result"
    }
   ],
   "source": [
    "s7 = browser(\"//p[@class = '_2-N8zT']\")\n",
    "s7"
   ]
  },
  {
   "cell_type": "code",
   "execution_count": 399,
   "metadata": {},
   "outputs": [
    {
     "data": {
      "text/plain": [
       "[<selenium.webdriver.remote.webelement.WebElement (session=\"157a413c10571bcc12c9b938fa30d99f\", element=\"0ee704c1-f255-4087-8077-5baa34b585a1\")>,\n",
       " <selenium.webdriver.remote.webelement.WebElement (session=\"157a413c10571bcc12c9b938fa30d99f\", element=\"6a296a9b-3a0b-4012-8498-ceca1a28757f\")>,\n",
       " <selenium.webdriver.remote.webelement.WebElement (session=\"157a413c10571bcc12c9b938fa30d99f\", element=\"392abba6-20ce-4159-991f-790f12cd9629\")>,\n",
       " <selenium.webdriver.remote.webelement.WebElement (session=\"157a413c10571bcc12c9b938fa30d99f\", element=\"03a4a06d-75dc-4d9c-8ca7-fe92bf63498e\")>,\n",
       " <selenium.webdriver.remote.webelement.WebElement (session=\"157a413c10571bcc12c9b938fa30d99f\", element=\"df6b2e39-b3b9-4ec7-8949-48b6106b1ac2\")>,\n",
       " <selenium.webdriver.remote.webelement.WebElement (session=\"157a413c10571bcc12c9b938fa30d99f\", element=\"3dd9c0bd-ff2e-4c27-9fdf-342cd0c35a70\")>,\n",
       " <selenium.webdriver.remote.webelement.WebElement (session=\"157a413c10571bcc12c9b938fa30d99f\", element=\"9d5a1d45-6261-4597-ad58-f765209e2d22\")>,\n",
       " <selenium.webdriver.remote.webelement.WebElement (session=\"157a413c10571bcc12c9b938fa30d99f\", element=\"c8fbb858-990e-430c-97e5-a88de29fe0a7\")>,\n",
       " <selenium.webdriver.remote.webelement.WebElement (session=\"157a413c10571bcc12c9b938fa30d99f\", element=\"cf3f5b0c-9362-4a21-a5ed-57cc2a545e30\")>,\n",
       " <selenium.webdriver.remote.webelement.WebElement (session=\"157a413c10571bcc12c9b938fa30d99f\", element=\"246e0eee-74c4-4f63-93c9-890b040dd438\")>]"
      ]
     },
     "execution_count": 399,
     "metadata": {},
     "output_type": "execute_result"
    }
   ],
   "source": [
    "f7 = browser(\"//div[@class = 't-ZTKy']\")\n",
    "f7"
   ]
  },
  {
   "cell_type": "code",
   "execution_count": 400,
   "metadata": {},
   "outputs": [
    {
     "data": {
      "text/plain": [
       "[<selenium.webdriver.remote.webelement.WebElement (session=\"157a413c10571bcc12c9b938fa30d99f\", element=\"d6e093e1-70dc-4c77-8f5c-f48d673c0aca\")>,\n",
       " <selenium.webdriver.remote.webelement.WebElement (session=\"157a413c10571bcc12c9b938fa30d99f\", element=\"077a3078-f20c-4509-b260-264f807c2f8c\")>,\n",
       " <selenium.webdriver.remote.webelement.WebElement (session=\"157a413c10571bcc12c9b938fa30d99f\", element=\"9788e58f-e0c5-498f-9197-6d4ea002ff63\")>,\n",
       " <selenium.webdriver.remote.webelement.WebElement (session=\"157a413c10571bcc12c9b938fa30d99f\", element=\"a1bf6998-df3f-4f32-abcb-4a2ec24ddcd3\")>,\n",
       " <selenium.webdriver.remote.webelement.WebElement (session=\"157a413c10571bcc12c9b938fa30d99f\", element=\"00f22d25-f1ae-465b-a28a-6b01a84345d4\")>,\n",
       " <selenium.webdriver.remote.webelement.WebElement (session=\"157a413c10571bcc12c9b938fa30d99f\", element=\"3acea04a-408b-474c-862f-c8377ecc246f\")>,\n",
       " <selenium.webdriver.remote.webelement.WebElement (session=\"157a413c10571bcc12c9b938fa30d99f\", element=\"b9f715f0-7ad4-4b94-a655-9774a7d6c337\")>,\n",
       " <selenium.webdriver.remote.webelement.WebElement (session=\"157a413c10571bcc12c9b938fa30d99f\", element=\"be67283e-f62c-48fb-b277-08e812f143e6\")>,\n",
       " <selenium.webdriver.remote.webelement.WebElement (session=\"157a413c10571bcc12c9b938fa30d99f\", element=\"ae903da1-2aa4-4a3d-b844-2e32884da3fa\")>,\n",
       " <selenium.webdriver.remote.webelement.WebElement (session=\"157a413c10571bcc12c9b938fa30d99f\", element=\"5b7637ab-60e9-4526-8833-798e86faef00\")>]"
      ]
     },
     "execution_count": 400,
     "metadata": {},
     "output_type": "execute_result"
    }
   ],
   "source": [
    "r8 =  browser(\"//div[@class = '_3LWZlK _1BLPMq']\")\n",
    "r8"
   ]
  },
  {
   "cell_type": "code",
   "execution_count": 401,
   "metadata": {},
   "outputs": [
    {
     "data": {
      "text/plain": [
       "[<selenium.webdriver.remote.webelement.WebElement (session=\"157a413c10571bcc12c9b938fa30d99f\", element=\"ffffc1f6-ff59-4cbb-a926-88d2c326146b\")>,\n",
       " <selenium.webdriver.remote.webelement.WebElement (session=\"157a413c10571bcc12c9b938fa30d99f\", element=\"c80fcdc4-de83-40cd-8cdb-9299a0adcfd2\")>,\n",
       " <selenium.webdriver.remote.webelement.WebElement (session=\"157a413c10571bcc12c9b938fa30d99f\", element=\"2e43a690-feb4-4e0e-a23f-1381b89397ab\")>,\n",
       " <selenium.webdriver.remote.webelement.WebElement (session=\"157a413c10571bcc12c9b938fa30d99f\", element=\"f728c6f6-14da-4aa3-a8b1-3f0da6d7a046\")>,\n",
       " <selenium.webdriver.remote.webelement.WebElement (session=\"157a413c10571bcc12c9b938fa30d99f\", element=\"838179b4-cdf7-4129-8dda-703adf4ac603\")>,\n",
       " <selenium.webdriver.remote.webelement.WebElement (session=\"157a413c10571bcc12c9b938fa30d99f\", element=\"08dc82a7-1e99-4240-979e-73c9025f9e8e\")>,\n",
       " <selenium.webdriver.remote.webelement.WebElement (session=\"157a413c10571bcc12c9b938fa30d99f\", element=\"4b9cf150-6759-406c-86f7-8ac7f32c867b\")>,\n",
       " <selenium.webdriver.remote.webelement.WebElement (session=\"157a413c10571bcc12c9b938fa30d99f\", element=\"e5497735-bf5d-4413-b7ab-95416e88b525\")>,\n",
       " <selenium.webdriver.remote.webelement.WebElement (session=\"157a413c10571bcc12c9b938fa30d99f\", element=\"5b600261-256f-4991-9a08-95c7f18e926f\")>,\n",
       " <selenium.webdriver.remote.webelement.WebElement (session=\"157a413c10571bcc12c9b938fa30d99f\", element=\"c7864a63-94bb-4c26-9225-7f71aa56a449\")>]"
      ]
     },
     "execution_count": 401,
     "metadata": {},
     "output_type": "execute_result"
    }
   ],
   "source": [
    "s8 =  browser(\"//p[@class = '_2-N8zT']\")\n",
    "s8"
   ]
  },
  {
   "cell_type": "code",
   "execution_count": 402,
   "metadata": {},
   "outputs": [
    {
     "data": {
      "text/plain": [
       "[<selenium.webdriver.remote.webelement.WebElement (session=\"157a413c10571bcc12c9b938fa30d99f\", element=\"0ee704c1-f255-4087-8077-5baa34b585a1\")>,\n",
       " <selenium.webdriver.remote.webelement.WebElement (session=\"157a413c10571bcc12c9b938fa30d99f\", element=\"6a296a9b-3a0b-4012-8498-ceca1a28757f\")>,\n",
       " <selenium.webdriver.remote.webelement.WebElement (session=\"157a413c10571bcc12c9b938fa30d99f\", element=\"392abba6-20ce-4159-991f-790f12cd9629\")>,\n",
       " <selenium.webdriver.remote.webelement.WebElement (session=\"157a413c10571bcc12c9b938fa30d99f\", element=\"03a4a06d-75dc-4d9c-8ca7-fe92bf63498e\")>,\n",
       " <selenium.webdriver.remote.webelement.WebElement (session=\"157a413c10571bcc12c9b938fa30d99f\", element=\"df6b2e39-b3b9-4ec7-8949-48b6106b1ac2\")>,\n",
       " <selenium.webdriver.remote.webelement.WebElement (session=\"157a413c10571bcc12c9b938fa30d99f\", element=\"3dd9c0bd-ff2e-4c27-9fdf-342cd0c35a70\")>,\n",
       " <selenium.webdriver.remote.webelement.WebElement (session=\"157a413c10571bcc12c9b938fa30d99f\", element=\"9d5a1d45-6261-4597-ad58-f765209e2d22\")>,\n",
       " <selenium.webdriver.remote.webelement.WebElement (session=\"157a413c10571bcc12c9b938fa30d99f\", element=\"c8fbb858-990e-430c-97e5-a88de29fe0a7\")>,\n",
       " <selenium.webdriver.remote.webelement.WebElement (session=\"157a413c10571bcc12c9b938fa30d99f\", element=\"cf3f5b0c-9362-4a21-a5ed-57cc2a545e30\")>,\n",
       " <selenium.webdriver.remote.webelement.WebElement (session=\"157a413c10571bcc12c9b938fa30d99f\", element=\"246e0eee-74c4-4f63-93c9-890b040dd438\")>]"
      ]
     },
     "execution_count": 402,
     "metadata": {},
     "output_type": "execute_result"
    }
   ],
   "source": [
    "f8 =browser(\"//div[@class = 't-ZTKy']\")\n",
    "f8"
   ]
  },
  {
   "cell_type": "code",
   "execution_count": 403,
   "metadata": {},
   "outputs": [
    {
     "data": {
      "text/plain": [
       "[<selenium.webdriver.remote.webelement.WebElement (session=\"157a413c10571bcc12c9b938fa30d99f\", element=\"d6e093e1-70dc-4c77-8f5c-f48d673c0aca\")>,\n",
       " <selenium.webdriver.remote.webelement.WebElement (session=\"157a413c10571bcc12c9b938fa30d99f\", element=\"077a3078-f20c-4509-b260-264f807c2f8c\")>,\n",
       " <selenium.webdriver.remote.webelement.WebElement (session=\"157a413c10571bcc12c9b938fa30d99f\", element=\"9788e58f-e0c5-498f-9197-6d4ea002ff63\")>,\n",
       " <selenium.webdriver.remote.webelement.WebElement (session=\"157a413c10571bcc12c9b938fa30d99f\", element=\"a1bf6998-df3f-4f32-abcb-4a2ec24ddcd3\")>,\n",
       " <selenium.webdriver.remote.webelement.WebElement (session=\"157a413c10571bcc12c9b938fa30d99f\", element=\"00f22d25-f1ae-465b-a28a-6b01a84345d4\")>,\n",
       " <selenium.webdriver.remote.webelement.WebElement (session=\"157a413c10571bcc12c9b938fa30d99f\", element=\"3acea04a-408b-474c-862f-c8377ecc246f\")>,\n",
       " <selenium.webdriver.remote.webelement.WebElement (session=\"157a413c10571bcc12c9b938fa30d99f\", element=\"b9f715f0-7ad4-4b94-a655-9774a7d6c337\")>,\n",
       " <selenium.webdriver.remote.webelement.WebElement (session=\"157a413c10571bcc12c9b938fa30d99f\", element=\"be67283e-f62c-48fb-b277-08e812f143e6\")>,\n",
       " <selenium.webdriver.remote.webelement.WebElement (session=\"157a413c10571bcc12c9b938fa30d99f\", element=\"ae903da1-2aa4-4a3d-b844-2e32884da3fa\")>,\n",
       " <selenium.webdriver.remote.webelement.WebElement (session=\"157a413c10571bcc12c9b938fa30d99f\", element=\"5b7637ab-60e9-4526-8833-798e86faef00\")>]"
      ]
     },
     "execution_count": 403,
     "metadata": {},
     "output_type": "execute_result"
    }
   ],
   "source": [
    "r9 = browser(\"//div[@class = '_3LWZlK _1BLPMq']\")\n",
    "r9"
   ]
  },
  {
   "cell_type": "code",
   "execution_count": 404,
   "metadata": {},
   "outputs": [
    {
     "data": {
      "text/plain": [
       "[<selenium.webdriver.remote.webelement.WebElement (session=\"157a413c10571bcc12c9b938fa30d99f\", element=\"ffffc1f6-ff59-4cbb-a926-88d2c326146b\")>,\n",
       " <selenium.webdriver.remote.webelement.WebElement (session=\"157a413c10571bcc12c9b938fa30d99f\", element=\"c80fcdc4-de83-40cd-8cdb-9299a0adcfd2\")>,\n",
       " <selenium.webdriver.remote.webelement.WebElement (session=\"157a413c10571bcc12c9b938fa30d99f\", element=\"2e43a690-feb4-4e0e-a23f-1381b89397ab\")>,\n",
       " <selenium.webdriver.remote.webelement.WebElement (session=\"157a413c10571bcc12c9b938fa30d99f\", element=\"f728c6f6-14da-4aa3-a8b1-3f0da6d7a046\")>,\n",
       " <selenium.webdriver.remote.webelement.WebElement (session=\"157a413c10571bcc12c9b938fa30d99f\", element=\"838179b4-cdf7-4129-8dda-703adf4ac603\")>,\n",
       " <selenium.webdriver.remote.webelement.WebElement (session=\"157a413c10571bcc12c9b938fa30d99f\", element=\"08dc82a7-1e99-4240-979e-73c9025f9e8e\")>,\n",
       " <selenium.webdriver.remote.webelement.WebElement (session=\"157a413c10571bcc12c9b938fa30d99f\", element=\"4b9cf150-6759-406c-86f7-8ac7f32c867b\")>,\n",
       " <selenium.webdriver.remote.webelement.WebElement (session=\"157a413c10571bcc12c9b938fa30d99f\", element=\"e5497735-bf5d-4413-b7ab-95416e88b525\")>,\n",
       " <selenium.webdriver.remote.webelement.WebElement (session=\"157a413c10571bcc12c9b938fa30d99f\", element=\"5b600261-256f-4991-9a08-95c7f18e926f\")>,\n",
       " <selenium.webdriver.remote.webelement.WebElement (session=\"157a413c10571bcc12c9b938fa30d99f\", element=\"c7864a63-94bb-4c26-9225-7f71aa56a449\")>]"
      ]
     },
     "execution_count": 404,
     "metadata": {},
     "output_type": "execute_result"
    }
   ],
   "source": [
    "s9 = browser(\"//p[@class = '_2-N8zT']\")\n",
    "s9"
   ]
  },
  {
   "cell_type": "code",
   "execution_count": 405,
   "metadata": {},
   "outputs": [
    {
     "data": {
      "text/plain": [
       "[<selenium.webdriver.remote.webelement.WebElement (session=\"157a413c10571bcc12c9b938fa30d99f\", element=\"0ee704c1-f255-4087-8077-5baa34b585a1\")>,\n",
       " <selenium.webdriver.remote.webelement.WebElement (session=\"157a413c10571bcc12c9b938fa30d99f\", element=\"6a296a9b-3a0b-4012-8498-ceca1a28757f\")>,\n",
       " <selenium.webdriver.remote.webelement.WebElement (session=\"157a413c10571bcc12c9b938fa30d99f\", element=\"392abba6-20ce-4159-991f-790f12cd9629\")>,\n",
       " <selenium.webdriver.remote.webelement.WebElement (session=\"157a413c10571bcc12c9b938fa30d99f\", element=\"03a4a06d-75dc-4d9c-8ca7-fe92bf63498e\")>,\n",
       " <selenium.webdriver.remote.webelement.WebElement (session=\"157a413c10571bcc12c9b938fa30d99f\", element=\"df6b2e39-b3b9-4ec7-8949-48b6106b1ac2\")>,\n",
       " <selenium.webdriver.remote.webelement.WebElement (session=\"157a413c10571bcc12c9b938fa30d99f\", element=\"3dd9c0bd-ff2e-4c27-9fdf-342cd0c35a70\")>,\n",
       " <selenium.webdriver.remote.webelement.WebElement (session=\"157a413c10571bcc12c9b938fa30d99f\", element=\"9d5a1d45-6261-4597-ad58-f765209e2d22\")>,\n",
       " <selenium.webdriver.remote.webelement.WebElement (session=\"157a413c10571bcc12c9b938fa30d99f\", element=\"c8fbb858-990e-430c-97e5-a88de29fe0a7\")>,\n",
       " <selenium.webdriver.remote.webelement.WebElement (session=\"157a413c10571bcc12c9b938fa30d99f\", element=\"cf3f5b0c-9362-4a21-a5ed-57cc2a545e30\")>,\n",
       " <selenium.webdriver.remote.webelement.WebElement (session=\"157a413c10571bcc12c9b938fa30d99f\", element=\"246e0eee-74c4-4f63-93c9-890b040dd438\")>]"
      ]
     },
     "execution_count": 405,
     "metadata": {},
     "output_type": "execute_result"
    }
   ],
   "source": [
    "f9 = browser(\"//div[@class = 't-ZTKy']\")\n",
    "f9"
   ]
  },
  {
   "cell_type": "code",
   "execution_count": 406,
   "metadata": {},
   "outputs": [
    {
     "data": {
      "text/plain": [
       "[<selenium.webdriver.remote.webelement.WebElement (session=\"157a413c10571bcc12c9b938fa30d99f\", element=\"d6e093e1-70dc-4c77-8f5c-f48d673c0aca\")>,\n",
       " <selenium.webdriver.remote.webelement.WebElement (session=\"157a413c10571bcc12c9b938fa30d99f\", element=\"077a3078-f20c-4509-b260-264f807c2f8c\")>,\n",
       " <selenium.webdriver.remote.webelement.WebElement (session=\"157a413c10571bcc12c9b938fa30d99f\", element=\"9788e58f-e0c5-498f-9197-6d4ea002ff63\")>,\n",
       " <selenium.webdriver.remote.webelement.WebElement (session=\"157a413c10571bcc12c9b938fa30d99f\", element=\"a1bf6998-df3f-4f32-abcb-4a2ec24ddcd3\")>,\n",
       " <selenium.webdriver.remote.webelement.WebElement (session=\"157a413c10571bcc12c9b938fa30d99f\", element=\"00f22d25-f1ae-465b-a28a-6b01a84345d4\")>,\n",
       " <selenium.webdriver.remote.webelement.WebElement (session=\"157a413c10571bcc12c9b938fa30d99f\", element=\"3acea04a-408b-474c-862f-c8377ecc246f\")>,\n",
       " <selenium.webdriver.remote.webelement.WebElement (session=\"157a413c10571bcc12c9b938fa30d99f\", element=\"b9f715f0-7ad4-4b94-a655-9774a7d6c337\")>,\n",
       " <selenium.webdriver.remote.webelement.WebElement (session=\"157a413c10571bcc12c9b938fa30d99f\", element=\"be67283e-f62c-48fb-b277-08e812f143e6\")>,\n",
       " <selenium.webdriver.remote.webelement.WebElement (session=\"157a413c10571bcc12c9b938fa30d99f\", element=\"ae903da1-2aa4-4a3d-b844-2e32884da3fa\")>,\n",
       " <selenium.webdriver.remote.webelement.WebElement (session=\"157a413c10571bcc12c9b938fa30d99f\", element=\"5b7637ab-60e9-4526-8833-798e86faef00\")>]"
      ]
     },
     "execution_count": 406,
     "metadata": {},
     "output_type": "execute_result"
    }
   ],
   "source": [
    "r10 =  browser(\"//div[@class = '_3LWZlK _1BLPMq']\")\n",
    "r10"
   ]
  },
  {
   "cell_type": "code",
   "execution_count": 407,
   "metadata": {},
   "outputs": [
    {
     "data": {
      "text/plain": [
       "[<selenium.webdriver.remote.webelement.WebElement (session=\"157a413c10571bcc12c9b938fa30d99f\", element=\"ffffc1f6-ff59-4cbb-a926-88d2c326146b\")>,\n",
       " <selenium.webdriver.remote.webelement.WebElement (session=\"157a413c10571bcc12c9b938fa30d99f\", element=\"c80fcdc4-de83-40cd-8cdb-9299a0adcfd2\")>,\n",
       " <selenium.webdriver.remote.webelement.WebElement (session=\"157a413c10571bcc12c9b938fa30d99f\", element=\"2e43a690-feb4-4e0e-a23f-1381b89397ab\")>,\n",
       " <selenium.webdriver.remote.webelement.WebElement (session=\"157a413c10571bcc12c9b938fa30d99f\", element=\"f728c6f6-14da-4aa3-a8b1-3f0da6d7a046\")>,\n",
       " <selenium.webdriver.remote.webelement.WebElement (session=\"157a413c10571bcc12c9b938fa30d99f\", element=\"838179b4-cdf7-4129-8dda-703adf4ac603\")>,\n",
       " <selenium.webdriver.remote.webelement.WebElement (session=\"157a413c10571bcc12c9b938fa30d99f\", element=\"08dc82a7-1e99-4240-979e-73c9025f9e8e\")>,\n",
       " <selenium.webdriver.remote.webelement.WebElement (session=\"157a413c10571bcc12c9b938fa30d99f\", element=\"4b9cf150-6759-406c-86f7-8ac7f32c867b\")>,\n",
       " <selenium.webdriver.remote.webelement.WebElement (session=\"157a413c10571bcc12c9b938fa30d99f\", element=\"e5497735-bf5d-4413-b7ab-95416e88b525\")>,\n",
       " <selenium.webdriver.remote.webelement.WebElement (session=\"157a413c10571bcc12c9b938fa30d99f\", element=\"5b600261-256f-4991-9a08-95c7f18e926f\")>,\n",
       " <selenium.webdriver.remote.webelement.WebElement (session=\"157a413c10571bcc12c9b938fa30d99f\", element=\"c7864a63-94bb-4c26-9225-7f71aa56a449\")>]"
      ]
     },
     "execution_count": 407,
     "metadata": {},
     "output_type": "execute_result"
    }
   ],
   "source": [
    "s10 = browser(\"//p[@class = '_2-N8zT']\")\n",
    "s10"
   ]
  },
  {
   "cell_type": "code",
   "execution_count": 408,
   "metadata": {},
   "outputs": [
    {
     "data": {
      "text/plain": [
       "[<selenium.webdriver.remote.webelement.WebElement (session=\"157a413c10571bcc12c9b938fa30d99f\", element=\"0ee704c1-f255-4087-8077-5baa34b585a1\")>,\n",
       " <selenium.webdriver.remote.webelement.WebElement (session=\"157a413c10571bcc12c9b938fa30d99f\", element=\"6a296a9b-3a0b-4012-8498-ceca1a28757f\")>,\n",
       " <selenium.webdriver.remote.webelement.WebElement (session=\"157a413c10571bcc12c9b938fa30d99f\", element=\"392abba6-20ce-4159-991f-790f12cd9629\")>,\n",
       " <selenium.webdriver.remote.webelement.WebElement (session=\"157a413c10571bcc12c9b938fa30d99f\", element=\"03a4a06d-75dc-4d9c-8ca7-fe92bf63498e\")>,\n",
       " <selenium.webdriver.remote.webelement.WebElement (session=\"157a413c10571bcc12c9b938fa30d99f\", element=\"df6b2e39-b3b9-4ec7-8949-48b6106b1ac2\")>,\n",
       " <selenium.webdriver.remote.webelement.WebElement (session=\"157a413c10571bcc12c9b938fa30d99f\", element=\"3dd9c0bd-ff2e-4c27-9fdf-342cd0c35a70\")>,\n",
       " <selenium.webdriver.remote.webelement.WebElement (session=\"157a413c10571bcc12c9b938fa30d99f\", element=\"9d5a1d45-6261-4597-ad58-f765209e2d22\")>,\n",
       " <selenium.webdriver.remote.webelement.WebElement (session=\"157a413c10571bcc12c9b938fa30d99f\", element=\"c8fbb858-990e-430c-97e5-a88de29fe0a7\")>,\n",
       " <selenium.webdriver.remote.webelement.WebElement (session=\"157a413c10571bcc12c9b938fa30d99f\", element=\"cf3f5b0c-9362-4a21-a5ed-57cc2a545e30\")>,\n",
       " <selenium.webdriver.remote.webelement.WebElement (session=\"157a413c10571bcc12c9b938fa30d99f\", element=\"246e0eee-74c4-4f63-93c9-890b040dd438\")>]"
      ]
     },
     "execution_count": 408,
     "metadata": {},
     "output_type": "execute_result"
    }
   ],
   "source": [
    "f10 = browser(\"//div[@class = 't-ZTKy']\")\n",
    "f10"
   ]
  },
  {
   "cell_type": "code",
   "execution_count": 409,
   "metadata": {},
   "outputs": [
    {
     "data": {
      "text/plain": [
       "100"
      ]
     },
     "execution_count": 409,
     "metadata": {},
     "output_type": "execute_result"
    }
   ],
   "source": [
    "ratings = (r1 + r2 +r3 +r4 +r5 +r6 +r7 +r8 +r9 +r10)\n",
    "len(ratings)"
   ]
  },
  {
   "cell_type": "code",
   "execution_count": 410,
   "metadata": {},
   "outputs": [
    {
     "data": {
      "text/plain": [
       "['5',\n",
       " '5',\n",
       " '5',\n",
       " '',\n",
       " '',\n",
       " '',\n",
       " '',\n",
       " '',\n",
       " '',\n",
       " '',\n",
       " '5',\n",
       " '5',\n",
       " '5',\n",
       " '',\n",
       " '',\n",
       " '',\n",
       " '',\n",
       " '',\n",
       " '',\n",
       " '',\n",
       " '5',\n",
       " '5',\n",
       " '5',\n",
       " '',\n",
       " '',\n",
       " '',\n",
       " '',\n",
       " '',\n",
       " '',\n",
       " '',\n",
       " '5',\n",
       " '5',\n",
       " '5',\n",
       " '',\n",
       " '',\n",
       " '',\n",
       " '',\n",
       " '',\n",
       " '',\n",
       " '',\n",
       " '5',\n",
       " '5',\n",
       " '5',\n",
       " '',\n",
       " '',\n",
       " '',\n",
       " '',\n",
       " '',\n",
       " '',\n",
       " '',\n",
       " '5',\n",
       " '5',\n",
       " '5',\n",
       " '',\n",
       " '',\n",
       " '',\n",
       " '',\n",
       " '',\n",
       " '',\n",
       " '',\n",
       " '5',\n",
       " '5',\n",
       " '5',\n",
       " '',\n",
       " '',\n",
       " '',\n",
       " '',\n",
       " '',\n",
       " '',\n",
       " '',\n",
       " '5',\n",
       " '5',\n",
       " '5',\n",
       " '',\n",
       " '',\n",
       " '',\n",
       " '',\n",
       " '',\n",
       " '',\n",
       " '',\n",
       " '5',\n",
       " '5',\n",
       " '5',\n",
       " '',\n",
       " '',\n",
       " '',\n",
       " '',\n",
       " '',\n",
       " '',\n",
       " '',\n",
       " '5',\n",
       " '5',\n",
       " '5',\n",
       " '',\n",
       " '',\n",
       " '',\n",
       " '',\n",
       " '',\n",
       " '',\n",
       " '']"
      ]
     },
     "execution_count": 410,
     "metadata": {},
     "output_type": "execute_result"
    }
   ],
   "source": [
    "Rating = []\n",
    "for i in ratings:\n",
    "    Rating.append(i.text)\n",
    "Rating"
   ]
  },
  {
   "cell_type": "code",
   "execution_count": 411,
   "metadata": {},
   "outputs": [],
   "source": [
    "review = (s1+s2+s3+s4+s5+s6+s7+s8+s9+s10)"
   ]
  },
  {
   "cell_type": "code",
   "execution_count": 412,
   "metadata": {},
   "outputs": [
    {
     "data": {
      "text/plain": [
       "['Brilliant',\n",
       " 'Simply awesome',\n",
       " 'Best in the market!',\n",
       " '',\n",
       " '',\n",
       " '',\n",
       " '',\n",
       " '',\n",
       " '',\n",
       " '',\n",
       " 'Brilliant',\n",
       " 'Simply awesome',\n",
       " 'Best in the market!',\n",
       " '',\n",
       " '',\n",
       " '',\n",
       " '',\n",
       " '',\n",
       " '',\n",
       " '',\n",
       " 'Brilliant',\n",
       " 'Simply awesome',\n",
       " 'Best in the market!',\n",
       " '',\n",
       " '',\n",
       " '',\n",
       " '',\n",
       " '',\n",
       " '',\n",
       " '',\n",
       " 'Brilliant',\n",
       " 'Simply awesome',\n",
       " 'Best in the market!',\n",
       " '',\n",
       " '',\n",
       " '',\n",
       " '',\n",
       " '',\n",
       " '',\n",
       " '',\n",
       " 'Brilliant',\n",
       " 'Simply awesome',\n",
       " 'Best in the market!',\n",
       " '',\n",
       " '',\n",
       " '',\n",
       " '',\n",
       " '',\n",
       " '',\n",
       " '',\n",
       " 'Brilliant',\n",
       " 'Simply awesome',\n",
       " 'Best in the market!',\n",
       " '',\n",
       " '',\n",
       " '',\n",
       " '',\n",
       " '',\n",
       " '',\n",
       " '',\n",
       " 'Brilliant',\n",
       " 'Simply awesome',\n",
       " 'Best in the market!',\n",
       " '',\n",
       " '',\n",
       " '',\n",
       " '',\n",
       " '',\n",
       " '',\n",
       " '',\n",
       " 'Brilliant',\n",
       " 'Simply awesome',\n",
       " 'Best in the market!',\n",
       " '',\n",
       " '',\n",
       " '',\n",
       " '',\n",
       " '',\n",
       " '',\n",
       " '',\n",
       " 'Brilliant',\n",
       " 'Simply awesome',\n",
       " 'Best in the market!',\n",
       " '',\n",
       " '',\n",
       " '',\n",
       " '',\n",
       " '',\n",
       " '',\n",
       " '',\n",
       " 'Brilliant',\n",
       " 'Simply awesome',\n",
       " 'Best in the market!',\n",
       " '',\n",
       " '',\n",
       " '',\n",
       " '',\n",
       " '',\n",
       " '',\n",
       " '']"
      ]
     },
     "execution_count": 412,
     "metadata": {},
     "output_type": "execute_result"
    }
   ],
   "source": [
    "review_summary = []\n",
    "for i in review:\n",
    "    review_summary.append(i.text)\n",
    "review_summary"
   ]
  },
  {
   "cell_type": "code",
   "execution_count": 413,
   "metadata": {},
   "outputs": [],
   "source": [
    "full = (f1+f2+f3+f4+f5+f6+f7+f8+f9+f10)"
   ]
  },
  {
   "cell_type": "code",
   "execution_count": 414,
   "metadata": {},
   "outputs": [
    {
     "data": {
      "text/plain": [
       "['The Best Phone for the Money\\n\\nThe iPhone 11 offers superb cameras, a more durable design and excellent battery life for an affordable price.\\n\\nCompelling ultra-wide camera\\nNew Night mode is excellent\\nLong battery life',\n",
       " 'Really satisfied with the Product I received... It’s totally genuine and the packaging was also really good so if ur planning to buy just go for it.',\n",
       " 'Great iPhone very snappy experience as apple kind. Upgraded from iPhone 7.\\nPros\\n-Camera top class\\n- Battery top performed\\n-Chipset no need to say as apple kind\\n-Security as you expect from apple\\n- Display super bright industry leading colour\\naccuracy and super responsive\\n-Build quality as expect from apple sturdy\\npremium durable beautiful stylish.\\n-Os most stable os in smartphone industry\\n\\nCons\\n-No 5G\\n-Display is not based on OLED technology\\n-Charger headphones and 1 apple stic...\\nREAD MORE',\n",
       " '',\n",
       " '',\n",
       " '',\n",
       " '',\n",
       " '',\n",
       " '',\n",
       " '',\n",
       " 'The Best Phone for the Money\\n\\nThe iPhone 11 offers superb cameras, a more durable design and excellent battery life for an affordable price.\\n\\nCompelling ultra-wide camera\\nNew Night mode is excellent\\nLong battery life',\n",
       " 'Really satisfied with the Product I received... It’s totally genuine and the packaging was also really good so if ur planning to buy just go for it.',\n",
       " 'Great iPhone very snappy experience as apple kind. Upgraded from iPhone 7.\\nPros\\n-Camera top class\\n- Battery top performed\\n-Chipset no need to say as apple kind\\n-Security as you expect from apple\\n- Display super bright industry leading colour\\naccuracy and super responsive\\n-Build quality as expect from apple sturdy\\npremium durable beautiful stylish.\\n-Os most stable os in smartphone industry\\n\\nCons\\n-No 5G\\n-Display is not based on OLED technology\\n-Charger headphones and 1 apple stic...\\nREAD MORE',\n",
       " '',\n",
       " '',\n",
       " '',\n",
       " '',\n",
       " '',\n",
       " '',\n",
       " '',\n",
       " 'The Best Phone for the Money\\n\\nThe iPhone 11 offers superb cameras, a more durable design and excellent battery life for an affordable price.\\n\\nCompelling ultra-wide camera\\nNew Night mode is excellent\\nLong battery life',\n",
       " 'Really satisfied with the Product I received... It’s totally genuine and the packaging was also really good so if ur planning to buy just go for it.',\n",
       " 'Great iPhone very snappy experience as apple kind. Upgraded from iPhone 7.\\nPros\\n-Camera top class\\n- Battery top performed\\n-Chipset no need to say as apple kind\\n-Security as you expect from apple\\n- Display super bright industry leading colour\\naccuracy and super responsive\\n-Build quality as expect from apple sturdy\\npremium durable beautiful stylish.\\n-Os most stable os in smartphone industry\\n\\nCons\\n-No 5G\\n-Display is not based on OLED technology\\n-Charger headphones and 1 apple stic...\\nREAD MORE',\n",
       " '',\n",
       " '',\n",
       " '',\n",
       " '',\n",
       " '',\n",
       " '',\n",
       " '',\n",
       " 'The Best Phone for the Money\\n\\nThe iPhone 11 offers superb cameras, a more durable design and excellent battery life for an affordable price.\\n\\nCompelling ultra-wide camera\\nNew Night mode is excellent\\nLong battery life',\n",
       " 'Really satisfied with the Product I received... It’s totally genuine and the packaging was also really good so if ur planning to buy just go for it.',\n",
       " 'Great iPhone very snappy experience as apple kind. Upgraded from iPhone 7.\\nPros\\n-Camera top class\\n- Battery top performed\\n-Chipset no need to say as apple kind\\n-Security as you expect from apple\\n- Display super bright industry leading colour\\naccuracy and super responsive\\n-Build quality as expect from apple sturdy\\npremium durable beautiful stylish.\\n-Os most stable os in smartphone industry\\n\\nCons\\n-No 5G\\n-Display is not based on OLED technology\\n-Charger headphones and 1 apple stic...\\nREAD MORE',\n",
       " '',\n",
       " '',\n",
       " '',\n",
       " '',\n",
       " '',\n",
       " '',\n",
       " '',\n",
       " 'The Best Phone for the Money\\n\\nThe iPhone 11 offers superb cameras, a more durable design and excellent battery life for an affordable price.\\n\\nCompelling ultra-wide camera\\nNew Night mode is excellent\\nLong battery life',\n",
       " 'Really satisfied with the Product I received... It’s totally genuine and the packaging was also really good so if ur planning to buy just go for it.',\n",
       " 'Great iPhone very snappy experience as apple kind. Upgraded from iPhone 7.\\nPros\\n-Camera top class\\n- Battery top performed\\n-Chipset no need to say as apple kind\\n-Security as you expect from apple\\n- Display super bright industry leading colour\\naccuracy and super responsive\\n-Build quality as expect from apple sturdy\\npremium durable beautiful stylish.\\n-Os most stable os in smartphone industry\\n\\nCons\\n-No 5G\\n-Display is not based on OLED technology\\n-Charger headphones and 1 apple stic...\\nREAD MORE',\n",
       " '',\n",
       " '',\n",
       " '',\n",
       " '',\n",
       " '',\n",
       " '',\n",
       " '',\n",
       " 'The Best Phone for the Money\\n\\nThe iPhone 11 offers superb cameras, a more durable design and excellent battery life for an affordable price.\\n\\nCompelling ultra-wide camera\\nNew Night mode is excellent\\nLong battery life',\n",
       " 'Really satisfied with the Product I received... It’s totally genuine and the packaging was also really good so if ur planning to buy just go for it.',\n",
       " 'Great iPhone very snappy experience as apple kind. Upgraded from iPhone 7.\\nPros\\n-Camera top class\\n- Battery top performed\\n-Chipset no need to say as apple kind\\n-Security as you expect from apple\\n- Display super bright industry leading colour\\naccuracy and super responsive\\n-Build quality as expect from apple sturdy\\npremium durable beautiful stylish.\\n-Os most stable os in smartphone industry\\n\\nCons\\n-No 5G\\n-Display is not based on OLED technology\\n-Charger headphones and 1 apple stic...\\nREAD MORE',\n",
       " '',\n",
       " '',\n",
       " '',\n",
       " '',\n",
       " '',\n",
       " '',\n",
       " '',\n",
       " 'The Best Phone for the Money\\n\\nThe iPhone 11 offers superb cameras, a more durable design and excellent battery life for an affordable price.\\n\\nCompelling ultra-wide camera\\nNew Night mode is excellent\\nLong battery life',\n",
       " 'Really satisfied with the Product I received... It’s totally genuine and the packaging was also really good so if ur planning to buy just go for it.',\n",
       " 'Great iPhone very snappy experience as apple kind. Upgraded from iPhone 7.\\nPros\\n-Camera top class\\n- Battery top performed\\n-Chipset no need to say as apple kind\\n-Security as you expect from apple\\n- Display super bright industry leading colour\\naccuracy and super responsive\\n-Build quality as expect from apple sturdy\\npremium durable beautiful stylish.\\n-Os most stable os in smartphone industry\\n\\nCons\\n-No 5G\\n-Display is not based on OLED technology\\n-Charger headphones and 1 apple stic...\\nREAD MORE',\n",
       " '',\n",
       " '',\n",
       " '',\n",
       " '',\n",
       " '',\n",
       " '',\n",
       " '',\n",
       " 'The Best Phone for the Money\\n\\nThe iPhone 11 offers superb cameras, a more durable design and excellent battery life for an affordable price.\\n\\nCompelling ultra-wide camera\\nNew Night mode is excellent\\nLong battery life',\n",
       " 'Really satisfied with the Product I received... It’s totally genuine and the packaging was also really good so if ur planning to buy just go for it.',\n",
       " 'Great iPhone very snappy experience as apple kind. Upgraded from iPhone 7.\\nPros\\n-Camera top class\\n- Battery top performed\\n-Chipset no need to say as apple kind\\n-Security as you expect from apple\\n- Display super bright industry leading colour\\naccuracy and super responsive\\n-Build quality as expect from apple sturdy\\npremium durable beautiful stylish.\\n-Os most stable os in smartphone industry\\n\\nCons\\n-No 5G\\n-Display is not based on OLED technology\\n-Charger headphones and 1 apple stic...\\nREAD MORE',\n",
       " '',\n",
       " '',\n",
       " '',\n",
       " '',\n",
       " '',\n",
       " '',\n",
       " '',\n",
       " 'The Best Phone for the Money\\n\\nThe iPhone 11 offers superb cameras, a more durable design and excellent battery life for an affordable price.\\n\\nCompelling ultra-wide camera\\nNew Night mode is excellent\\nLong battery life',\n",
       " 'Really satisfied with the Product I received... It’s totally genuine and the packaging was also really good so if ur planning to buy just go for it.',\n",
       " 'Great iPhone very snappy experience as apple kind. Upgraded from iPhone 7.\\nPros\\n-Camera top class\\n- Battery top performed\\n-Chipset no need to say as apple kind\\n-Security as you expect from apple\\n- Display super bright industry leading colour\\naccuracy and super responsive\\n-Build quality as expect from apple sturdy\\npremium durable beautiful stylish.\\n-Os most stable os in smartphone industry\\n\\nCons\\n-No 5G\\n-Display is not based on OLED technology\\n-Charger headphones and 1 apple stic...\\nREAD MORE',\n",
       " '',\n",
       " '',\n",
       " '',\n",
       " '',\n",
       " '',\n",
       " '',\n",
       " '',\n",
       " 'The Best Phone for the Money\\n\\nThe iPhone 11 offers superb cameras, a more durable design and excellent battery life for an affordable price.\\n\\nCompelling ultra-wide camera\\nNew Night mode is excellent\\nLong battery life',\n",
       " 'Really satisfied with the Product I received... It’s totally genuine and the packaging was also really good so if ur planning to buy just go for it.',\n",
       " 'Great iPhone very snappy experience as apple kind. Upgraded from iPhone 7.\\nPros\\n-Camera top class\\n- Battery top performed\\n-Chipset no need to say as apple kind\\n-Security as you expect from apple\\n- Display super bright industry leading colour\\naccuracy and super responsive\\n-Build quality as expect from apple sturdy\\npremium durable beautiful stylish.\\n-Os most stable os in smartphone industry\\n\\nCons\\n-No 5G\\n-Display is not based on OLED technology\\n-Charger headphones and 1 apple stic...\\nREAD MORE',\n",
       " '',\n",
       " '',\n",
       " '',\n",
       " '',\n",
       " '',\n",
       " '',\n",
       " '']"
      ]
     },
     "execution_count": 414,
     "metadata": {},
     "output_type": "execute_result"
    }
   ],
   "source": [
    "description = []\n",
    "for i in full:\n",
    "    description.append(i.text)\n",
    "description"
   ]
  },
  {
   "cell_type": "code",
   "execution_count": 415,
   "metadata": {},
   "outputs": [],
   "source": [
    "import pandas as pd"
   ]
  },
  {
   "cell_type": "code",
   "execution_count": 416,
   "metadata": {},
   "outputs": [],
   "source": [
    "mobile = pd.DataFrame({})\n",
    "mobile[\"Ratings\"] = rating[:100]\n",
    "mobile[\"Review\"] = review_summary[:100]\n",
    "mobile[\"Full_Description\"] = description[:100]"
   ]
  },
  {
   "cell_type": "code",
   "execution_count": 417,
   "metadata": {},
   "outputs": [
    {
     "data": {
      "text/html": [
       "<div>\n",
       "<style scoped>\n",
       "    .dataframe tbody tr th:only-of-type {\n",
       "        vertical-align: middle;\n",
       "    }\n",
       "\n",
       "    .dataframe tbody tr th {\n",
       "        vertical-align: top;\n",
       "    }\n",
       "\n",
       "    .dataframe thead th {\n",
       "        text-align: right;\n",
       "    }\n",
       "</style>\n",
       "<table border=\"1\" class=\"dataframe\">\n",
       "  <thead>\n",
       "    <tr style=\"text-align: right;\">\n",
       "      <th></th>\n",
       "      <th>Ratings</th>\n",
       "      <th>Review</th>\n",
       "      <th>Full_Description</th>\n",
       "    </tr>\n",
       "  </thead>\n",
       "  <tbody>\n",
       "    <tr>\n",
       "      <th>0</th>\n",
       "      <td>NaN</td>\n",
       "      <td>Brilliant</td>\n",
       "      <td>The Best Phone for the Money\\n\\nThe iPhone 11 ...</td>\n",
       "    </tr>\n",
       "    <tr>\n",
       "      <th>1</th>\n",
       "      <td>NaN</td>\n",
       "      <td>Simply awesome</td>\n",
       "      <td>Really satisfied with the Product I received.....</td>\n",
       "    </tr>\n",
       "    <tr>\n",
       "      <th>2</th>\n",
       "      <td>NaN</td>\n",
       "      <td>Best in the market!</td>\n",
       "      <td>Great iPhone very snappy experience as apple k...</td>\n",
       "    </tr>\n",
       "    <tr>\n",
       "      <th>3</th>\n",
       "      <td>NaN</td>\n",
       "      <td></td>\n",
       "      <td></td>\n",
       "    </tr>\n",
       "    <tr>\n",
       "      <th>4</th>\n",
       "      <td>NaN</td>\n",
       "      <td></td>\n",
       "      <td></td>\n",
       "    </tr>\n",
       "    <tr>\n",
       "      <th>...</th>\n",
       "      <td>...</td>\n",
       "      <td>...</td>\n",
       "      <td>...</td>\n",
       "    </tr>\n",
       "    <tr>\n",
       "      <th>95</th>\n",
       "      <td>NaN</td>\n",
       "      <td></td>\n",
       "      <td></td>\n",
       "    </tr>\n",
       "    <tr>\n",
       "      <th>96</th>\n",
       "      <td>NaN</td>\n",
       "      <td></td>\n",
       "      <td></td>\n",
       "    </tr>\n",
       "    <tr>\n",
       "      <th>97</th>\n",
       "      <td>NaN</td>\n",
       "      <td></td>\n",
       "      <td></td>\n",
       "    </tr>\n",
       "    <tr>\n",
       "      <th>98</th>\n",
       "      <td>NaN</td>\n",
       "      <td></td>\n",
       "      <td></td>\n",
       "    </tr>\n",
       "    <tr>\n",
       "      <th>99</th>\n",
       "      <td>NaN</td>\n",
       "      <td></td>\n",
       "      <td></td>\n",
       "    </tr>\n",
       "  </tbody>\n",
       "</table>\n",
       "<p>100 rows × 3 columns</p>\n",
       "</div>"
      ],
      "text/plain": [
       "    Ratings               Review  \\\n",
       "0       NaN            Brilliant   \n",
       "1       NaN       Simply awesome   \n",
       "2       NaN  Best in the market!   \n",
       "3       NaN                        \n",
       "4       NaN                        \n",
       "..      ...                  ...   \n",
       "95      NaN                        \n",
       "96      NaN                        \n",
       "97      NaN                        \n",
       "98      NaN                        \n",
       "99      NaN                        \n",
       "\n",
       "                                     Full_Description  \n",
       "0   The Best Phone for the Money\\n\\nThe iPhone 11 ...  \n",
       "1   Really satisfied with the Product I received.....  \n",
       "2   Great iPhone very snappy experience as apple k...  \n",
       "3                                                      \n",
       "4                                                      \n",
       "..                                                ...  \n",
       "95                                                     \n",
       "96                                                     \n",
       "97                                                     \n",
       "98                                                     \n",
       "99                                                     \n",
       "\n",
       "[100 rows x 3 columns]"
      ]
     },
     "execution_count": 417,
     "metadata": {},
     "output_type": "execute_result"
    }
   ],
   "source": [
    "mobile"
   ]
  },
  {
   "cell_type": "code",
   "execution_count": null,
   "metadata": {},
   "outputs": [],
   "source": []
  },
  {
   "cell_type": "markdown",
   "metadata": {},
   "source": [
    "# Q8: Scrape data for first 100 sneakers you find when you visit flipkart.com and search for “sneakers” in the search field.\n"
   ]
  },
  {
   "cell_type": "code",
   "execution_count": 204,
   "metadata": {},
   "outputs": [],
   "source": [
    "import selenium\n",
    "import pandas as pd\n",
    "from selenium import webdriver\n",
    "\n",
    "driver = webdriver.Chrome('chromedriver.exe')"
   ]
  },
  {
   "cell_type": "code",
   "execution_count": 207,
   "metadata": {},
   "outputs": [],
   "source": [
    "url = 'https://www.flipkart.com/'\n",
    "driver.get(url)"
   ]
  },
  {
   "cell_type": "code",
   "execution_count": 218,
   "metadata": {},
   "outputs": [
    {
     "data": {
      "text/plain": [
       "<selenium.webdriver.remote.webelement.WebElement (session=\"157a413c10571bcc12c9b938fa30d99f\", element=\"8a71074f-885e-45de-9333-efad64fd9146\")>"
      ]
     },
     "execution_count": 218,
     "metadata": {},
     "output_type": "execute_result"
    }
   ],
   "source": [
    "search = driver.find_element_by_xpath(\"//input[@title = 'Search for products, brands and more']\")\n",
    "search"
   ]
  },
  {
   "cell_type": "code",
   "execution_count": 219,
   "metadata": {},
   "outputs": [],
   "source": [
    "search.send_keys(\"sneakers\")"
   ]
  },
  {
   "cell_type": "code",
   "execution_count": 220,
   "metadata": {},
   "outputs": [],
   "source": [
    "click = driver.find_element_by_xpath(\"//button[@class = 'L0Z3Pu']\")\n",
    "click.click()"
   ]
  },
  {
   "cell_type": "code",
   "execution_count": 335,
   "metadata": {},
   "outputs": [
    {
     "name": "stdout",
     "output_type": "stream",
     "text": [
      "[<selenium.webdriver.remote.webelement.WebElement (session=\"157a413c10571bcc12c9b938fa30d99f\", element=\"16830e04-1c61-4463-84e3-ebe9b42e2c3d\")>, <selenium.webdriver.remote.webelement.WebElement (session=\"157a413c10571bcc12c9b938fa30d99f\", element=\"0c14d327-a77a-4531-8a10-9ef8ea4cc540\")>, <selenium.webdriver.remote.webelement.WebElement (session=\"157a413c10571bcc12c9b938fa30d99f\", element=\"41aec7e5-5d05-4357-a52f-5d0675ef8aa0\")>, <selenium.webdriver.remote.webelement.WebElement (session=\"157a413c10571bcc12c9b938fa30d99f\", element=\"fbfe6ac8-fb90-42e3-b769-ba2bffa96c86\")>, <selenium.webdriver.remote.webelement.WebElement (session=\"157a413c10571bcc12c9b938fa30d99f\", element=\"ed76c776-393f-4ac5-8636-a160cf0679ec\")>, <selenium.webdriver.remote.webelement.WebElement (session=\"157a413c10571bcc12c9b938fa30d99f\", element=\"d789b0b7-f7d4-4410-b3fb-d67cf755b111\")>, <selenium.webdriver.remote.webelement.WebElement (session=\"157a413c10571bcc12c9b938fa30d99f\", element=\"7261e05e-7862-4c3b-8c80-b5eb7f7311cc\")>, <selenium.webdriver.remote.webelement.WebElement (session=\"157a413c10571bcc12c9b938fa30d99f\", element=\"ccf8547d-eebb-42da-8f9f-9f54cbd237a3\")>, <selenium.webdriver.remote.webelement.WebElement (session=\"157a413c10571bcc12c9b938fa30d99f\", element=\"35e34958-549d-4025-b841-fc55548502cd\")>, <selenium.webdriver.remote.webelement.WebElement (session=\"157a413c10571bcc12c9b938fa30d99f\", element=\"ce793243-94cb-45d9-a79b-8febbf4dad01\")>, <selenium.webdriver.remote.webelement.WebElement (session=\"157a413c10571bcc12c9b938fa30d99f\", element=\"5c986c06-1449-4f41-9727-c2b5f26ce811\")>, <selenium.webdriver.remote.webelement.WebElement (session=\"157a413c10571bcc12c9b938fa30d99f\", element=\"1401907d-9827-45dd-a9ee-3921f7f5a2c1\")>, <selenium.webdriver.remote.webelement.WebElement (session=\"157a413c10571bcc12c9b938fa30d99f\", element=\"b0f129f2-6b75-4073-bc18-cdb99ea6ad9e\")>, <selenium.webdriver.remote.webelement.WebElement (session=\"157a413c10571bcc12c9b938fa30d99f\", element=\"52fc85ea-66a0-4b14-aceb-7d897a55812f\")>, <selenium.webdriver.remote.webelement.WebElement (session=\"157a413c10571bcc12c9b938fa30d99f\", element=\"8118a743-61f8-4cfa-ba4c-cbf7f7ef7531\")>, <selenium.webdriver.remote.webelement.WebElement (session=\"157a413c10571bcc12c9b938fa30d99f\", element=\"f44bbe3c-5fda-4c8f-ab50-00c8bd11fa48\")>, <selenium.webdriver.remote.webelement.WebElement (session=\"157a413c10571bcc12c9b938fa30d99f\", element=\"cec5137a-579a-4a2b-bc3f-5a5234f22e00\")>, <selenium.webdriver.remote.webelement.WebElement (session=\"157a413c10571bcc12c9b938fa30d99f\", element=\"312a34a2-e76d-429f-b621-fd1c04a7d7f3\")>, <selenium.webdriver.remote.webelement.WebElement (session=\"157a413c10571bcc12c9b938fa30d99f\", element=\"99e9c81a-6a18-4d51-946f-2212cde9757f\")>, <selenium.webdriver.remote.webelement.WebElement (session=\"157a413c10571bcc12c9b938fa30d99f\", element=\"2a01ec8a-d886-4d7a-9eae-3dd479e90605\")>, <selenium.webdriver.remote.webelement.WebElement (session=\"157a413c10571bcc12c9b938fa30d99f\", element=\"35788d9e-1065-4c8c-aa4f-46fd4e059b9f\")>, <selenium.webdriver.remote.webelement.WebElement (session=\"157a413c10571bcc12c9b938fa30d99f\", element=\"fd221844-4b8c-4219-abe6-cf89cce9efbb\")>, <selenium.webdriver.remote.webelement.WebElement (session=\"157a413c10571bcc12c9b938fa30d99f\", element=\"3bac708c-95f8-4aa3-a0d5-430e9e36ede5\")>, <selenium.webdriver.remote.webelement.WebElement (session=\"157a413c10571bcc12c9b938fa30d99f\", element=\"448d14cf-064c-46a6-ae00-ca8c9f5b65a8\")>, <selenium.webdriver.remote.webelement.WebElement (session=\"157a413c10571bcc12c9b938fa30d99f\", element=\"6f301579-a90a-40b2-ae46-2654a23e15f5\")>, <selenium.webdriver.remote.webelement.WebElement (session=\"157a413c10571bcc12c9b938fa30d99f\", element=\"6789ab39-351e-48fd-bf48-db0d2bfd6e2b\")>, <selenium.webdriver.remote.webelement.WebElement (session=\"157a413c10571bcc12c9b938fa30d99f\", element=\"2b79053c-5415-4fd0-84cf-c5e98263aa74\")>, <selenium.webdriver.remote.webelement.WebElement (session=\"157a413c10571bcc12c9b938fa30d99f\", element=\"ad45c048-7971-47a4-8cf4-058c97282fce\")>, <selenium.webdriver.remote.webelement.WebElement (session=\"157a413c10571bcc12c9b938fa30d99f\", element=\"97998293-1ffe-4f7c-a1b8-6dc5849d21f6\")>, <selenium.webdriver.remote.webelement.WebElement (session=\"157a413c10571bcc12c9b938fa30d99f\", element=\"e476988d-0e34-459a-b1ea-45ad2fe4bc12\")>, <selenium.webdriver.remote.webelement.WebElement (session=\"157a413c10571bcc12c9b938fa30d99f\", element=\"01e4d5fa-cd64-4e1e-ac00-baeecdef097a\")>, <selenium.webdriver.remote.webelement.WebElement (session=\"157a413c10571bcc12c9b938fa30d99f\", element=\"5bc39c48-9159-419c-80b2-be3c8e5be3aa\")>, <selenium.webdriver.remote.webelement.WebElement (session=\"157a413c10571bcc12c9b938fa30d99f\", element=\"9adb11e0-9670-4776-bd4f-b81102fcab53\")>, <selenium.webdriver.remote.webelement.WebElement (session=\"157a413c10571bcc12c9b938fa30d99f\", element=\"8401df36-2882-4aa5-8094-3c6b139f03e4\")>, <selenium.webdriver.remote.webelement.WebElement (session=\"157a413c10571bcc12c9b938fa30d99f\", element=\"2b5360f0-1961-43a7-bb9f-95fcaaa1dc70\")>, <selenium.webdriver.remote.webelement.WebElement (session=\"157a413c10571bcc12c9b938fa30d99f\", element=\"455be8dd-68d1-4af2-8b29-e97eee646b56\")>, <selenium.webdriver.remote.webelement.WebElement (session=\"157a413c10571bcc12c9b938fa30d99f\", element=\"889e05bb-fc7e-4961-8d2f-f8eae78def97\")>, <selenium.webdriver.remote.webelement.WebElement (session=\"157a413c10571bcc12c9b938fa30d99f\", element=\"41aa773a-b6ae-4f9e-b743-6d74f19381d0\")>, <selenium.webdriver.remote.webelement.WebElement (session=\"157a413c10571bcc12c9b938fa30d99f\", element=\"24e502dc-c538-4782-8c44-c6341f832992\")>, <selenium.webdriver.remote.webelement.WebElement (session=\"157a413c10571bcc12c9b938fa30d99f\", element=\"9c92eb31-69fe-4021-96c2-d231ebd990fc\")>]\n"
     ]
    }
   ],
   "source": [
    "# create variable \n",
    "browser = driver.find_elements_by_xpath\n",
    "\n",
    "b1 = browser(\"//div[@class = '_2WkVRV']\")\n",
    "print(b1)"
   ]
  },
  {
   "cell_type": "code",
   "execution_count": 336,
   "metadata": {},
   "outputs": [
    {
     "data": {
      "text/plain": [
       "['Absolute comfort',\n",
       " 'TPENT',\n",
       " 'RED TAPE',\n",
       " 'Azeraa',\n",
       " 'aadi',\n",
       " 'RONSON',\n",
       " 'ALAN COSTO',\n",
       " 'Ktiz',\n",
       " 'Zorth',\n",
       " 'BRUTON',\n",
       " 'HOTSTYLE',\n",
       " 'Woakers',\n",
       " 'Absolute comfort',\n",
       " 'SPARX',\n",
       " 'PUMA',\n",
       " 'HOTSTYLE',\n",
       " 'Qtsy',\n",
       " 'PUMA',\n",
       " 'SPADE CLUB',\n",
       " 'SUSON',\n",
       " 'Jack Diamond',\n",
       " 'Kreverse',\n",
       " 'warships',\n",
       " 'BRUTON',\n",
       " 'BRUTON',\n",
       " 'BRUTON',\n",
       " 'RED TAPE',\n",
       " 'BRUTON',\n",
       " 'Eliq',\n",
       " 'PUMA',\n",
       " 'U.S. POLO ASSN.',\n",
       " 'Stinson',\n",
       " 'TROTTS',\n",
       " 'PUMA',\n",
       " 'RED TAPE',\n",
       " 'Vedboy',\n",
       " 'Red Eagle',\n",
       " 'Adiso',\n",
       " 'PROVOGUE',\n",
       " 'KNIGHT WALKERS']"
      ]
     },
     "execution_count": 336,
     "metadata": {},
     "output_type": "execute_result"
    }
   ],
   "source": [
    "brand1 = []\n",
    "for i in b1:\n",
    "    brand1.append(i.text)\n",
    "brand1"
   ]
  },
  {
   "cell_type": "code",
   "execution_count": 337,
   "metadata": {},
   "outputs": [
    {
     "data": {
      "text/plain": [
       "[<selenium.webdriver.remote.webelement.WebElement (session=\"157a413c10571bcc12c9b938fa30d99f\", element=\"718a10a7-390c-4909-912a-b23174a3fd22\")>,\n",
       " <selenium.webdriver.remote.webelement.WebElement (session=\"157a413c10571bcc12c9b938fa30d99f\", element=\"38ff8a53-c98f-44ef-a5cc-8b41b7d22ad7\")>,\n",
       " <selenium.webdriver.remote.webelement.WebElement (session=\"157a413c10571bcc12c9b938fa30d99f\", element=\"9144641b-ddbd-43ba-8011-ce1a0fce6081\")>,\n",
       " <selenium.webdriver.remote.webelement.WebElement (session=\"157a413c10571bcc12c9b938fa30d99f\", element=\"bb888b68-5cfa-45cf-b246-10273f243993\")>,\n",
       " <selenium.webdriver.remote.webelement.WebElement (session=\"157a413c10571bcc12c9b938fa30d99f\", element=\"b3cab7bc-d20a-46a3-8484-4461bc6deb80\")>,\n",
       " <selenium.webdriver.remote.webelement.WebElement (session=\"157a413c10571bcc12c9b938fa30d99f\", element=\"a6a7fb43-80f3-48a8-9db7-62f9e609d446\")>,\n",
       " <selenium.webdriver.remote.webelement.WebElement (session=\"157a413c10571bcc12c9b938fa30d99f\", element=\"ae8600ab-9ec9-4c0a-807e-3ac57cc0511b\")>,\n",
       " <selenium.webdriver.remote.webelement.WebElement (session=\"157a413c10571bcc12c9b938fa30d99f\", element=\"6a84a8be-c641-4671-8955-842b74a4d4ad\")>,\n",
       " <selenium.webdriver.remote.webelement.WebElement (session=\"157a413c10571bcc12c9b938fa30d99f\", element=\"e4f3decd-e9a8-4bb9-8669-ae8962c49f8a\")>,\n",
       " <selenium.webdriver.remote.webelement.WebElement (session=\"157a413c10571bcc12c9b938fa30d99f\", element=\"fc39051d-bb7e-4b92-bacc-0f9b8d721ab6\")>,\n",
       " <selenium.webdriver.remote.webelement.WebElement (session=\"157a413c10571bcc12c9b938fa30d99f\", element=\"e864b8d2-0478-4b2a-9128-d5b98a741870\")>,\n",
       " <selenium.webdriver.remote.webelement.WebElement (session=\"157a413c10571bcc12c9b938fa30d99f\", element=\"2200635e-8be1-480f-bfe6-4f48836794f6\")>,\n",
       " <selenium.webdriver.remote.webelement.WebElement (session=\"157a413c10571bcc12c9b938fa30d99f\", element=\"96dbf677-c064-4b47-b4f5-3f164d66e573\")>,\n",
       " <selenium.webdriver.remote.webelement.WebElement (session=\"157a413c10571bcc12c9b938fa30d99f\", element=\"8bdc040b-a1b9-46dd-b5c4-07e8345b2abb\")>,\n",
       " <selenium.webdriver.remote.webelement.WebElement (session=\"157a413c10571bcc12c9b938fa30d99f\", element=\"d2f9edb7-cce8-4cbc-8c8b-33757b1b2879\")>,\n",
       " <selenium.webdriver.remote.webelement.WebElement (session=\"157a413c10571bcc12c9b938fa30d99f\", element=\"eedf34c4-a7a2-4c3b-af98-016b919e1407\")>,\n",
       " <selenium.webdriver.remote.webelement.WebElement (session=\"157a413c10571bcc12c9b938fa30d99f\", element=\"e9ae7ff4-8963-47cf-bcc3-7a7f33086d18\")>,\n",
       " <selenium.webdriver.remote.webelement.WebElement (session=\"157a413c10571bcc12c9b938fa30d99f\", element=\"b7906eea-3d3a-4815-838e-980c20f456a9\")>,\n",
       " <selenium.webdriver.remote.webelement.WebElement (session=\"157a413c10571bcc12c9b938fa30d99f\", element=\"f48cb3f5-bf9c-48f6-abe3-39a8a4206bf6\")>,\n",
       " <selenium.webdriver.remote.webelement.WebElement (session=\"157a413c10571bcc12c9b938fa30d99f\", element=\"b6bd034f-745b-4b97-b98f-8acc7a0bcf59\")>,\n",
       " <selenium.webdriver.remote.webelement.WebElement (session=\"157a413c10571bcc12c9b938fa30d99f\", element=\"9c3d7882-cd7c-4b7f-917b-c0484a09883d\")>,\n",
       " <selenium.webdriver.remote.webelement.WebElement (session=\"157a413c10571bcc12c9b938fa30d99f\", element=\"19070ee6-9aa9-4f90-83a8-abb39ff57238\")>,\n",
       " <selenium.webdriver.remote.webelement.WebElement (session=\"157a413c10571bcc12c9b938fa30d99f\", element=\"99512e37-3164-49e3-b61b-e6a778ad21d5\")>,\n",
       " <selenium.webdriver.remote.webelement.WebElement (session=\"157a413c10571bcc12c9b938fa30d99f\", element=\"be7d65af-fd51-4551-831b-e55eddceeeef\")>,\n",
       " <selenium.webdriver.remote.webelement.WebElement (session=\"157a413c10571bcc12c9b938fa30d99f\", element=\"9153dd7d-9cda-4816-9d46-04dda83dc14c\")>,\n",
       " <selenium.webdriver.remote.webelement.WebElement (session=\"157a413c10571bcc12c9b938fa30d99f\", element=\"28a5f28f-fe0e-4c2b-8498-1ff963c9767f\")>,\n",
       " <selenium.webdriver.remote.webelement.WebElement (session=\"157a413c10571bcc12c9b938fa30d99f\", element=\"44aed5e7-0a7f-4aeb-8ab2-2ca89da10062\")>,\n",
       " <selenium.webdriver.remote.webelement.WebElement (session=\"157a413c10571bcc12c9b938fa30d99f\", element=\"9b777c17-f9a2-48f5-a196-33159eac1e57\")>,\n",
       " <selenium.webdriver.remote.webelement.WebElement (session=\"157a413c10571bcc12c9b938fa30d99f\", element=\"be915afc-632b-43d0-a1ff-5b26f739c89d\")>]"
      ]
     },
     "execution_count": 337,
     "metadata": {},
     "output_type": "execute_result"
    }
   ],
   "source": [
    "pd1 = browser(\"//a[@class = 'IRpwTa']\")\n",
    "pd1"
   ]
  },
  {
   "cell_type": "code",
   "execution_count": 338,
   "metadata": {},
   "outputs": [
    {
     "data": {
      "text/plain": [
       "29"
      ]
     },
     "execution_count": 338,
     "metadata": {},
     "output_type": "execute_result"
    }
   ],
   "source": [
    "len(pd1)"
   ]
  },
  {
   "cell_type": "code",
   "execution_count": 369,
   "metadata": {},
   "outputs": [
    {
     "data": {
      "text/plain": [
       "[<selenium.webdriver.remote.webelement.WebElement (session=\"157a413c10571bcc12c9b938fa30d99f\", element=\"1fda3c8f-4fa5-43f9-a540-6a34c50042f2\")>,\n",
       " <selenium.webdriver.remote.webelement.WebElement (session=\"157a413c10571bcc12c9b938fa30d99f\", element=\"7c57805e-f31c-49c7-a23b-5d425d3b9433\")>,\n",
       " <selenium.webdriver.remote.webelement.WebElement (session=\"157a413c10571bcc12c9b938fa30d99f\", element=\"e56e2a94-049b-44f7-8704-c9b614706b2d\")>,\n",
       " <selenium.webdriver.remote.webelement.WebElement (session=\"157a413c10571bcc12c9b938fa30d99f\", element=\"4ddf1d5f-64f4-4a7b-9706-f48dbc124862\")>,\n",
       " <selenium.webdriver.remote.webelement.WebElement (session=\"157a413c10571bcc12c9b938fa30d99f\", element=\"0c533382-23fd-499a-b1b5-e0e8069f1d4d\")>,\n",
       " <selenium.webdriver.remote.webelement.WebElement (session=\"157a413c10571bcc12c9b938fa30d99f\", element=\"2a53434c-5512-40b1-85bd-e3b58da3ca49\")>,\n",
       " <selenium.webdriver.remote.webelement.WebElement (session=\"157a413c10571bcc12c9b938fa30d99f\", element=\"e31f92a7-3479-4c59-8570-d5fb8dad7b85\")>,\n",
       " <selenium.webdriver.remote.webelement.WebElement (session=\"157a413c10571bcc12c9b938fa30d99f\", element=\"e79835aa-099c-41d4-85b0-67bd9e62fc0e\")>,\n",
       " <selenium.webdriver.remote.webelement.WebElement (session=\"157a413c10571bcc12c9b938fa30d99f\", element=\"59e81cd3-4297-4108-aee3-70af0c64e73b\")>,\n",
       " <selenium.webdriver.remote.webelement.WebElement (session=\"157a413c10571bcc12c9b938fa30d99f\", element=\"1e5cbcea-680b-4245-953a-6a5b9ea3b459\")>,\n",
       " <selenium.webdriver.remote.webelement.WebElement (session=\"157a413c10571bcc12c9b938fa30d99f\", element=\"0969947c-d3d8-4ca4-8e77-f25d88429569\")>,\n",
       " <selenium.webdriver.remote.webelement.WebElement (session=\"157a413c10571bcc12c9b938fa30d99f\", element=\"45888826-d163-4c86-8ebc-9733009425c0\")>,\n",
       " <selenium.webdriver.remote.webelement.WebElement (session=\"157a413c10571bcc12c9b938fa30d99f\", element=\"dbd2afb4-c876-4c9e-b8af-7104a01915b4\")>,\n",
       " <selenium.webdriver.remote.webelement.WebElement (session=\"157a413c10571bcc12c9b938fa30d99f\", element=\"8c81dead-6133-45e0-9cb1-cc0c56a832e8\")>,\n",
       " <selenium.webdriver.remote.webelement.WebElement (session=\"157a413c10571bcc12c9b938fa30d99f\", element=\"342282aa-b524-4c9c-accc-dbc6629948fd\")>,\n",
       " <selenium.webdriver.remote.webelement.WebElement (session=\"157a413c10571bcc12c9b938fa30d99f\", element=\"74f274b7-ea7c-4704-9c64-f1854bed668c\")>,\n",
       " <selenium.webdriver.remote.webelement.WebElement (session=\"157a413c10571bcc12c9b938fa30d99f\", element=\"82a7e3fe-1bc1-4c3a-a40b-bb471c33d5e5\")>,\n",
       " <selenium.webdriver.remote.webelement.WebElement (session=\"157a413c10571bcc12c9b938fa30d99f\", element=\"20f3fe79-2c0f-4b68-bd8c-38867e543cf6\")>,\n",
       " <selenium.webdriver.remote.webelement.WebElement (session=\"157a413c10571bcc12c9b938fa30d99f\", element=\"313662b8-002a-476a-b93c-2d70b0061e7e\")>,\n",
       " <selenium.webdriver.remote.webelement.WebElement (session=\"157a413c10571bcc12c9b938fa30d99f\", element=\"99af2f43-99c0-4920-83a4-5dd9b7a96cbe\")>,\n",
       " <selenium.webdriver.remote.webelement.WebElement (session=\"157a413c10571bcc12c9b938fa30d99f\", element=\"6a745e31-428d-450c-909f-a8760dd2a0de\")>,\n",
       " <selenium.webdriver.remote.webelement.WebElement (session=\"157a413c10571bcc12c9b938fa30d99f\", element=\"190c1b98-611b-431a-9d3f-92d213303095\")>,\n",
       " <selenium.webdriver.remote.webelement.WebElement (session=\"157a413c10571bcc12c9b938fa30d99f\", element=\"c6ba596c-2da2-4ed3-b8c7-4f5b17d6d56a\")>,\n",
       " <selenium.webdriver.remote.webelement.WebElement (session=\"157a413c10571bcc12c9b938fa30d99f\", element=\"c5f657ee-19d6-4b3b-abb2-969dc0a69aa5\")>,\n",
       " <selenium.webdriver.remote.webelement.WebElement (session=\"157a413c10571bcc12c9b938fa30d99f\", element=\"b85672bb-e755-4f9b-9f2b-49faf20841ac\")>,\n",
       " <selenium.webdriver.remote.webelement.WebElement (session=\"157a413c10571bcc12c9b938fa30d99f\", element=\"eaf2bf92-11ed-4484-99d3-26e937815b0c\")>,\n",
       " <selenium.webdriver.remote.webelement.WebElement (session=\"157a413c10571bcc12c9b938fa30d99f\", element=\"2ae4a904-8977-440e-9fa5-4708f128d750\")>,\n",
       " <selenium.webdriver.remote.webelement.WebElement (session=\"157a413c10571bcc12c9b938fa30d99f\", element=\"1523271f-35f8-4b3f-a9ff-0dbfd8840ae3\")>,\n",
       " <selenium.webdriver.remote.webelement.WebElement (session=\"157a413c10571bcc12c9b938fa30d99f\", element=\"e3003a1b-b012-4e33-bcc1-4498fbec788f\")>,\n",
       " <selenium.webdriver.remote.webelement.WebElement (session=\"157a413c10571bcc12c9b938fa30d99f\", element=\"dff87ed4-c32d-4e54-9723-ab694c9707fb\")>,\n",
       " <selenium.webdriver.remote.webelement.WebElement (session=\"157a413c10571bcc12c9b938fa30d99f\", element=\"a43b0e05-c59c-4534-84ac-e982ca33fdfd\")>,\n",
       " <selenium.webdriver.remote.webelement.WebElement (session=\"157a413c10571bcc12c9b938fa30d99f\", element=\"5acf8131-1ef0-4bec-8281-a0adc3351dfa\")>,\n",
       " <selenium.webdriver.remote.webelement.WebElement (session=\"157a413c10571bcc12c9b938fa30d99f\", element=\"6850c6e8-ee5e-4eac-82ec-c1ab778dc041\")>,\n",
       " <selenium.webdriver.remote.webelement.WebElement (session=\"157a413c10571bcc12c9b938fa30d99f\", element=\"4db9456a-2426-4e80-a7a1-e2abc49ce265\")>,\n",
       " <selenium.webdriver.remote.webelement.WebElement (session=\"157a413c10571bcc12c9b938fa30d99f\", element=\"1004643f-fed5-469c-b9c2-4f9d37d8063f\")>,\n",
       " <selenium.webdriver.remote.webelement.WebElement (session=\"157a413c10571bcc12c9b938fa30d99f\", element=\"6e5a0b70-2df4-48fe-94cb-b1026ee13b10\")>,\n",
       " <selenium.webdriver.remote.webelement.WebElement (session=\"157a413c10571bcc12c9b938fa30d99f\", element=\"57ad97b0-4a78-4925-8525-8bc3813467a9\")>,\n",
       " <selenium.webdriver.remote.webelement.WebElement (session=\"157a413c10571bcc12c9b938fa30d99f\", element=\"ccf2fe6c-6863-40eb-9a67-f0d4ba0441a2\")>,\n",
       " <selenium.webdriver.remote.webelement.WebElement (session=\"157a413c10571bcc12c9b938fa30d99f\", element=\"75c840f9-98ce-4ed7-bace-616b46feedde\")>,\n",
       " <selenium.webdriver.remote.webelement.WebElement (session=\"157a413c10571bcc12c9b938fa30d99f\", element=\"ee1da22b-1707-45b4-bad1-7748bdede0ad\")>]"
      ]
     },
     "execution_count": 369,
     "metadata": {},
     "output_type": "execute_result"
    }
   ],
   "source": [
    "p1 = browser(\"//div[@class = '_30jeq3']\")\n",
    "p1"
   ]
  },
  {
   "cell_type": "code",
   "execution_count": 340,
   "metadata": {},
   "outputs": [
    {
     "data": {
      "text/plain": [
       "40"
      ]
     },
     "execution_count": 340,
     "metadata": {},
     "output_type": "execute_result"
    }
   ],
   "source": [
    "len(p1)"
   ]
  },
  {
   "cell_type": "code",
   "execution_count": 341,
   "metadata": {},
   "outputs": [
    {
     "data": {
      "text/plain": [
       "[<selenium.webdriver.remote.webelement.WebElement (session=\"157a413c10571bcc12c9b938fa30d99f\", element=\"ff6167d2-dcc2-4b40-a6d6-9cb540db2b0d\")>,\n",
       " <selenium.webdriver.remote.webelement.WebElement (session=\"157a413c10571bcc12c9b938fa30d99f\", element=\"6f720775-8472-4a71-9908-da6cc5de4886\")>,\n",
       " <selenium.webdriver.remote.webelement.WebElement (session=\"157a413c10571bcc12c9b938fa30d99f\", element=\"5628804e-51c7-43ae-bd6e-1551259ee970\")>,\n",
       " <selenium.webdriver.remote.webelement.WebElement (session=\"157a413c10571bcc12c9b938fa30d99f\", element=\"a2fd17ae-fada-46cd-b88f-7dcfc8cd6ff3\")>,\n",
       " <selenium.webdriver.remote.webelement.WebElement (session=\"157a413c10571bcc12c9b938fa30d99f\", element=\"bbdaf286-81ab-42ad-9a69-fa7dcae82e6d\")>,\n",
       " <selenium.webdriver.remote.webelement.WebElement (session=\"157a413c10571bcc12c9b938fa30d99f\", element=\"8feb7579-4632-4ec0-a394-e6268e31537b\")>,\n",
       " <selenium.webdriver.remote.webelement.WebElement (session=\"157a413c10571bcc12c9b938fa30d99f\", element=\"820f371a-4be9-4b87-8064-f72907bff236\")>,\n",
       " <selenium.webdriver.remote.webelement.WebElement (session=\"157a413c10571bcc12c9b938fa30d99f\", element=\"f3acdb38-80e2-4069-a7e2-647fedaf3de8\")>,\n",
       " <selenium.webdriver.remote.webelement.WebElement (session=\"157a413c10571bcc12c9b938fa30d99f\", element=\"c6f3099e-25cc-4c33-ba04-60f17c42c0b5\")>,\n",
       " <selenium.webdriver.remote.webelement.WebElement (session=\"157a413c10571bcc12c9b938fa30d99f\", element=\"25c44015-5f82-4d29-8bbb-7f961c3b951f\")>,\n",
       " <selenium.webdriver.remote.webelement.WebElement (session=\"157a413c10571bcc12c9b938fa30d99f\", element=\"afdd9860-7275-46dc-a286-7c967ed4bc4c\")>,\n",
       " <selenium.webdriver.remote.webelement.WebElement (session=\"157a413c10571bcc12c9b938fa30d99f\", element=\"ee64df39-d32f-4193-bf94-8b6d648fb4a1\")>,\n",
       " <selenium.webdriver.remote.webelement.WebElement (session=\"157a413c10571bcc12c9b938fa30d99f\", element=\"0cb5b818-284d-4f3c-828d-5d60b2445141\")>,\n",
       " <selenium.webdriver.remote.webelement.WebElement (session=\"157a413c10571bcc12c9b938fa30d99f\", element=\"bfcb5fc3-20b8-4d64-be39-ccb311769053\")>,\n",
       " <selenium.webdriver.remote.webelement.WebElement (session=\"157a413c10571bcc12c9b938fa30d99f\", element=\"29acfb62-9a2b-4ecd-a48b-b15de421ffa2\")>,\n",
       " <selenium.webdriver.remote.webelement.WebElement (session=\"157a413c10571bcc12c9b938fa30d99f\", element=\"ab4025ee-41e1-476b-b75c-135f6fc900c2\")>,\n",
       " <selenium.webdriver.remote.webelement.WebElement (session=\"157a413c10571bcc12c9b938fa30d99f\", element=\"2ff1938d-fc44-41d2-8a82-c5d2afbff1dd\")>,\n",
       " <selenium.webdriver.remote.webelement.WebElement (session=\"157a413c10571bcc12c9b938fa30d99f\", element=\"2de9386f-32d3-4a29-9827-7fd686f7be2e\")>,\n",
       " <selenium.webdriver.remote.webelement.WebElement (session=\"157a413c10571bcc12c9b938fa30d99f\", element=\"72ab8b4e-c86b-4011-8139-8c7a17e73dd8\")>,\n",
       " <selenium.webdriver.remote.webelement.WebElement (session=\"157a413c10571bcc12c9b938fa30d99f\", element=\"57dbd68b-2f4d-4a1d-99db-88aae600e32d\")>,\n",
       " <selenium.webdriver.remote.webelement.WebElement (session=\"157a413c10571bcc12c9b938fa30d99f\", element=\"c8245ac3-4556-4827-8803-20932cdf4418\")>,\n",
       " <selenium.webdriver.remote.webelement.WebElement (session=\"157a413c10571bcc12c9b938fa30d99f\", element=\"3aa9e188-f174-4429-9955-4b429bedf556\")>,\n",
       " <selenium.webdriver.remote.webelement.WebElement (session=\"157a413c10571bcc12c9b938fa30d99f\", element=\"33545ac7-78ba-4c2c-82cf-a28888937f53\")>,\n",
       " <selenium.webdriver.remote.webelement.WebElement (session=\"157a413c10571bcc12c9b938fa30d99f\", element=\"7d2dd158-1d8d-4149-8c7e-7d0cf34175cb\")>,\n",
       " <selenium.webdriver.remote.webelement.WebElement (session=\"157a413c10571bcc12c9b938fa30d99f\", element=\"727a0e3b-ac37-4294-8ea8-06346332a1ff\")>,\n",
       " <selenium.webdriver.remote.webelement.WebElement (session=\"157a413c10571bcc12c9b938fa30d99f\", element=\"4d8f950b-88aa-406d-8de0-301c7a45b188\")>,\n",
       " <selenium.webdriver.remote.webelement.WebElement (session=\"157a413c10571bcc12c9b938fa30d99f\", element=\"903d30f1-0a60-4e9b-ad70-939f4e5a8558\")>,\n",
       " <selenium.webdriver.remote.webelement.WebElement (session=\"157a413c10571bcc12c9b938fa30d99f\", element=\"912f4cb7-15d6-4d98-8d5f-12a66db2b57e\")>,\n",
       " <selenium.webdriver.remote.webelement.WebElement (session=\"157a413c10571bcc12c9b938fa30d99f\", element=\"f43dc2ca-7235-41a8-8916-63f53794bf5b\")>,\n",
       " <selenium.webdriver.remote.webelement.WebElement (session=\"157a413c10571bcc12c9b938fa30d99f\", element=\"26d6be2f-17af-4ce0-ad07-7afa9f6fc749\")>,\n",
       " <selenium.webdriver.remote.webelement.WebElement (session=\"157a413c10571bcc12c9b938fa30d99f\", element=\"842d7c48-40cd-47cb-ad8e-594ea5add54d\")>,\n",
       " <selenium.webdriver.remote.webelement.WebElement (session=\"157a413c10571bcc12c9b938fa30d99f\", element=\"30e9047f-0668-4fa8-9697-ef90226333bf\")>,\n",
       " <selenium.webdriver.remote.webelement.WebElement (session=\"157a413c10571bcc12c9b938fa30d99f\", element=\"f120a3cf-cbe0-41f6-98ec-b7749fa5bf3a\")>,\n",
       " <selenium.webdriver.remote.webelement.WebElement (session=\"157a413c10571bcc12c9b938fa30d99f\", element=\"1dae0bc3-9ecb-4ef9-b83e-65bcfd32ff93\")>,\n",
       " <selenium.webdriver.remote.webelement.WebElement (session=\"157a413c10571bcc12c9b938fa30d99f\", element=\"4b158dba-2efc-4bb4-b2ab-6a93f35c6184\")>,\n",
       " <selenium.webdriver.remote.webelement.WebElement (session=\"157a413c10571bcc12c9b938fa30d99f\", element=\"93de77ae-6102-467c-9a8a-dbef639a7168\")>,\n",
       " <selenium.webdriver.remote.webelement.WebElement (session=\"157a413c10571bcc12c9b938fa30d99f\", element=\"e1e9e07c-c6ba-440d-a05c-0a47443aabc0\")>,\n",
       " <selenium.webdriver.remote.webelement.WebElement (session=\"157a413c10571bcc12c9b938fa30d99f\", element=\"a0e471b2-121d-472a-a377-47b2ae2ef0ed\")>,\n",
       " <selenium.webdriver.remote.webelement.WebElement (session=\"157a413c10571bcc12c9b938fa30d99f\", element=\"f0f0c466-9820-41cd-8eac-6574239db1cb\")>,\n",
       " <selenium.webdriver.remote.webelement.WebElement (session=\"157a413c10571bcc12c9b938fa30d99f\", element=\"ea6e5b44-8437-402c-8f11-6c9605df7c23\")>]"
      ]
     },
     "execution_count": 341,
     "metadata": {},
     "output_type": "execute_result"
    }
   ],
   "source": [
    "d1 = browser(\"//div[@class = '_3Ay6Sb']\")\n",
    "d1"
   ]
  },
  {
   "cell_type": "code",
   "execution_count": 342,
   "metadata": {},
   "outputs": [
    {
     "data": {
      "text/plain": [
       "40"
      ]
     },
     "execution_count": 342,
     "metadata": {},
     "output_type": "execute_result"
    }
   ],
   "source": [
    "len(d1)"
   ]
  },
  {
   "cell_type": "code",
   "execution_count": 231,
   "metadata": {},
   "outputs": [],
   "source": [
    "# scraping from next page\n",
    "\n",
    "next = driver.find_element_by_xpath(\"//a[@class = '_1LKTO3']\")\n",
    "next.click()"
   ]
  },
  {
   "cell_type": "code",
   "execution_count": 343,
   "metadata": {},
   "outputs": [
    {
     "data": {
      "text/plain": [
       "[<selenium.webdriver.remote.webelement.WebElement (session=\"157a413c10571bcc12c9b938fa30d99f\", element=\"16830e04-1c61-4463-84e3-ebe9b42e2c3d\")>,\n",
       " <selenium.webdriver.remote.webelement.WebElement (session=\"157a413c10571bcc12c9b938fa30d99f\", element=\"0c14d327-a77a-4531-8a10-9ef8ea4cc540\")>,\n",
       " <selenium.webdriver.remote.webelement.WebElement (session=\"157a413c10571bcc12c9b938fa30d99f\", element=\"41aec7e5-5d05-4357-a52f-5d0675ef8aa0\")>,\n",
       " <selenium.webdriver.remote.webelement.WebElement (session=\"157a413c10571bcc12c9b938fa30d99f\", element=\"fbfe6ac8-fb90-42e3-b769-ba2bffa96c86\")>,\n",
       " <selenium.webdriver.remote.webelement.WebElement (session=\"157a413c10571bcc12c9b938fa30d99f\", element=\"ed76c776-393f-4ac5-8636-a160cf0679ec\")>,\n",
       " <selenium.webdriver.remote.webelement.WebElement (session=\"157a413c10571bcc12c9b938fa30d99f\", element=\"d789b0b7-f7d4-4410-b3fb-d67cf755b111\")>,\n",
       " <selenium.webdriver.remote.webelement.WebElement (session=\"157a413c10571bcc12c9b938fa30d99f\", element=\"7261e05e-7862-4c3b-8c80-b5eb7f7311cc\")>,\n",
       " <selenium.webdriver.remote.webelement.WebElement (session=\"157a413c10571bcc12c9b938fa30d99f\", element=\"ccf8547d-eebb-42da-8f9f-9f54cbd237a3\")>,\n",
       " <selenium.webdriver.remote.webelement.WebElement (session=\"157a413c10571bcc12c9b938fa30d99f\", element=\"35e34958-549d-4025-b841-fc55548502cd\")>,\n",
       " <selenium.webdriver.remote.webelement.WebElement (session=\"157a413c10571bcc12c9b938fa30d99f\", element=\"ce793243-94cb-45d9-a79b-8febbf4dad01\")>,\n",
       " <selenium.webdriver.remote.webelement.WebElement (session=\"157a413c10571bcc12c9b938fa30d99f\", element=\"5c986c06-1449-4f41-9727-c2b5f26ce811\")>,\n",
       " <selenium.webdriver.remote.webelement.WebElement (session=\"157a413c10571bcc12c9b938fa30d99f\", element=\"1401907d-9827-45dd-a9ee-3921f7f5a2c1\")>,\n",
       " <selenium.webdriver.remote.webelement.WebElement (session=\"157a413c10571bcc12c9b938fa30d99f\", element=\"b0f129f2-6b75-4073-bc18-cdb99ea6ad9e\")>,\n",
       " <selenium.webdriver.remote.webelement.WebElement (session=\"157a413c10571bcc12c9b938fa30d99f\", element=\"52fc85ea-66a0-4b14-aceb-7d897a55812f\")>,\n",
       " <selenium.webdriver.remote.webelement.WebElement (session=\"157a413c10571bcc12c9b938fa30d99f\", element=\"8118a743-61f8-4cfa-ba4c-cbf7f7ef7531\")>,\n",
       " <selenium.webdriver.remote.webelement.WebElement (session=\"157a413c10571bcc12c9b938fa30d99f\", element=\"f44bbe3c-5fda-4c8f-ab50-00c8bd11fa48\")>,\n",
       " <selenium.webdriver.remote.webelement.WebElement (session=\"157a413c10571bcc12c9b938fa30d99f\", element=\"cec5137a-579a-4a2b-bc3f-5a5234f22e00\")>,\n",
       " <selenium.webdriver.remote.webelement.WebElement (session=\"157a413c10571bcc12c9b938fa30d99f\", element=\"312a34a2-e76d-429f-b621-fd1c04a7d7f3\")>,\n",
       " <selenium.webdriver.remote.webelement.WebElement (session=\"157a413c10571bcc12c9b938fa30d99f\", element=\"99e9c81a-6a18-4d51-946f-2212cde9757f\")>,\n",
       " <selenium.webdriver.remote.webelement.WebElement (session=\"157a413c10571bcc12c9b938fa30d99f\", element=\"2a01ec8a-d886-4d7a-9eae-3dd479e90605\")>,\n",
       " <selenium.webdriver.remote.webelement.WebElement (session=\"157a413c10571bcc12c9b938fa30d99f\", element=\"35788d9e-1065-4c8c-aa4f-46fd4e059b9f\")>,\n",
       " <selenium.webdriver.remote.webelement.WebElement (session=\"157a413c10571bcc12c9b938fa30d99f\", element=\"fd221844-4b8c-4219-abe6-cf89cce9efbb\")>,\n",
       " <selenium.webdriver.remote.webelement.WebElement (session=\"157a413c10571bcc12c9b938fa30d99f\", element=\"3bac708c-95f8-4aa3-a0d5-430e9e36ede5\")>,\n",
       " <selenium.webdriver.remote.webelement.WebElement (session=\"157a413c10571bcc12c9b938fa30d99f\", element=\"448d14cf-064c-46a6-ae00-ca8c9f5b65a8\")>,\n",
       " <selenium.webdriver.remote.webelement.WebElement (session=\"157a413c10571bcc12c9b938fa30d99f\", element=\"6f301579-a90a-40b2-ae46-2654a23e15f5\")>,\n",
       " <selenium.webdriver.remote.webelement.WebElement (session=\"157a413c10571bcc12c9b938fa30d99f\", element=\"6789ab39-351e-48fd-bf48-db0d2bfd6e2b\")>,\n",
       " <selenium.webdriver.remote.webelement.WebElement (session=\"157a413c10571bcc12c9b938fa30d99f\", element=\"2b79053c-5415-4fd0-84cf-c5e98263aa74\")>,\n",
       " <selenium.webdriver.remote.webelement.WebElement (session=\"157a413c10571bcc12c9b938fa30d99f\", element=\"ad45c048-7971-47a4-8cf4-058c97282fce\")>,\n",
       " <selenium.webdriver.remote.webelement.WebElement (session=\"157a413c10571bcc12c9b938fa30d99f\", element=\"97998293-1ffe-4f7c-a1b8-6dc5849d21f6\")>,\n",
       " <selenium.webdriver.remote.webelement.WebElement (session=\"157a413c10571bcc12c9b938fa30d99f\", element=\"e476988d-0e34-459a-b1ea-45ad2fe4bc12\")>,\n",
       " <selenium.webdriver.remote.webelement.WebElement (session=\"157a413c10571bcc12c9b938fa30d99f\", element=\"01e4d5fa-cd64-4e1e-ac00-baeecdef097a\")>,\n",
       " <selenium.webdriver.remote.webelement.WebElement (session=\"157a413c10571bcc12c9b938fa30d99f\", element=\"5bc39c48-9159-419c-80b2-be3c8e5be3aa\")>,\n",
       " <selenium.webdriver.remote.webelement.WebElement (session=\"157a413c10571bcc12c9b938fa30d99f\", element=\"9adb11e0-9670-4776-bd4f-b81102fcab53\")>,\n",
       " <selenium.webdriver.remote.webelement.WebElement (session=\"157a413c10571bcc12c9b938fa30d99f\", element=\"8401df36-2882-4aa5-8094-3c6b139f03e4\")>,\n",
       " <selenium.webdriver.remote.webelement.WebElement (session=\"157a413c10571bcc12c9b938fa30d99f\", element=\"2b5360f0-1961-43a7-bb9f-95fcaaa1dc70\")>,\n",
       " <selenium.webdriver.remote.webelement.WebElement (session=\"157a413c10571bcc12c9b938fa30d99f\", element=\"455be8dd-68d1-4af2-8b29-e97eee646b56\")>,\n",
       " <selenium.webdriver.remote.webelement.WebElement (session=\"157a413c10571bcc12c9b938fa30d99f\", element=\"889e05bb-fc7e-4961-8d2f-f8eae78def97\")>,\n",
       " <selenium.webdriver.remote.webelement.WebElement (session=\"157a413c10571bcc12c9b938fa30d99f\", element=\"41aa773a-b6ae-4f9e-b743-6d74f19381d0\")>,\n",
       " <selenium.webdriver.remote.webelement.WebElement (session=\"157a413c10571bcc12c9b938fa30d99f\", element=\"24e502dc-c538-4782-8c44-c6341f832992\")>,\n",
       " <selenium.webdriver.remote.webelement.WebElement (session=\"157a413c10571bcc12c9b938fa30d99f\", element=\"9c92eb31-69fe-4021-96c2-d231ebd990fc\")>]"
      ]
     },
     "execution_count": 343,
     "metadata": {},
     "output_type": "execute_result"
    }
   ],
   "source": [
    "b2 = browser(\"//div[@class = '_2WkVRV']\")\n",
    "b2"
   ]
  },
  {
   "cell_type": "code",
   "execution_count": 344,
   "metadata": {},
   "outputs": [
    {
     "data": {
      "text/plain": [
       "40"
      ]
     },
     "execution_count": 344,
     "metadata": {},
     "output_type": "execute_result"
    }
   ],
   "source": [
    "len(b2)"
   ]
  },
  {
   "cell_type": "code",
   "execution_count": 345,
   "metadata": {},
   "outputs": [
    {
     "data": {
      "text/plain": [
       "[<selenium.webdriver.remote.webelement.WebElement (session=\"157a413c10571bcc12c9b938fa30d99f\", element=\"718a10a7-390c-4909-912a-b23174a3fd22\")>,\n",
       " <selenium.webdriver.remote.webelement.WebElement (session=\"157a413c10571bcc12c9b938fa30d99f\", element=\"38ff8a53-c98f-44ef-a5cc-8b41b7d22ad7\")>,\n",
       " <selenium.webdriver.remote.webelement.WebElement (session=\"157a413c10571bcc12c9b938fa30d99f\", element=\"9144641b-ddbd-43ba-8011-ce1a0fce6081\")>,\n",
       " <selenium.webdriver.remote.webelement.WebElement (session=\"157a413c10571bcc12c9b938fa30d99f\", element=\"bb888b68-5cfa-45cf-b246-10273f243993\")>,\n",
       " <selenium.webdriver.remote.webelement.WebElement (session=\"157a413c10571bcc12c9b938fa30d99f\", element=\"b3cab7bc-d20a-46a3-8484-4461bc6deb80\")>,\n",
       " <selenium.webdriver.remote.webelement.WebElement (session=\"157a413c10571bcc12c9b938fa30d99f\", element=\"a6a7fb43-80f3-48a8-9db7-62f9e609d446\")>,\n",
       " <selenium.webdriver.remote.webelement.WebElement (session=\"157a413c10571bcc12c9b938fa30d99f\", element=\"ae8600ab-9ec9-4c0a-807e-3ac57cc0511b\")>,\n",
       " <selenium.webdriver.remote.webelement.WebElement (session=\"157a413c10571bcc12c9b938fa30d99f\", element=\"6a84a8be-c641-4671-8955-842b74a4d4ad\")>,\n",
       " <selenium.webdriver.remote.webelement.WebElement (session=\"157a413c10571bcc12c9b938fa30d99f\", element=\"e4f3decd-e9a8-4bb9-8669-ae8962c49f8a\")>,\n",
       " <selenium.webdriver.remote.webelement.WebElement (session=\"157a413c10571bcc12c9b938fa30d99f\", element=\"fc39051d-bb7e-4b92-bacc-0f9b8d721ab6\")>,\n",
       " <selenium.webdriver.remote.webelement.WebElement (session=\"157a413c10571bcc12c9b938fa30d99f\", element=\"e864b8d2-0478-4b2a-9128-d5b98a741870\")>,\n",
       " <selenium.webdriver.remote.webelement.WebElement (session=\"157a413c10571bcc12c9b938fa30d99f\", element=\"2200635e-8be1-480f-bfe6-4f48836794f6\")>,\n",
       " <selenium.webdriver.remote.webelement.WebElement (session=\"157a413c10571bcc12c9b938fa30d99f\", element=\"96dbf677-c064-4b47-b4f5-3f164d66e573\")>,\n",
       " <selenium.webdriver.remote.webelement.WebElement (session=\"157a413c10571bcc12c9b938fa30d99f\", element=\"8bdc040b-a1b9-46dd-b5c4-07e8345b2abb\")>,\n",
       " <selenium.webdriver.remote.webelement.WebElement (session=\"157a413c10571bcc12c9b938fa30d99f\", element=\"d2f9edb7-cce8-4cbc-8c8b-33757b1b2879\")>,\n",
       " <selenium.webdriver.remote.webelement.WebElement (session=\"157a413c10571bcc12c9b938fa30d99f\", element=\"eedf34c4-a7a2-4c3b-af98-016b919e1407\")>,\n",
       " <selenium.webdriver.remote.webelement.WebElement (session=\"157a413c10571bcc12c9b938fa30d99f\", element=\"e9ae7ff4-8963-47cf-bcc3-7a7f33086d18\")>,\n",
       " <selenium.webdriver.remote.webelement.WebElement (session=\"157a413c10571bcc12c9b938fa30d99f\", element=\"b7906eea-3d3a-4815-838e-980c20f456a9\")>,\n",
       " <selenium.webdriver.remote.webelement.WebElement (session=\"157a413c10571bcc12c9b938fa30d99f\", element=\"f48cb3f5-bf9c-48f6-abe3-39a8a4206bf6\")>,\n",
       " <selenium.webdriver.remote.webelement.WebElement (session=\"157a413c10571bcc12c9b938fa30d99f\", element=\"b6bd034f-745b-4b97-b98f-8acc7a0bcf59\")>,\n",
       " <selenium.webdriver.remote.webelement.WebElement (session=\"157a413c10571bcc12c9b938fa30d99f\", element=\"9c3d7882-cd7c-4b7f-917b-c0484a09883d\")>,\n",
       " <selenium.webdriver.remote.webelement.WebElement (session=\"157a413c10571bcc12c9b938fa30d99f\", element=\"19070ee6-9aa9-4f90-83a8-abb39ff57238\")>,\n",
       " <selenium.webdriver.remote.webelement.WebElement (session=\"157a413c10571bcc12c9b938fa30d99f\", element=\"99512e37-3164-49e3-b61b-e6a778ad21d5\")>,\n",
       " <selenium.webdriver.remote.webelement.WebElement (session=\"157a413c10571bcc12c9b938fa30d99f\", element=\"be7d65af-fd51-4551-831b-e55eddceeeef\")>,\n",
       " <selenium.webdriver.remote.webelement.WebElement (session=\"157a413c10571bcc12c9b938fa30d99f\", element=\"9153dd7d-9cda-4816-9d46-04dda83dc14c\")>,\n",
       " <selenium.webdriver.remote.webelement.WebElement (session=\"157a413c10571bcc12c9b938fa30d99f\", element=\"28a5f28f-fe0e-4c2b-8498-1ff963c9767f\")>,\n",
       " <selenium.webdriver.remote.webelement.WebElement (session=\"157a413c10571bcc12c9b938fa30d99f\", element=\"44aed5e7-0a7f-4aeb-8ab2-2ca89da10062\")>,\n",
       " <selenium.webdriver.remote.webelement.WebElement (session=\"157a413c10571bcc12c9b938fa30d99f\", element=\"9b777c17-f9a2-48f5-a196-33159eac1e57\")>,\n",
       " <selenium.webdriver.remote.webelement.WebElement (session=\"157a413c10571bcc12c9b938fa30d99f\", element=\"be915afc-632b-43d0-a1ff-5b26f739c89d\")>]"
      ]
     },
     "execution_count": 345,
     "metadata": {},
     "output_type": "execute_result"
    }
   ],
   "source": [
    "pd2 = browser(\"//a[@class = 'IRpwTa']\")\n",
    "pd2"
   ]
  },
  {
   "cell_type": "code",
   "execution_count": 346,
   "metadata": {},
   "outputs": [
    {
     "data": {
      "text/plain": [
       "29"
      ]
     },
     "execution_count": 346,
     "metadata": {},
     "output_type": "execute_result"
    }
   ],
   "source": [
    "len(pd2)"
   ]
  },
  {
   "cell_type": "code",
   "execution_count": 370,
   "metadata": {},
   "outputs": [
    {
     "data": {
      "text/plain": [
       "[<selenium.webdriver.remote.webelement.WebElement (session=\"157a413c10571bcc12c9b938fa30d99f\", element=\"1fda3c8f-4fa5-43f9-a540-6a34c50042f2\")>,\n",
       " <selenium.webdriver.remote.webelement.WebElement (session=\"157a413c10571bcc12c9b938fa30d99f\", element=\"7c57805e-f31c-49c7-a23b-5d425d3b9433\")>,\n",
       " <selenium.webdriver.remote.webelement.WebElement (session=\"157a413c10571bcc12c9b938fa30d99f\", element=\"e56e2a94-049b-44f7-8704-c9b614706b2d\")>,\n",
       " <selenium.webdriver.remote.webelement.WebElement (session=\"157a413c10571bcc12c9b938fa30d99f\", element=\"4ddf1d5f-64f4-4a7b-9706-f48dbc124862\")>,\n",
       " <selenium.webdriver.remote.webelement.WebElement (session=\"157a413c10571bcc12c9b938fa30d99f\", element=\"0c533382-23fd-499a-b1b5-e0e8069f1d4d\")>,\n",
       " <selenium.webdriver.remote.webelement.WebElement (session=\"157a413c10571bcc12c9b938fa30d99f\", element=\"2a53434c-5512-40b1-85bd-e3b58da3ca49\")>,\n",
       " <selenium.webdriver.remote.webelement.WebElement (session=\"157a413c10571bcc12c9b938fa30d99f\", element=\"e31f92a7-3479-4c59-8570-d5fb8dad7b85\")>,\n",
       " <selenium.webdriver.remote.webelement.WebElement (session=\"157a413c10571bcc12c9b938fa30d99f\", element=\"e79835aa-099c-41d4-85b0-67bd9e62fc0e\")>,\n",
       " <selenium.webdriver.remote.webelement.WebElement (session=\"157a413c10571bcc12c9b938fa30d99f\", element=\"59e81cd3-4297-4108-aee3-70af0c64e73b\")>,\n",
       " <selenium.webdriver.remote.webelement.WebElement (session=\"157a413c10571bcc12c9b938fa30d99f\", element=\"1e5cbcea-680b-4245-953a-6a5b9ea3b459\")>,\n",
       " <selenium.webdriver.remote.webelement.WebElement (session=\"157a413c10571bcc12c9b938fa30d99f\", element=\"0969947c-d3d8-4ca4-8e77-f25d88429569\")>,\n",
       " <selenium.webdriver.remote.webelement.WebElement (session=\"157a413c10571bcc12c9b938fa30d99f\", element=\"45888826-d163-4c86-8ebc-9733009425c0\")>,\n",
       " <selenium.webdriver.remote.webelement.WebElement (session=\"157a413c10571bcc12c9b938fa30d99f\", element=\"dbd2afb4-c876-4c9e-b8af-7104a01915b4\")>,\n",
       " <selenium.webdriver.remote.webelement.WebElement (session=\"157a413c10571bcc12c9b938fa30d99f\", element=\"8c81dead-6133-45e0-9cb1-cc0c56a832e8\")>,\n",
       " <selenium.webdriver.remote.webelement.WebElement (session=\"157a413c10571bcc12c9b938fa30d99f\", element=\"342282aa-b524-4c9c-accc-dbc6629948fd\")>,\n",
       " <selenium.webdriver.remote.webelement.WebElement (session=\"157a413c10571bcc12c9b938fa30d99f\", element=\"74f274b7-ea7c-4704-9c64-f1854bed668c\")>,\n",
       " <selenium.webdriver.remote.webelement.WebElement (session=\"157a413c10571bcc12c9b938fa30d99f\", element=\"82a7e3fe-1bc1-4c3a-a40b-bb471c33d5e5\")>,\n",
       " <selenium.webdriver.remote.webelement.WebElement (session=\"157a413c10571bcc12c9b938fa30d99f\", element=\"20f3fe79-2c0f-4b68-bd8c-38867e543cf6\")>,\n",
       " <selenium.webdriver.remote.webelement.WebElement (session=\"157a413c10571bcc12c9b938fa30d99f\", element=\"313662b8-002a-476a-b93c-2d70b0061e7e\")>,\n",
       " <selenium.webdriver.remote.webelement.WebElement (session=\"157a413c10571bcc12c9b938fa30d99f\", element=\"99af2f43-99c0-4920-83a4-5dd9b7a96cbe\")>,\n",
       " <selenium.webdriver.remote.webelement.WebElement (session=\"157a413c10571bcc12c9b938fa30d99f\", element=\"6a745e31-428d-450c-909f-a8760dd2a0de\")>,\n",
       " <selenium.webdriver.remote.webelement.WebElement (session=\"157a413c10571bcc12c9b938fa30d99f\", element=\"190c1b98-611b-431a-9d3f-92d213303095\")>,\n",
       " <selenium.webdriver.remote.webelement.WebElement (session=\"157a413c10571bcc12c9b938fa30d99f\", element=\"c6ba596c-2da2-4ed3-b8c7-4f5b17d6d56a\")>,\n",
       " <selenium.webdriver.remote.webelement.WebElement (session=\"157a413c10571bcc12c9b938fa30d99f\", element=\"c5f657ee-19d6-4b3b-abb2-969dc0a69aa5\")>,\n",
       " <selenium.webdriver.remote.webelement.WebElement (session=\"157a413c10571bcc12c9b938fa30d99f\", element=\"b85672bb-e755-4f9b-9f2b-49faf20841ac\")>,\n",
       " <selenium.webdriver.remote.webelement.WebElement (session=\"157a413c10571bcc12c9b938fa30d99f\", element=\"eaf2bf92-11ed-4484-99d3-26e937815b0c\")>,\n",
       " <selenium.webdriver.remote.webelement.WebElement (session=\"157a413c10571bcc12c9b938fa30d99f\", element=\"2ae4a904-8977-440e-9fa5-4708f128d750\")>,\n",
       " <selenium.webdriver.remote.webelement.WebElement (session=\"157a413c10571bcc12c9b938fa30d99f\", element=\"1523271f-35f8-4b3f-a9ff-0dbfd8840ae3\")>,\n",
       " <selenium.webdriver.remote.webelement.WebElement (session=\"157a413c10571bcc12c9b938fa30d99f\", element=\"e3003a1b-b012-4e33-bcc1-4498fbec788f\")>,\n",
       " <selenium.webdriver.remote.webelement.WebElement (session=\"157a413c10571bcc12c9b938fa30d99f\", element=\"dff87ed4-c32d-4e54-9723-ab694c9707fb\")>,\n",
       " <selenium.webdriver.remote.webelement.WebElement (session=\"157a413c10571bcc12c9b938fa30d99f\", element=\"a43b0e05-c59c-4534-84ac-e982ca33fdfd\")>,\n",
       " <selenium.webdriver.remote.webelement.WebElement (session=\"157a413c10571bcc12c9b938fa30d99f\", element=\"5acf8131-1ef0-4bec-8281-a0adc3351dfa\")>,\n",
       " <selenium.webdriver.remote.webelement.WebElement (session=\"157a413c10571bcc12c9b938fa30d99f\", element=\"6850c6e8-ee5e-4eac-82ec-c1ab778dc041\")>,\n",
       " <selenium.webdriver.remote.webelement.WebElement (session=\"157a413c10571bcc12c9b938fa30d99f\", element=\"4db9456a-2426-4e80-a7a1-e2abc49ce265\")>,\n",
       " <selenium.webdriver.remote.webelement.WebElement (session=\"157a413c10571bcc12c9b938fa30d99f\", element=\"1004643f-fed5-469c-b9c2-4f9d37d8063f\")>,\n",
       " <selenium.webdriver.remote.webelement.WebElement (session=\"157a413c10571bcc12c9b938fa30d99f\", element=\"6e5a0b70-2df4-48fe-94cb-b1026ee13b10\")>,\n",
       " <selenium.webdriver.remote.webelement.WebElement (session=\"157a413c10571bcc12c9b938fa30d99f\", element=\"57ad97b0-4a78-4925-8525-8bc3813467a9\")>,\n",
       " <selenium.webdriver.remote.webelement.WebElement (session=\"157a413c10571bcc12c9b938fa30d99f\", element=\"ccf2fe6c-6863-40eb-9a67-f0d4ba0441a2\")>,\n",
       " <selenium.webdriver.remote.webelement.WebElement (session=\"157a413c10571bcc12c9b938fa30d99f\", element=\"75c840f9-98ce-4ed7-bace-616b46feedde\")>,\n",
       " <selenium.webdriver.remote.webelement.WebElement (session=\"157a413c10571bcc12c9b938fa30d99f\", element=\"ee1da22b-1707-45b4-bad1-7748bdede0ad\")>]"
      ]
     },
     "execution_count": 370,
     "metadata": {},
     "output_type": "execute_result"
    }
   ],
   "source": [
    "p2 = browser(\"//div[@class = '_30jeq3']\")\n",
    "p2"
   ]
  },
  {
   "cell_type": "code",
   "execution_count": 348,
   "metadata": {},
   "outputs": [
    {
     "data": {
      "text/plain": [
       "40"
      ]
     },
     "execution_count": 348,
     "metadata": {},
     "output_type": "execute_result"
    }
   ],
   "source": [
    "len(p2)"
   ]
  },
  {
   "cell_type": "code",
   "execution_count": 349,
   "metadata": {},
   "outputs": [
    {
     "data": {
      "text/plain": [
       "[<selenium.webdriver.remote.webelement.WebElement (session=\"157a413c10571bcc12c9b938fa30d99f\", element=\"ff6167d2-dcc2-4b40-a6d6-9cb540db2b0d\")>,\n",
       " <selenium.webdriver.remote.webelement.WebElement (session=\"157a413c10571bcc12c9b938fa30d99f\", element=\"6f720775-8472-4a71-9908-da6cc5de4886\")>,\n",
       " <selenium.webdriver.remote.webelement.WebElement (session=\"157a413c10571bcc12c9b938fa30d99f\", element=\"5628804e-51c7-43ae-bd6e-1551259ee970\")>,\n",
       " <selenium.webdriver.remote.webelement.WebElement (session=\"157a413c10571bcc12c9b938fa30d99f\", element=\"a2fd17ae-fada-46cd-b88f-7dcfc8cd6ff3\")>,\n",
       " <selenium.webdriver.remote.webelement.WebElement (session=\"157a413c10571bcc12c9b938fa30d99f\", element=\"bbdaf286-81ab-42ad-9a69-fa7dcae82e6d\")>,\n",
       " <selenium.webdriver.remote.webelement.WebElement (session=\"157a413c10571bcc12c9b938fa30d99f\", element=\"8feb7579-4632-4ec0-a394-e6268e31537b\")>,\n",
       " <selenium.webdriver.remote.webelement.WebElement (session=\"157a413c10571bcc12c9b938fa30d99f\", element=\"820f371a-4be9-4b87-8064-f72907bff236\")>,\n",
       " <selenium.webdriver.remote.webelement.WebElement (session=\"157a413c10571bcc12c9b938fa30d99f\", element=\"f3acdb38-80e2-4069-a7e2-647fedaf3de8\")>,\n",
       " <selenium.webdriver.remote.webelement.WebElement (session=\"157a413c10571bcc12c9b938fa30d99f\", element=\"c6f3099e-25cc-4c33-ba04-60f17c42c0b5\")>,\n",
       " <selenium.webdriver.remote.webelement.WebElement (session=\"157a413c10571bcc12c9b938fa30d99f\", element=\"25c44015-5f82-4d29-8bbb-7f961c3b951f\")>,\n",
       " <selenium.webdriver.remote.webelement.WebElement (session=\"157a413c10571bcc12c9b938fa30d99f\", element=\"afdd9860-7275-46dc-a286-7c967ed4bc4c\")>,\n",
       " <selenium.webdriver.remote.webelement.WebElement (session=\"157a413c10571bcc12c9b938fa30d99f\", element=\"ee64df39-d32f-4193-bf94-8b6d648fb4a1\")>,\n",
       " <selenium.webdriver.remote.webelement.WebElement (session=\"157a413c10571bcc12c9b938fa30d99f\", element=\"0cb5b818-284d-4f3c-828d-5d60b2445141\")>,\n",
       " <selenium.webdriver.remote.webelement.WebElement (session=\"157a413c10571bcc12c9b938fa30d99f\", element=\"bfcb5fc3-20b8-4d64-be39-ccb311769053\")>,\n",
       " <selenium.webdriver.remote.webelement.WebElement (session=\"157a413c10571bcc12c9b938fa30d99f\", element=\"29acfb62-9a2b-4ecd-a48b-b15de421ffa2\")>,\n",
       " <selenium.webdriver.remote.webelement.WebElement (session=\"157a413c10571bcc12c9b938fa30d99f\", element=\"ab4025ee-41e1-476b-b75c-135f6fc900c2\")>,\n",
       " <selenium.webdriver.remote.webelement.WebElement (session=\"157a413c10571bcc12c9b938fa30d99f\", element=\"2ff1938d-fc44-41d2-8a82-c5d2afbff1dd\")>,\n",
       " <selenium.webdriver.remote.webelement.WebElement (session=\"157a413c10571bcc12c9b938fa30d99f\", element=\"2de9386f-32d3-4a29-9827-7fd686f7be2e\")>,\n",
       " <selenium.webdriver.remote.webelement.WebElement (session=\"157a413c10571bcc12c9b938fa30d99f\", element=\"72ab8b4e-c86b-4011-8139-8c7a17e73dd8\")>,\n",
       " <selenium.webdriver.remote.webelement.WebElement (session=\"157a413c10571bcc12c9b938fa30d99f\", element=\"57dbd68b-2f4d-4a1d-99db-88aae600e32d\")>,\n",
       " <selenium.webdriver.remote.webelement.WebElement (session=\"157a413c10571bcc12c9b938fa30d99f\", element=\"c8245ac3-4556-4827-8803-20932cdf4418\")>,\n",
       " <selenium.webdriver.remote.webelement.WebElement (session=\"157a413c10571bcc12c9b938fa30d99f\", element=\"3aa9e188-f174-4429-9955-4b429bedf556\")>,\n",
       " <selenium.webdriver.remote.webelement.WebElement (session=\"157a413c10571bcc12c9b938fa30d99f\", element=\"33545ac7-78ba-4c2c-82cf-a28888937f53\")>,\n",
       " <selenium.webdriver.remote.webelement.WebElement (session=\"157a413c10571bcc12c9b938fa30d99f\", element=\"7d2dd158-1d8d-4149-8c7e-7d0cf34175cb\")>,\n",
       " <selenium.webdriver.remote.webelement.WebElement (session=\"157a413c10571bcc12c9b938fa30d99f\", element=\"727a0e3b-ac37-4294-8ea8-06346332a1ff\")>,\n",
       " <selenium.webdriver.remote.webelement.WebElement (session=\"157a413c10571bcc12c9b938fa30d99f\", element=\"4d8f950b-88aa-406d-8de0-301c7a45b188\")>,\n",
       " <selenium.webdriver.remote.webelement.WebElement (session=\"157a413c10571bcc12c9b938fa30d99f\", element=\"903d30f1-0a60-4e9b-ad70-939f4e5a8558\")>,\n",
       " <selenium.webdriver.remote.webelement.WebElement (session=\"157a413c10571bcc12c9b938fa30d99f\", element=\"912f4cb7-15d6-4d98-8d5f-12a66db2b57e\")>,\n",
       " <selenium.webdriver.remote.webelement.WebElement (session=\"157a413c10571bcc12c9b938fa30d99f\", element=\"f43dc2ca-7235-41a8-8916-63f53794bf5b\")>,\n",
       " <selenium.webdriver.remote.webelement.WebElement (session=\"157a413c10571bcc12c9b938fa30d99f\", element=\"26d6be2f-17af-4ce0-ad07-7afa9f6fc749\")>,\n",
       " <selenium.webdriver.remote.webelement.WebElement (session=\"157a413c10571bcc12c9b938fa30d99f\", element=\"842d7c48-40cd-47cb-ad8e-594ea5add54d\")>,\n",
       " <selenium.webdriver.remote.webelement.WebElement (session=\"157a413c10571bcc12c9b938fa30d99f\", element=\"30e9047f-0668-4fa8-9697-ef90226333bf\")>,\n",
       " <selenium.webdriver.remote.webelement.WebElement (session=\"157a413c10571bcc12c9b938fa30d99f\", element=\"f120a3cf-cbe0-41f6-98ec-b7749fa5bf3a\")>,\n",
       " <selenium.webdriver.remote.webelement.WebElement (session=\"157a413c10571bcc12c9b938fa30d99f\", element=\"1dae0bc3-9ecb-4ef9-b83e-65bcfd32ff93\")>,\n",
       " <selenium.webdriver.remote.webelement.WebElement (session=\"157a413c10571bcc12c9b938fa30d99f\", element=\"4b158dba-2efc-4bb4-b2ab-6a93f35c6184\")>,\n",
       " <selenium.webdriver.remote.webelement.WebElement (session=\"157a413c10571bcc12c9b938fa30d99f\", element=\"93de77ae-6102-467c-9a8a-dbef639a7168\")>,\n",
       " <selenium.webdriver.remote.webelement.WebElement (session=\"157a413c10571bcc12c9b938fa30d99f\", element=\"e1e9e07c-c6ba-440d-a05c-0a47443aabc0\")>,\n",
       " <selenium.webdriver.remote.webelement.WebElement (session=\"157a413c10571bcc12c9b938fa30d99f\", element=\"a0e471b2-121d-472a-a377-47b2ae2ef0ed\")>,\n",
       " <selenium.webdriver.remote.webelement.WebElement (session=\"157a413c10571bcc12c9b938fa30d99f\", element=\"f0f0c466-9820-41cd-8eac-6574239db1cb\")>,\n",
       " <selenium.webdriver.remote.webelement.WebElement (session=\"157a413c10571bcc12c9b938fa30d99f\", element=\"ea6e5b44-8437-402c-8f11-6c9605df7c23\")>]"
      ]
     },
     "execution_count": 349,
     "metadata": {},
     "output_type": "execute_result"
    }
   ],
   "source": [
    "d2 = browser(\"//div[@class = '_3Ay6Sb']\")\n",
    "d2"
   ]
  },
  {
   "cell_type": "code",
   "execution_count": 245,
   "metadata": {},
   "outputs": [],
   "source": [
    "# for next page\n",
    "\n",
    "next2 = driver.find_element_by_xpath(\"//div[@class ='_2MImiq']\")\n",
    "next2\n",
    "next2.click()"
   ]
  },
  {
   "cell_type": "code",
   "execution_count": 350,
   "metadata": {},
   "outputs": [
    {
     "data": {
      "text/plain": [
       "[<selenium.webdriver.remote.webelement.WebElement (session=\"157a413c10571bcc12c9b938fa30d99f\", element=\"16830e04-1c61-4463-84e3-ebe9b42e2c3d\")>,\n",
       " <selenium.webdriver.remote.webelement.WebElement (session=\"157a413c10571bcc12c9b938fa30d99f\", element=\"0c14d327-a77a-4531-8a10-9ef8ea4cc540\")>,\n",
       " <selenium.webdriver.remote.webelement.WebElement (session=\"157a413c10571bcc12c9b938fa30d99f\", element=\"41aec7e5-5d05-4357-a52f-5d0675ef8aa0\")>,\n",
       " <selenium.webdriver.remote.webelement.WebElement (session=\"157a413c10571bcc12c9b938fa30d99f\", element=\"fbfe6ac8-fb90-42e3-b769-ba2bffa96c86\")>,\n",
       " <selenium.webdriver.remote.webelement.WebElement (session=\"157a413c10571bcc12c9b938fa30d99f\", element=\"ed76c776-393f-4ac5-8636-a160cf0679ec\")>,\n",
       " <selenium.webdriver.remote.webelement.WebElement (session=\"157a413c10571bcc12c9b938fa30d99f\", element=\"d789b0b7-f7d4-4410-b3fb-d67cf755b111\")>,\n",
       " <selenium.webdriver.remote.webelement.WebElement (session=\"157a413c10571bcc12c9b938fa30d99f\", element=\"7261e05e-7862-4c3b-8c80-b5eb7f7311cc\")>,\n",
       " <selenium.webdriver.remote.webelement.WebElement (session=\"157a413c10571bcc12c9b938fa30d99f\", element=\"ccf8547d-eebb-42da-8f9f-9f54cbd237a3\")>,\n",
       " <selenium.webdriver.remote.webelement.WebElement (session=\"157a413c10571bcc12c9b938fa30d99f\", element=\"35e34958-549d-4025-b841-fc55548502cd\")>,\n",
       " <selenium.webdriver.remote.webelement.WebElement (session=\"157a413c10571bcc12c9b938fa30d99f\", element=\"ce793243-94cb-45d9-a79b-8febbf4dad01\")>,\n",
       " <selenium.webdriver.remote.webelement.WebElement (session=\"157a413c10571bcc12c9b938fa30d99f\", element=\"5c986c06-1449-4f41-9727-c2b5f26ce811\")>,\n",
       " <selenium.webdriver.remote.webelement.WebElement (session=\"157a413c10571bcc12c9b938fa30d99f\", element=\"1401907d-9827-45dd-a9ee-3921f7f5a2c1\")>,\n",
       " <selenium.webdriver.remote.webelement.WebElement (session=\"157a413c10571bcc12c9b938fa30d99f\", element=\"b0f129f2-6b75-4073-bc18-cdb99ea6ad9e\")>,\n",
       " <selenium.webdriver.remote.webelement.WebElement (session=\"157a413c10571bcc12c9b938fa30d99f\", element=\"52fc85ea-66a0-4b14-aceb-7d897a55812f\")>,\n",
       " <selenium.webdriver.remote.webelement.WebElement (session=\"157a413c10571bcc12c9b938fa30d99f\", element=\"8118a743-61f8-4cfa-ba4c-cbf7f7ef7531\")>,\n",
       " <selenium.webdriver.remote.webelement.WebElement (session=\"157a413c10571bcc12c9b938fa30d99f\", element=\"f44bbe3c-5fda-4c8f-ab50-00c8bd11fa48\")>,\n",
       " <selenium.webdriver.remote.webelement.WebElement (session=\"157a413c10571bcc12c9b938fa30d99f\", element=\"cec5137a-579a-4a2b-bc3f-5a5234f22e00\")>,\n",
       " <selenium.webdriver.remote.webelement.WebElement (session=\"157a413c10571bcc12c9b938fa30d99f\", element=\"312a34a2-e76d-429f-b621-fd1c04a7d7f3\")>,\n",
       " <selenium.webdriver.remote.webelement.WebElement (session=\"157a413c10571bcc12c9b938fa30d99f\", element=\"99e9c81a-6a18-4d51-946f-2212cde9757f\")>,\n",
       " <selenium.webdriver.remote.webelement.WebElement (session=\"157a413c10571bcc12c9b938fa30d99f\", element=\"2a01ec8a-d886-4d7a-9eae-3dd479e90605\")>,\n",
       " <selenium.webdriver.remote.webelement.WebElement (session=\"157a413c10571bcc12c9b938fa30d99f\", element=\"35788d9e-1065-4c8c-aa4f-46fd4e059b9f\")>,\n",
       " <selenium.webdriver.remote.webelement.WebElement (session=\"157a413c10571bcc12c9b938fa30d99f\", element=\"fd221844-4b8c-4219-abe6-cf89cce9efbb\")>,\n",
       " <selenium.webdriver.remote.webelement.WebElement (session=\"157a413c10571bcc12c9b938fa30d99f\", element=\"3bac708c-95f8-4aa3-a0d5-430e9e36ede5\")>,\n",
       " <selenium.webdriver.remote.webelement.WebElement (session=\"157a413c10571bcc12c9b938fa30d99f\", element=\"448d14cf-064c-46a6-ae00-ca8c9f5b65a8\")>,\n",
       " <selenium.webdriver.remote.webelement.WebElement (session=\"157a413c10571bcc12c9b938fa30d99f\", element=\"6f301579-a90a-40b2-ae46-2654a23e15f5\")>,\n",
       " <selenium.webdriver.remote.webelement.WebElement (session=\"157a413c10571bcc12c9b938fa30d99f\", element=\"6789ab39-351e-48fd-bf48-db0d2bfd6e2b\")>,\n",
       " <selenium.webdriver.remote.webelement.WebElement (session=\"157a413c10571bcc12c9b938fa30d99f\", element=\"2b79053c-5415-4fd0-84cf-c5e98263aa74\")>,\n",
       " <selenium.webdriver.remote.webelement.WebElement (session=\"157a413c10571bcc12c9b938fa30d99f\", element=\"ad45c048-7971-47a4-8cf4-058c97282fce\")>,\n",
       " <selenium.webdriver.remote.webelement.WebElement (session=\"157a413c10571bcc12c9b938fa30d99f\", element=\"97998293-1ffe-4f7c-a1b8-6dc5849d21f6\")>,\n",
       " <selenium.webdriver.remote.webelement.WebElement (session=\"157a413c10571bcc12c9b938fa30d99f\", element=\"e476988d-0e34-459a-b1ea-45ad2fe4bc12\")>,\n",
       " <selenium.webdriver.remote.webelement.WebElement (session=\"157a413c10571bcc12c9b938fa30d99f\", element=\"01e4d5fa-cd64-4e1e-ac00-baeecdef097a\")>,\n",
       " <selenium.webdriver.remote.webelement.WebElement (session=\"157a413c10571bcc12c9b938fa30d99f\", element=\"5bc39c48-9159-419c-80b2-be3c8e5be3aa\")>,\n",
       " <selenium.webdriver.remote.webelement.WebElement (session=\"157a413c10571bcc12c9b938fa30d99f\", element=\"9adb11e0-9670-4776-bd4f-b81102fcab53\")>,\n",
       " <selenium.webdriver.remote.webelement.WebElement (session=\"157a413c10571bcc12c9b938fa30d99f\", element=\"8401df36-2882-4aa5-8094-3c6b139f03e4\")>,\n",
       " <selenium.webdriver.remote.webelement.WebElement (session=\"157a413c10571bcc12c9b938fa30d99f\", element=\"2b5360f0-1961-43a7-bb9f-95fcaaa1dc70\")>,\n",
       " <selenium.webdriver.remote.webelement.WebElement (session=\"157a413c10571bcc12c9b938fa30d99f\", element=\"455be8dd-68d1-4af2-8b29-e97eee646b56\")>,\n",
       " <selenium.webdriver.remote.webelement.WebElement (session=\"157a413c10571bcc12c9b938fa30d99f\", element=\"889e05bb-fc7e-4961-8d2f-f8eae78def97\")>,\n",
       " <selenium.webdriver.remote.webelement.WebElement (session=\"157a413c10571bcc12c9b938fa30d99f\", element=\"41aa773a-b6ae-4f9e-b743-6d74f19381d0\")>,\n",
       " <selenium.webdriver.remote.webelement.WebElement (session=\"157a413c10571bcc12c9b938fa30d99f\", element=\"24e502dc-c538-4782-8c44-c6341f832992\")>,\n",
       " <selenium.webdriver.remote.webelement.WebElement (session=\"157a413c10571bcc12c9b938fa30d99f\", element=\"9c92eb31-69fe-4021-96c2-d231ebd990fc\")>]"
      ]
     },
     "execution_count": 350,
     "metadata": {},
     "output_type": "execute_result"
    }
   ],
   "source": [
    "b3 = browser(\"//div[@class ='_2WkVRV']\")\n",
    "b3"
   ]
  },
  {
   "cell_type": "code",
   "execution_count": 351,
   "metadata": {},
   "outputs": [
    {
     "data": {
      "text/plain": [
       "40"
      ]
     },
     "execution_count": 351,
     "metadata": {},
     "output_type": "execute_result"
    }
   ],
   "source": [
    "len(b3)"
   ]
  },
  {
   "cell_type": "code",
   "execution_count": 352,
   "metadata": {},
   "outputs": [
    {
     "data": {
      "text/plain": [
       "[<selenium.webdriver.remote.webelement.WebElement (session=\"157a413c10571bcc12c9b938fa30d99f\", element=\"718a10a7-390c-4909-912a-b23174a3fd22\")>,\n",
       " <selenium.webdriver.remote.webelement.WebElement (session=\"157a413c10571bcc12c9b938fa30d99f\", element=\"38ff8a53-c98f-44ef-a5cc-8b41b7d22ad7\")>,\n",
       " <selenium.webdriver.remote.webelement.WebElement (session=\"157a413c10571bcc12c9b938fa30d99f\", element=\"9144641b-ddbd-43ba-8011-ce1a0fce6081\")>,\n",
       " <selenium.webdriver.remote.webelement.WebElement (session=\"157a413c10571bcc12c9b938fa30d99f\", element=\"bb888b68-5cfa-45cf-b246-10273f243993\")>,\n",
       " <selenium.webdriver.remote.webelement.WebElement (session=\"157a413c10571bcc12c9b938fa30d99f\", element=\"b3cab7bc-d20a-46a3-8484-4461bc6deb80\")>,\n",
       " <selenium.webdriver.remote.webelement.WebElement (session=\"157a413c10571bcc12c9b938fa30d99f\", element=\"a6a7fb43-80f3-48a8-9db7-62f9e609d446\")>,\n",
       " <selenium.webdriver.remote.webelement.WebElement (session=\"157a413c10571bcc12c9b938fa30d99f\", element=\"ae8600ab-9ec9-4c0a-807e-3ac57cc0511b\")>,\n",
       " <selenium.webdriver.remote.webelement.WebElement (session=\"157a413c10571bcc12c9b938fa30d99f\", element=\"6a84a8be-c641-4671-8955-842b74a4d4ad\")>,\n",
       " <selenium.webdriver.remote.webelement.WebElement (session=\"157a413c10571bcc12c9b938fa30d99f\", element=\"e4f3decd-e9a8-4bb9-8669-ae8962c49f8a\")>,\n",
       " <selenium.webdriver.remote.webelement.WebElement (session=\"157a413c10571bcc12c9b938fa30d99f\", element=\"fc39051d-bb7e-4b92-bacc-0f9b8d721ab6\")>,\n",
       " <selenium.webdriver.remote.webelement.WebElement (session=\"157a413c10571bcc12c9b938fa30d99f\", element=\"e864b8d2-0478-4b2a-9128-d5b98a741870\")>,\n",
       " <selenium.webdriver.remote.webelement.WebElement (session=\"157a413c10571bcc12c9b938fa30d99f\", element=\"2200635e-8be1-480f-bfe6-4f48836794f6\")>,\n",
       " <selenium.webdriver.remote.webelement.WebElement (session=\"157a413c10571bcc12c9b938fa30d99f\", element=\"96dbf677-c064-4b47-b4f5-3f164d66e573\")>,\n",
       " <selenium.webdriver.remote.webelement.WebElement (session=\"157a413c10571bcc12c9b938fa30d99f\", element=\"8bdc040b-a1b9-46dd-b5c4-07e8345b2abb\")>,\n",
       " <selenium.webdriver.remote.webelement.WebElement (session=\"157a413c10571bcc12c9b938fa30d99f\", element=\"d2f9edb7-cce8-4cbc-8c8b-33757b1b2879\")>,\n",
       " <selenium.webdriver.remote.webelement.WebElement (session=\"157a413c10571bcc12c9b938fa30d99f\", element=\"eedf34c4-a7a2-4c3b-af98-016b919e1407\")>,\n",
       " <selenium.webdriver.remote.webelement.WebElement (session=\"157a413c10571bcc12c9b938fa30d99f\", element=\"e9ae7ff4-8963-47cf-bcc3-7a7f33086d18\")>,\n",
       " <selenium.webdriver.remote.webelement.WebElement (session=\"157a413c10571bcc12c9b938fa30d99f\", element=\"b7906eea-3d3a-4815-838e-980c20f456a9\")>,\n",
       " <selenium.webdriver.remote.webelement.WebElement (session=\"157a413c10571bcc12c9b938fa30d99f\", element=\"f48cb3f5-bf9c-48f6-abe3-39a8a4206bf6\")>,\n",
       " <selenium.webdriver.remote.webelement.WebElement (session=\"157a413c10571bcc12c9b938fa30d99f\", element=\"b6bd034f-745b-4b97-b98f-8acc7a0bcf59\")>,\n",
       " <selenium.webdriver.remote.webelement.WebElement (session=\"157a413c10571bcc12c9b938fa30d99f\", element=\"9c3d7882-cd7c-4b7f-917b-c0484a09883d\")>,\n",
       " <selenium.webdriver.remote.webelement.WebElement (session=\"157a413c10571bcc12c9b938fa30d99f\", element=\"19070ee6-9aa9-4f90-83a8-abb39ff57238\")>,\n",
       " <selenium.webdriver.remote.webelement.WebElement (session=\"157a413c10571bcc12c9b938fa30d99f\", element=\"99512e37-3164-49e3-b61b-e6a778ad21d5\")>,\n",
       " <selenium.webdriver.remote.webelement.WebElement (session=\"157a413c10571bcc12c9b938fa30d99f\", element=\"be7d65af-fd51-4551-831b-e55eddceeeef\")>,\n",
       " <selenium.webdriver.remote.webelement.WebElement (session=\"157a413c10571bcc12c9b938fa30d99f\", element=\"9153dd7d-9cda-4816-9d46-04dda83dc14c\")>,\n",
       " <selenium.webdriver.remote.webelement.WebElement (session=\"157a413c10571bcc12c9b938fa30d99f\", element=\"28a5f28f-fe0e-4c2b-8498-1ff963c9767f\")>,\n",
       " <selenium.webdriver.remote.webelement.WebElement (session=\"157a413c10571bcc12c9b938fa30d99f\", element=\"44aed5e7-0a7f-4aeb-8ab2-2ca89da10062\")>,\n",
       " <selenium.webdriver.remote.webelement.WebElement (session=\"157a413c10571bcc12c9b938fa30d99f\", element=\"9b777c17-f9a2-48f5-a196-33159eac1e57\")>,\n",
       " <selenium.webdriver.remote.webelement.WebElement (session=\"157a413c10571bcc12c9b938fa30d99f\", element=\"be915afc-632b-43d0-a1ff-5b26f739c89d\")>]"
      ]
     },
     "execution_count": 352,
     "metadata": {},
     "output_type": "execute_result"
    }
   ],
   "source": [
    "pd3 = browser(\"//a[@class ='IRpwTa']\")\n",
    "pd3"
   ]
  },
  {
   "cell_type": "code",
   "execution_count": 371,
   "metadata": {},
   "outputs": [
    {
     "data": {
      "text/plain": [
       "[<selenium.webdriver.remote.webelement.WebElement (session=\"157a413c10571bcc12c9b938fa30d99f\", element=\"1fda3c8f-4fa5-43f9-a540-6a34c50042f2\")>,\n",
       " <selenium.webdriver.remote.webelement.WebElement (session=\"157a413c10571bcc12c9b938fa30d99f\", element=\"7c57805e-f31c-49c7-a23b-5d425d3b9433\")>,\n",
       " <selenium.webdriver.remote.webelement.WebElement (session=\"157a413c10571bcc12c9b938fa30d99f\", element=\"e56e2a94-049b-44f7-8704-c9b614706b2d\")>,\n",
       " <selenium.webdriver.remote.webelement.WebElement (session=\"157a413c10571bcc12c9b938fa30d99f\", element=\"4ddf1d5f-64f4-4a7b-9706-f48dbc124862\")>,\n",
       " <selenium.webdriver.remote.webelement.WebElement (session=\"157a413c10571bcc12c9b938fa30d99f\", element=\"0c533382-23fd-499a-b1b5-e0e8069f1d4d\")>,\n",
       " <selenium.webdriver.remote.webelement.WebElement (session=\"157a413c10571bcc12c9b938fa30d99f\", element=\"2a53434c-5512-40b1-85bd-e3b58da3ca49\")>,\n",
       " <selenium.webdriver.remote.webelement.WebElement (session=\"157a413c10571bcc12c9b938fa30d99f\", element=\"e31f92a7-3479-4c59-8570-d5fb8dad7b85\")>,\n",
       " <selenium.webdriver.remote.webelement.WebElement (session=\"157a413c10571bcc12c9b938fa30d99f\", element=\"e79835aa-099c-41d4-85b0-67bd9e62fc0e\")>,\n",
       " <selenium.webdriver.remote.webelement.WebElement (session=\"157a413c10571bcc12c9b938fa30d99f\", element=\"59e81cd3-4297-4108-aee3-70af0c64e73b\")>,\n",
       " <selenium.webdriver.remote.webelement.WebElement (session=\"157a413c10571bcc12c9b938fa30d99f\", element=\"1e5cbcea-680b-4245-953a-6a5b9ea3b459\")>,\n",
       " <selenium.webdriver.remote.webelement.WebElement (session=\"157a413c10571bcc12c9b938fa30d99f\", element=\"0969947c-d3d8-4ca4-8e77-f25d88429569\")>,\n",
       " <selenium.webdriver.remote.webelement.WebElement (session=\"157a413c10571bcc12c9b938fa30d99f\", element=\"45888826-d163-4c86-8ebc-9733009425c0\")>,\n",
       " <selenium.webdriver.remote.webelement.WebElement (session=\"157a413c10571bcc12c9b938fa30d99f\", element=\"dbd2afb4-c876-4c9e-b8af-7104a01915b4\")>,\n",
       " <selenium.webdriver.remote.webelement.WebElement (session=\"157a413c10571bcc12c9b938fa30d99f\", element=\"8c81dead-6133-45e0-9cb1-cc0c56a832e8\")>,\n",
       " <selenium.webdriver.remote.webelement.WebElement (session=\"157a413c10571bcc12c9b938fa30d99f\", element=\"342282aa-b524-4c9c-accc-dbc6629948fd\")>,\n",
       " <selenium.webdriver.remote.webelement.WebElement (session=\"157a413c10571bcc12c9b938fa30d99f\", element=\"74f274b7-ea7c-4704-9c64-f1854bed668c\")>,\n",
       " <selenium.webdriver.remote.webelement.WebElement (session=\"157a413c10571bcc12c9b938fa30d99f\", element=\"82a7e3fe-1bc1-4c3a-a40b-bb471c33d5e5\")>,\n",
       " <selenium.webdriver.remote.webelement.WebElement (session=\"157a413c10571bcc12c9b938fa30d99f\", element=\"20f3fe79-2c0f-4b68-bd8c-38867e543cf6\")>,\n",
       " <selenium.webdriver.remote.webelement.WebElement (session=\"157a413c10571bcc12c9b938fa30d99f\", element=\"313662b8-002a-476a-b93c-2d70b0061e7e\")>,\n",
       " <selenium.webdriver.remote.webelement.WebElement (session=\"157a413c10571bcc12c9b938fa30d99f\", element=\"99af2f43-99c0-4920-83a4-5dd9b7a96cbe\")>,\n",
       " <selenium.webdriver.remote.webelement.WebElement (session=\"157a413c10571bcc12c9b938fa30d99f\", element=\"6a745e31-428d-450c-909f-a8760dd2a0de\")>,\n",
       " <selenium.webdriver.remote.webelement.WebElement (session=\"157a413c10571bcc12c9b938fa30d99f\", element=\"190c1b98-611b-431a-9d3f-92d213303095\")>,\n",
       " <selenium.webdriver.remote.webelement.WebElement (session=\"157a413c10571bcc12c9b938fa30d99f\", element=\"c6ba596c-2da2-4ed3-b8c7-4f5b17d6d56a\")>,\n",
       " <selenium.webdriver.remote.webelement.WebElement (session=\"157a413c10571bcc12c9b938fa30d99f\", element=\"c5f657ee-19d6-4b3b-abb2-969dc0a69aa5\")>,\n",
       " <selenium.webdriver.remote.webelement.WebElement (session=\"157a413c10571bcc12c9b938fa30d99f\", element=\"b85672bb-e755-4f9b-9f2b-49faf20841ac\")>,\n",
       " <selenium.webdriver.remote.webelement.WebElement (session=\"157a413c10571bcc12c9b938fa30d99f\", element=\"eaf2bf92-11ed-4484-99d3-26e937815b0c\")>,\n",
       " <selenium.webdriver.remote.webelement.WebElement (session=\"157a413c10571bcc12c9b938fa30d99f\", element=\"2ae4a904-8977-440e-9fa5-4708f128d750\")>,\n",
       " <selenium.webdriver.remote.webelement.WebElement (session=\"157a413c10571bcc12c9b938fa30d99f\", element=\"1523271f-35f8-4b3f-a9ff-0dbfd8840ae3\")>,\n",
       " <selenium.webdriver.remote.webelement.WebElement (session=\"157a413c10571bcc12c9b938fa30d99f\", element=\"e3003a1b-b012-4e33-bcc1-4498fbec788f\")>,\n",
       " <selenium.webdriver.remote.webelement.WebElement (session=\"157a413c10571bcc12c9b938fa30d99f\", element=\"dff87ed4-c32d-4e54-9723-ab694c9707fb\")>,\n",
       " <selenium.webdriver.remote.webelement.WebElement (session=\"157a413c10571bcc12c9b938fa30d99f\", element=\"a43b0e05-c59c-4534-84ac-e982ca33fdfd\")>,\n",
       " <selenium.webdriver.remote.webelement.WebElement (session=\"157a413c10571bcc12c9b938fa30d99f\", element=\"5acf8131-1ef0-4bec-8281-a0adc3351dfa\")>,\n",
       " <selenium.webdriver.remote.webelement.WebElement (session=\"157a413c10571bcc12c9b938fa30d99f\", element=\"6850c6e8-ee5e-4eac-82ec-c1ab778dc041\")>,\n",
       " <selenium.webdriver.remote.webelement.WebElement (session=\"157a413c10571bcc12c9b938fa30d99f\", element=\"4db9456a-2426-4e80-a7a1-e2abc49ce265\")>,\n",
       " <selenium.webdriver.remote.webelement.WebElement (session=\"157a413c10571bcc12c9b938fa30d99f\", element=\"1004643f-fed5-469c-b9c2-4f9d37d8063f\")>,\n",
       " <selenium.webdriver.remote.webelement.WebElement (session=\"157a413c10571bcc12c9b938fa30d99f\", element=\"6e5a0b70-2df4-48fe-94cb-b1026ee13b10\")>,\n",
       " <selenium.webdriver.remote.webelement.WebElement (session=\"157a413c10571bcc12c9b938fa30d99f\", element=\"57ad97b0-4a78-4925-8525-8bc3813467a9\")>,\n",
       " <selenium.webdriver.remote.webelement.WebElement (session=\"157a413c10571bcc12c9b938fa30d99f\", element=\"ccf2fe6c-6863-40eb-9a67-f0d4ba0441a2\")>,\n",
       " <selenium.webdriver.remote.webelement.WebElement (session=\"157a413c10571bcc12c9b938fa30d99f\", element=\"75c840f9-98ce-4ed7-bace-616b46feedde\")>,\n",
       " <selenium.webdriver.remote.webelement.WebElement (session=\"157a413c10571bcc12c9b938fa30d99f\", element=\"ee1da22b-1707-45b4-bad1-7748bdede0ad\")>]"
      ]
     },
     "execution_count": 371,
     "metadata": {},
     "output_type": "execute_result"
    }
   ],
   "source": [
    "p3 = browser(\"//div[@class = '_30jeq3']\")\n",
    "p3"
   ]
  },
  {
   "cell_type": "code",
   "execution_count": 353,
   "metadata": {},
   "outputs": [
    {
     "data": {
      "text/plain": [
       "[<selenium.webdriver.remote.webelement.WebElement (session=\"157a413c10571bcc12c9b938fa30d99f\", element=\"ff6167d2-dcc2-4b40-a6d6-9cb540db2b0d\")>,\n",
       " <selenium.webdriver.remote.webelement.WebElement (session=\"157a413c10571bcc12c9b938fa30d99f\", element=\"6f720775-8472-4a71-9908-da6cc5de4886\")>,\n",
       " <selenium.webdriver.remote.webelement.WebElement (session=\"157a413c10571bcc12c9b938fa30d99f\", element=\"5628804e-51c7-43ae-bd6e-1551259ee970\")>,\n",
       " <selenium.webdriver.remote.webelement.WebElement (session=\"157a413c10571bcc12c9b938fa30d99f\", element=\"a2fd17ae-fada-46cd-b88f-7dcfc8cd6ff3\")>,\n",
       " <selenium.webdriver.remote.webelement.WebElement (session=\"157a413c10571bcc12c9b938fa30d99f\", element=\"bbdaf286-81ab-42ad-9a69-fa7dcae82e6d\")>,\n",
       " <selenium.webdriver.remote.webelement.WebElement (session=\"157a413c10571bcc12c9b938fa30d99f\", element=\"8feb7579-4632-4ec0-a394-e6268e31537b\")>,\n",
       " <selenium.webdriver.remote.webelement.WebElement (session=\"157a413c10571bcc12c9b938fa30d99f\", element=\"820f371a-4be9-4b87-8064-f72907bff236\")>,\n",
       " <selenium.webdriver.remote.webelement.WebElement (session=\"157a413c10571bcc12c9b938fa30d99f\", element=\"f3acdb38-80e2-4069-a7e2-647fedaf3de8\")>,\n",
       " <selenium.webdriver.remote.webelement.WebElement (session=\"157a413c10571bcc12c9b938fa30d99f\", element=\"c6f3099e-25cc-4c33-ba04-60f17c42c0b5\")>,\n",
       " <selenium.webdriver.remote.webelement.WebElement (session=\"157a413c10571bcc12c9b938fa30d99f\", element=\"25c44015-5f82-4d29-8bbb-7f961c3b951f\")>,\n",
       " <selenium.webdriver.remote.webelement.WebElement (session=\"157a413c10571bcc12c9b938fa30d99f\", element=\"afdd9860-7275-46dc-a286-7c967ed4bc4c\")>,\n",
       " <selenium.webdriver.remote.webelement.WebElement (session=\"157a413c10571bcc12c9b938fa30d99f\", element=\"ee64df39-d32f-4193-bf94-8b6d648fb4a1\")>,\n",
       " <selenium.webdriver.remote.webelement.WebElement (session=\"157a413c10571bcc12c9b938fa30d99f\", element=\"0cb5b818-284d-4f3c-828d-5d60b2445141\")>,\n",
       " <selenium.webdriver.remote.webelement.WebElement (session=\"157a413c10571bcc12c9b938fa30d99f\", element=\"bfcb5fc3-20b8-4d64-be39-ccb311769053\")>,\n",
       " <selenium.webdriver.remote.webelement.WebElement (session=\"157a413c10571bcc12c9b938fa30d99f\", element=\"29acfb62-9a2b-4ecd-a48b-b15de421ffa2\")>,\n",
       " <selenium.webdriver.remote.webelement.WebElement (session=\"157a413c10571bcc12c9b938fa30d99f\", element=\"ab4025ee-41e1-476b-b75c-135f6fc900c2\")>,\n",
       " <selenium.webdriver.remote.webelement.WebElement (session=\"157a413c10571bcc12c9b938fa30d99f\", element=\"2ff1938d-fc44-41d2-8a82-c5d2afbff1dd\")>,\n",
       " <selenium.webdriver.remote.webelement.WebElement (session=\"157a413c10571bcc12c9b938fa30d99f\", element=\"2de9386f-32d3-4a29-9827-7fd686f7be2e\")>,\n",
       " <selenium.webdriver.remote.webelement.WebElement (session=\"157a413c10571bcc12c9b938fa30d99f\", element=\"72ab8b4e-c86b-4011-8139-8c7a17e73dd8\")>,\n",
       " <selenium.webdriver.remote.webelement.WebElement (session=\"157a413c10571bcc12c9b938fa30d99f\", element=\"57dbd68b-2f4d-4a1d-99db-88aae600e32d\")>,\n",
       " <selenium.webdriver.remote.webelement.WebElement (session=\"157a413c10571bcc12c9b938fa30d99f\", element=\"c8245ac3-4556-4827-8803-20932cdf4418\")>,\n",
       " <selenium.webdriver.remote.webelement.WebElement (session=\"157a413c10571bcc12c9b938fa30d99f\", element=\"3aa9e188-f174-4429-9955-4b429bedf556\")>,\n",
       " <selenium.webdriver.remote.webelement.WebElement (session=\"157a413c10571bcc12c9b938fa30d99f\", element=\"33545ac7-78ba-4c2c-82cf-a28888937f53\")>,\n",
       " <selenium.webdriver.remote.webelement.WebElement (session=\"157a413c10571bcc12c9b938fa30d99f\", element=\"7d2dd158-1d8d-4149-8c7e-7d0cf34175cb\")>,\n",
       " <selenium.webdriver.remote.webelement.WebElement (session=\"157a413c10571bcc12c9b938fa30d99f\", element=\"727a0e3b-ac37-4294-8ea8-06346332a1ff\")>,\n",
       " <selenium.webdriver.remote.webelement.WebElement (session=\"157a413c10571bcc12c9b938fa30d99f\", element=\"4d8f950b-88aa-406d-8de0-301c7a45b188\")>,\n",
       " <selenium.webdriver.remote.webelement.WebElement (session=\"157a413c10571bcc12c9b938fa30d99f\", element=\"903d30f1-0a60-4e9b-ad70-939f4e5a8558\")>,\n",
       " <selenium.webdriver.remote.webelement.WebElement (session=\"157a413c10571bcc12c9b938fa30d99f\", element=\"912f4cb7-15d6-4d98-8d5f-12a66db2b57e\")>,\n",
       " <selenium.webdriver.remote.webelement.WebElement (session=\"157a413c10571bcc12c9b938fa30d99f\", element=\"f43dc2ca-7235-41a8-8916-63f53794bf5b\")>,\n",
       " <selenium.webdriver.remote.webelement.WebElement (session=\"157a413c10571bcc12c9b938fa30d99f\", element=\"26d6be2f-17af-4ce0-ad07-7afa9f6fc749\")>,\n",
       " <selenium.webdriver.remote.webelement.WebElement (session=\"157a413c10571bcc12c9b938fa30d99f\", element=\"842d7c48-40cd-47cb-ad8e-594ea5add54d\")>,\n",
       " <selenium.webdriver.remote.webelement.WebElement (session=\"157a413c10571bcc12c9b938fa30d99f\", element=\"30e9047f-0668-4fa8-9697-ef90226333bf\")>,\n",
       " <selenium.webdriver.remote.webelement.WebElement (session=\"157a413c10571bcc12c9b938fa30d99f\", element=\"f120a3cf-cbe0-41f6-98ec-b7749fa5bf3a\")>,\n",
       " <selenium.webdriver.remote.webelement.WebElement (session=\"157a413c10571bcc12c9b938fa30d99f\", element=\"1dae0bc3-9ecb-4ef9-b83e-65bcfd32ff93\")>,\n",
       " <selenium.webdriver.remote.webelement.WebElement (session=\"157a413c10571bcc12c9b938fa30d99f\", element=\"4b158dba-2efc-4bb4-b2ab-6a93f35c6184\")>,\n",
       " <selenium.webdriver.remote.webelement.WebElement (session=\"157a413c10571bcc12c9b938fa30d99f\", element=\"93de77ae-6102-467c-9a8a-dbef639a7168\")>,\n",
       " <selenium.webdriver.remote.webelement.WebElement (session=\"157a413c10571bcc12c9b938fa30d99f\", element=\"e1e9e07c-c6ba-440d-a05c-0a47443aabc0\")>,\n",
       " <selenium.webdriver.remote.webelement.WebElement (session=\"157a413c10571bcc12c9b938fa30d99f\", element=\"a0e471b2-121d-472a-a377-47b2ae2ef0ed\")>,\n",
       " <selenium.webdriver.remote.webelement.WebElement (session=\"157a413c10571bcc12c9b938fa30d99f\", element=\"f0f0c466-9820-41cd-8eac-6574239db1cb\")>,\n",
       " <selenium.webdriver.remote.webelement.WebElement (session=\"157a413c10571bcc12c9b938fa30d99f\", element=\"ea6e5b44-8437-402c-8f11-6c9605df7c23\")>]"
      ]
     },
     "execution_count": 353,
     "metadata": {},
     "output_type": "execute_result"
    }
   ],
   "source": [
    "d3 = browser(\"//div[@class = '_3Ay6Sb']\")\n",
    "d3"
   ]
  },
  {
   "cell_type": "code",
   "execution_count": 354,
   "metadata": {},
   "outputs": [
    {
     "data": {
      "text/plain": [
       "[<selenium.webdriver.remote.webelement.WebElement (session=\"157a413c10571bcc12c9b938fa30d99f\", element=\"16830e04-1c61-4463-84e3-ebe9b42e2c3d\")>,\n",
       " <selenium.webdriver.remote.webelement.WebElement (session=\"157a413c10571bcc12c9b938fa30d99f\", element=\"0c14d327-a77a-4531-8a10-9ef8ea4cc540\")>,\n",
       " <selenium.webdriver.remote.webelement.WebElement (session=\"157a413c10571bcc12c9b938fa30d99f\", element=\"41aec7e5-5d05-4357-a52f-5d0675ef8aa0\")>,\n",
       " <selenium.webdriver.remote.webelement.WebElement (session=\"157a413c10571bcc12c9b938fa30d99f\", element=\"fbfe6ac8-fb90-42e3-b769-ba2bffa96c86\")>,\n",
       " <selenium.webdriver.remote.webelement.WebElement (session=\"157a413c10571bcc12c9b938fa30d99f\", element=\"ed76c776-393f-4ac5-8636-a160cf0679ec\")>,\n",
       " <selenium.webdriver.remote.webelement.WebElement (session=\"157a413c10571bcc12c9b938fa30d99f\", element=\"d789b0b7-f7d4-4410-b3fb-d67cf755b111\")>,\n",
       " <selenium.webdriver.remote.webelement.WebElement (session=\"157a413c10571bcc12c9b938fa30d99f\", element=\"7261e05e-7862-4c3b-8c80-b5eb7f7311cc\")>,\n",
       " <selenium.webdriver.remote.webelement.WebElement (session=\"157a413c10571bcc12c9b938fa30d99f\", element=\"ccf8547d-eebb-42da-8f9f-9f54cbd237a3\")>,\n",
       " <selenium.webdriver.remote.webelement.WebElement (session=\"157a413c10571bcc12c9b938fa30d99f\", element=\"35e34958-549d-4025-b841-fc55548502cd\")>,\n",
       " <selenium.webdriver.remote.webelement.WebElement (session=\"157a413c10571bcc12c9b938fa30d99f\", element=\"ce793243-94cb-45d9-a79b-8febbf4dad01\")>,\n",
       " <selenium.webdriver.remote.webelement.WebElement (session=\"157a413c10571bcc12c9b938fa30d99f\", element=\"5c986c06-1449-4f41-9727-c2b5f26ce811\")>,\n",
       " <selenium.webdriver.remote.webelement.WebElement (session=\"157a413c10571bcc12c9b938fa30d99f\", element=\"1401907d-9827-45dd-a9ee-3921f7f5a2c1\")>,\n",
       " <selenium.webdriver.remote.webelement.WebElement (session=\"157a413c10571bcc12c9b938fa30d99f\", element=\"b0f129f2-6b75-4073-bc18-cdb99ea6ad9e\")>,\n",
       " <selenium.webdriver.remote.webelement.WebElement (session=\"157a413c10571bcc12c9b938fa30d99f\", element=\"52fc85ea-66a0-4b14-aceb-7d897a55812f\")>,\n",
       " <selenium.webdriver.remote.webelement.WebElement (session=\"157a413c10571bcc12c9b938fa30d99f\", element=\"8118a743-61f8-4cfa-ba4c-cbf7f7ef7531\")>,\n",
       " <selenium.webdriver.remote.webelement.WebElement (session=\"157a413c10571bcc12c9b938fa30d99f\", element=\"f44bbe3c-5fda-4c8f-ab50-00c8bd11fa48\")>,\n",
       " <selenium.webdriver.remote.webelement.WebElement (session=\"157a413c10571bcc12c9b938fa30d99f\", element=\"cec5137a-579a-4a2b-bc3f-5a5234f22e00\")>,\n",
       " <selenium.webdriver.remote.webelement.WebElement (session=\"157a413c10571bcc12c9b938fa30d99f\", element=\"312a34a2-e76d-429f-b621-fd1c04a7d7f3\")>,\n",
       " <selenium.webdriver.remote.webelement.WebElement (session=\"157a413c10571bcc12c9b938fa30d99f\", element=\"99e9c81a-6a18-4d51-946f-2212cde9757f\")>,\n",
       " <selenium.webdriver.remote.webelement.WebElement (session=\"157a413c10571bcc12c9b938fa30d99f\", element=\"2a01ec8a-d886-4d7a-9eae-3dd479e90605\")>,\n",
       " <selenium.webdriver.remote.webelement.WebElement (session=\"157a413c10571bcc12c9b938fa30d99f\", element=\"35788d9e-1065-4c8c-aa4f-46fd4e059b9f\")>,\n",
       " <selenium.webdriver.remote.webelement.WebElement (session=\"157a413c10571bcc12c9b938fa30d99f\", element=\"fd221844-4b8c-4219-abe6-cf89cce9efbb\")>,\n",
       " <selenium.webdriver.remote.webelement.WebElement (session=\"157a413c10571bcc12c9b938fa30d99f\", element=\"3bac708c-95f8-4aa3-a0d5-430e9e36ede5\")>,\n",
       " <selenium.webdriver.remote.webelement.WebElement (session=\"157a413c10571bcc12c9b938fa30d99f\", element=\"448d14cf-064c-46a6-ae00-ca8c9f5b65a8\")>,\n",
       " <selenium.webdriver.remote.webelement.WebElement (session=\"157a413c10571bcc12c9b938fa30d99f\", element=\"6f301579-a90a-40b2-ae46-2654a23e15f5\")>,\n",
       " <selenium.webdriver.remote.webelement.WebElement (session=\"157a413c10571bcc12c9b938fa30d99f\", element=\"6789ab39-351e-48fd-bf48-db0d2bfd6e2b\")>,\n",
       " <selenium.webdriver.remote.webelement.WebElement (session=\"157a413c10571bcc12c9b938fa30d99f\", element=\"2b79053c-5415-4fd0-84cf-c5e98263aa74\")>,\n",
       " <selenium.webdriver.remote.webelement.WebElement (session=\"157a413c10571bcc12c9b938fa30d99f\", element=\"ad45c048-7971-47a4-8cf4-058c97282fce\")>,\n",
       " <selenium.webdriver.remote.webelement.WebElement (session=\"157a413c10571bcc12c9b938fa30d99f\", element=\"97998293-1ffe-4f7c-a1b8-6dc5849d21f6\")>,\n",
       " <selenium.webdriver.remote.webelement.WebElement (session=\"157a413c10571bcc12c9b938fa30d99f\", element=\"e476988d-0e34-459a-b1ea-45ad2fe4bc12\")>,\n",
       " <selenium.webdriver.remote.webelement.WebElement (session=\"157a413c10571bcc12c9b938fa30d99f\", element=\"01e4d5fa-cd64-4e1e-ac00-baeecdef097a\")>,\n",
       " <selenium.webdriver.remote.webelement.WebElement (session=\"157a413c10571bcc12c9b938fa30d99f\", element=\"5bc39c48-9159-419c-80b2-be3c8e5be3aa\")>,\n",
       " <selenium.webdriver.remote.webelement.WebElement (session=\"157a413c10571bcc12c9b938fa30d99f\", element=\"9adb11e0-9670-4776-bd4f-b81102fcab53\")>,\n",
       " <selenium.webdriver.remote.webelement.WebElement (session=\"157a413c10571bcc12c9b938fa30d99f\", element=\"8401df36-2882-4aa5-8094-3c6b139f03e4\")>,\n",
       " <selenium.webdriver.remote.webelement.WebElement (session=\"157a413c10571bcc12c9b938fa30d99f\", element=\"2b5360f0-1961-43a7-bb9f-95fcaaa1dc70\")>,\n",
       " <selenium.webdriver.remote.webelement.WebElement (session=\"157a413c10571bcc12c9b938fa30d99f\", element=\"455be8dd-68d1-4af2-8b29-e97eee646b56\")>,\n",
       " <selenium.webdriver.remote.webelement.WebElement (session=\"157a413c10571bcc12c9b938fa30d99f\", element=\"889e05bb-fc7e-4961-8d2f-f8eae78def97\")>,\n",
       " <selenium.webdriver.remote.webelement.WebElement (session=\"157a413c10571bcc12c9b938fa30d99f\", element=\"41aa773a-b6ae-4f9e-b743-6d74f19381d0\")>,\n",
       " <selenium.webdriver.remote.webelement.WebElement (session=\"157a413c10571bcc12c9b938fa30d99f\", element=\"24e502dc-c538-4782-8c44-c6341f832992\")>,\n",
       " <selenium.webdriver.remote.webelement.WebElement (session=\"157a413c10571bcc12c9b938fa30d99f\", element=\"9c92eb31-69fe-4021-96c2-d231ebd990fc\")>,\n",
       " <selenium.webdriver.remote.webelement.WebElement (session=\"157a413c10571bcc12c9b938fa30d99f\", element=\"16830e04-1c61-4463-84e3-ebe9b42e2c3d\")>,\n",
       " <selenium.webdriver.remote.webelement.WebElement (session=\"157a413c10571bcc12c9b938fa30d99f\", element=\"0c14d327-a77a-4531-8a10-9ef8ea4cc540\")>,\n",
       " <selenium.webdriver.remote.webelement.WebElement (session=\"157a413c10571bcc12c9b938fa30d99f\", element=\"41aec7e5-5d05-4357-a52f-5d0675ef8aa0\")>,\n",
       " <selenium.webdriver.remote.webelement.WebElement (session=\"157a413c10571bcc12c9b938fa30d99f\", element=\"fbfe6ac8-fb90-42e3-b769-ba2bffa96c86\")>,\n",
       " <selenium.webdriver.remote.webelement.WebElement (session=\"157a413c10571bcc12c9b938fa30d99f\", element=\"ed76c776-393f-4ac5-8636-a160cf0679ec\")>,\n",
       " <selenium.webdriver.remote.webelement.WebElement (session=\"157a413c10571bcc12c9b938fa30d99f\", element=\"d789b0b7-f7d4-4410-b3fb-d67cf755b111\")>,\n",
       " <selenium.webdriver.remote.webelement.WebElement (session=\"157a413c10571bcc12c9b938fa30d99f\", element=\"7261e05e-7862-4c3b-8c80-b5eb7f7311cc\")>,\n",
       " <selenium.webdriver.remote.webelement.WebElement (session=\"157a413c10571bcc12c9b938fa30d99f\", element=\"ccf8547d-eebb-42da-8f9f-9f54cbd237a3\")>,\n",
       " <selenium.webdriver.remote.webelement.WebElement (session=\"157a413c10571bcc12c9b938fa30d99f\", element=\"35e34958-549d-4025-b841-fc55548502cd\")>,\n",
       " <selenium.webdriver.remote.webelement.WebElement (session=\"157a413c10571bcc12c9b938fa30d99f\", element=\"ce793243-94cb-45d9-a79b-8febbf4dad01\")>,\n",
       " <selenium.webdriver.remote.webelement.WebElement (session=\"157a413c10571bcc12c9b938fa30d99f\", element=\"5c986c06-1449-4f41-9727-c2b5f26ce811\")>,\n",
       " <selenium.webdriver.remote.webelement.WebElement (session=\"157a413c10571bcc12c9b938fa30d99f\", element=\"1401907d-9827-45dd-a9ee-3921f7f5a2c1\")>,\n",
       " <selenium.webdriver.remote.webelement.WebElement (session=\"157a413c10571bcc12c9b938fa30d99f\", element=\"b0f129f2-6b75-4073-bc18-cdb99ea6ad9e\")>,\n",
       " <selenium.webdriver.remote.webelement.WebElement (session=\"157a413c10571bcc12c9b938fa30d99f\", element=\"52fc85ea-66a0-4b14-aceb-7d897a55812f\")>,\n",
       " <selenium.webdriver.remote.webelement.WebElement (session=\"157a413c10571bcc12c9b938fa30d99f\", element=\"8118a743-61f8-4cfa-ba4c-cbf7f7ef7531\")>,\n",
       " <selenium.webdriver.remote.webelement.WebElement (session=\"157a413c10571bcc12c9b938fa30d99f\", element=\"f44bbe3c-5fda-4c8f-ab50-00c8bd11fa48\")>,\n",
       " <selenium.webdriver.remote.webelement.WebElement (session=\"157a413c10571bcc12c9b938fa30d99f\", element=\"cec5137a-579a-4a2b-bc3f-5a5234f22e00\")>,\n",
       " <selenium.webdriver.remote.webelement.WebElement (session=\"157a413c10571bcc12c9b938fa30d99f\", element=\"312a34a2-e76d-429f-b621-fd1c04a7d7f3\")>,\n",
       " <selenium.webdriver.remote.webelement.WebElement (session=\"157a413c10571bcc12c9b938fa30d99f\", element=\"99e9c81a-6a18-4d51-946f-2212cde9757f\")>,\n",
       " <selenium.webdriver.remote.webelement.WebElement (session=\"157a413c10571bcc12c9b938fa30d99f\", element=\"2a01ec8a-d886-4d7a-9eae-3dd479e90605\")>,\n",
       " <selenium.webdriver.remote.webelement.WebElement (session=\"157a413c10571bcc12c9b938fa30d99f\", element=\"35788d9e-1065-4c8c-aa4f-46fd4e059b9f\")>,\n",
       " <selenium.webdriver.remote.webelement.WebElement (session=\"157a413c10571bcc12c9b938fa30d99f\", element=\"fd221844-4b8c-4219-abe6-cf89cce9efbb\")>,\n",
       " <selenium.webdriver.remote.webelement.WebElement (session=\"157a413c10571bcc12c9b938fa30d99f\", element=\"3bac708c-95f8-4aa3-a0d5-430e9e36ede5\")>,\n",
       " <selenium.webdriver.remote.webelement.WebElement (session=\"157a413c10571bcc12c9b938fa30d99f\", element=\"448d14cf-064c-46a6-ae00-ca8c9f5b65a8\")>,\n",
       " <selenium.webdriver.remote.webelement.WebElement (session=\"157a413c10571bcc12c9b938fa30d99f\", element=\"6f301579-a90a-40b2-ae46-2654a23e15f5\")>,\n",
       " <selenium.webdriver.remote.webelement.WebElement (session=\"157a413c10571bcc12c9b938fa30d99f\", element=\"6789ab39-351e-48fd-bf48-db0d2bfd6e2b\")>,\n",
       " <selenium.webdriver.remote.webelement.WebElement (session=\"157a413c10571bcc12c9b938fa30d99f\", element=\"2b79053c-5415-4fd0-84cf-c5e98263aa74\")>,\n",
       " <selenium.webdriver.remote.webelement.WebElement (session=\"157a413c10571bcc12c9b938fa30d99f\", element=\"ad45c048-7971-47a4-8cf4-058c97282fce\")>,\n",
       " <selenium.webdriver.remote.webelement.WebElement (session=\"157a413c10571bcc12c9b938fa30d99f\", element=\"97998293-1ffe-4f7c-a1b8-6dc5849d21f6\")>,\n",
       " <selenium.webdriver.remote.webelement.WebElement (session=\"157a413c10571bcc12c9b938fa30d99f\", element=\"e476988d-0e34-459a-b1ea-45ad2fe4bc12\")>,\n",
       " <selenium.webdriver.remote.webelement.WebElement (session=\"157a413c10571bcc12c9b938fa30d99f\", element=\"01e4d5fa-cd64-4e1e-ac00-baeecdef097a\")>,\n",
       " <selenium.webdriver.remote.webelement.WebElement (session=\"157a413c10571bcc12c9b938fa30d99f\", element=\"5bc39c48-9159-419c-80b2-be3c8e5be3aa\")>,\n",
       " <selenium.webdriver.remote.webelement.WebElement (session=\"157a413c10571bcc12c9b938fa30d99f\", element=\"9adb11e0-9670-4776-bd4f-b81102fcab53\")>,\n",
       " <selenium.webdriver.remote.webelement.WebElement (session=\"157a413c10571bcc12c9b938fa30d99f\", element=\"8401df36-2882-4aa5-8094-3c6b139f03e4\")>,\n",
       " <selenium.webdriver.remote.webelement.WebElement (session=\"157a413c10571bcc12c9b938fa30d99f\", element=\"2b5360f0-1961-43a7-bb9f-95fcaaa1dc70\")>,\n",
       " <selenium.webdriver.remote.webelement.WebElement (session=\"157a413c10571bcc12c9b938fa30d99f\", element=\"455be8dd-68d1-4af2-8b29-e97eee646b56\")>,\n",
       " <selenium.webdriver.remote.webelement.WebElement (session=\"157a413c10571bcc12c9b938fa30d99f\", element=\"889e05bb-fc7e-4961-8d2f-f8eae78def97\")>,\n",
       " <selenium.webdriver.remote.webelement.WebElement (session=\"157a413c10571bcc12c9b938fa30d99f\", element=\"41aa773a-b6ae-4f9e-b743-6d74f19381d0\")>,\n",
       " <selenium.webdriver.remote.webelement.WebElement (session=\"157a413c10571bcc12c9b938fa30d99f\", element=\"24e502dc-c538-4782-8c44-c6341f832992\")>,\n",
       " <selenium.webdriver.remote.webelement.WebElement (session=\"157a413c10571bcc12c9b938fa30d99f\", element=\"9c92eb31-69fe-4021-96c2-d231ebd990fc\")>,\n",
       " <selenium.webdriver.remote.webelement.WebElement (session=\"157a413c10571bcc12c9b938fa30d99f\", element=\"16830e04-1c61-4463-84e3-ebe9b42e2c3d\")>,\n",
       " <selenium.webdriver.remote.webelement.WebElement (session=\"157a413c10571bcc12c9b938fa30d99f\", element=\"0c14d327-a77a-4531-8a10-9ef8ea4cc540\")>,\n",
       " <selenium.webdriver.remote.webelement.WebElement (session=\"157a413c10571bcc12c9b938fa30d99f\", element=\"41aec7e5-5d05-4357-a52f-5d0675ef8aa0\")>,\n",
       " <selenium.webdriver.remote.webelement.WebElement (session=\"157a413c10571bcc12c9b938fa30d99f\", element=\"fbfe6ac8-fb90-42e3-b769-ba2bffa96c86\")>,\n",
       " <selenium.webdriver.remote.webelement.WebElement (session=\"157a413c10571bcc12c9b938fa30d99f\", element=\"ed76c776-393f-4ac5-8636-a160cf0679ec\")>,\n",
       " <selenium.webdriver.remote.webelement.WebElement (session=\"157a413c10571bcc12c9b938fa30d99f\", element=\"d789b0b7-f7d4-4410-b3fb-d67cf755b111\")>,\n",
       " <selenium.webdriver.remote.webelement.WebElement (session=\"157a413c10571bcc12c9b938fa30d99f\", element=\"7261e05e-7862-4c3b-8c80-b5eb7f7311cc\")>,\n",
       " <selenium.webdriver.remote.webelement.WebElement (session=\"157a413c10571bcc12c9b938fa30d99f\", element=\"ccf8547d-eebb-42da-8f9f-9f54cbd237a3\")>,\n",
       " <selenium.webdriver.remote.webelement.WebElement (session=\"157a413c10571bcc12c9b938fa30d99f\", element=\"35e34958-549d-4025-b841-fc55548502cd\")>,\n",
       " <selenium.webdriver.remote.webelement.WebElement (session=\"157a413c10571bcc12c9b938fa30d99f\", element=\"ce793243-94cb-45d9-a79b-8febbf4dad01\")>,\n",
       " <selenium.webdriver.remote.webelement.WebElement (session=\"157a413c10571bcc12c9b938fa30d99f\", element=\"5c986c06-1449-4f41-9727-c2b5f26ce811\")>,\n",
       " <selenium.webdriver.remote.webelement.WebElement (session=\"157a413c10571bcc12c9b938fa30d99f\", element=\"1401907d-9827-45dd-a9ee-3921f7f5a2c1\")>,\n",
       " <selenium.webdriver.remote.webelement.WebElement (session=\"157a413c10571bcc12c9b938fa30d99f\", element=\"b0f129f2-6b75-4073-bc18-cdb99ea6ad9e\")>,\n",
       " <selenium.webdriver.remote.webelement.WebElement (session=\"157a413c10571bcc12c9b938fa30d99f\", element=\"52fc85ea-66a0-4b14-aceb-7d897a55812f\")>,\n",
       " <selenium.webdriver.remote.webelement.WebElement (session=\"157a413c10571bcc12c9b938fa30d99f\", element=\"8118a743-61f8-4cfa-ba4c-cbf7f7ef7531\")>,\n",
       " <selenium.webdriver.remote.webelement.WebElement (session=\"157a413c10571bcc12c9b938fa30d99f\", element=\"f44bbe3c-5fda-4c8f-ab50-00c8bd11fa48\")>,\n",
       " <selenium.webdriver.remote.webelement.WebElement (session=\"157a413c10571bcc12c9b938fa30d99f\", element=\"cec5137a-579a-4a2b-bc3f-5a5234f22e00\")>,\n",
       " <selenium.webdriver.remote.webelement.WebElement (session=\"157a413c10571bcc12c9b938fa30d99f\", element=\"312a34a2-e76d-429f-b621-fd1c04a7d7f3\")>,\n",
       " <selenium.webdriver.remote.webelement.WebElement (session=\"157a413c10571bcc12c9b938fa30d99f\", element=\"99e9c81a-6a18-4d51-946f-2212cde9757f\")>,\n",
       " <selenium.webdriver.remote.webelement.WebElement (session=\"157a413c10571bcc12c9b938fa30d99f\", element=\"2a01ec8a-d886-4d7a-9eae-3dd479e90605\")>,\n",
       " <selenium.webdriver.remote.webelement.WebElement (session=\"157a413c10571bcc12c9b938fa30d99f\", element=\"35788d9e-1065-4c8c-aa4f-46fd4e059b9f\")>,\n",
       " <selenium.webdriver.remote.webelement.WebElement (session=\"157a413c10571bcc12c9b938fa30d99f\", element=\"fd221844-4b8c-4219-abe6-cf89cce9efbb\")>,\n",
       " <selenium.webdriver.remote.webelement.WebElement (session=\"157a413c10571bcc12c9b938fa30d99f\", element=\"3bac708c-95f8-4aa3-a0d5-430e9e36ede5\")>,\n",
       " <selenium.webdriver.remote.webelement.WebElement (session=\"157a413c10571bcc12c9b938fa30d99f\", element=\"448d14cf-064c-46a6-ae00-ca8c9f5b65a8\")>,\n",
       " <selenium.webdriver.remote.webelement.WebElement (session=\"157a413c10571bcc12c9b938fa30d99f\", element=\"6f301579-a90a-40b2-ae46-2654a23e15f5\")>,\n",
       " <selenium.webdriver.remote.webelement.WebElement (session=\"157a413c10571bcc12c9b938fa30d99f\", element=\"6789ab39-351e-48fd-bf48-db0d2bfd6e2b\")>,\n",
       " <selenium.webdriver.remote.webelement.WebElement (session=\"157a413c10571bcc12c9b938fa30d99f\", element=\"2b79053c-5415-4fd0-84cf-c5e98263aa74\")>,\n",
       " <selenium.webdriver.remote.webelement.WebElement (session=\"157a413c10571bcc12c9b938fa30d99f\", element=\"ad45c048-7971-47a4-8cf4-058c97282fce\")>,\n",
       " <selenium.webdriver.remote.webelement.WebElement (session=\"157a413c10571bcc12c9b938fa30d99f\", element=\"97998293-1ffe-4f7c-a1b8-6dc5849d21f6\")>,\n",
       " <selenium.webdriver.remote.webelement.WebElement (session=\"157a413c10571bcc12c9b938fa30d99f\", element=\"e476988d-0e34-459a-b1ea-45ad2fe4bc12\")>,\n",
       " <selenium.webdriver.remote.webelement.WebElement (session=\"157a413c10571bcc12c9b938fa30d99f\", element=\"01e4d5fa-cd64-4e1e-ac00-baeecdef097a\")>,\n",
       " <selenium.webdriver.remote.webelement.WebElement (session=\"157a413c10571bcc12c9b938fa30d99f\", element=\"5bc39c48-9159-419c-80b2-be3c8e5be3aa\")>,\n",
       " <selenium.webdriver.remote.webelement.WebElement (session=\"157a413c10571bcc12c9b938fa30d99f\", element=\"9adb11e0-9670-4776-bd4f-b81102fcab53\")>,\n",
       " <selenium.webdriver.remote.webelement.WebElement (session=\"157a413c10571bcc12c9b938fa30d99f\", element=\"8401df36-2882-4aa5-8094-3c6b139f03e4\")>,\n",
       " <selenium.webdriver.remote.webelement.WebElement (session=\"157a413c10571bcc12c9b938fa30d99f\", element=\"2b5360f0-1961-43a7-bb9f-95fcaaa1dc70\")>,\n",
       " <selenium.webdriver.remote.webelement.WebElement (session=\"157a413c10571bcc12c9b938fa30d99f\", element=\"455be8dd-68d1-4af2-8b29-e97eee646b56\")>,\n",
       " <selenium.webdriver.remote.webelement.WebElement (session=\"157a413c10571bcc12c9b938fa30d99f\", element=\"889e05bb-fc7e-4961-8d2f-f8eae78def97\")>,\n",
       " <selenium.webdriver.remote.webelement.WebElement (session=\"157a413c10571bcc12c9b938fa30d99f\", element=\"41aa773a-b6ae-4f9e-b743-6d74f19381d0\")>,\n",
       " <selenium.webdriver.remote.webelement.WebElement (session=\"157a413c10571bcc12c9b938fa30d99f\", element=\"24e502dc-c538-4782-8c44-c6341f832992\")>,\n",
       " <selenium.webdriver.remote.webelement.WebElement (session=\"157a413c10571bcc12c9b938fa30d99f\", element=\"9c92eb31-69fe-4021-96c2-d231ebd990fc\")>]"
      ]
     },
     "execution_count": 354,
     "metadata": {},
     "output_type": "execute_result"
    }
   ],
   "source": [
    "b = b1 + b2 + b3\n",
    "b"
   ]
  },
  {
   "cell_type": "code",
   "execution_count": 355,
   "metadata": {},
   "outputs": [
    {
     "data": {
      "text/plain": [
       "['Absolute comfort',\n",
       " 'TPENT',\n",
       " 'RED TAPE',\n",
       " 'Azeraa',\n",
       " 'aadi',\n",
       " 'RONSON',\n",
       " 'ALAN COSTO',\n",
       " 'Ktiz',\n",
       " 'Zorth',\n",
       " 'BRUTON',\n",
       " 'HOTSTYLE',\n",
       " 'Woakers',\n",
       " 'Absolute comfort',\n",
       " 'SPARX',\n",
       " 'PUMA',\n",
       " 'HOTSTYLE',\n",
       " 'Qtsy',\n",
       " 'PUMA',\n",
       " 'SPADE CLUB',\n",
       " 'SUSON',\n",
       " 'Jack Diamond',\n",
       " 'Kreverse',\n",
       " 'warships',\n",
       " 'BRUTON',\n",
       " 'BRUTON',\n",
       " 'BRUTON',\n",
       " 'RED TAPE',\n",
       " 'BRUTON',\n",
       " 'Eliq',\n",
       " 'PUMA',\n",
       " 'U.S. POLO ASSN.',\n",
       " 'Stinson',\n",
       " 'TROTTS',\n",
       " 'PUMA',\n",
       " 'RED TAPE',\n",
       " 'Vedboy',\n",
       " 'Red Eagle',\n",
       " 'Adiso',\n",
       " 'PROVOGUE',\n",
       " 'KNIGHT WALKERS',\n",
       " 'Absolute comfort',\n",
       " 'TPENT',\n",
       " 'RED TAPE',\n",
       " 'Azeraa',\n",
       " 'aadi',\n",
       " 'RONSON',\n",
       " 'ALAN COSTO',\n",
       " 'Ktiz',\n",
       " 'Zorth',\n",
       " 'BRUTON',\n",
       " 'HOTSTYLE',\n",
       " 'Woakers',\n",
       " 'Absolute comfort',\n",
       " 'SPARX',\n",
       " 'PUMA',\n",
       " 'HOTSTYLE',\n",
       " 'Qtsy',\n",
       " 'PUMA',\n",
       " 'SPADE CLUB',\n",
       " 'SUSON',\n",
       " 'Jack Diamond',\n",
       " 'Kreverse',\n",
       " 'warships',\n",
       " 'BRUTON',\n",
       " 'BRUTON',\n",
       " 'BRUTON',\n",
       " 'RED TAPE',\n",
       " 'BRUTON',\n",
       " 'Eliq',\n",
       " 'PUMA',\n",
       " 'U.S. POLO ASSN.',\n",
       " 'Stinson',\n",
       " 'TROTTS',\n",
       " 'PUMA',\n",
       " 'RED TAPE',\n",
       " 'Vedboy',\n",
       " 'Red Eagle',\n",
       " 'Adiso',\n",
       " 'PROVOGUE',\n",
       " 'KNIGHT WALKERS',\n",
       " 'Absolute comfort',\n",
       " 'TPENT',\n",
       " 'RED TAPE',\n",
       " 'Azeraa',\n",
       " 'aadi',\n",
       " 'RONSON',\n",
       " 'ALAN COSTO',\n",
       " 'Ktiz',\n",
       " 'Zorth',\n",
       " 'BRUTON',\n",
       " 'HOTSTYLE',\n",
       " 'Woakers',\n",
       " 'Absolute comfort',\n",
       " 'SPARX',\n",
       " 'PUMA',\n",
       " 'HOTSTYLE',\n",
       " 'Qtsy',\n",
       " 'PUMA',\n",
       " 'SPADE CLUB',\n",
       " 'SUSON',\n",
       " 'Jack Diamond',\n",
       " 'Kreverse',\n",
       " 'warships',\n",
       " 'BRUTON',\n",
       " 'BRUTON',\n",
       " 'BRUTON',\n",
       " 'RED TAPE',\n",
       " 'BRUTON',\n",
       " 'Eliq',\n",
       " 'PUMA',\n",
       " 'U.S. POLO ASSN.',\n",
       " 'Stinson',\n",
       " 'TROTTS',\n",
       " 'PUMA',\n",
       " 'RED TAPE',\n",
       " 'Vedboy',\n",
       " 'Red Eagle',\n",
       " 'Adiso',\n",
       " 'PROVOGUE',\n",
       " 'KNIGHT WALKERS']"
      ]
     },
     "execution_count": 355,
     "metadata": {},
     "output_type": "execute_result"
    }
   ],
   "source": [
    "brand = []\n",
    "\n",
    "for i in b:\n",
    "    brand.append(i.text)\n",
    "brand"
   ]
  },
  {
   "cell_type": "code",
   "execution_count": 356,
   "metadata": {},
   "outputs": [
    {
     "data": {
      "text/plain": [
       "120"
      ]
     },
     "execution_count": 356,
     "metadata": {},
     "output_type": "execute_result"
    }
   ],
   "source": [
    "len(b)"
   ]
  },
  {
   "cell_type": "code",
   "execution_count": 292,
   "metadata": {},
   "outputs": [
    {
     "name": "stdout",
     "output_type": "stream",
     "text": [
      "<selenium.webdriver.remote.webelement.WebElement (session=\"157a413c10571bcc12c9b938fa30d99f\", element=\"b873a883-db02-46ba-80c9-b352a9783010\")>\n"
     ]
    }
   ],
   "source": [
    "next4 = driver.find_element_by_xpath(\"//a[@class = '_1LKTO3']\")\n",
    "print(next4)\n",
    "next4.click()"
   ]
  },
  {
   "cell_type": "code",
   "execution_count": 357,
   "metadata": {},
   "outputs": [
    {
     "data": {
      "text/plain": [
       "[<selenium.webdriver.remote.webelement.WebElement (session=\"157a413c10571bcc12c9b938fa30d99f\", element=\"ce227140-b4f7-4694-b0f9-680280019da9\")>,\n",
       " <selenium.webdriver.remote.webelement.WebElement (session=\"157a413c10571bcc12c9b938fa30d99f\", element=\"fe50d52a-199d-4441-9227-046bfacbd8e5\")>,\n",
       " <selenium.webdriver.remote.webelement.WebElement (session=\"157a413c10571bcc12c9b938fa30d99f\", element=\"12daa4ca-0854-4259-8efa-e301ea2ce126\")>,\n",
       " <selenium.webdriver.remote.webelement.WebElement (session=\"157a413c10571bcc12c9b938fa30d99f\", element=\"56899f5a-5d57-49f1-9487-2880408ce607\")>,\n",
       " <selenium.webdriver.remote.webelement.WebElement (session=\"157a413c10571bcc12c9b938fa30d99f\", element=\"1157614f-1715-40c5-b069-05f935cb231a\")>,\n",
       " <selenium.webdriver.remote.webelement.WebElement (session=\"157a413c10571bcc12c9b938fa30d99f\", element=\"c980ae37-5d8a-4d51-bac0-7cbaf1261dc4\")>,\n",
       " <selenium.webdriver.remote.webelement.WebElement (session=\"157a413c10571bcc12c9b938fa30d99f\", element=\"1444adb0-dcd5-4a0a-9320-cad6bc7e0fc9\")>,\n",
       " <selenium.webdriver.remote.webelement.WebElement (session=\"157a413c10571bcc12c9b938fa30d99f\", element=\"35e1910b-6081-45b4-aa67-ad689a42f090\")>,\n",
       " <selenium.webdriver.remote.webelement.WebElement (session=\"157a413c10571bcc12c9b938fa30d99f\", element=\"9853558d-32e4-445f-bef5-991619b3fe8d\")>,\n",
       " <selenium.webdriver.remote.webelement.WebElement (session=\"157a413c10571bcc12c9b938fa30d99f\", element=\"ba5ced4d-dd4a-4d8a-908a-3dcfda5e3cb9\")>,\n",
       " <selenium.webdriver.remote.webelement.WebElement (session=\"157a413c10571bcc12c9b938fa30d99f\", element=\"f1ffdf6a-eb20-4eb1-b477-abc0b01bf3d9\")>]"
      ]
     },
     "execution_count": 357,
     "metadata": {},
     "output_type": "execute_result"
    }
   ],
   "source": [
    "# as we saw that product length was less so we scraped more\n",
    "pd4 = browser(\"//a[@class = 'IRpwTa _2-ICcC']\")\n",
    "pd4"
   ]
  },
  {
   "cell_type": "code",
   "execution_count": 358,
   "metadata": {},
   "outputs": [],
   "source": [
    "pd = pd1 + pd2 + pd3 +pd4 + pd5"
   ]
  },
  {
   "cell_type": "code",
   "execution_count": 359,
   "metadata": {},
   "outputs": [
    {
     "data": {
      "text/plain": [
       "['STYLISH LIGHT WEIGHT SPORTS SHOES FOR BOYS/MEN Sneakers...',\n",
       " 'Sneakers For Men',\n",
       " 'Sneakers For Men',\n",
       " 'Sneakers For Men',\n",
       " 'Extraordinary, Shapeless,High Performance, Sports Shoes...',\n",
       " \"Men's Casual Shoes in White Color Walking Running Gymwe...\",\n",
       " 'Sneakers For Men',\n",
       " 'Sneakers For Men',\n",
       " 'Combo Pack Of 4 Casual Sneakers For Men',\n",
       " 'CR-1 Sneakers For Men',\n",
       " 'COMBO-PACK-(3)-SNEAKER-WRBT Sneakers For Men',\n",
       " 'Lazy Knit Slip On IDP Sneakers For Men',\n",
       " 'Sneakers For Men',\n",
       " 'Stylish Design Sneakers Shoes Combo For Men & Boys - Pa...',\n",
       " 'Backcourt Mid Sneakers For Men',\n",
       " 'Gym/Walking/Running Sneakers For Men',\n",
       " 'latest lifestyle shoe Sneakers For Men',\n",
       " 'Combo Pack of 2 Lattest Collection Stylish Casual Loafe...',\n",
       " 'Modern & Trendy Collection Combo Pack of 02 Shoes for M...',\n",
       " 'Sneakers For Men',\n",
       " 'Combo Pack Of 2 Casual Shoes Sneakers For Men',\n",
       " 'Acrux IDP Sneakers For Men',\n",
       " 'CLARKIN Sneakers For Men',\n",
       " 'Combo of 5 Multicolor Casual Sneakers Shoes For Men Sne...',\n",
       " 'TROTTS Sneakers For Men Sneakers For Men',\n",
       " 'FUTURE RIDER PLAY ON Sneakers For Men',\n",
       " 'Sneakers For Men',\n",
       " 'Sneakers For Men  8) Sneakers For Men',\n",
       " 'Sneakers For Men',\n",
       " 'STYLISH LIGHT WEIGHT SPORTS SHOES FOR BOYS/MEN Sneakers...',\n",
       " 'Sneakers For Men',\n",
       " 'Sneakers For Men',\n",
       " 'Sneakers For Men',\n",
       " 'Extraordinary, Shapeless,High Performance, Sports Shoes...',\n",
       " \"Men's Casual Shoes in White Color Walking Running Gymwe...\",\n",
       " 'Sneakers For Men',\n",
       " 'Sneakers For Men',\n",
       " 'Combo Pack Of 4 Casual Sneakers For Men',\n",
       " 'CR-1 Sneakers For Men',\n",
       " 'COMBO-PACK-(3)-SNEAKER-WRBT Sneakers For Men',\n",
       " 'Lazy Knit Slip On IDP Sneakers For Men',\n",
       " 'Sneakers For Men',\n",
       " 'Stylish Design Sneakers Shoes Combo For Men & Boys - Pa...',\n",
       " 'Backcourt Mid Sneakers For Men',\n",
       " 'Gym/Walking/Running Sneakers For Men',\n",
       " 'latest lifestyle shoe Sneakers For Men',\n",
       " 'Combo Pack of 2 Lattest Collection Stylish Casual Loafe...',\n",
       " 'Modern & Trendy Collection Combo Pack of 02 Shoes for M...',\n",
       " 'Sneakers For Men',\n",
       " 'Combo Pack Of 2 Casual Shoes Sneakers For Men',\n",
       " 'Acrux IDP Sneakers For Men',\n",
       " 'CLARKIN Sneakers For Men',\n",
       " 'Combo of 5 Multicolor Casual Sneakers Shoes For Men Sne...',\n",
       " 'TROTTS Sneakers For Men Sneakers For Men',\n",
       " 'FUTURE RIDER PLAY ON Sneakers For Men',\n",
       " 'Sneakers For Men',\n",
       " 'Sneakers For Men  8) Sneakers For Men',\n",
       " 'Sneakers For Men',\n",
       " 'STYLISH LIGHT WEIGHT SPORTS SHOES FOR BOYS/MEN Sneakers...',\n",
       " 'Sneakers For Men',\n",
       " 'Sneakers For Men',\n",
       " 'Sneakers For Men',\n",
       " 'Extraordinary, Shapeless,High Performance, Sports Shoes...',\n",
       " \"Men's Casual Shoes in White Color Walking Running Gymwe...\",\n",
       " 'Sneakers For Men',\n",
       " 'Sneakers For Men',\n",
       " 'Combo Pack Of 4 Casual Sneakers For Men',\n",
       " 'CR-1 Sneakers For Men',\n",
       " 'COMBO-PACK-(3)-SNEAKER-WRBT Sneakers For Men',\n",
       " 'Lazy Knit Slip On IDP Sneakers For Men',\n",
       " 'Sneakers For Men',\n",
       " 'Stylish Design Sneakers Shoes Combo For Men & Boys - Pa...',\n",
       " 'Backcourt Mid Sneakers For Men',\n",
       " 'Gym/Walking/Running Sneakers For Men',\n",
       " 'latest lifestyle shoe Sneakers For Men',\n",
       " 'Combo Pack of 2 Lattest Collection Stylish Casual Loafe...',\n",
       " 'Modern & Trendy Collection Combo Pack of 02 Shoes for M...',\n",
       " 'Sneakers For Men',\n",
       " 'Combo Pack Of 2 Casual Shoes Sneakers For Men',\n",
       " 'Acrux IDP Sneakers For Men',\n",
       " 'CLARKIN Sneakers For Men',\n",
       " 'Combo of 5 Multicolor Casual Sneakers Shoes For Men Sne...',\n",
       " 'TROTTS Sneakers For Men Sneakers For Men',\n",
       " 'FUTURE RIDER PLAY ON Sneakers For Men',\n",
       " 'Sneakers For Men',\n",
       " 'Sneakers For Men  8) Sneakers For Men',\n",
       " 'Sneakers For Men',\n",
       " 'EVAW2 Sneakers For Men',\n",
       " 'Sneakers For Men',\n",
       " 'SM-322 Sneakers For Men',\n",
       " 'Sneakers For Men',\n",
       " 'Sneakers For Men',\n",
       " 'Sneakers For Men',\n",
       " 'Lightweight Pack Of 1 Trendy Sneakers Sneakers For Men',\n",
       " \"Men's & Boy's Sneaker Blue Shoes Casual Sneakers Sneake...\",\n",
       " \"Men's Running Shoes Fashion Breathable Sneakers Mesh So...\",\n",
       " 'Casual sneakers,outdoors,dancingshoes Sneakers For Men',\n",
       " 'Sneakers For Men',\n",
       " 'EVAW2 Sneakers For Men',\n",
       " 'Sneakers For Men',\n",
       " 'SM-322 Sneakers For Men',\n",
       " 'Sneakers For Men',\n",
       " 'Sneakers For Men',\n",
       " 'Sneakers For Men',\n",
       " 'Lightweight Pack Of 1 Trendy Sneakers Sneakers For Men',\n",
       " \"Men's & Boy's Sneaker Blue Shoes Casual Sneakers Sneake...\",\n",
       " \"Men's Running Shoes Fashion Breathable Sneakers Mesh So...\",\n",
       " 'Casual sneakers,outdoors,dancingshoes Sneakers For Men',\n",
       " 'Sneakers For Men']"
      ]
     },
     "execution_count": 359,
     "metadata": {},
     "output_type": "execute_result"
    }
   ],
   "source": [
    "# for Product- Description\n",
    "\n",
    "product = []\n",
    "for i in pd:\n",
    "    product.append(i.text)\n",
    "product"
   ]
  },
  {
   "cell_type": "code",
   "execution_count": 360,
   "metadata": {},
   "outputs": [
    {
     "data": {
      "text/plain": [
       "109"
      ]
     },
     "execution_count": 360,
     "metadata": {},
     "output_type": "execute_result"
    }
   ],
   "source": [
    "len(product)"
   ]
  },
  {
   "cell_type": "code",
   "execution_count": 305,
   "metadata": {},
   "outputs": [],
   "source": [
    "next5 =driver.find_element_by_xpath(\"//nav[@class ='yFHi8N']\")\n",
    "next5.click()"
   ]
  },
  {
   "cell_type": "code",
   "execution_count": 361,
   "metadata": {},
   "outputs": [
    {
     "data": {
      "text/plain": [
       "[<selenium.webdriver.remote.webelement.WebElement (session=\"157a413c10571bcc12c9b938fa30d99f\", element=\"ce227140-b4f7-4694-b0f9-680280019da9\")>,\n",
       " <selenium.webdriver.remote.webelement.WebElement (session=\"157a413c10571bcc12c9b938fa30d99f\", element=\"fe50d52a-199d-4441-9227-046bfacbd8e5\")>,\n",
       " <selenium.webdriver.remote.webelement.WebElement (session=\"157a413c10571bcc12c9b938fa30d99f\", element=\"12daa4ca-0854-4259-8efa-e301ea2ce126\")>,\n",
       " <selenium.webdriver.remote.webelement.WebElement (session=\"157a413c10571bcc12c9b938fa30d99f\", element=\"56899f5a-5d57-49f1-9487-2880408ce607\")>,\n",
       " <selenium.webdriver.remote.webelement.WebElement (session=\"157a413c10571bcc12c9b938fa30d99f\", element=\"1157614f-1715-40c5-b069-05f935cb231a\")>,\n",
       " <selenium.webdriver.remote.webelement.WebElement (session=\"157a413c10571bcc12c9b938fa30d99f\", element=\"c980ae37-5d8a-4d51-bac0-7cbaf1261dc4\")>,\n",
       " <selenium.webdriver.remote.webelement.WebElement (session=\"157a413c10571bcc12c9b938fa30d99f\", element=\"1444adb0-dcd5-4a0a-9320-cad6bc7e0fc9\")>,\n",
       " <selenium.webdriver.remote.webelement.WebElement (session=\"157a413c10571bcc12c9b938fa30d99f\", element=\"35e1910b-6081-45b4-aa67-ad689a42f090\")>,\n",
       " <selenium.webdriver.remote.webelement.WebElement (session=\"157a413c10571bcc12c9b938fa30d99f\", element=\"9853558d-32e4-445f-bef5-991619b3fe8d\")>,\n",
       " <selenium.webdriver.remote.webelement.WebElement (session=\"157a413c10571bcc12c9b938fa30d99f\", element=\"ba5ced4d-dd4a-4d8a-908a-3dcfda5e3cb9\")>,\n",
       " <selenium.webdriver.remote.webelement.WebElement (session=\"157a413c10571bcc12c9b938fa30d99f\", element=\"f1ffdf6a-eb20-4eb1-b477-abc0b01bf3d9\")>]"
      ]
     },
     "execution_count": 361,
     "metadata": {},
     "output_type": "execute_result"
    }
   ],
   "source": [
    "pd5 = browser(\"//a[@class = 'IRpwTa _2-ICcC']\")\n",
    "pd5"
   ]
  },
  {
   "cell_type": "code",
   "execution_count": 372,
   "metadata": {},
   "outputs": [],
   "source": [
    "price1 = p1 + p2 + p3"
   ]
  },
  {
   "cell_type": "code",
   "execution_count": 373,
   "metadata": {},
   "outputs": [
    {
     "data": {
      "text/plain": [
       "['₹199',\n",
       " '₹499',\n",
       " '₹1,379',\n",
       " '₹449',\n",
       " '₹399',\n",
       " '₹499',\n",
       " '₹450',\n",
       " '₹397',\n",
       " '₹391',\n",
       " '₹449',\n",
       " '₹283',\n",
       " '₹521',\n",
       " '₹474',\n",
       " '₹699',\n",
       " '₹1,366',\n",
       " '₹472',\n",
       " '₹397',\n",
       " '₹3,919',\n",
       " '₹698',\n",
       " '₹379',\n",
       " '₹699',\n",
       " '₹203',\n",
       " '₹340',\n",
       " '₹449',\n",
       " '₹242',\n",
       " '₹499',\n",
       " '₹1,409',\n",
       " '₹499',\n",
       " '₹233',\n",
       " '₹1,855',\n",
       " '₹1,989',\n",
       " '₹699',\n",
       " '₹344',\n",
       " '₹3,100',\n",
       " '₹1,559',\n",
       " '₹449',\n",
       " '₹399',\n",
       " '₹399',\n",
       " '₹683',\n",
       " '₹599',\n",
       " '₹199',\n",
       " '₹499',\n",
       " '₹1,379',\n",
       " '₹449',\n",
       " '₹399',\n",
       " '₹499',\n",
       " '₹450',\n",
       " '₹397',\n",
       " '₹391',\n",
       " '₹449',\n",
       " '₹283',\n",
       " '₹521',\n",
       " '₹474',\n",
       " '₹699',\n",
       " '₹1,366',\n",
       " '₹472',\n",
       " '₹397',\n",
       " '₹3,919',\n",
       " '₹698',\n",
       " '₹379',\n",
       " '₹699',\n",
       " '₹203',\n",
       " '₹340',\n",
       " '₹449',\n",
       " '₹242',\n",
       " '₹499',\n",
       " '₹1,409',\n",
       " '₹499',\n",
       " '₹233',\n",
       " '₹1,855',\n",
       " '₹1,989',\n",
       " '₹699',\n",
       " '₹344',\n",
       " '₹3,100',\n",
       " '₹1,559',\n",
       " '₹449',\n",
       " '₹399',\n",
       " '₹399',\n",
       " '₹683',\n",
       " '₹599',\n",
       " '₹199',\n",
       " '₹499',\n",
       " '₹1,379',\n",
       " '₹449',\n",
       " '₹399',\n",
       " '₹499',\n",
       " '₹450',\n",
       " '₹397',\n",
       " '₹391',\n",
       " '₹449',\n",
       " '₹283',\n",
       " '₹521',\n",
       " '₹474',\n",
       " '₹699',\n",
       " '₹1,366',\n",
       " '₹472',\n",
       " '₹397',\n",
       " '₹3,919',\n",
       " '₹698',\n",
       " '₹379',\n",
       " '₹699',\n",
       " '₹203',\n",
       " '₹340',\n",
       " '₹449',\n",
       " '₹242',\n",
       " '₹499',\n",
       " '₹1,409',\n",
       " '₹499',\n",
       " '₹233',\n",
       " '₹1,855',\n",
       " '₹1,989',\n",
       " '₹699',\n",
       " '₹344',\n",
       " '₹3,100',\n",
       " '₹1,559',\n",
       " '₹449',\n",
       " '₹399',\n",
       " '₹399',\n",
       " '₹683',\n",
       " '₹599']"
      ]
     },
     "execution_count": 373,
     "metadata": {},
     "output_type": "execute_result"
    }
   ],
   "source": [
    "price = []\n",
    "\n",
    "for i in price1:\n",
    "    price.append(i.text)\n",
    "price"
   ]
  },
  {
   "cell_type": "code",
   "execution_count": 364,
   "metadata": {},
   "outputs": [
    {
     "data": {
      "text/plain": [
       "120"
      ]
     },
     "execution_count": 364,
     "metadata": {},
     "output_type": "execute_result"
    }
   ],
   "source": [
    "len(price1)"
   ]
  },
  {
   "cell_type": "code",
   "execution_count": 365,
   "metadata": {},
   "outputs": [],
   "source": [
    "d = d1 + d2 + d3"
   ]
  },
  {
   "cell_type": "code",
   "execution_count": 366,
   "metadata": {},
   "outputs": [
    {
     "data": {
      "text/plain": [
       "120"
      ]
     },
     "execution_count": 366,
     "metadata": {},
     "output_type": "execute_result"
    }
   ],
   "source": [
    "len(d)"
   ]
  },
  {
   "cell_type": "code",
   "execution_count": 367,
   "metadata": {},
   "outputs": [
    {
     "data": {
      "text/plain": [
       "['60% off',\n",
       " '61% off',\n",
       " '70% off',\n",
       " '55% off',\n",
       " '80% off',\n",
       " '75% off',\n",
       " '54% off',\n",
       " '60% off',\n",
       " '60% off',\n",
       " '88% off',\n",
       " '43% off',\n",
       " '65% off',\n",
       " '68% off',\n",
       " '30% off',\n",
       " '54% off',\n",
       " '52% off',\n",
       " '50% off',\n",
       " '44% off',\n",
       " '30% off',\n",
       " '62% off',\n",
       " '30% off',\n",
       " '59% off',\n",
       " '65% off',\n",
       " '82% off',\n",
       " '59% off',\n",
       " '80% off',\n",
       " '70% off',\n",
       " '79% off',\n",
       " '53% off',\n",
       " '43% off',\n",
       " '33% off',\n",
       " '71% off',\n",
       " '65% off',\n",
       " '55% off',\n",
       " '70% off',\n",
       " '55% off',\n",
       " '61% off',\n",
       " '60% off',\n",
       " '64% off',\n",
       " '60% off',\n",
       " '60% off',\n",
       " '61% off',\n",
       " '70% off',\n",
       " '55% off',\n",
       " '80% off',\n",
       " '75% off',\n",
       " '54% off',\n",
       " '60% off',\n",
       " '60% off',\n",
       " '88% off',\n",
       " '43% off',\n",
       " '65% off',\n",
       " '68% off',\n",
       " '30% off',\n",
       " '54% off',\n",
       " '52% off',\n",
       " '50% off',\n",
       " '44% off',\n",
       " '30% off',\n",
       " '62% off',\n",
       " '30% off',\n",
       " '59% off',\n",
       " '65% off',\n",
       " '82% off',\n",
       " '59% off',\n",
       " '80% off',\n",
       " '70% off',\n",
       " '79% off',\n",
       " '53% off',\n",
       " '43% off',\n",
       " '33% off',\n",
       " '71% off',\n",
       " '65% off',\n",
       " '55% off',\n",
       " '70% off',\n",
       " '55% off',\n",
       " '61% off',\n",
       " '60% off',\n",
       " '64% off',\n",
       " '60% off',\n",
       " '60% off',\n",
       " '61% off',\n",
       " '70% off',\n",
       " '55% off',\n",
       " '80% off',\n",
       " '75% off',\n",
       " '54% off',\n",
       " '60% off',\n",
       " '60% off',\n",
       " '88% off',\n",
       " '43% off',\n",
       " '65% off',\n",
       " '68% off',\n",
       " '30% off',\n",
       " '54% off',\n",
       " '52% off',\n",
       " '50% off',\n",
       " '44% off',\n",
       " '30% off',\n",
       " '62% off',\n",
       " '30% off',\n",
       " '59% off',\n",
       " '65% off',\n",
       " '82% off',\n",
       " '59% off',\n",
       " '80% off',\n",
       " '70% off',\n",
       " '79% off',\n",
       " '53% off',\n",
       " '43% off',\n",
       " '33% off',\n",
       " '71% off',\n",
       " '65% off',\n",
       " '55% off',\n",
       " '70% off',\n",
       " '55% off',\n",
       " '61% off',\n",
       " '60% off',\n",
       " '64% off',\n",
       " '60% off']"
      ]
     },
     "execution_count": 367,
     "metadata": {},
     "output_type": "execute_result"
    }
   ],
   "source": [
    "discount = []\n",
    "for i in d:\n",
    "    discount.append(i.text)\n",
    "discount"
   ]
  },
  {
   "cell_type": "code",
   "execution_count": 375,
   "metadata": {},
   "outputs": [
    {
     "data": {
      "text/html": [
       "<div>\n",
       "<style scoped>\n",
       "    .dataframe tbody tr th:only-of-type {\n",
       "        vertical-align: middle;\n",
       "    }\n",
       "\n",
       "    .dataframe tbody tr th {\n",
       "        vertical-align: top;\n",
       "    }\n",
       "\n",
       "    .dataframe thead th {\n",
       "        text-align: right;\n",
       "    }\n",
       "</style>\n",
       "<table border=\"1\" class=\"dataframe\">\n",
       "  <thead>\n",
       "    <tr style=\"text-align: right;\">\n",
       "      <th></th>\n",
       "      <th>Brand</th>\n",
       "      <th>Product_Description</th>\n",
       "      <th>Price</th>\n",
       "      <th>Discount</th>\n",
       "    </tr>\n",
       "  </thead>\n",
       "  <tbody>\n",
       "    <tr>\n",
       "      <th>0</th>\n",
       "      <td>Absolute comfort</td>\n",
       "      <td>STYLISH LIGHT WEIGHT SPORTS SHOES FOR BOYS/MEN...</td>\n",
       "      <td>₹199</td>\n",
       "      <td>60% off</td>\n",
       "    </tr>\n",
       "    <tr>\n",
       "      <th>1</th>\n",
       "      <td>TPENT</td>\n",
       "      <td>Sneakers For Men</td>\n",
       "      <td>₹499</td>\n",
       "      <td>61% off</td>\n",
       "    </tr>\n",
       "    <tr>\n",
       "      <th>2</th>\n",
       "      <td>RED TAPE</td>\n",
       "      <td>Sneakers For Men</td>\n",
       "      <td>₹1,379</td>\n",
       "      <td>70% off</td>\n",
       "    </tr>\n",
       "    <tr>\n",
       "      <th>3</th>\n",
       "      <td>Azeraa</td>\n",
       "      <td>Sneakers For Men</td>\n",
       "      <td>₹449</td>\n",
       "      <td>55% off</td>\n",
       "    </tr>\n",
       "    <tr>\n",
       "      <th>4</th>\n",
       "      <td>aadi</td>\n",
       "      <td>Extraordinary, Shapeless,High Performance, Spo...</td>\n",
       "      <td>₹399</td>\n",
       "      <td>80% off</td>\n",
       "    </tr>\n",
       "    <tr>\n",
       "      <th>...</th>\n",
       "      <td>...</td>\n",
       "      <td>...</td>\n",
       "      <td>...</td>\n",
       "      <td>...</td>\n",
       "    </tr>\n",
       "    <tr>\n",
       "      <th>95</th>\n",
       "      <td>HOTSTYLE</td>\n",
       "      <td>Men's Running Shoes Fashion Breathable Sneaker...</td>\n",
       "      <td>₹472</td>\n",
       "      <td>52% off</td>\n",
       "    </tr>\n",
       "    <tr>\n",
       "      <th>96</th>\n",
       "      <td>Qtsy</td>\n",
       "      <td>Casual sneakers,outdoors,dancingshoes Sneakers...</td>\n",
       "      <td>₹397</td>\n",
       "      <td>50% off</td>\n",
       "    </tr>\n",
       "    <tr>\n",
       "      <th>97</th>\n",
       "      <td>PUMA</td>\n",
       "      <td>Sneakers For Men</td>\n",
       "      <td>₹3,919</td>\n",
       "      <td>44% off</td>\n",
       "    </tr>\n",
       "    <tr>\n",
       "      <th>98</th>\n",
       "      <td>SPADE CLUB</td>\n",
       "      <td>EVAW2 Sneakers For Men</td>\n",
       "      <td>₹698</td>\n",
       "      <td>30% off</td>\n",
       "    </tr>\n",
       "    <tr>\n",
       "      <th>99</th>\n",
       "      <td>SUSON</td>\n",
       "      <td>Sneakers For Men</td>\n",
       "      <td>₹379</td>\n",
       "      <td>62% off</td>\n",
       "    </tr>\n",
       "  </tbody>\n",
       "</table>\n",
       "<p>100 rows × 4 columns</p>\n",
       "</div>"
      ],
      "text/plain": [
       "               Brand                                Product_Description  \\\n",
       "0   Absolute comfort  STYLISH LIGHT WEIGHT SPORTS SHOES FOR BOYS/MEN...   \n",
       "1              TPENT                                   Sneakers For Men   \n",
       "2           RED TAPE                                   Sneakers For Men   \n",
       "3             Azeraa                                   Sneakers For Men   \n",
       "4               aadi  Extraordinary, Shapeless,High Performance, Spo...   \n",
       "..               ...                                                ...   \n",
       "95          HOTSTYLE  Men's Running Shoes Fashion Breathable Sneaker...   \n",
       "96              Qtsy  Casual sneakers,outdoors,dancingshoes Sneakers...   \n",
       "97              PUMA                                   Sneakers For Men   \n",
       "98        SPADE CLUB                             EVAW2 Sneakers For Men   \n",
       "99             SUSON                                   Sneakers For Men   \n",
       "\n",
       "     Price Discount  \n",
       "0     ₹199  60% off  \n",
       "1     ₹499  61% off  \n",
       "2   ₹1,379  70% off  \n",
       "3     ₹449  55% off  \n",
       "4     ₹399  80% off  \n",
       "..     ...      ...  \n",
       "95    ₹472  52% off  \n",
       "96    ₹397  50% off  \n",
       "97  ₹3,919  44% off  \n",
       "98    ₹698  30% off  \n",
       "99    ₹379  62% off  \n",
       "\n",
       "[100 rows x 4 columns]"
      ]
     },
     "execution_count": 375,
     "metadata": {},
     "output_type": "execute_result"
    }
   ],
   "source": [
    "import pandas as pd\n",
    "sneaker = pd.DataFrame({})\n",
    "\n",
    "sneaker[\"Brand\"] = brand[:100]\n",
    "sneaker[\"Product_Description\"] = product[:100]\n",
    "sneaker[\"Price\"] = price[:100]\n",
    "sneaker[\"Discount\"] = discount[:100]\n",
    "sneaker"
   ]
  },
  {
   "cell_type": "code",
   "execution_count": null,
   "metadata": {},
   "outputs": [],
   "source": []
  },
  {
   "cell_type": "markdown",
   "metadata": {},
   "source": [
    "# Q9: Go to the link - https://www.myntra.com/shoes Set Price filter to “Rs. 6649 to Rs. 13099” , Color filter to “Black”, as shown in the below image.\n"
   ]
  },
  {
   "cell_type": "code",
   "execution_count": 95,
   "metadata": {},
   "outputs": [],
   "source": [
    "import selenium\n",
    "import pandas as pd\n",
    "from selenium import webdriver"
   ]
  },
  {
   "cell_type": "code",
   "execution_count": 4,
   "metadata": {},
   "outputs": [],
   "source": [
    "driver = webdriver.Chrome(\"chromedriver.exe\")"
   ]
  },
  {
   "cell_type": "code",
   "execution_count": 5,
   "metadata": {},
   "outputs": [],
   "source": [
    "url = 'https://www.myntra.com/shoes'\n",
    "driver.get(url)"
   ]
  },
  {
   "cell_type": "code",
   "execution_count": 49,
   "metadata": {},
   "outputs": [
    {
     "name": "stdout",
     "output_type": "stream",
     "text": [
      "<selenium.webdriver.remote.webelement.WebElement (session=\"adc335f496c8653f617d47832aef561e\", element=\"dc2123f0-09dc-4e58-a129-7b91cfddb63b\")>\n"
     ]
    }
   ],
   "source": [
    "color_filter = driver.find_element_by_xpath(\"//label[@class = 'common-customCheckbox']\")\n",
    "print(price_filter)"
   ]
  },
  {
   "cell_type": "code",
   "execution_count": 50,
   "metadata": {},
   "outputs": [],
   "source": [
    "color_filter.click()"
   ]
  },
  {
   "cell_type": "code",
   "execution_count": 96,
   "metadata": {},
   "outputs": [
    {
     "data": {
      "text/plain": [
       "<selenium.webdriver.remote.webelement.WebElement (session=\"adc335f496c8653f617d47832aef561e\", element=\"d385748c-6c6f-42c0-b431-ee1ca3eb1bc0\")>"
      ]
     },
     "execution_count": 96,
     "metadata": {},
     "output_type": "execute_result"
    }
   ],
   "source": [
    "price_filter = driver.find_element_by_xpath(\"//span[@class = 'price-num']\")\n",
    "price_filter"
   ]
  },
  {
   "cell_type": "code",
   "execution_count": 97,
   "metadata": {},
   "outputs": [],
   "source": [
    "price_filter.click()"
   ]
  },
  {
   "cell_type": "code",
   "execution_count": 98,
   "metadata": {},
   "outputs": [],
   "source": [
    "# create a variable\n",
    "browser = driver.find_elements_by_xpath"
   ]
  },
  {
   "cell_type": "code",
   "execution_count": 104,
   "metadata": {},
   "outputs": [
    {
     "data": {
      "text/plain": [
       "[<selenium.webdriver.remote.webelement.WebElement (session=\"adc335f496c8653f617d47832aef561e\", element=\"f67cf8c5-6dfa-4c88-bed0-a326efd4f45c\")>,\n",
       " <selenium.webdriver.remote.webelement.WebElement (session=\"adc335f496c8653f617d47832aef561e\", element=\"b59f9a22-e2f5-41da-bc47-31045f651738\")>,\n",
       " <selenium.webdriver.remote.webelement.WebElement (session=\"adc335f496c8653f617d47832aef561e\", element=\"8efa34a0-ffdd-48b3-85dc-2f354cb4b2e4\")>,\n",
       " <selenium.webdriver.remote.webelement.WebElement (session=\"adc335f496c8653f617d47832aef561e\", element=\"6b00dc70-5e99-44c3-9d52-a6fd7f068b27\")>,\n",
       " <selenium.webdriver.remote.webelement.WebElement (session=\"adc335f496c8653f617d47832aef561e\", element=\"d1759e2a-0124-4b96-b6b3-cd904baa1189\")>,\n",
       " <selenium.webdriver.remote.webelement.WebElement (session=\"adc335f496c8653f617d47832aef561e\", element=\"9cab2b7d-7f47-4f9a-a5d7-b4691197dc2e\")>,\n",
       " <selenium.webdriver.remote.webelement.WebElement (session=\"adc335f496c8653f617d47832aef561e\", element=\"953a6077-2ae1-408f-a902-f302e2b17746\")>,\n",
       " <selenium.webdriver.remote.webelement.WebElement (session=\"adc335f496c8653f617d47832aef561e\", element=\"782212e3-b931-402e-980f-1b67760258a2\")>,\n",
       " <selenium.webdriver.remote.webelement.WebElement (session=\"adc335f496c8653f617d47832aef561e\", element=\"a95b2a3c-cc0c-45de-a171-9049d20d9b43\")>,\n",
       " <selenium.webdriver.remote.webelement.WebElement (session=\"adc335f496c8653f617d47832aef561e\", element=\"395e0790-55d0-4a83-8c21-63286cdd483e\")>,\n",
       " <selenium.webdriver.remote.webelement.WebElement (session=\"adc335f496c8653f617d47832aef561e\", element=\"ef5e08f2-8152-4b17-a7b6-bcaa8e70538b\")>,\n",
       " <selenium.webdriver.remote.webelement.WebElement (session=\"adc335f496c8653f617d47832aef561e\", element=\"d1703c6e-36c7-4183-a113-82d4d4054fb0\")>,\n",
       " <selenium.webdriver.remote.webelement.WebElement (session=\"adc335f496c8653f617d47832aef561e\", element=\"6e7b4be8-7fbd-48f3-82af-d58fbac33a69\")>,\n",
       " <selenium.webdriver.remote.webelement.WebElement (session=\"adc335f496c8653f617d47832aef561e\", element=\"a9745223-d2b4-4486-85f9-49adbf40523d\")>,\n",
       " <selenium.webdriver.remote.webelement.WebElement (session=\"adc335f496c8653f617d47832aef561e\", element=\"d6e256d6-6781-4cec-badb-fa51030f22da\")>,\n",
       " <selenium.webdriver.remote.webelement.WebElement (session=\"adc335f496c8653f617d47832aef561e\", element=\"e479e801-08a3-438f-bd7f-9e0c74db5b2d\")>,\n",
       " <selenium.webdriver.remote.webelement.WebElement (session=\"adc335f496c8653f617d47832aef561e\", element=\"b36d4617-26ed-4d77-8f03-3de9ac6e28d7\")>,\n",
       " <selenium.webdriver.remote.webelement.WebElement (session=\"adc335f496c8653f617d47832aef561e\", element=\"86ec03b3-1774-440a-ab6c-533254fa4961\")>,\n",
       " <selenium.webdriver.remote.webelement.WebElement (session=\"adc335f496c8653f617d47832aef561e\", element=\"71d646ab-18c5-4510-a0b1-54abddb76035\")>,\n",
       " <selenium.webdriver.remote.webelement.WebElement (session=\"adc335f496c8653f617d47832aef561e\", element=\"4b23ff7d-3514-4b6a-9369-8a17eb45ad34\")>,\n",
       " <selenium.webdriver.remote.webelement.WebElement (session=\"adc335f496c8653f617d47832aef561e\", element=\"dd5912b8-af89-4e63-8665-a209c3f64b66\")>,\n",
       " <selenium.webdriver.remote.webelement.WebElement (session=\"adc335f496c8653f617d47832aef561e\", element=\"da5afaba-3845-4425-9dd1-b6725d05e9ab\")>,\n",
       " <selenium.webdriver.remote.webelement.WebElement (session=\"adc335f496c8653f617d47832aef561e\", element=\"df18622f-f7a3-41aa-babb-10eeab7e211e\")>,\n",
       " <selenium.webdriver.remote.webelement.WebElement (session=\"adc335f496c8653f617d47832aef561e\", element=\"87c48c20-eb1e-4b6c-ae15-9786df34a4c4\")>,\n",
       " <selenium.webdriver.remote.webelement.WebElement (session=\"adc335f496c8653f617d47832aef561e\", element=\"d5c45497-abfb-4d85-86d3-48865c31b4d3\")>,\n",
       " <selenium.webdriver.remote.webelement.WebElement (session=\"adc335f496c8653f617d47832aef561e\", element=\"52154a17-36eb-43c0-9474-5bb77dd886c8\")>,\n",
       " <selenium.webdriver.remote.webelement.WebElement (session=\"adc335f496c8653f617d47832aef561e\", element=\"8ff7001d-6c6d-4481-b49c-6381ff843917\")>,\n",
       " <selenium.webdriver.remote.webelement.WebElement (session=\"adc335f496c8653f617d47832aef561e\", element=\"24247caf-4f17-45e0-87b8-a96ff65393d6\")>,\n",
       " <selenium.webdriver.remote.webelement.WebElement (session=\"adc335f496c8653f617d47832aef561e\", element=\"2522b707-79de-4a24-a852-d52f6324d7ff\")>,\n",
       " <selenium.webdriver.remote.webelement.WebElement (session=\"adc335f496c8653f617d47832aef561e\", element=\"adee3f96-25a3-4205-8b89-e13fad62cbf0\")>,\n",
       " <selenium.webdriver.remote.webelement.WebElement (session=\"adc335f496c8653f617d47832aef561e\", element=\"fc5965dd-b05e-4c2f-97b1-e9147219ad44\")>,\n",
       " <selenium.webdriver.remote.webelement.WebElement (session=\"adc335f496c8653f617d47832aef561e\", element=\"577b4e0e-1042-4b3d-a9d3-e3d0abba6964\")>,\n",
       " <selenium.webdriver.remote.webelement.WebElement (session=\"adc335f496c8653f617d47832aef561e\", element=\"eb20248f-36bc-4150-8ec4-d2e2579f522d\")>,\n",
       " <selenium.webdriver.remote.webelement.WebElement (session=\"adc335f496c8653f617d47832aef561e\", element=\"88458563-608c-4048-a873-ca9e71cf5c28\")>,\n",
       " <selenium.webdriver.remote.webelement.WebElement (session=\"adc335f496c8653f617d47832aef561e\", element=\"07d74288-0cd8-4f9a-ab52-0d85f2dc47e7\")>,\n",
       " <selenium.webdriver.remote.webelement.WebElement (session=\"adc335f496c8653f617d47832aef561e\", element=\"34995907-62a9-49c3-bfa4-84748892a99e\")>,\n",
       " <selenium.webdriver.remote.webelement.WebElement (session=\"adc335f496c8653f617d47832aef561e\", element=\"c859631e-5452-404c-b308-52182549b71e\")>,\n",
       " <selenium.webdriver.remote.webelement.WebElement (session=\"adc335f496c8653f617d47832aef561e\", element=\"2d70f7d4-b127-43d1-878e-bf8def1db2a4\")>,\n",
       " <selenium.webdriver.remote.webelement.WebElement (session=\"adc335f496c8653f617d47832aef561e\", element=\"a9008c9f-730f-4780-862a-a75eb60ae635\")>,\n",
       " <selenium.webdriver.remote.webelement.WebElement (session=\"adc335f496c8653f617d47832aef561e\", element=\"08662cde-a412-42c4-aa71-7fd91994bc86\")>,\n",
       " <selenium.webdriver.remote.webelement.WebElement (session=\"adc335f496c8653f617d47832aef561e\", element=\"11f8b12e-8a89-4fb3-b0a4-b5b2f71988d6\")>,\n",
       " <selenium.webdriver.remote.webelement.WebElement (session=\"adc335f496c8653f617d47832aef561e\", element=\"365078e1-bc38-4dd2-8574-09053df1b887\")>,\n",
       " <selenium.webdriver.remote.webelement.WebElement (session=\"adc335f496c8653f617d47832aef561e\", element=\"4b936c98-c8bc-4b9c-b5d4-65f9b34ef4a6\")>,\n",
       " <selenium.webdriver.remote.webelement.WebElement (session=\"adc335f496c8653f617d47832aef561e\", element=\"0c442018-7564-4514-af86-d4cb707ce215\")>,\n",
       " <selenium.webdriver.remote.webelement.WebElement (session=\"adc335f496c8653f617d47832aef561e\", element=\"a8715169-e018-4096-994f-a1cebc5c98b4\")>,\n",
       " <selenium.webdriver.remote.webelement.WebElement (session=\"adc335f496c8653f617d47832aef561e\", element=\"c8a24f75-8feb-4000-b354-22389464e379\")>,\n",
       " <selenium.webdriver.remote.webelement.WebElement (session=\"adc335f496c8653f617d47832aef561e\", element=\"ea444c63-45d7-4058-80c6-e2fc1831267a\")>,\n",
       " <selenium.webdriver.remote.webelement.WebElement (session=\"adc335f496c8653f617d47832aef561e\", element=\"a4df17ce-8fb4-4bcb-b831-8e64ab5ea66f\")>,\n",
       " <selenium.webdriver.remote.webelement.WebElement (session=\"adc335f496c8653f617d47832aef561e\", element=\"fa8ccae7-5de8-47d6-8cc3-94828d22075e\")>,\n",
       " <selenium.webdriver.remote.webelement.WebElement (session=\"adc335f496c8653f617d47832aef561e\", element=\"940219ef-4407-4b12-ae36-175cf70664dc\")>]"
      ]
     },
     "execution_count": 104,
     "metadata": {},
     "output_type": "execute_result"
    }
   ],
   "source": [
    "b1 = browser(\"//h3[@class = 'product-brand']\")\n",
    "b1"
   ]
  },
  {
   "cell_type": "code",
   "execution_count": 105,
   "metadata": {},
   "outputs": [
    {
     "data": {
      "text/plain": [
       "['Nike',\n",
       " 'Red Tape',\n",
       " 'Red Tape',\n",
       " 'MENGLER',\n",
       " 'Nike',\n",
       " 'Eego Italy',\n",
       " 'ZAPATOZ',\n",
       " 'HRX by Hrithik Roshan',\n",
       " 'Roadster',\n",
       " 'DressBerry',\n",
       " 'House of Pataudi',\n",
       " 'Sparx',\n",
       " 'Mast & Harbour',\n",
       " 'HRX by Hrithik Roshan',\n",
       " 'Nike',\n",
       " 'Allen Cooper',\n",
       " 'H&M',\n",
       " 'Nike',\n",
       " 'Provogue',\n",
       " 'Puma',\n",
       " 'Provogue',\n",
       " 'HRX by Hrithik Roshan',\n",
       " 'DressBerry',\n",
       " 'one8 x PUMA',\n",
       " 'FAST TRAX',\n",
       " 'HRX by Hrithik Roshan',\n",
       " 'Nike',\n",
       " 'ELIXIR MAN',\n",
       " 'Shezone',\n",
       " 'mr.wonker',\n",
       " 'TimberWood',\n",
       " 'Nike',\n",
       " 'Puma',\n",
       " 'HRX by Hrithik Roshan',\n",
       " 'Roadster',\n",
       " 'Skechers',\n",
       " 'hummel',\n",
       " 'Skechers',\n",
       " 'H&M',\n",
       " 'Catwalk',\n",
       " 'HRX by Hrithik Roshan',\n",
       " 'Puma',\n",
       " 'Action',\n",
       " 'ASICS',\n",
       " 'U.S. Polo Assn.',\n",
       " 'HRX by Hrithik Roshan',\n",
       " 'HRX by Hrithik Roshan',\n",
       " 'Crew STREET',\n",
       " 'U.S. Polo Assn.',\n",
       " 'H&M']"
      ]
     },
     "execution_count": 105,
     "metadata": {},
     "output_type": "execute_result"
    }
   ],
   "source": [
    "brand1 = []\n",
    "for i in b1:\n",
    "    brand1.append(i.text)\n",
    "brand1"
   ]
  },
  {
   "cell_type": "code",
   "execution_count": 106,
   "metadata": {},
   "outputs": [
    {
     "data": {
      "text/plain": [
       "50"
      ]
     },
     "execution_count": 106,
     "metadata": {},
     "output_type": "execute_result"
    }
   ],
   "source": [
    "len(brand1)"
   ]
  },
  {
   "cell_type": "code",
   "execution_count": 107,
   "metadata": {},
   "outputs": [
    {
     "data": {
      "text/plain": [
       "[<selenium.webdriver.remote.webelement.WebElement (session=\"adc335f496c8653f617d47832aef561e\", element=\"b1e9a5de-d5db-4cf9-8b69-600d37e9c690\")>,\n",
       " <selenium.webdriver.remote.webelement.WebElement (session=\"adc335f496c8653f617d47832aef561e\", element=\"c2132403-8c5a-45d7-b15f-67c5ab71914c\")>,\n",
       " <selenium.webdriver.remote.webelement.WebElement (session=\"adc335f496c8653f617d47832aef561e\", element=\"5df37379-1b94-48e6-a8b7-6d5424721798\")>,\n",
       " <selenium.webdriver.remote.webelement.WebElement (session=\"adc335f496c8653f617d47832aef561e\", element=\"533c3819-7ba8-40d0-b18d-a7a875ff5b10\")>,\n",
       " <selenium.webdriver.remote.webelement.WebElement (session=\"adc335f496c8653f617d47832aef561e\", element=\"ffff1e0f-a9a1-4fa3-8e7b-e83498ed71b7\")>,\n",
       " <selenium.webdriver.remote.webelement.WebElement (session=\"adc335f496c8653f617d47832aef561e\", element=\"4e844baa-7e5b-49dd-aff1-41a6c394602c\")>,\n",
       " <selenium.webdriver.remote.webelement.WebElement (session=\"adc335f496c8653f617d47832aef561e\", element=\"1e4b423b-481b-4e8e-a106-3febc2a5f364\")>,\n",
       " <selenium.webdriver.remote.webelement.WebElement (session=\"adc335f496c8653f617d47832aef561e\", element=\"d9ccf5fe-38a7-4d54-a5c5-fc8b12499825\")>,\n",
       " <selenium.webdriver.remote.webelement.WebElement (session=\"adc335f496c8653f617d47832aef561e\", element=\"d1e7f44f-539b-4a98-85d1-ef7b730eb387\")>,\n",
       " <selenium.webdriver.remote.webelement.WebElement (session=\"adc335f496c8653f617d47832aef561e\", element=\"4805e991-ac21-4189-9c3f-cb57123b04e8\")>,\n",
       " <selenium.webdriver.remote.webelement.WebElement (session=\"adc335f496c8653f617d47832aef561e\", element=\"1dff8702-7ad2-48e2-aa71-65a2f8dea1f5\")>,\n",
       " <selenium.webdriver.remote.webelement.WebElement (session=\"adc335f496c8653f617d47832aef561e\", element=\"dff301b3-f86c-4565-81ce-f8aa953d7dd5\")>,\n",
       " <selenium.webdriver.remote.webelement.WebElement (session=\"adc335f496c8653f617d47832aef561e\", element=\"da8bf4c7-2e6d-41eb-b086-82c67f6298fa\")>,\n",
       " <selenium.webdriver.remote.webelement.WebElement (session=\"adc335f496c8653f617d47832aef561e\", element=\"7bb63597-f48c-485e-a280-710af810994a\")>,\n",
       " <selenium.webdriver.remote.webelement.WebElement (session=\"adc335f496c8653f617d47832aef561e\", element=\"3abd97d4-3c49-436c-9d22-0e83c844473b\")>,\n",
       " <selenium.webdriver.remote.webelement.WebElement (session=\"adc335f496c8653f617d47832aef561e\", element=\"dc061edf-054f-4be6-b5bd-869868ef95d1\")>,\n",
       " <selenium.webdriver.remote.webelement.WebElement (session=\"adc335f496c8653f617d47832aef561e\", element=\"503e86c0-9c0c-48b8-8511-25499bc25915\")>,\n",
       " <selenium.webdriver.remote.webelement.WebElement (session=\"adc335f496c8653f617d47832aef561e\", element=\"31414642-c778-4fa2-a72a-276d32b4a5bf\")>,\n",
       " <selenium.webdriver.remote.webelement.WebElement (session=\"adc335f496c8653f617d47832aef561e\", element=\"035fce95-ecb3-44dd-8bbd-68e1f99d3041\")>,\n",
       " <selenium.webdriver.remote.webelement.WebElement (session=\"adc335f496c8653f617d47832aef561e\", element=\"62cbd211-9b09-411d-8828-8fde30011dd3\")>,\n",
       " <selenium.webdriver.remote.webelement.WebElement (session=\"adc335f496c8653f617d47832aef561e\", element=\"16d66c94-c88f-4d22-9a46-75494477fc9f\")>,\n",
       " <selenium.webdriver.remote.webelement.WebElement (session=\"adc335f496c8653f617d47832aef561e\", element=\"0ceabfb8-559f-4149-913c-fe8b6a1c552b\")>,\n",
       " <selenium.webdriver.remote.webelement.WebElement (session=\"adc335f496c8653f617d47832aef561e\", element=\"32f00258-683c-4c49-9608-dc4db4e54b12\")>,\n",
       " <selenium.webdriver.remote.webelement.WebElement (session=\"adc335f496c8653f617d47832aef561e\", element=\"f502d511-6d76-4a06-b8ba-efb372948c8f\")>,\n",
       " <selenium.webdriver.remote.webelement.WebElement (session=\"adc335f496c8653f617d47832aef561e\", element=\"97641029-f50a-4ca2-a2a5-95526dc696eb\")>,\n",
       " <selenium.webdriver.remote.webelement.WebElement (session=\"adc335f496c8653f617d47832aef561e\", element=\"d39e8296-4bfd-4bcd-beb9-b0febcfb9cbf\")>,\n",
       " <selenium.webdriver.remote.webelement.WebElement (session=\"adc335f496c8653f617d47832aef561e\", element=\"d2050edc-4edc-492e-a504-426a85e1b888\")>,\n",
       " <selenium.webdriver.remote.webelement.WebElement (session=\"adc335f496c8653f617d47832aef561e\", element=\"bb1d5f76-8af6-4549-900c-ebdfb1701028\")>,\n",
       " <selenium.webdriver.remote.webelement.WebElement (session=\"adc335f496c8653f617d47832aef561e\", element=\"afe6ef31-5f8f-4847-a821-e94e9ca8390d\")>,\n",
       " <selenium.webdriver.remote.webelement.WebElement (session=\"adc335f496c8653f617d47832aef561e\", element=\"d957f262-316d-46c5-9bf2-fdc5366eb72e\")>,\n",
       " <selenium.webdriver.remote.webelement.WebElement (session=\"adc335f496c8653f617d47832aef561e\", element=\"d28d76ad-5ee9-4c2f-83e8-2b408772e499\")>,\n",
       " <selenium.webdriver.remote.webelement.WebElement (session=\"adc335f496c8653f617d47832aef561e\", element=\"f8bc9fac-ed8a-4037-b81e-5d2c2f5667f0\")>,\n",
       " <selenium.webdriver.remote.webelement.WebElement (session=\"adc335f496c8653f617d47832aef561e\", element=\"8c89ecc4-6d95-4e7f-855c-6845a8cb41f7\")>,\n",
       " <selenium.webdriver.remote.webelement.WebElement (session=\"adc335f496c8653f617d47832aef561e\", element=\"7814426f-5b0b-4503-b817-f7ee19594d51\")>,\n",
       " <selenium.webdriver.remote.webelement.WebElement (session=\"adc335f496c8653f617d47832aef561e\", element=\"05f57572-252d-40af-8547-eb971af0bdd3\")>,\n",
       " <selenium.webdriver.remote.webelement.WebElement (session=\"adc335f496c8653f617d47832aef561e\", element=\"69558325-257f-43ca-bd04-6c5c92dcd7d3\")>,\n",
       " <selenium.webdriver.remote.webelement.WebElement (session=\"adc335f496c8653f617d47832aef561e\", element=\"92e58b68-7734-4d6d-9c52-a2594c545f33\")>,\n",
       " <selenium.webdriver.remote.webelement.WebElement (session=\"adc335f496c8653f617d47832aef561e\", element=\"1a1c7031-f37a-4218-a0d8-640f89095645\")>,\n",
       " <selenium.webdriver.remote.webelement.WebElement (session=\"adc335f496c8653f617d47832aef561e\", element=\"04c67801-603a-48d8-babf-69cbc3825a1b\")>,\n",
       " <selenium.webdriver.remote.webelement.WebElement (session=\"adc335f496c8653f617d47832aef561e\", element=\"42a5830f-59c9-44a6-9093-308ed85711a8\")>,\n",
       " <selenium.webdriver.remote.webelement.WebElement (session=\"adc335f496c8653f617d47832aef561e\", element=\"33071e8c-68ca-4fe8-b760-d248b93990c1\")>,\n",
       " <selenium.webdriver.remote.webelement.WebElement (session=\"adc335f496c8653f617d47832aef561e\", element=\"f4bfdb81-157c-458a-9682-02ab7e6f7bd6\")>,\n",
       " <selenium.webdriver.remote.webelement.WebElement (session=\"adc335f496c8653f617d47832aef561e\", element=\"b1cf62ef-b21b-4f81-9a46-f4a2ba14aee9\")>,\n",
       " <selenium.webdriver.remote.webelement.WebElement (session=\"adc335f496c8653f617d47832aef561e\", element=\"1e118a34-cfb7-4f4f-989b-7fa51d487d85\")>,\n",
       " <selenium.webdriver.remote.webelement.WebElement (session=\"adc335f496c8653f617d47832aef561e\", element=\"17a13c77-6561-40e2-8801-435746639218\")>,\n",
       " <selenium.webdriver.remote.webelement.WebElement (session=\"adc335f496c8653f617d47832aef561e\", element=\"76cb19bc-c653-41b2-a108-78e86beb401d\")>,\n",
       " <selenium.webdriver.remote.webelement.WebElement (session=\"adc335f496c8653f617d47832aef561e\", element=\"687fa61f-976b-4bcb-a913-35f6256ee915\")>,\n",
       " <selenium.webdriver.remote.webelement.WebElement (session=\"adc335f496c8653f617d47832aef561e\", element=\"a2e3856c-2379-4e0c-89ba-cd157caef4b3\")>,\n",
       " <selenium.webdriver.remote.webelement.WebElement (session=\"adc335f496c8653f617d47832aef561e\", element=\"4ce6d95f-b63c-4b09-9bd0-3bdbf817ed1e\")>,\n",
       " <selenium.webdriver.remote.webelement.WebElement (session=\"adc335f496c8653f617d47832aef561e\", element=\"ac518659-0b98-407b-b990-62563013fc70\")>]"
      ]
     },
     "execution_count": 107,
     "metadata": {},
     "output_type": "execute_result"
    }
   ],
   "source": [
    "sd1 = browser(\"//h4[@class = 'product-product']\")\n",
    "sd1"
   ]
  },
  {
   "cell_type": "code",
   "execution_count": 109,
   "metadata": {},
   "outputs": [
    {
     "data": {
      "text/plain": [
       "['Men FLEX EXPERIENCE RN Shoes',\n",
       " 'Men Walking Shoes',\n",
       " 'Men Sneakers',\n",
       " 'Men Walking Shoes',\n",
       " 'Men SPEEDREP Training Shoes',\n",
       " 'Men Trekking Shoes',\n",
       " 'Women Heeled Boots',\n",
       " 'Men Atom Running Shoe',\n",
       " 'Men Slip-On Sneakers',\n",
       " 'Suede Finish Formal Pumps',\n",
       " 'Men Handcrafted Loafers',\n",
       " 'Men Running Shoes',\n",
       " 'Men Slip-On Sneakers',\n",
       " 'Men Knit Run 1.2 Running Shoes',\n",
       " 'Men Flex 2021 Running Shoes',\n",
       " 'Men Solid Running Shoes',\n",
       " 'Square-Toe Sandals',\n",
       " 'Men Renew Retaliation TR 3',\n",
       " 'Men Solid Horsebit Loafers',\n",
       " 'Sneakers',\n",
       " 'Men Solid Formal Loafers',\n",
       " 'Women Chunky Sneakers',\n",
       " 'Solid Loafers with Knot Detail',\n",
       " 'Men Dart IDP Sneakers',\n",
       " 'Men Slip On Sneakers',\n",
       " 'Men Woven Design Runner Shoes',\n",
       " 'Men City Rep Training Shoes',\n",
       " 'Men Sneakers',\n",
       " 'Women Animal Print Ballerinas',\n",
       " 'Men Running Shoes',\n",
       " 'Women Walking Shoes',\n",
       " 'Men Flex Run 2021 Running Shoe',\n",
       " 'Men Running Shoes',\n",
       " 'Women Running Shoes',\n",
       " 'Men Woven Design Sneakers',\n",
       " 'Men GO WALK 4-REMARKABLE Shoes',\n",
       " 'Unisex Black Sports Shoes',\n",
       " 'Men FLEX Slip-On Sneakers',\n",
       " 'Mens Trainers',\n",
       " 'Women Heeled Boots',\n",
       " 'Men FlexStreet Athleisure Shoe',\n",
       " 'Men Flexracer 20 IDP Running Shoes',\n",
       " 'Men Mesh Running Shoes',\n",
       " 'Pre Contend 4 Ps Running Shoes',\n",
       " 'Men TERRI Slip-On Sneakers',\n",
       " 'Men Front Runner Shoe',\n",
       " 'Men Chunky Sneaker',\n",
       " 'Women Running Shoes',\n",
       " 'Men LEBRON 2.0 Walking Shoes',\n",
       " 'Men Slip-on Trainers']"
      ]
     },
     "execution_count": 109,
     "metadata": {},
     "output_type": "execute_result"
    }
   ],
   "source": [
    "description1 = []\n",
    "for i in sd1:\n",
    "    description1.append(i.text)\n",
    "description1"
   ]
  },
  {
   "cell_type": "code",
   "execution_count": 110,
   "metadata": {},
   "outputs": [
    {
     "data": {
      "text/plain": [
       "50"
      ]
     },
     "execution_count": 110,
     "metadata": {},
     "output_type": "execute_result"
    }
   ],
   "source": [
    "len(description1)"
   ]
  },
  {
   "cell_type": "code",
   "execution_count": 115,
   "metadata": {},
   "outputs": [
    {
     "data": {
      "text/plain": [
       "[<selenium.webdriver.remote.webelement.WebElement (session=\"adc335f496c8653f617d47832aef561e\", element=\"0722f59c-13b0-4e4f-8fb8-76face414e61\")>,\n",
       " <selenium.webdriver.remote.webelement.WebElement (session=\"adc335f496c8653f617d47832aef561e\", element=\"7c760f9c-56f4-45b6-9fcd-85fdf7b2c8df\")>,\n",
       " <selenium.webdriver.remote.webelement.WebElement (session=\"adc335f496c8653f617d47832aef561e\", element=\"e5476099-5c3b-4eba-86c2-28b8350a0512\")>,\n",
       " <selenium.webdriver.remote.webelement.WebElement (session=\"adc335f496c8653f617d47832aef561e\", element=\"6efb77d9-0554-410b-b60e-17220c9d7f38\")>,\n",
       " <selenium.webdriver.remote.webelement.WebElement (session=\"adc335f496c8653f617d47832aef561e\", element=\"70f74588-00e3-4c4e-974c-add4718f02e3\")>,\n",
       " <selenium.webdriver.remote.webelement.WebElement (session=\"adc335f496c8653f617d47832aef561e\", element=\"811bb8da-c454-4605-b3d4-83c44f8f7063\")>,\n",
       " <selenium.webdriver.remote.webelement.WebElement (session=\"adc335f496c8653f617d47832aef561e\", element=\"ddece85b-cdb0-4333-9dbd-01c4f029d952\")>,\n",
       " <selenium.webdriver.remote.webelement.WebElement (session=\"adc335f496c8653f617d47832aef561e\", element=\"6bbe656c-28d8-4e84-b89d-0f461d104a85\")>,\n",
       " <selenium.webdriver.remote.webelement.WebElement (session=\"adc335f496c8653f617d47832aef561e\", element=\"54653906-620b-4e8b-8df1-8e51bbfad50d\")>,\n",
       " <selenium.webdriver.remote.webelement.WebElement (session=\"adc335f496c8653f617d47832aef561e\", element=\"13bc250a-3a30-4a34-a6d2-ee74c3b187ee\")>,\n",
       " <selenium.webdriver.remote.webelement.WebElement (session=\"adc335f496c8653f617d47832aef561e\", element=\"da00d512-b8ad-4c0d-a396-af234ee219f2\")>,\n",
       " <selenium.webdriver.remote.webelement.WebElement (session=\"adc335f496c8653f617d47832aef561e\", element=\"113e3ddb-37c5-4a88-9fa1-09977fab08ec\")>,\n",
       " <selenium.webdriver.remote.webelement.WebElement (session=\"adc335f496c8653f617d47832aef561e\", element=\"b14f124f-fcbe-4049-af40-022292a5fad5\")>,\n",
       " <selenium.webdriver.remote.webelement.WebElement (session=\"adc335f496c8653f617d47832aef561e\", element=\"08ed88a1-50a9-425f-ad17-c1af6226343c\")>,\n",
       " <selenium.webdriver.remote.webelement.WebElement (session=\"adc335f496c8653f617d47832aef561e\", element=\"3e7f0a06-9f55-47d0-a26d-4a69fb94d07a\")>,\n",
       " <selenium.webdriver.remote.webelement.WebElement (session=\"adc335f496c8653f617d47832aef561e\", element=\"94833790-6c5a-4966-8926-582ce8ab8c8d\")>,\n",
       " <selenium.webdriver.remote.webelement.WebElement (session=\"adc335f496c8653f617d47832aef561e\", element=\"cb2913ec-0c43-4e9a-9248-9e03ec22d312\")>,\n",
       " <selenium.webdriver.remote.webelement.WebElement (session=\"adc335f496c8653f617d47832aef561e\", element=\"45c20794-3fa9-4c2c-a394-4e56ae5f1638\")>,\n",
       " <selenium.webdriver.remote.webelement.WebElement (session=\"adc335f496c8653f617d47832aef561e\", element=\"3d52206b-9270-46dd-b0d8-d440593c0e22\")>,\n",
       " <selenium.webdriver.remote.webelement.WebElement (session=\"adc335f496c8653f617d47832aef561e\", element=\"6ccd23a8-966d-454d-88ea-843f758a16b5\")>,\n",
       " <selenium.webdriver.remote.webelement.WebElement (session=\"adc335f496c8653f617d47832aef561e\", element=\"8745e590-e8b5-41b7-8008-9c33530a9803\")>,\n",
       " <selenium.webdriver.remote.webelement.WebElement (session=\"adc335f496c8653f617d47832aef561e\", element=\"e1782b1b-72de-4644-a0d3-8fb4470aa48b\")>,\n",
       " <selenium.webdriver.remote.webelement.WebElement (session=\"adc335f496c8653f617d47832aef561e\", element=\"a205b03c-685a-4347-9a9b-cee3675c252f\")>,\n",
       " <selenium.webdriver.remote.webelement.WebElement (session=\"adc335f496c8653f617d47832aef561e\", element=\"a650a145-f78f-4701-808e-a02e438bfa37\")>,\n",
       " <selenium.webdriver.remote.webelement.WebElement (session=\"adc335f496c8653f617d47832aef561e\", element=\"80d04166-8272-458b-b4a8-f913adb278d0\")>,\n",
       " <selenium.webdriver.remote.webelement.WebElement (session=\"adc335f496c8653f617d47832aef561e\", element=\"cb244a1a-51be-4ecd-8fe7-649cf84e4bed\")>,\n",
       " <selenium.webdriver.remote.webelement.WebElement (session=\"adc335f496c8653f617d47832aef561e\", element=\"6df09998-19c3-4c81-8f08-acd91d3e5e50\")>,\n",
       " <selenium.webdriver.remote.webelement.WebElement (session=\"adc335f496c8653f617d47832aef561e\", element=\"1c581192-2f8c-4aad-b110-2f4e9ac78ab8\")>,\n",
       " <selenium.webdriver.remote.webelement.WebElement (session=\"adc335f496c8653f617d47832aef561e\", element=\"4e8c7431-157d-4af7-852e-093569ce2c74\")>,\n",
       " <selenium.webdriver.remote.webelement.WebElement (session=\"adc335f496c8653f617d47832aef561e\", element=\"8a2b3277-321b-4a4b-85dc-973e7c255c1c\")>,\n",
       " <selenium.webdriver.remote.webelement.WebElement (session=\"adc335f496c8653f617d47832aef561e\", element=\"fd1fe62d-b753-41de-aeda-e0c6ce26a934\")>,\n",
       " <selenium.webdriver.remote.webelement.WebElement (session=\"adc335f496c8653f617d47832aef561e\", element=\"0433c622-95bf-463c-9e4a-2bc77247df86\")>,\n",
       " <selenium.webdriver.remote.webelement.WebElement (session=\"adc335f496c8653f617d47832aef561e\", element=\"807a0e21-9c74-485a-943e-1b98d297c3b2\")>,\n",
       " <selenium.webdriver.remote.webelement.WebElement (session=\"adc335f496c8653f617d47832aef561e\", element=\"021297dc-0292-4ad6-b145-6199c5ab25ea\")>,\n",
       " <selenium.webdriver.remote.webelement.WebElement (session=\"adc335f496c8653f617d47832aef561e\", element=\"6ee1ca2e-b374-4c5e-b4f7-2bfbcfe28566\")>,\n",
       " <selenium.webdriver.remote.webelement.WebElement (session=\"adc335f496c8653f617d47832aef561e\", element=\"fba758a7-b09c-448c-b25c-19e433b882a6\")>,\n",
       " <selenium.webdriver.remote.webelement.WebElement (session=\"adc335f496c8653f617d47832aef561e\", element=\"9dcda12b-27da-46f0-b926-ca2a92517a81\")>,\n",
       " <selenium.webdriver.remote.webelement.WebElement (session=\"adc335f496c8653f617d47832aef561e\", element=\"2d02acf4-a9cf-4ccb-9471-eb889e2e8454\")>,\n",
       " <selenium.webdriver.remote.webelement.WebElement (session=\"adc335f496c8653f617d47832aef561e\", element=\"269ce2d3-00ac-43de-bdfe-c33e94c40e6c\")>,\n",
       " <selenium.webdriver.remote.webelement.WebElement (session=\"adc335f496c8653f617d47832aef561e\", element=\"2e162933-b003-426e-a6ce-e3106a2f7d60\")>,\n",
       " <selenium.webdriver.remote.webelement.WebElement (session=\"adc335f496c8653f617d47832aef561e\", element=\"a8d4cae9-cc7a-46c4-8ca4-9d7ebf05f915\")>,\n",
       " <selenium.webdriver.remote.webelement.WebElement (session=\"adc335f496c8653f617d47832aef561e\", element=\"579d0ab9-d784-4157-a180-3fc11803f3f5\")>,\n",
       " <selenium.webdriver.remote.webelement.WebElement (session=\"adc335f496c8653f617d47832aef561e\", element=\"fe76b362-39b3-45a6-80b1-a235c33c5b94\")>,\n",
       " <selenium.webdriver.remote.webelement.WebElement (session=\"adc335f496c8653f617d47832aef561e\", element=\"070aa6ce-abd4-4429-a4c3-a6fe05266f5a\")>,\n",
       " <selenium.webdriver.remote.webelement.WebElement (session=\"adc335f496c8653f617d47832aef561e\", element=\"d1d3f0f2-e533-495d-b028-285adf1381c0\")>,\n",
       " <selenium.webdriver.remote.webelement.WebElement (session=\"adc335f496c8653f617d47832aef561e\", element=\"90b471f7-2be5-471b-86de-d6367c3c37fc\")>,\n",
       " <selenium.webdriver.remote.webelement.WebElement (session=\"adc335f496c8653f617d47832aef561e\", element=\"79648df2-c6d8-47fe-a1ed-1184c714df3a\")>,\n",
       " <selenium.webdriver.remote.webelement.WebElement (session=\"adc335f496c8653f617d47832aef561e\", element=\"cf8e985a-0583-4d58-9f2f-7346eb2a6252\")>,\n",
       " <selenium.webdriver.remote.webelement.WebElement (session=\"adc335f496c8653f617d47832aef561e\", element=\"ed890aa1-f63c-4fe6-8eaf-c561a63670b3\")>,\n",
       " <selenium.webdriver.remote.webelement.WebElement (session=\"adc335f496c8653f617d47832aef561e\", element=\"4646ccbe-68fc-46c7-bf2b-416778167b71\")>]"
      ]
     },
     "execution_count": 115,
     "metadata": {},
     "output_type": "execute_result"
    }
   ],
   "source": [
    "p1 = browser(\"//div[@class = 'product-price']\")\n",
    "p1"
   ]
  },
  {
   "cell_type": "code",
   "execution_count": 116,
   "metadata": {},
   "outputs": [
    {
     "data": {
      "text/plain": [
       "['Rs. 4995',\n",
       " 'Rs. 1224Rs. 4899(75% OFF)',\n",
       " 'Rs. 1049Rs. 4599(Rs. 3550 OFF)',\n",
       " 'Rs. 649Rs. 2499(74% OFF)',\n",
       " 'Rs. 5036Rs. 7195(30% OFF)',\n",
       " 'Rs. 899Rs. 2599(Rs. 1700 OFF)',\n",
       " 'Rs. 699Rs. 999(30% OFF)',\n",
       " 'Rs. 2699Rs. 4499(40% OFF)',\n",
       " 'Rs. 999Rs. 1999(50% OFF)',\n",
       " 'Rs. 1749Rs. 3499(50% OFF)',\n",
       " 'Rs. 3224Rs. 4299(25% OFF)',\n",
       " 'Rs. 986Rs. 1049(6% OFF)',\n",
       " 'Rs. 1043Rs. 2899(64% OFF)',\n",
       " 'Rs. 1399Rs. 3499(60% OFF)',\n",
       " 'Rs. 6795',\n",
       " 'Rs. 1288Rs. 4295(70% OFF)',\n",
       " 'Rs. 1999',\n",
       " 'Rs. 5995',\n",
       " 'Rs. 849Rs. 3699(Rs. 2850 OFF)',\n",
       " 'Rs. 1749Rs. 3499(50% OFF)',\n",
       " 'Rs. 849Rs. 3699(Rs. 2850 OFF)',\n",
       " 'Rs. 1574Rs. 4499(65% OFF)',\n",
       " 'Rs. 854Rs. 1899(55% OFF)',\n",
       " 'Rs. 2599Rs. 3999(35% OFF)',\n",
       " 'Rs. 699Rs. 1499(Rs. 800 OFF)',\n",
       " 'Rs. 1319Rs. 3299(60% OFF)',\n",
       " 'Rs. 4995',\n",
       " 'Rs. 519Rs. 1999(74% OFF)',\n",
       " 'Rs. 699Rs. 999(30% OFF)',\n",
       " 'Rs. 624Rs. 2499(75% OFF)',\n",
       " 'Rs. 599Rs. 999(40% OFF)',\n",
       " 'Rs. 6795',\n",
       " 'Rs. 3299Rs. 5499(40% OFF)',\n",
       " 'Rs. 1399Rs. 3999(65% OFF)',\n",
       " 'Rs. 1259Rs. 3599(65% OFF)',\n",
       " 'Rs. 5499',\n",
       " 'Rs. 3749Rs. 4999(25% OFF)',\n",
       " 'Rs. 4999',\n",
       " 'Rs. 2299',\n",
       " 'Rs. 1836Rs. 2295(20% OFF)',\n",
       " 'Rs. 2449Rs. 4899(50% OFF)',\n",
       " 'Rs. 1949Rs. 2999(35% OFF)',\n",
       " 'Rs. 1234Rs. 1299(5% OFF)',\n",
       " 'Rs. 689Rs. 2999(77% OFF)',\n",
       " 'Rs. 2399Rs. 3999(40% OFF)',\n",
       " 'Rs. 1319Rs. 3299(60% OFF)',\n",
       " 'Rs. 1919Rs. 4799(60% OFF)',\n",
       " 'Rs. 1035Rs. 2799(63% OFF)',\n",
       " 'Rs. 2399Rs. 3999(40% OFF)',\n",
       " 'Rs. 1499']"
      ]
     },
     "execution_count": 116,
     "metadata": {},
     "output_type": "execute_result"
    }
   ],
   "source": [
    "price1 = []\n",
    "for i in p1:\n",
    "    price1.append(i.text)\n",
    "price1"
   ]
  },
  {
   "cell_type": "code",
   "execution_count": 117,
   "metadata": {},
   "outputs": [
    {
     "data": {
      "text/plain": [
       "50"
      ]
     },
     "execution_count": 117,
     "metadata": {},
     "output_type": "execute_result"
    }
   ],
   "source": [
    "len(price1)"
   ]
  },
  {
   "cell_type": "code",
   "execution_count": 118,
   "metadata": {},
   "outputs": [
    {
     "data": {
      "text/plain": [
       "<selenium.webdriver.remote.webelement.WebElement (session=\"adc335f496c8653f617d47832aef561e\", element=\"e9c2b8eb-d66f-4b2d-825f-d1d3d7e25732\")>"
      ]
     },
     "execution_count": 118,
     "metadata": {},
     "output_type": "execute_result"
    }
   ],
   "source": [
    "next1 = driver.find_element_by_xpath(\"//li[@class = 'pagination-next']\")\n",
    "next1"
   ]
  },
  {
   "cell_type": "code",
   "execution_count": 120,
   "metadata": {},
   "outputs": [],
   "source": [
    "next1.click()"
   ]
  },
  {
   "cell_type": "code",
   "execution_count": 121,
   "metadata": {},
   "outputs": [
    {
     "data": {
      "text/plain": [
       "[<selenium.webdriver.remote.webelement.WebElement (session=\"adc335f496c8653f617d47832aef561e\", element=\"138a6a34-963c-4025-bd27-23f933ae6816\")>,\n",
       " <selenium.webdriver.remote.webelement.WebElement (session=\"adc335f496c8653f617d47832aef561e\", element=\"b2fb152a-c756-440c-8e62-2bef7679f66a\")>,\n",
       " <selenium.webdriver.remote.webelement.WebElement (session=\"adc335f496c8653f617d47832aef561e\", element=\"2f4590f2-c54b-4079-9daf-0090f3db991a\")>,\n",
       " <selenium.webdriver.remote.webelement.WebElement (session=\"adc335f496c8653f617d47832aef561e\", element=\"44a321a6-75d9-4bf3-8305-3cf5f94d06e8\")>,\n",
       " <selenium.webdriver.remote.webelement.WebElement (session=\"adc335f496c8653f617d47832aef561e\", element=\"6dda8ef5-3cef-4d09-919c-d799743628ee\")>,\n",
       " <selenium.webdriver.remote.webelement.WebElement (session=\"adc335f496c8653f617d47832aef561e\", element=\"a01dc7a2-b763-4d73-8105-43a7ba568ed7\")>,\n",
       " <selenium.webdriver.remote.webelement.WebElement (session=\"adc335f496c8653f617d47832aef561e\", element=\"ea93323c-6e09-44ac-8203-8f3e1889f76a\")>,\n",
       " <selenium.webdriver.remote.webelement.WebElement (session=\"adc335f496c8653f617d47832aef561e\", element=\"e6c1d32a-da41-4623-9ed4-5512dcb1bcc2\")>,\n",
       " <selenium.webdriver.remote.webelement.WebElement (session=\"adc335f496c8653f617d47832aef561e\", element=\"d5e3659e-60c3-4b56-82c2-6ae4886c4304\")>,\n",
       " <selenium.webdriver.remote.webelement.WebElement (session=\"adc335f496c8653f617d47832aef561e\", element=\"a9774ea9-9e03-4558-95f7-ff63f319ffaf\")>,\n",
       " <selenium.webdriver.remote.webelement.WebElement (session=\"adc335f496c8653f617d47832aef561e\", element=\"dcd42725-2ec9-414f-8e85-da5121c030a4\")>,\n",
       " <selenium.webdriver.remote.webelement.WebElement (session=\"adc335f496c8653f617d47832aef561e\", element=\"953a6077-2ae1-408f-a902-f302e2b17746\")>,\n",
       " <selenium.webdriver.remote.webelement.WebElement (session=\"adc335f496c8653f617d47832aef561e\", element=\"42473aa0-894f-4e89-8b83-07bb590c072b\")>,\n",
       " <selenium.webdriver.remote.webelement.WebElement (session=\"adc335f496c8653f617d47832aef561e\", element=\"3cca8acb-e26b-4ca8-92ef-1eefddd53044\")>,\n",
       " <selenium.webdriver.remote.webelement.WebElement (session=\"adc335f496c8653f617d47832aef561e\", element=\"7ac68d99-a8c1-4f8b-9cad-47187f3d0773\")>,\n",
       " <selenium.webdriver.remote.webelement.WebElement (session=\"adc335f496c8653f617d47832aef561e\", element=\"58ca83cf-f271-41a3-9d0a-38edeeac1447\")>,\n",
       " <selenium.webdriver.remote.webelement.WebElement (session=\"adc335f496c8653f617d47832aef561e\", element=\"9ad838c8-45c3-469b-9cda-28a19028f3e8\")>,\n",
       " <selenium.webdriver.remote.webelement.WebElement (session=\"adc335f496c8653f617d47832aef561e\", element=\"79116606-2ead-42ff-94b5-fbeb57451a95\")>,\n",
       " <selenium.webdriver.remote.webelement.WebElement (session=\"adc335f496c8653f617d47832aef561e\", element=\"395e0790-55d0-4a83-8c21-63286cdd483e\")>,\n",
       " <selenium.webdriver.remote.webelement.WebElement (session=\"adc335f496c8653f617d47832aef561e\", element=\"c1d32b41-acde-4dab-80e0-0a6885d5f13c\")>,\n",
       " <selenium.webdriver.remote.webelement.WebElement (session=\"adc335f496c8653f617d47832aef561e\", element=\"f232e384-f2bd-4de4-8445-37cc5f4c0def\")>,\n",
       " <selenium.webdriver.remote.webelement.WebElement (session=\"adc335f496c8653f617d47832aef561e\", element=\"267e9960-ab7d-4d20-a00e-9e7110977e88\")>,\n",
       " <selenium.webdriver.remote.webelement.WebElement (session=\"adc335f496c8653f617d47832aef561e\", element=\"c2284f0c-b86f-48a6-84ec-421209423a4b\")>,\n",
       " <selenium.webdriver.remote.webelement.WebElement (session=\"adc335f496c8653f617d47832aef561e\", element=\"a49b0a6f-d29b-47f3-9af8-70660811964f\")>,\n",
       " <selenium.webdriver.remote.webelement.WebElement (session=\"adc335f496c8653f617d47832aef561e\", element=\"365078e1-bc38-4dd2-8574-09053df1b887\")>,\n",
       " <selenium.webdriver.remote.webelement.WebElement (session=\"adc335f496c8653f617d47832aef561e\", element=\"96e394a0-b66d-4be0-a00b-9a72f4f2f0e8\")>,\n",
       " <selenium.webdriver.remote.webelement.WebElement (session=\"adc335f496c8653f617d47832aef561e\", element=\"dc3e632c-1bab-49dd-a206-dc151023ceb7\")>,\n",
       " <selenium.webdriver.remote.webelement.WebElement (session=\"adc335f496c8653f617d47832aef561e\", element=\"377e6109-f338-4f61-ad41-b89cd75c1a0d\")>,\n",
       " <selenium.webdriver.remote.webelement.WebElement (session=\"adc335f496c8653f617d47832aef561e\", element=\"ae14e03b-4130-41d5-aaef-a0ceb3243920\")>,\n",
       " <selenium.webdriver.remote.webelement.WebElement (session=\"adc335f496c8653f617d47832aef561e\", element=\"b32e9a3b-ea0e-4310-abc2-f3d633f43174\")>,\n",
       " <selenium.webdriver.remote.webelement.WebElement (session=\"adc335f496c8653f617d47832aef561e\", element=\"71118eff-bb6b-410f-8f48-2364bfc81392\")>,\n",
       " <selenium.webdriver.remote.webelement.WebElement (session=\"adc335f496c8653f617d47832aef561e\", element=\"2d70f7d4-b127-43d1-878e-bf8def1db2a4\")>,\n",
       " <selenium.webdriver.remote.webelement.WebElement (session=\"adc335f496c8653f617d47832aef561e\", element=\"a9008c9f-730f-4780-862a-a75eb60ae635\")>,\n",
       " <selenium.webdriver.remote.webelement.WebElement (session=\"adc335f496c8653f617d47832aef561e\", element=\"26a464c5-e028-4b45-af51-f6a7040836b3\")>,\n",
       " <selenium.webdriver.remote.webelement.WebElement (session=\"adc335f496c8653f617d47832aef561e\", element=\"0bc37532-5254-4822-a201-a1499a0e8505\")>,\n",
       " <selenium.webdriver.remote.webelement.WebElement (session=\"adc335f496c8653f617d47832aef561e\", element=\"088940d9-7ddd-4522-844e-9d2fb75e73bf\")>,\n",
       " <selenium.webdriver.remote.webelement.WebElement (session=\"adc335f496c8653f617d47832aef561e\", element=\"24a2b01f-272f-4a1b-96a8-5a0dba44369c\")>,\n",
       " <selenium.webdriver.remote.webelement.WebElement (session=\"adc335f496c8653f617d47832aef561e\", element=\"e322f748-cdb9-46b2-9274-54b839c92f27\")>,\n",
       " <selenium.webdriver.remote.webelement.WebElement (session=\"adc335f496c8653f617d47832aef561e\", element=\"2cb802e9-3acf-47af-99a8-51dc7052ef8b\")>,\n",
       " <selenium.webdriver.remote.webelement.WebElement (session=\"adc335f496c8653f617d47832aef561e\", element=\"f260a5ae-a91a-48bb-a081-60d500822a61\")>,\n",
       " <selenium.webdriver.remote.webelement.WebElement (session=\"adc335f496c8653f617d47832aef561e\", element=\"2e62ad18-8bfc-489b-809c-4833c0ebe14b\")>,\n",
       " <selenium.webdriver.remote.webelement.WebElement (session=\"adc335f496c8653f617d47832aef561e\", element=\"9a278c0f-edad-4674-a397-ecbffa1681cd\")>,\n",
       " <selenium.webdriver.remote.webelement.WebElement (session=\"adc335f496c8653f617d47832aef561e\", element=\"e2e62cdc-1910-4c84-8756-dc220070bd01\")>,\n",
       " <selenium.webdriver.remote.webelement.WebElement (session=\"adc335f496c8653f617d47832aef561e\", element=\"7665a2b5-f880-4e6c-9351-cbc4f5cb9035\")>,\n",
       " <selenium.webdriver.remote.webelement.WebElement (session=\"adc335f496c8653f617d47832aef561e\", element=\"eb20b63b-7d14-408a-8503-18ea720e54bd\")>,\n",
       " <selenium.webdriver.remote.webelement.WebElement (session=\"adc335f496c8653f617d47832aef561e\", element=\"595f1e3a-39f0-4757-91c5-c95f363846f9\")>,\n",
       " <selenium.webdriver.remote.webelement.WebElement (session=\"adc335f496c8653f617d47832aef561e\", element=\"65baad97-c531-475d-99f7-e8895d7ed14c\")>,\n",
       " <selenium.webdriver.remote.webelement.WebElement (session=\"adc335f496c8653f617d47832aef561e\", element=\"3c18f296-0318-4944-ae5c-c0d3f8f30b31\")>,\n",
       " <selenium.webdriver.remote.webelement.WebElement (session=\"adc335f496c8653f617d47832aef561e\", element=\"3271b25f-3e8f-4010-92d8-8a0ee3a0997f\")>,\n",
       " <selenium.webdriver.remote.webelement.WebElement (session=\"adc335f496c8653f617d47832aef561e\", element=\"1a289ee0-c745-4d36-85d1-04d04f908b4f\")>]"
      ]
     },
     "execution_count": 121,
     "metadata": {},
     "output_type": "execute_result"
    }
   ],
   "source": [
    "b2 = browser(\"//h3[@class = 'product-brand']\")\n",
    "b2"
   ]
  },
  {
   "cell_type": "code",
   "execution_count": 122,
   "metadata": {},
   "outputs": [
    {
     "data": {
      "text/plain": [
       "['Arrow',\n",
       " 'FAUSTO',\n",
       " 'Roadster',\n",
       " 'ASICS',\n",
       " 'Red Tape',\n",
       " 'Crew STREET',\n",
       " 'Mactree',\n",
       " 'TRASE',\n",
       " 'mr.wonker',\n",
       " 'FILA',\n",
       " 'ASIAN',\n",
       " 'ZAPATOZ',\n",
       " 'HRX by Hrithik Roshan',\n",
       " 'Yuuki',\n",
       " 'Mast & Harbour',\n",
       " 'Duke',\n",
       " 'HRX by Hrithik Roshan',\n",
       " 'INVICTUS',\n",
       " 'DressBerry',\n",
       " 'AfroJack',\n",
       " 'Alishtezia',\n",
       " 'OFF LIMITS',\n",
       " 'Roadster',\n",
       " 'El Paso',\n",
       " 'Puma',\n",
       " 'HRX by Hrithik Roshan',\n",
       " 'Skechers',\n",
       " 'Sparx',\n",
       " 'DressBerry',\n",
       " 'Roadster',\n",
       " 'Mast & Harbour',\n",
       " 'Skechers',\n",
       " 'H&M',\n",
       " 'Get Glamr',\n",
       " 'HIGHLANDER',\n",
       " 'HIROLAS',\n",
       " 'Provogue',\n",
       " 'Provogue',\n",
       " 'Metro',\n",
       " 'Puma',\n",
       " 'Shoetopia',\n",
       " 'Red Tape',\n",
       " 'Sir Corbett',\n",
       " 'ADIDAS Originals',\n",
       " 'INVICTUS',\n",
       " 'Catwalk',\n",
       " 'Fentacia',\n",
       " 'ZAPATOZ',\n",
       " 'Crew STREET',\n",
       " 'LONDON STEPS']"
      ]
     },
     "execution_count": 122,
     "metadata": {},
     "output_type": "execute_result"
    }
   ],
   "source": [
    "brand2 = []\n",
    "for i in b2:\n",
    "    brand2.append(i.text)\n",
    "brand2"
   ]
  },
  {
   "cell_type": "code",
   "execution_count": 123,
   "metadata": {},
   "outputs": [
    {
     "data": {
      "text/plain": [
       "50"
      ]
     },
     "execution_count": 123,
     "metadata": {},
     "output_type": "execute_result"
    }
   ],
   "source": [
    "len(brand2)"
   ]
  },
  {
   "cell_type": "code",
   "execution_count": 124,
   "metadata": {},
   "outputs": [
    {
     "data": {
      "text/plain": [
       "['Nike',\n",
       " 'Red Tape',\n",
       " 'Red Tape',\n",
       " 'MENGLER',\n",
       " 'Nike',\n",
       " 'Eego Italy',\n",
       " 'ZAPATOZ',\n",
       " 'HRX by Hrithik Roshan',\n",
       " 'Roadster',\n",
       " 'DressBerry',\n",
       " 'House of Pataudi',\n",
       " 'Sparx',\n",
       " 'Mast & Harbour',\n",
       " 'HRX by Hrithik Roshan',\n",
       " 'Nike',\n",
       " 'Allen Cooper',\n",
       " 'H&M',\n",
       " 'Nike',\n",
       " 'Provogue',\n",
       " 'Puma',\n",
       " 'Provogue',\n",
       " 'HRX by Hrithik Roshan',\n",
       " 'DressBerry',\n",
       " 'one8 x PUMA',\n",
       " 'FAST TRAX',\n",
       " 'HRX by Hrithik Roshan',\n",
       " 'Nike',\n",
       " 'ELIXIR MAN',\n",
       " 'Shezone',\n",
       " 'mr.wonker',\n",
       " 'TimberWood',\n",
       " 'Nike',\n",
       " 'Puma',\n",
       " 'HRX by Hrithik Roshan',\n",
       " 'Roadster',\n",
       " 'Skechers',\n",
       " 'hummel',\n",
       " 'Skechers',\n",
       " 'H&M',\n",
       " 'Catwalk',\n",
       " 'HRX by Hrithik Roshan',\n",
       " 'Puma',\n",
       " 'Action',\n",
       " 'ASICS',\n",
       " 'U.S. Polo Assn.',\n",
       " 'HRX by Hrithik Roshan',\n",
       " 'HRX by Hrithik Roshan',\n",
       " 'Crew STREET',\n",
       " 'U.S. Polo Assn.',\n",
       " 'H&M',\n",
       " 'Arrow',\n",
       " 'FAUSTO',\n",
       " 'Roadster',\n",
       " 'ASICS',\n",
       " 'Red Tape',\n",
       " 'Crew STREET',\n",
       " 'Mactree',\n",
       " 'TRASE',\n",
       " 'mr.wonker',\n",
       " 'FILA',\n",
       " 'ASIAN',\n",
       " 'ZAPATOZ',\n",
       " 'HRX by Hrithik Roshan',\n",
       " 'Yuuki',\n",
       " 'Mast & Harbour',\n",
       " 'Duke',\n",
       " 'HRX by Hrithik Roshan',\n",
       " 'INVICTUS',\n",
       " 'DressBerry',\n",
       " 'AfroJack',\n",
       " 'Alishtezia',\n",
       " 'OFF LIMITS',\n",
       " 'Roadster',\n",
       " 'El Paso',\n",
       " 'Puma',\n",
       " 'HRX by Hrithik Roshan',\n",
       " 'Skechers',\n",
       " 'Sparx',\n",
       " 'DressBerry',\n",
       " 'Roadster',\n",
       " 'Mast & Harbour',\n",
       " 'Skechers',\n",
       " 'H&M',\n",
       " 'Get Glamr',\n",
       " 'HIGHLANDER',\n",
       " 'HIROLAS',\n",
       " 'Provogue',\n",
       " 'Provogue',\n",
       " 'Metro',\n",
       " 'Puma',\n",
       " 'Shoetopia',\n",
       " 'Red Tape',\n",
       " 'Sir Corbett',\n",
       " 'ADIDAS Originals',\n",
       " 'INVICTUS',\n",
       " 'Catwalk',\n",
       " 'Fentacia',\n",
       " 'ZAPATOZ',\n",
       " 'Crew STREET',\n",
       " 'LONDON STEPS']"
      ]
     },
     "execution_count": 124,
     "metadata": {},
     "output_type": "execute_result"
    }
   ],
   "source": [
    "brand = brand1 + brand2 \n",
    "brand"
   ]
  },
  {
   "cell_type": "code",
   "execution_count": 125,
   "metadata": {},
   "outputs": [
    {
     "data": {
      "text/plain": [
       "100"
      ]
     },
     "execution_count": 125,
     "metadata": {},
     "output_type": "execute_result"
    }
   ],
   "source": [
    "len(brand)"
   ]
  },
  {
   "cell_type": "code",
   "execution_count": 126,
   "metadata": {},
   "outputs": [
    {
     "data": {
      "text/plain": [
       "[<selenium.webdriver.remote.webelement.WebElement (session=\"adc335f496c8653f617d47832aef561e\", element=\"c2715b33-604b-4055-ab99-d2d3b55d3cdb\")>,\n",
       " <selenium.webdriver.remote.webelement.WebElement (session=\"adc335f496c8653f617d47832aef561e\", element=\"22e0f88c-b731-46a0-bc0c-118941da81f4\")>,\n",
       " <selenium.webdriver.remote.webelement.WebElement (session=\"adc335f496c8653f617d47832aef561e\", element=\"d1cc4c27-69d4-48bd-96d1-f549421b3575\")>,\n",
       " <selenium.webdriver.remote.webelement.WebElement (session=\"adc335f496c8653f617d47832aef561e\", element=\"82a5c598-a437-46a3-b58f-b2d79e7f061e\")>,\n",
       " <selenium.webdriver.remote.webelement.WebElement (session=\"adc335f496c8653f617d47832aef561e\", element=\"a8392bf5-6a6d-40db-9453-cb075e317ae3\")>,\n",
       " <selenium.webdriver.remote.webelement.WebElement (session=\"adc335f496c8653f617d47832aef561e\", element=\"9f089f09-557e-4ab9-afab-24a996cff2ac\")>,\n",
       " <selenium.webdriver.remote.webelement.WebElement (session=\"adc335f496c8653f617d47832aef561e\", element=\"ca899915-9bc5-45bd-be49-f7a365117432\")>,\n",
       " <selenium.webdriver.remote.webelement.WebElement (session=\"adc335f496c8653f617d47832aef561e\", element=\"7254fdc0-1309-48d1-88e4-6d272e252c6d\")>,\n",
       " <selenium.webdriver.remote.webelement.WebElement (session=\"adc335f496c8653f617d47832aef561e\", element=\"eccef0aa-8d32-4428-b0d6-19b39669bb0f\")>,\n",
       " <selenium.webdriver.remote.webelement.WebElement (session=\"adc335f496c8653f617d47832aef561e\", element=\"22230555-c665-4dd8-9190-1bc355ec0d7e\")>,\n",
       " <selenium.webdriver.remote.webelement.WebElement (session=\"adc335f496c8653f617d47832aef561e\", element=\"97f990eb-5108-424e-8cb7-4e2ed3e352f5\")>,\n",
       " <selenium.webdriver.remote.webelement.WebElement (session=\"adc335f496c8653f617d47832aef561e\", element=\"1e4b423b-481b-4e8e-a106-3febc2a5f364\")>,\n",
       " <selenium.webdriver.remote.webelement.WebElement (session=\"adc335f496c8653f617d47832aef561e\", element=\"3f07aea7-fe37-4510-82c6-caecca211f15\")>,\n",
       " <selenium.webdriver.remote.webelement.WebElement (session=\"adc335f496c8653f617d47832aef561e\", element=\"94612a90-1c62-4585-a84c-3e125ea9971b\")>,\n",
       " <selenium.webdriver.remote.webelement.WebElement (session=\"adc335f496c8653f617d47832aef561e\", element=\"6e378575-3909-4ae8-b911-9fc4c27f6607\")>,\n",
       " <selenium.webdriver.remote.webelement.WebElement (session=\"adc335f496c8653f617d47832aef561e\", element=\"8f6b62e8-f2ff-4646-8867-e50b07a61038\")>,\n",
       " <selenium.webdriver.remote.webelement.WebElement (session=\"adc335f496c8653f617d47832aef561e\", element=\"81b2b33f-d24b-4e76-a79d-3ccd16bacc91\")>,\n",
       " <selenium.webdriver.remote.webelement.WebElement (session=\"adc335f496c8653f617d47832aef561e\", element=\"52d12dcb-f1f5-47c0-96b3-46ef629247e8\")>,\n",
       " <selenium.webdriver.remote.webelement.WebElement (session=\"adc335f496c8653f617d47832aef561e\", element=\"4805e991-ac21-4189-9c3f-cb57123b04e8\")>,\n",
       " <selenium.webdriver.remote.webelement.WebElement (session=\"adc335f496c8653f617d47832aef561e\", element=\"4027c3c5-290d-4486-bf30-54d7d4ba3b96\")>,\n",
       " <selenium.webdriver.remote.webelement.WebElement (session=\"adc335f496c8653f617d47832aef561e\", element=\"0b8c5a74-5936-4d9a-a60e-d419fad7feda\")>,\n",
       " <selenium.webdriver.remote.webelement.WebElement (session=\"adc335f496c8653f617d47832aef561e\", element=\"1c1f6272-715f-42ed-ac56-7971e0de7e77\")>,\n",
       " <selenium.webdriver.remote.webelement.WebElement (session=\"adc335f496c8653f617d47832aef561e\", element=\"a8d4d952-286c-453b-b26a-8aa18febaf84\")>,\n",
       " <selenium.webdriver.remote.webelement.WebElement (session=\"adc335f496c8653f617d47832aef561e\", element=\"156cabd3-4713-4017-96e8-3e6bb549ab8d\")>,\n",
       " <selenium.webdriver.remote.webelement.WebElement (session=\"adc335f496c8653f617d47832aef561e\", element=\"f4bfdb81-157c-458a-9682-02ab7e6f7bd6\")>,\n",
       " <selenium.webdriver.remote.webelement.WebElement (session=\"adc335f496c8653f617d47832aef561e\", element=\"902e185a-bb6b-4469-a071-88ae131fbf6d\")>,\n",
       " <selenium.webdriver.remote.webelement.WebElement (session=\"adc335f496c8653f617d47832aef561e\", element=\"0316ed37-607d-4e3b-a0ad-6cab9766acb7\")>,\n",
       " <selenium.webdriver.remote.webelement.WebElement (session=\"adc335f496c8653f617d47832aef561e\", element=\"c7357bc5-bc29-43ac-8ec3-e1819d633feb\")>,\n",
       " <selenium.webdriver.remote.webelement.WebElement (session=\"adc335f496c8653f617d47832aef561e\", element=\"6ec33746-6577-4756-a0e2-d3b1cd227d44\")>,\n",
       " <selenium.webdriver.remote.webelement.WebElement (session=\"adc335f496c8653f617d47832aef561e\", element=\"9769f2c0-40b8-4638-b796-8a4297e1e97f\")>,\n",
       " <selenium.webdriver.remote.webelement.WebElement (session=\"adc335f496c8653f617d47832aef561e\", element=\"528e7b9a-0a57-4c5c-b6bf-44f731daa51a\")>,\n",
       " <selenium.webdriver.remote.webelement.WebElement (session=\"adc335f496c8653f617d47832aef561e\", element=\"1a1c7031-f37a-4218-a0d8-640f89095645\")>,\n",
       " <selenium.webdriver.remote.webelement.WebElement (session=\"adc335f496c8653f617d47832aef561e\", element=\"04c67801-603a-48d8-babf-69cbc3825a1b\")>,\n",
       " <selenium.webdriver.remote.webelement.WebElement (session=\"adc335f496c8653f617d47832aef561e\", element=\"376fe171-dd28-428e-9214-196d3a5aa21c\")>,\n",
       " <selenium.webdriver.remote.webelement.WebElement (session=\"adc335f496c8653f617d47832aef561e\", element=\"ab11a7c5-29c0-4820-a760-e49ca66e8efc\")>,\n",
       " <selenium.webdriver.remote.webelement.WebElement (session=\"adc335f496c8653f617d47832aef561e\", element=\"1af5774f-cf96-4ce8-8b05-2408f3876957\")>,\n",
       " <selenium.webdriver.remote.webelement.WebElement (session=\"adc335f496c8653f617d47832aef561e\", element=\"0a3bac77-a39d-4665-b6d6-cc4576131811\")>,\n",
       " <selenium.webdriver.remote.webelement.WebElement (session=\"adc335f496c8653f617d47832aef561e\", element=\"dc8714ad-92ba-49df-a6b4-8d68860c7295\")>,\n",
       " <selenium.webdriver.remote.webelement.WebElement (session=\"adc335f496c8653f617d47832aef561e\", element=\"64ed5862-c9f7-449f-929b-b7848fdda897\")>,\n",
       " <selenium.webdriver.remote.webelement.WebElement (session=\"adc335f496c8653f617d47832aef561e\", element=\"dc3d9820-9636-4167-bd2e-9233656cada5\")>,\n",
       " <selenium.webdriver.remote.webelement.WebElement (session=\"adc335f496c8653f617d47832aef561e\", element=\"34cb5f46-e91b-4632-84c9-e1bd917a2a89\")>,\n",
       " <selenium.webdriver.remote.webelement.WebElement (session=\"adc335f496c8653f617d47832aef561e\", element=\"ee5e0088-5cf5-4022-a425-3bacb7868c65\")>,\n",
       " <selenium.webdriver.remote.webelement.WebElement (session=\"adc335f496c8653f617d47832aef561e\", element=\"81ad50dd-5c3d-4ca6-b21b-30424e55cc6e\")>,\n",
       " <selenium.webdriver.remote.webelement.WebElement (session=\"adc335f496c8653f617d47832aef561e\", element=\"63927eab-909a-4953-b5fc-e35050933ac7\")>,\n",
       " <selenium.webdriver.remote.webelement.WebElement (session=\"adc335f496c8653f617d47832aef561e\", element=\"0c2407f8-5f20-4e7b-92c0-fefba03fa642\")>,\n",
       " <selenium.webdriver.remote.webelement.WebElement (session=\"adc335f496c8653f617d47832aef561e\", element=\"112b7195-1c44-408f-89e1-27ccc9f0f1ef\")>,\n",
       " <selenium.webdriver.remote.webelement.WebElement (session=\"adc335f496c8653f617d47832aef561e\", element=\"dc40d888-468d-491d-a264-efb810c13deb\")>,\n",
       " <selenium.webdriver.remote.webelement.WebElement (session=\"adc335f496c8653f617d47832aef561e\", element=\"b47ae226-019b-48d2-ac87-5636c2573a60\")>,\n",
       " <selenium.webdriver.remote.webelement.WebElement (session=\"adc335f496c8653f617d47832aef561e\", element=\"7746c595-59ce-44ca-9e5a-096fbbb1fd54\")>,\n",
       " <selenium.webdriver.remote.webelement.WebElement (session=\"adc335f496c8653f617d47832aef561e\", element=\"d417d4f8-5e88-4dd7-ada0-5a5cc6a6e098\")>]"
      ]
     },
     "execution_count": 126,
     "metadata": {},
     "output_type": "execute_result"
    }
   ],
   "source": [
    "sd2 = browser(\"//h4[@class = 'product-product']\")\n",
    "sd2"
   ]
  },
  {
   "cell_type": "code",
   "execution_count": 127,
   "metadata": {},
   "outputs": [
    {
     "data": {
      "text/plain": [
       "['Men Leather Formal Shoes',\n",
       " 'Men Textured PU Monks',\n",
       " 'Men Solid Sneakers',\n",
       " 'Kids Running Sports Shoes',\n",
       " 'Men Air + Walking Shoes',\n",
       " 'Men Woven Design Running Shoes',\n",
       " 'Men Sneakers',\n",
       " 'Women Heeled Boots',\n",
       " 'Men Colourblocked Sneakers',\n",
       " 'Unisex Slip-On Sneakers',\n",
       " 'Men Running Shoes',\n",
       " 'Women Heeled Boots',\n",
       " 'Women Eclips Running Shoes',\n",
       " 'Men Walking Shoes',\n",
       " 'Men Striped Detail Sneakers',\n",
       " 'Men Loafers',\n",
       " 'Men Street Running Shoes',\n",
       " 'Men Formal Oxford Shoes',\n",
       " 'Suede Finish Formal Pumps',\n",
       " 'Men Running Shoes',\n",
       " 'Women Walking Shoes',\n",
       " 'Men Running Shoes',\n",
       " 'Men Solid Flat Boots',\n",
       " 'Men Flat Boots',\n",
       " 'Men Flexracer 20 IDP Running Shoes',\n",
       " 'Women Flex Running Shoes',\n",
       " 'Men GO WALK 4 -ALLIANCE Shoes',\n",
       " 'Men Running Shoes',\n",
       " 'Women Braided Open Toe Flats',\n",
       " 'Men Solid Chelsea Boots',\n",
       " 'Men Solid Sneakers',\n",
       " 'Men FLEX Slip-On Sneakers',\n",
       " 'Mens Trainers',\n",
       " 'Men Solid Loafers',\n",
       " 'Men Sneakers',\n",
       " 'Men Running Shoes',\n",
       " 'Men Textured Formal Loafers',\n",
       " 'Men Perforations Driving Shoes',\n",
       " 'Women T-Strap Flats',\n",
       " 'Men Running Shoes',\n",
       " 'Women Pumps',\n",
       " 'Men Solid Leather Formal Derbys',\n",
       " 'Men Solid Sneakers',\n",
       " 'Men Easy VULC 2.0 Skateboard',\n",
       " 'Men Black Formal Oxfords',\n",
       " 'Women Heels',\n",
       " 'Men Formal Loafers',\n",
       " 'Wedge Sandals with Tassels',\n",
       " 'Women Patterned Walking Shoes',\n",
       " 'Women Suede Finish Solid Pumps']"
      ]
     },
     "execution_count": 127,
     "metadata": {},
     "output_type": "execute_result"
    }
   ],
   "source": [
    "description2 = []\n",
    "for i in sd2:\n",
    "    description2.append(i.text)\n",
    "description2"
   ]
  },
  {
   "cell_type": "code",
   "execution_count": 128,
   "metadata": {},
   "outputs": [
    {
     "data": {
      "text/plain": [
       "50"
      ]
     },
     "execution_count": 128,
     "metadata": {},
     "output_type": "execute_result"
    }
   ],
   "source": [
    "len(description2)"
   ]
  },
  {
   "cell_type": "code",
   "execution_count": 129,
   "metadata": {},
   "outputs": [
    {
     "data": {
      "text/plain": [
       "['Men FLEX EXPERIENCE RN Shoes',\n",
       " 'Men Walking Shoes',\n",
       " 'Men Sneakers',\n",
       " 'Men Walking Shoes',\n",
       " 'Men SPEEDREP Training Shoes',\n",
       " 'Men Trekking Shoes',\n",
       " 'Women Heeled Boots',\n",
       " 'Men Atom Running Shoe',\n",
       " 'Men Slip-On Sneakers',\n",
       " 'Suede Finish Formal Pumps',\n",
       " 'Men Handcrafted Loafers',\n",
       " 'Men Running Shoes',\n",
       " 'Men Slip-On Sneakers',\n",
       " 'Men Knit Run 1.2 Running Shoes',\n",
       " 'Men Flex 2021 Running Shoes',\n",
       " 'Men Solid Running Shoes',\n",
       " 'Square-Toe Sandals',\n",
       " 'Men Renew Retaliation TR 3',\n",
       " 'Men Solid Horsebit Loafers',\n",
       " 'Sneakers',\n",
       " 'Men Solid Formal Loafers',\n",
       " 'Women Chunky Sneakers',\n",
       " 'Solid Loafers with Knot Detail',\n",
       " 'Men Dart IDP Sneakers',\n",
       " 'Men Slip On Sneakers',\n",
       " 'Men Woven Design Runner Shoes',\n",
       " 'Men City Rep Training Shoes',\n",
       " 'Men Sneakers',\n",
       " 'Women Animal Print Ballerinas',\n",
       " 'Men Running Shoes',\n",
       " 'Women Walking Shoes',\n",
       " 'Men Flex Run 2021 Running Shoe',\n",
       " 'Men Running Shoes',\n",
       " 'Women Running Shoes',\n",
       " 'Men Woven Design Sneakers',\n",
       " 'Men GO WALK 4-REMARKABLE Shoes',\n",
       " 'Unisex Black Sports Shoes',\n",
       " 'Men FLEX Slip-On Sneakers',\n",
       " 'Mens Trainers',\n",
       " 'Women Heeled Boots',\n",
       " 'Men FlexStreet Athleisure Shoe',\n",
       " 'Men Flexracer 20 IDP Running Shoes',\n",
       " 'Men Mesh Running Shoes',\n",
       " 'Pre Contend 4 Ps Running Shoes',\n",
       " 'Men TERRI Slip-On Sneakers',\n",
       " 'Men Front Runner Shoe',\n",
       " 'Men Chunky Sneaker',\n",
       " 'Women Running Shoes',\n",
       " 'Men LEBRON 2.0 Walking Shoes',\n",
       " 'Men Slip-on Trainers',\n",
       " 'Men Leather Formal Shoes',\n",
       " 'Men Textured PU Monks',\n",
       " 'Men Solid Sneakers',\n",
       " 'Kids Running Sports Shoes',\n",
       " 'Men Air + Walking Shoes',\n",
       " 'Men Woven Design Running Shoes',\n",
       " 'Men Sneakers',\n",
       " 'Women Heeled Boots',\n",
       " 'Men Colourblocked Sneakers',\n",
       " 'Unisex Slip-On Sneakers',\n",
       " 'Men Running Shoes',\n",
       " 'Women Heeled Boots',\n",
       " 'Women Eclips Running Shoes',\n",
       " 'Men Walking Shoes',\n",
       " 'Men Striped Detail Sneakers',\n",
       " 'Men Loafers',\n",
       " 'Men Street Running Shoes',\n",
       " 'Men Formal Oxford Shoes',\n",
       " 'Suede Finish Formal Pumps',\n",
       " 'Men Running Shoes',\n",
       " 'Women Walking Shoes',\n",
       " 'Men Running Shoes',\n",
       " 'Men Solid Flat Boots',\n",
       " 'Men Flat Boots',\n",
       " 'Men Flexracer 20 IDP Running Shoes',\n",
       " 'Women Flex Running Shoes',\n",
       " 'Men GO WALK 4 -ALLIANCE Shoes',\n",
       " 'Men Running Shoes',\n",
       " 'Women Braided Open Toe Flats',\n",
       " 'Men Solid Chelsea Boots',\n",
       " 'Men Solid Sneakers',\n",
       " 'Men FLEX Slip-On Sneakers',\n",
       " 'Mens Trainers',\n",
       " 'Men Solid Loafers',\n",
       " 'Men Sneakers',\n",
       " 'Men Running Shoes',\n",
       " 'Men Textured Formal Loafers',\n",
       " 'Men Perforations Driving Shoes',\n",
       " 'Women T-Strap Flats',\n",
       " 'Men Running Shoes',\n",
       " 'Women Pumps',\n",
       " 'Men Solid Leather Formal Derbys',\n",
       " 'Men Solid Sneakers',\n",
       " 'Men Easy VULC 2.0 Skateboard',\n",
       " 'Men Black Formal Oxfords',\n",
       " 'Women Heels',\n",
       " 'Men Formal Loafers',\n",
       " 'Wedge Sandals with Tassels',\n",
       " 'Women Patterned Walking Shoes',\n",
       " 'Women Suede Finish Solid Pumps']"
      ]
     },
     "execution_count": 129,
     "metadata": {},
     "output_type": "execute_result"
    }
   ],
   "source": [
    "description = description1 + description2\n",
    "description"
   ]
  },
  {
   "cell_type": "code",
   "execution_count": 130,
   "metadata": {},
   "outputs": [
    {
     "data": {
      "text/plain": [
       "100"
      ]
     },
     "execution_count": 130,
     "metadata": {},
     "output_type": "execute_result"
    }
   ],
   "source": [
    "len(description)"
   ]
  },
  {
   "cell_type": "code",
   "execution_count": 131,
   "metadata": {},
   "outputs": [
    {
     "data": {
      "text/plain": [
       "[<selenium.webdriver.remote.webelement.WebElement (session=\"adc335f496c8653f617d47832aef561e\", element=\"2c5304c8-2ce9-4162-8ce0-c4138248ec90\")>,\n",
       " <selenium.webdriver.remote.webelement.WebElement (session=\"adc335f496c8653f617d47832aef561e\", element=\"4c9d4a3a-8ce9-460b-b031-4b1a5ef4ecce\")>,\n",
       " <selenium.webdriver.remote.webelement.WebElement (session=\"adc335f496c8653f617d47832aef561e\", element=\"6ead84c4-f716-4d66-9c2a-784590325485\")>,\n",
       " <selenium.webdriver.remote.webelement.WebElement (session=\"adc335f496c8653f617d47832aef561e\", element=\"27fbe509-e56a-40c7-8e88-aa7d59a96099\")>,\n",
       " <selenium.webdriver.remote.webelement.WebElement (session=\"adc335f496c8653f617d47832aef561e\", element=\"07cfe369-bb9d-4965-811b-42d2a71502e7\")>,\n",
       " <selenium.webdriver.remote.webelement.WebElement (session=\"adc335f496c8653f617d47832aef561e\", element=\"ceee614f-62dd-4d86-94cf-934f1e898c48\")>,\n",
       " <selenium.webdriver.remote.webelement.WebElement (session=\"adc335f496c8653f617d47832aef561e\", element=\"a56643e8-b594-4a3c-ac02-a0a6de24c9ed\")>,\n",
       " <selenium.webdriver.remote.webelement.WebElement (session=\"adc335f496c8653f617d47832aef561e\", element=\"40918fcf-7bdf-49ab-b2ce-f07094d55c99\")>,\n",
       " <selenium.webdriver.remote.webelement.WebElement (session=\"adc335f496c8653f617d47832aef561e\", element=\"8daa595c-9c85-45b6-b3bc-f558c9b7d5e3\")>,\n",
       " <selenium.webdriver.remote.webelement.WebElement (session=\"adc335f496c8653f617d47832aef561e\", element=\"0bac04ee-68d4-41c1-ae08-1d8af71c1a64\")>,\n",
       " <selenium.webdriver.remote.webelement.WebElement (session=\"adc335f496c8653f617d47832aef561e\", element=\"6306a7bf-1b32-4983-94a8-c341558e437b\")>,\n",
       " <selenium.webdriver.remote.webelement.WebElement (session=\"adc335f496c8653f617d47832aef561e\", element=\"ddece85b-cdb0-4333-9dbd-01c4f029d952\")>,\n",
       " <selenium.webdriver.remote.webelement.WebElement (session=\"adc335f496c8653f617d47832aef561e\", element=\"e74d207b-b0dc-4c5f-9676-8f529a44dc5f\")>,\n",
       " <selenium.webdriver.remote.webelement.WebElement (session=\"adc335f496c8653f617d47832aef561e\", element=\"c344ec13-2239-42dd-a200-933fbd622274\")>,\n",
       " <selenium.webdriver.remote.webelement.WebElement (session=\"adc335f496c8653f617d47832aef561e\", element=\"375bdead-ee79-4f99-9f99-7699c1990585\")>,\n",
       " <selenium.webdriver.remote.webelement.WebElement (session=\"adc335f496c8653f617d47832aef561e\", element=\"728afde7-6e9b-4323-96fd-274c34ec79e3\")>,\n",
       " <selenium.webdriver.remote.webelement.WebElement (session=\"adc335f496c8653f617d47832aef561e\", element=\"0002903f-211e-4d1d-8a7b-fae26f16835d\")>,\n",
       " <selenium.webdriver.remote.webelement.WebElement (session=\"adc335f496c8653f617d47832aef561e\", element=\"47dca764-5c6e-4706-a609-eee7b95a8072\")>,\n",
       " <selenium.webdriver.remote.webelement.WebElement (session=\"adc335f496c8653f617d47832aef561e\", element=\"13bc250a-3a30-4a34-a6d2-ee74c3b187ee\")>,\n",
       " <selenium.webdriver.remote.webelement.WebElement (session=\"adc335f496c8653f617d47832aef561e\", element=\"fe68f1eb-4891-406e-a04e-bb70cec23453\")>,\n",
       " <selenium.webdriver.remote.webelement.WebElement (session=\"adc335f496c8653f617d47832aef561e\", element=\"5fc62858-5069-4865-a290-6981c7d371d9\")>,\n",
       " <selenium.webdriver.remote.webelement.WebElement (session=\"adc335f496c8653f617d47832aef561e\", element=\"84ae6b54-c092-4989-ae2a-b5762cf16465\")>,\n",
       " <selenium.webdriver.remote.webelement.WebElement (session=\"adc335f496c8653f617d47832aef561e\", element=\"4e62943d-0b10-49f0-8aa7-4b844e1d4d7c\")>,\n",
       " <selenium.webdriver.remote.webelement.WebElement (session=\"adc335f496c8653f617d47832aef561e\", element=\"b2d69c43-6a1c-4f3f-8fb4-b3c66ae996b0\")>,\n",
       " <selenium.webdriver.remote.webelement.WebElement (session=\"adc335f496c8653f617d47832aef561e\", element=\"579d0ab9-d784-4157-a180-3fc11803f3f5\")>,\n",
       " <selenium.webdriver.remote.webelement.WebElement (session=\"adc335f496c8653f617d47832aef561e\", element=\"eec7e6ac-e462-4d44-b048-192ffaadca87\")>,\n",
       " <selenium.webdriver.remote.webelement.WebElement (session=\"adc335f496c8653f617d47832aef561e\", element=\"929c00d3-7dfc-493b-a3de-9248376c6fe1\")>,\n",
       " <selenium.webdriver.remote.webelement.WebElement (session=\"adc335f496c8653f617d47832aef561e\", element=\"7fcc54d7-28e6-4344-bb46-ecb5ee70418a\")>,\n",
       " <selenium.webdriver.remote.webelement.WebElement (session=\"adc335f496c8653f617d47832aef561e\", element=\"dab786f1-c1d3-40ae-92f0-ac1edf499f10\")>,\n",
       " <selenium.webdriver.remote.webelement.WebElement (session=\"adc335f496c8653f617d47832aef561e\", element=\"3d743a01-b3fb-4173-8456-6b4d3afe8fd7\")>,\n",
       " <selenium.webdriver.remote.webelement.WebElement (session=\"adc335f496c8653f617d47832aef561e\", element=\"50885441-0390-46ff-b7cc-c5f99a860353\")>,\n",
       " <selenium.webdriver.remote.webelement.WebElement (session=\"adc335f496c8653f617d47832aef561e\", element=\"2d02acf4-a9cf-4ccb-9471-eb889e2e8454\")>,\n",
       " <selenium.webdriver.remote.webelement.WebElement (session=\"adc335f496c8653f617d47832aef561e\", element=\"269ce2d3-00ac-43de-bdfe-c33e94c40e6c\")>,\n",
       " <selenium.webdriver.remote.webelement.WebElement (session=\"adc335f496c8653f617d47832aef561e\", element=\"86c60fc4-456b-4e28-8e70-1fb90f60b48a\")>,\n",
       " <selenium.webdriver.remote.webelement.WebElement (session=\"adc335f496c8653f617d47832aef561e\", element=\"27690057-0cbf-4726-ae53-0a531d82dba6\")>,\n",
       " <selenium.webdriver.remote.webelement.WebElement (session=\"adc335f496c8653f617d47832aef561e\", element=\"fada8621-a053-46ac-96c5-0eb14e48731c\")>,\n",
       " <selenium.webdriver.remote.webelement.WebElement (session=\"adc335f496c8653f617d47832aef561e\", element=\"20bb911d-005d-4ec4-825e-ebf3daf66102\")>,\n",
       " <selenium.webdriver.remote.webelement.WebElement (session=\"adc335f496c8653f617d47832aef561e\", element=\"f1da3542-d944-42da-bd87-a1d91ced693f\")>,\n",
       " <selenium.webdriver.remote.webelement.WebElement (session=\"adc335f496c8653f617d47832aef561e\", element=\"3e111e36-dc28-4f66-b20f-4869cb2690fe\")>,\n",
       " <selenium.webdriver.remote.webelement.WebElement (session=\"adc335f496c8653f617d47832aef561e\", element=\"dee713a1-e3e3-4a4d-808e-648cc356f29e\")>,\n",
       " <selenium.webdriver.remote.webelement.WebElement (session=\"adc335f496c8653f617d47832aef561e\", element=\"eee2d5a9-f6ae-4fee-8065-6d94e03cfb85\")>,\n",
       " <selenium.webdriver.remote.webelement.WebElement (session=\"adc335f496c8653f617d47832aef561e\", element=\"dd3b3945-d7fa-4203-bcad-3ff131f93c88\")>,\n",
       " <selenium.webdriver.remote.webelement.WebElement (session=\"adc335f496c8653f617d47832aef561e\", element=\"47c3076d-2894-4ff4-bca3-8320af540dd1\")>,\n",
       " <selenium.webdriver.remote.webelement.WebElement (session=\"adc335f496c8653f617d47832aef561e\", element=\"fc896840-c9e0-42b3-bbe7-016a46700b13\")>,\n",
       " <selenium.webdriver.remote.webelement.WebElement (session=\"adc335f496c8653f617d47832aef561e\", element=\"4340bd8d-fb35-4b54-b363-3b7a7416da58\")>,\n",
       " <selenium.webdriver.remote.webelement.WebElement (session=\"adc335f496c8653f617d47832aef561e\", element=\"f5f09e56-edf0-40e5-b544-aaaead0c473a\")>,\n",
       " <selenium.webdriver.remote.webelement.WebElement (session=\"adc335f496c8653f617d47832aef561e\", element=\"4c53d15d-2751-491e-ab99-60e359e2cf55\")>,\n",
       " <selenium.webdriver.remote.webelement.WebElement (session=\"adc335f496c8653f617d47832aef561e\", element=\"d417035a-1792-4673-83da-e9541ceeafe4\")>,\n",
       " <selenium.webdriver.remote.webelement.WebElement (session=\"adc335f496c8653f617d47832aef561e\", element=\"ba5fd593-8055-4663-98f0-72404162c690\")>,\n",
       " <selenium.webdriver.remote.webelement.WebElement (session=\"adc335f496c8653f617d47832aef561e\", element=\"322a2ce6-ddd3-4801-9705-15d96edf3afa\")>]"
      ]
     },
     "execution_count": 131,
     "metadata": {},
     "output_type": "execute_result"
    }
   ],
   "source": [
    "p2 = browser(\"//div[@class ='product-price']\")\n",
    "p2"
   ]
  },
  {
   "cell_type": "code",
   "execution_count": 132,
   "metadata": {},
   "outputs": [
    {
     "data": {
      "text/plain": [
       "['Rs. 2759Rs. 4599(40% OFF)',\n",
       " 'Rs. 1499',\n",
       " 'Rs. 1429Rs. 2199(35% OFF)',\n",
       " 'Rs. 689Rs. 2999(77% OFF)',\n",
       " 'Rs. 1749Rs. 6999(75% OFF)',\n",
       " 'Rs. 899Rs. 2999(70% OFF)',\n",
       " 'Rs. 649Rs. 2164(70% OFF)',\n",
       " 'Rs. 839Rs. 1999(58% OFF)',\n",
       " 'Rs. 659Rs. 1999(67% OFF)',\n",
       " 'Rs. 1199Rs. 1999(40% OFF)',\n",
       " 'Rs. 799Rs. 999(Rs. 200 OFF)',\n",
       " 'Rs. 699Rs. 999(30% OFF)',\n",
       " 'Rs. 1719Rs. 4299(60% OFF)',\n",
       " 'Rs. 749Rs. 2499(70% OFF)',\n",
       " 'Rs. 999Rs. 2499(60% OFF)',\n",
       " 'Rs. 1038Rs. 2595(60% OFF)',\n",
       " 'Rs. 1224Rs. 3499(65% OFF)',\n",
       " 'Rs. 1799Rs. 3599(50% OFF)',\n",
       " 'Rs. 1749Rs. 3499(50% OFF)',\n",
       " 'Rs. 599Rs. 2499(Rs. 1900 OFF)',\n",
       " 'Rs. 799Rs. 999(20% OFF)',\n",
       " 'Rs. 1289Rs. 2999(57% OFF)',\n",
       " 'Rs. 1043Rs. 2899(64% OFF)',\n",
       " 'Rs. 999Rs. 2999(Rs. 2000 OFF)',\n",
       " 'Rs. 1949Rs. 2999(35% OFF)',\n",
       " 'Rs. 1259Rs. 2799(55% OFF)',\n",
       " 'Rs. 5799',\n",
       " 'Rs. 986Rs. 1049(6% OFF)',\n",
       " 'Rs. 1019Rs. 1699(40% OFF)',\n",
       " 'Rs. 949Rs. 2599(Rs. 1650 OFF)',\n",
       " 'Rs. 879Rs. 2199(60% OFF)',\n",
       " 'Rs. 4999',\n",
       " 'Rs. 2299',\n",
       " 'Rs. 1999Rs. 3999(50% OFF)',\n",
       " 'Rs. 895Rs. 1990(55% OFF)',\n",
       " 'Rs. 839Rs. 2799(70% OFF)',\n",
       " 'Rs. 799Rs. 3699(Rs. 2900 OFF)',\n",
       " 'Rs. 799Rs. 2695(Rs. 1896 OFF)',\n",
       " 'Rs. 1690',\n",
       " 'Rs. 3899Rs. 6499(40% OFF)',\n",
       " 'Rs. 649Rs. 999(35% OFF)',\n",
       " 'Rs. 1574Rs. 6299(75% OFF)',\n",
       " 'Rs. 629Rs. 2099(70% OFF)',\n",
       " 'Rs. 3039Rs. 3799(20% OFF)',\n",
       " 'Rs. 1699Rs. 3399(50% OFF)',\n",
       " 'Rs. 1456Rs. 1995(27% OFF)',\n",
       " 'Rs. 994Rs. 3428(71% OFF)',\n",
       " 'Rs. 679Rs. 999(32% OFF)',\n",
       " 'Rs. 724Rs. 2899(75% OFF)',\n",
       " 'Rs. 849Rs. 999(15% OFF)']"
      ]
     },
     "execution_count": 132,
     "metadata": {},
     "output_type": "execute_result"
    }
   ],
   "source": [
    "price2 = []\n",
    "for i in p2:\n",
    "    price2.append(i.text)\n",
    "price2"
   ]
  },
  {
   "cell_type": "code",
   "execution_count": 133,
   "metadata": {},
   "outputs": [
    {
     "data": {
      "text/plain": [
       "['Rs. 4995',\n",
       " 'Rs. 1224Rs. 4899(75% OFF)',\n",
       " 'Rs. 1049Rs. 4599(Rs. 3550 OFF)',\n",
       " 'Rs. 649Rs. 2499(74% OFF)',\n",
       " 'Rs. 5036Rs. 7195(30% OFF)',\n",
       " 'Rs. 899Rs. 2599(Rs. 1700 OFF)',\n",
       " 'Rs. 699Rs. 999(30% OFF)',\n",
       " 'Rs. 2699Rs. 4499(40% OFF)',\n",
       " 'Rs. 999Rs. 1999(50% OFF)',\n",
       " 'Rs. 1749Rs. 3499(50% OFF)',\n",
       " 'Rs. 3224Rs. 4299(25% OFF)',\n",
       " 'Rs. 986Rs. 1049(6% OFF)',\n",
       " 'Rs. 1043Rs. 2899(64% OFF)',\n",
       " 'Rs. 1399Rs. 3499(60% OFF)',\n",
       " 'Rs. 6795',\n",
       " 'Rs. 1288Rs. 4295(70% OFF)',\n",
       " 'Rs. 1999',\n",
       " 'Rs. 5995',\n",
       " 'Rs. 849Rs. 3699(Rs. 2850 OFF)',\n",
       " 'Rs. 1749Rs. 3499(50% OFF)',\n",
       " 'Rs. 849Rs. 3699(Rs. 2850 OFF)',\n",
       " 'Rs. 1574Rs. 4499(65% OFF)',\n",
       " 'Rs. 854Rs. 1899(55% OFF)',\n",
       " 'Rs. 2599Rs. 3999(35% OFF)',\n",
       " 'Rs. 699Rs. 1499(Rs. 800 OFF)',\n",
       " 'Rs. 1319Rs. 3299(60% OFF)',\n",
       " 'Rs. 4995',\n",
       " 'Rs. 519Rs. 1999(74% OFF)',\n",
       " 'Rs. 699Rs. 999(30% OFF)',\n",
       " 'Rs. 624Rs. 2499(75% OFF)',\n",
       " 'Rs. 599Rs. 999(40% OFF)',\n",
       " 'Rs. 6795',\n",
       " 'Rs. 3299Rs. 5499(40% OFF)',\n",
       " 'Rs. 1399Rs. 3999(65% OFF)',\n",
       " 'Rs. 1259Rs. 3599(65% OFF)',\n",
       " 'Rs. 5499',\n",
       " 'Rs. 3749Rs. 4999(25% OFF)',\n",
       " 'Rs. 4999',\n",
       " 'Rs. 2299',\n",
       " 'Rs. 1836Rs. 2295(20% OFF)',\n",
       " 'Rs. 2449Rs. 4899(50% OFF)',\n",
       " 'Rs. 1949Rs. 2999(35% OFF)',\n",
       " 'Rs. 1234Rs. 1299(5% OFF)',\n",
       " 'Rs. 689Rs. 2999(77% OFF)',\n",
       " 'Rs. 2399Rs. 3999(40% OFF)',\n",
       " 'Rs. 1319Rs. 3299(60% OFF)',\n",
       " 'Rs. 1919Rs. 4799(60% OFF)',\n",
       " 'Rs. 1035Rs. 2799(63% OFF)',\n",
       " 'Rs. 2399Rs. 3999(40% OFF)',\n",
       " 'Rs. 1499',\n",
       " 'Rs. 2759Rs. 4599(40% OFF)',\n",
       " 'Rs. 1499',\n",
       " 'Rs. 1429Rs. 2199(35% OFF)',\n",
       " 'Rs. 689Rs. 2999(77% OFF)',\n",
       " 'Rs. 1749Rs. 6999(75% OFF)',\n",
       " 'Rs. 899Rs. 2999(70% OFF)',\n",
       " 'Rs. 649Rs. 2164(70% OFF)',\n",
       " 'Rs. 839Rs. 1999(58% OFF)',\n",
       " 'Rs. 659Rs. 1999(67% OFF)',\n",
       " 'Rs. 1199Rs. 1999(40% OFF)',\n",
       " 'Rs. 799Rs. 999(Rs. 200 OFF)',\n",
       " 'Rs. 699Rs. 999(30% OFF)',\n",
       " 'Rs. 1719Rs. 4299(60% OFF)',\n",
       " 'Rs. 749Rs. 2499(70% OFF)',\n",
       " 'Rs. 999Rs. 2499(60% OFF)',\n",
       " 'Rs. 1038Rs. 2595(60% OFF)',\n",
       " 'Rs. 1224Rs. 3499(65% OFF)',\n",
       " 'Rs. 1799Rs. 3599(50% OFF)',\n",
       " 'Rs. 1749Rs. 3499(50% OFF)',\n",
       " 'Rs. 599Rs. 2499(Rs. 1900 OFF)',\n",
       " 'Rs. 799Rs. 999(20% OFF)',\n",
       " 'Rs. 1289Rs. 2999(57% OFF)',\n",
       " 'Rs. 1043Rs. 2899(64% OFF)',\n",
       " 'Rs. 999Rs. 2999(Rs. 2000 OFF)',\n",
       " 'Rs. 1949Rs. 2999(35% OFF)',\n",
       " 'Rs. 1259Rs. 2799(55% OFF)',\n",
       " 'Rs. 5799',\n",
       " 'Rs. 986Rs. 1049(6% OFF)',\n",
       " 'Rs. 1019Rs. 1699(40% OFF)',\n",
       " 'Rs. 949Rs. 2599(Rs. 1650 OFF)',\n",
       " 'Rs. 879Rs. 2199(60% OFF)',\n",
       " 'Rs. 4999',\n",
       " 'Rs. 2299',\n",
       " 'Rs. 1999Rs. 3999(50% OFF)',\n",
       " 'Rs. 895Rs. 1990(55% OFF)',\n",
       " 'Rs. 839Rs. 2799(70% OFF)',\n",
       " 'Rs. 799Rs. 3699(Rs. 2900 OFF)',\n",
       " 'Rs. 799Rs. 2695(Rs. 1896 OFF)',\n",
       " 'Rs. 1690',\n",
       " 'Rs. 3899Rs. 6499(40% OFF)',\n",
       " 'Rs. 649Rs. 999(35% OFF)',\n",
       " 'Rs. 1574Rs. 6299(75% OFF)',\n",
       " 'Rs. 629Rs. 2099(70% OFF)',\n",
       " 'Rs. 3039Rs. 3799(20% OFF)',\n",
       " 'Rs. 1699Rs. 3399(50% OFF)',\n",
       " 'Rs. 1456Rs. 1995(27% OFF)',\n",
       " 'Rs. 994Rs. 3428(71% OFF)',\n",
       " 'Rs. 679Rs. 999(32% OFF)',\n",
       " 'Rs. 724Rs. 2899(75% OFF)',\n",
       " 'Rs. 849Rs. 999(15% OFF)']"
      ]
     },
     "execution_count": 133,
     "metadata": {},
     "output_type": "execute_result"
    }
   ],
   "source": [
    "price = price1 + price2\n",
    "price"
   ]
  },
  {
   "cell_type": "code",
   "execution_count": 134,
   "metadata": {},
   "outputs": [
    {
     "data": {
      "text/plain": [
       "100"
      ]
     },
     "execution_count": 134,
     "metadata": {},
     "output_type": "execute_result"
    }
   ],
   "source": [
    "len(price)"
   ]
  },
  {
   "cell_type": "code",
   "execution_count": 137,
   "metadata": {},
   "outputs": [
    {
     "data": {
      "text/html": [
       "<div>\n",
       "<style scoped>\n",
       "    .dataframe tbody tr th:only-of-type {\n",
       "        vertical-align: middle;\n",
       "    }\n",
       "\n",
       "    .dataframe tbody tr th {\n",
       "        vertical-align: top;\n",
       "    }\n",
       "\n",
       "    .dataframe thead th {\n",
       "        text-align: right;\n",
       "    }\n",
       "</style>\n",
       "<table border=\"1\" class=\"dataframe\">\n",
       "  <thead>\n",
       "    <tr style=\"text-align: right;\">\n",
       "      <th></th>\n",
       "      <th>Brand</th>\n",
       "      <th>Short-Shoe_Description</th>\n",
       "      <th>Price</th>\n",
       "    </tr>\n",
       "  </thead>\n",
       "  <tbody>\n",
       "    <tr>\n",
       "      <th>0</th>\n",
       "      <td>Nike</td>\n",
       "      <td>Men FLEX EXPERIENCE RN Shoes</td>\n",
       "      <td>Rs. 4995</td>\n",
       "    </tr>\n",
       "    <tr>\n",
       "      <th>1</th>\n",
       "      <td>Red Tape</td>\n",
       "      <td>Men Walking Shoes</td>\n",
       "      <td>Rs. 1224Rs. 4899(75% OFF)</td>\n",
       "    </tr>\n",
       "    <tr>\n",
       "      <th>2</th>\n",
       "      <td>Red Tape</td>\n",
       "      <td>Men Sneakers</td>\n",
       "      <td>Rs. 1049Rs. 4599(Rs. 3550 OFF)</td>\n",
       "    </tr>\n",
       "    <tr>\n",
       "      <th>3</th>\n",
       "      <td>MENGLER</td>\n",
       "      <td>Men Walking Shoes</td>\n",
       "      <td>Rs. 649Rs. 2499(74% OFF)</td>\n",
       "    </tr>\n",
       "    <tr>\n",
       "      <th>4</th>\n",
       "      <td>Nike</td>\n",
       "      <td>Men SPEEDREP Training Shoes</td>\n",
       "      <td>Rs. 5036Rs. 7195(30% OFF)</td>\n",
       "    </tr>\n",
       "    <tr>\n",
       "      <th>...</th>\n",
       "      <td>...</td>\n",
       "      <td>...</td>\n",
       "      <td>...</td>\n",
       "    </tr>\n",
       "    <tr>\n",
       "      <th>95</th>\n",
       "      <td>Catwalk</td>\n",
       "      <td>Women Heels</td>\n",
       "      <td>Rs. 1456Rs. 1995(27% OFF)</td>\n",
       "    </tr>\n",
       "    <tr>\n",
       "      <th>96</th>\n",
       "      <td>Fentacia</td>\n",
       "      <td>Men Formal Loafers</td>\n",
       "      <td>Rs. 994Rs. 3428(71% OFF)</td>\n",
       "    </tr>\n",
       "    <tr>\n",
       "      <th>97</th>\n",
       "      <td>ZAPATOZ</td>\n",
       "      <td>Wedge Sandals with Tassels</td>\n",
       "      <td>Rs. 679Rs. 999(32% OFF)</td>\n",
       "    </tr>\n",
       "    <tr>\n",
       "      <th>98</th>\n",
       "      <td>Crew STREET</td>\n",
       "      <td>Women Patterned Walking Shoes</td>\n",
       "      <td>Rs. 724Rs. 2899(75% OFF)</td>\n",
       "    </tr>\n",
       "    <tr>\n",
       "      <th>99</th>\n",
       "      <td>LONDON STEPS</td>\n",
       "      <td>Women Suede Finish Solid Pumps</td>\n",
       "      <td>Rs. 849Rs. 999(15% OFF)</td>\n",
       "    </tr>\n",
       "  </tbody>\n",
       "</table>\n",
       "<p>100 rows × 3 columns</p>\n",
       "</div>"
      ],
      "text/plain": [
       "           Brand          Short-Shoe_Description  \\\n",
       "0           Nike    Men FLEX EXPERIENCE RN Shoes   \n",
       "1       Red Tape               Men Walking Shoes   \n",
       "2       Red Tape                    Men Sneakers   \n",
       "3        MENGLER               Men Walking Shoes   \n",
       "4           Nike     Men SPEEDREP Training Shoes   \n",
       "..           ...                             ...   \n",
       "95       Catwalk                     Women Heels   \n",
       "96      Fentacia              Men Formal Loafers   \n",
       "97       ZAPATOZ      Wedge Sandals with Tassels   \n",
       "98   Crew STREET   Women Patterned Walking Shoes   \n",
       "99  LONDON STEPS  Women Suede Finish Solid Pumps   \n",
       "\n",
       "                             Price  \n",
       "0                         Rs. 4995  \n",
       "1        Rs. 1224Rs. 4899(75% OFF)  \n",
       "2   Rs. 1049Rs. 4599(Rs. 3550 OFF)  \n",
       "3         Rs. 649Rs. 2499(74% OFF)  \n",
       "4        Rs. 5036Rs. 7195(30% OFF)  \n",
       "..                             ...  \n",
       "95       Rs. 1456Rs. 1995(27% OFF)  \n",
       "96        Rs. 994Rs. 3428(71% OFF)  \n",
       "97         Rs. 679Rs. 999(32% OFF)  \n",
       "98        Rs. 724Rs. 2899(75% OFF)  \n",
       "99         Rs. 849Rs. 999(15% OFF)  \n",
       "\n",
       "[100 rows x 3 columns]"
      ]
     },
     "execution_count": 137,
     "metadata": {},
     "output_type": "execute_result"
    }
   ],
   "source": [
    "myntra = pd.DataFrame({})\n",
    "myntra[\"Brand\"] = brand\n",
    "myntra[\"Short-Shoe_Description\"] = description\n",
    "myntra[\"Price\"] = price\n",
    "myntra"
   ]
  },
  {
   "cell_type": "code",
   "execution_count": null,
   "metadata": {},
   "outputs": [],
   "source": []
  },
  {
   "cell_type": "markdown",
   "metadata": {},
   "source": [
    "# Q10: Go to webpage https://www.amazon.in/ Enter “Laptop” in the search field and then click the search icon. Then set CPU Type filter to “Intel Core i7” and “Intel Core i9” as shown in the below image."
   ]
  },
  {
   "cell_type": "code",
   "execution_count": 138,
   "metadata": {},
   "outputs": [],
   "source": [
    "driver = webdriver.Chrome(\"chromedriver.exe\")"
   ]
  },
  {
   "cell_type": "code",
   "execution_count": 139,
   "metadata": {},
   "outputs": [],
   "source": [
    "url = 'https://www.amazon.in/'\n",
    "driver.get(url)"
   ]
  },
  {
   "cell_type": "code",
   "execution_count": 142,
   "metadata": {},
   "outputs": [
    {
     "data": {
      "text/plain": [
       "<selenium.webdriver.remote.webelement.WebElement (session=\"59fe6aa32b0869dcded30c447c1f85d6\", element=\"da1502f8-3be9-475d-95e0-c4037345b770\")>"
      ]
     },
     "execution_count": 142,
     "metadata": {},
     "output_type": "execute_result"
    }
   ],
   "source": [
    "search = driver.find_element_by_id(\"twotabsearchtextbox\")\n",
    "search"
   ]
  },
  {
   "cell_type": "code",
   "execution_count": 143,
   "metadata": {},
   "outputs": [],
   "source": [
    "search.send_keys(\"Laptop\")"
   ]
  },
  {
   "cell_type": "code",
   "execution_count": 144,
   "metadata": {},
   "outputs": [],
   "source": [
    "button = driver.find_element_by_id('nav-search-submit-button')\n",
    "button.click()"
   ]
  },
  {
   "cell_type": "code",
   "execution_count": 189,
   "metadata": {},
   "outputs": [
    {
     "data": {
      "text/plain": [
       "<selenium.webdriver.remote.webelement.WebElement (session=\"59fe6aa32b0869dcded30c447c1f85d6\", element=\"75167047-1ed7-491a-a5f3-9c47f87e0789\")>"
      ]
     },
     "execution_count": 189,
     "metadata": {},
     "output_type": "execute_result"
    }
   ],
   "source": [
    "filter1 = driver.find_element_by_xpath(\"//li[@id = 'p_n_feature_thirteen_browse-bin/12598163031']\")\n",
    "filter1"
   ]
  },
  {
   "cell_type": "code",
   "execution_count": 190,
   "metadata": {},
   "outputs": [],
   "source": [
    "filter1.click()"
   ]
  },
  {
   "cell_type": "code",
   "execution_count": 192,
   "metadata": {},
   "outputs": [
    {
     "data": {
      "text/plain": [
       "<selenium.webdriver.remote.webelement.WebElement (session=\"59fe6aa32b0869dcded30c447c1f85d6\", element=\"9cb89ce2-9e03-4620-9dc8-1af80f39e211\")>"
      ]
     },
     "execution_count": 192,
     "metadata": {},
     "output_type": "execute_result"
    }
   ],
   "source": [
    "filter2 = driver.find_element_by_xpath(\"//li[@id = 'p_n_feature_thirteen_browse-bin/16757432031']\")\n",
    "filter2"
   ]
  },
  {
   "cell_type": "code",
   "execution_count": 193,
   "metadata": {},
   "outputs": [],
   "source": [
    "filter2.click()"
   ]
  },
  {
   "cell_type": "code",
   "execution_count": 194,
   "metadata": {},
   "outputs": [
    {
     "data": {
      "text/plain": [
       "[<selenium.webdriver.remote.webelement.WebElement (session=\"59fe6aa32b0869dcded30c447c1f85d6\", element=\"f813b5f7-ca9e-4d60-8b87-14d8351f13a1\")>,\n",
       " <selenium.webdriver.remote.webelement.WebElement (session=\"59fe6aa32b0869dcded30c447c1f85d6\", element=\"1f5c1aca-37ae-497a-ba28-e71921304ccc\")>,\n",
       " <selenium.webdriver.remote.webelement.WebElement (session=\"59fe6aa32b0869dcded30c447c1f85d6\", element=\"d235975c-fddc-4618-a7e4-be9342ea3bd0\")>,\n",
       " <selenium.webdriver.remote.webelement.WebElement (session=\"59fe6aa32b0869dcded30c447c1f85d6\", element=\"bcabab2c-1f9a-4c34-a5c2-27dc71864fe8\")>,\n",
       " <selenium.webdriver.remote.webelement.WebElement (session=\"59fe6aa32b0869dcded30c447c1f85d6\", element=\"71f28320-411d-43de-8d84-58d5d67b8608\")>,\n",
       " <selenium.webdriver.remote.webelement.WebElement (session=\"59fe6aa32b0869dcded30c447c1f85d6\", element=\"4023233b-19d6-42f6-a323-67275bfdc1e9\")>,\n",
       " <selenium.webdriver.remote.webelement.WebElement (session=\"59fe6aa32b0869dcded30c447c1f85d6\", element=\"849e9577-d19a-4806-a334-9f8cb69e9587\")>,\n",
       " <selenium.webdriver.remote.webelement.WebElement (session=\"59fe6aa32b0869dcded30c447c1f85d6\", element=\"01a62348-1c11-48ae-88fe-8c338806cd28\")>,\n",
       " <selenium.webdriver.remote.webelement.WebElement (session=\"59fe6aa32b0869dcded30c447c1f85d6\", element=\"3916d97a-d637-40aa-a5c7-fea359f82ea8\")>,\n",
       " <selenium.webdriver.remote.webelement.WebElement (session=\"59fe6aa32b0869dcded30c447c1f85d6\", element=\"a5387810-19b3-4413-a01a-ba7eef41b52b\")>,\n",
       " <selenium.webdriver.remote.webelement.WebElement (session=\"59fe6aa32b0869dcded30c447c1f85d6\", element=\"d2cc9746-13a3-4dea-b87e-5322b2eddc25\")>,\n",
       " <selenium.webdriver.remote.webelement.WebElement (session=\"59fe6aa32b0869dcded30c447c1f85d6\", element=\"8199daa1-f2cf-43af-97ce-4821d05b7754\")>,\n",
       " <selenium.webdriver.remote.webelement.WebElement (session=\"59fe6aa32b0869dcded30c447c1f85d6\", element=\"b7df5162-05fa-446c-b338-45dcb1937113\")>,\n",
       " <selenium.webdriver.remote.webelement.WebElement (session=\"59fe6aa32b0869dcded30c447c1f85d6\", element=\"f43c84e4-e014-48eb-b5e7-8b10ba17833c\")>,\n",
       " <selenium.webdriver.remote.webelement.WebElement (session=\"59fe6aa32b0869dcded30c447c1f85d6\", element=\"a42fa4b1-3c6c-4599-8ee1-3fc0b8e77763\")>,\n",
       " <selenium.webdriver.remote.webelement.WebElement (session=\"59fe6aa32b0869dcded30c447c1f85d6\", element=\"6dacf377-cea4-4b51-b9d8-3b5a2b3bfab5\")>,\n",
       " <selenium.webdriver.remote.webelement.WebElement (session=\"59fe6aa32b0869dcded30c447c1f85d6\", element=\"3d13914e-5f09-42f0-8785-f26a96e3f944\")>,\n",
       " <selenium.webdriver.remote.webelement.WebElement (session=\"59fe6aa32b0869dcded30c447c1f85d6\", element=\"d8178358-73b5-4fd8-a99d-78a5ec41f141\")>,\n",
       " <selenium.webdriver.remote.webelement.WebElement (session=\"59fe6aa32b0869dcded30c447c1f85d6\", element=\"1b4cfe26-b61e-487d-a2b2-e7ced3c94ea4\")>,\n",
       " <selenium.webdriver.remote.webelement.WebElement (session=\"59fe6aa32b0869dcded30c447c1f85d6\", element=\"f3b85662-d5de-4c5d-82ff-6834ceea53bc\")>,\n",
       " <selenium.webdriver.remote.webelement.WebElement (session=\"59fe6aa32b0869dcded30c447c1f85d6\", element=\"3166d4c9-85a5-4192-b994-96ece3b74252\")>,\n",
       " <selenium.webdriver.remote.webelement.WebElement (session=\"59fe6aa32b0869dcded30c447c1f85d6\", element=\"c6a07b07-2910-4b8e-a3d9-db1e848edb06\")>,\n",
       " <selenium.webdriver.remote.webelement.WebElement (session=\"59fe6aa32b0869dcded30c447c1f85d6\", element=\"3373abbf-4543-4a3c-8264-183be83eb5cf\")>,\n",
       " <selenium.webdriver.remote.webelement.WebElement (session=\"59fe6aa32b0869dcded30c447c1f85d6\", element=\"413829bc-6e83-42bb-88f0-1e1607feabb9\")>,\n",
       " <selenium.webdriver.remote.webelement.WebElement (session=\"59fe6aa32b0869dcded30c447c1f85d6\", element=\"93352e1a-cb35-4da8-ba3d-211105ef8ad6\")>]"
      ]
     },
     "execution_count": 194,
     "metadata": {},
     "output_type": "execute_result"
    }
   ],
   "source": [
    "t = driver.find_elements_by_xpath(\"//h2[@class = 'a-size-mini a-spacing-none a-color-base s-line-clamp-2']\")\n",
    "t"
   ]
  },
  {
   "cell_type": "code",
   "execution_count": 195,
   "metadata": {},
   "outputs": [
    {
     "data": {
      "text/plain": [
       "['HP Envy 11th Gen Core i7 Processor 13.3-inch (33.78 cms) FHD Touchscreen Laptop (16GB/1TB SSD/Win 10/NVIDIA MX450 2GB/Natural Silver/1.3 kg), 13-ba1018TX',\n",
       " 'ASUS ROG G703GI-E5148T 17.3\" (43.94 cms) FHD 144Hz/3ms Gaming Laptop (8th Gen Intel Core i9-8950HK/64GB/2TB SSHD + 1.5TB NVMe SSD/Windows 10/GTX 1080 8GB Graphics/4.70 Kg), Aluminum',\n",
       " 'Lenovo IdeaPad S540 11th Gen Intel Core i7 13.3\" QHD IPS Thin & Light Laptop (16GB/512GB SSD/Windows 10/MS Office 2019/Intel Iris Xe Graphics/Iron Grey/1.28Kg), 82H1002CIN',\n",
       " 'Lenovo Yoga 7 11th Gen Intel Core i7 14\" Full HD IPS 2-in-1 Touchscreen Laptop (16GB/512GB SSD/Windows 10/MS Office 2019/Lenovo Digital Pen/Slate Grey/Aluminium Surface/1.43Kg), 82BH00E0IN',\n",
       " 'HP Pavilion 13(2021) 11th Gen Intel Core i7 Laptop, 16GB RAM, 1TB SSD, 13.3-inch(33.8 cm) FHD Screen, Win 10, MS Office, Ceramic White, 1.24 Kg (13-bb0078TU)',\n",
       " 'MSI GF75 Thin, Intel i7-10750H, 17.3\" (43.9 cm) FHD IPS-Level 144Hz Panel Laptop (8GB/512GB NVMe SSD/Windows 10 Home/Nvidia GTX1650 4GB GDDR6/Black/2.2Kg), 10SCXR-654IN',\n",
       " 'Mi Notebook Horizon Edition 14 Intel Core i7-10510U 10th Gen Thin and Light Laptop(8GB/512GB SSD/Windows 10/Nvidia MX350 2GB Graphics/Grey/1.35Kg)(Without Webcam) XMA1904-AF',\n",
       " 'ASUS TUF Gaming F17 (2021), 17.3-inch (43.94 cms) FHD 144Hz, Intel Core i7-11800H 11th Gen, GeForce RTX 3050 Ti 4GB Graphics, Gaming Laptop (16GB/1TB SSD/Windows 10/Eclipse Gray/2.6 Kg) FX766HE-HX022T',\n",
       " 'ASUS TUF Dash F15 (2021), 15.6-inch (39.62 cms) FHD 144Hz, Intel Core i7-11370H 11th Gen, RTX 3050 4GB Graphics Gaming Laptop (16GB RAM/512GB SSD/Windows 10/Gray/2 kg), FX516PC-HN063T',\n",
       " 'Lenovo IdeaPad Gaming 3 Intel Core i7 10th Gen 15.6\" FHD IPS 250Nits Gaming Laptop (8GB/512GB SSD/Win10/NVIDIA GTX 1650 4GB GDDR6 Graphics/120Hz/Onyx Black/2.2Kg), 81Y4019EIN',\n",
       " '(Renewed) Hp Intel 7th Gen Core i7 13.3-inch (33.78 Cms) 1920 x 1080 TOUCHSCREEN Laptop (16GB RAM/1TB SSD/Windows 10 Pro/MS Office/Intel HD Integrated Graphics/ Silver/1.2Kg) EliteBook x360 G2',\n",
       " 'Acer Nitro 5 Core i7 11th Gen 15.6\" (39.62cms) Full HD IPS Gaming Laptop (16 GB/256GB SSD/1 TB HDD/Win 10/4 GB Graphics/NVIDIA GeForce RTX 3050 Ti/144 Hz, Black, 2.4 kg) AN515-57',\n",
       " 'HP Pavilion Gaming 11th Gen Intel Core i7 15.6-inch(39.6 cm) FHD Gaming Laptop (16GB RAM/512GB SSD/144Hz/GTX 1650 4GB Graphics/Win 10/MS Office/Shadow Black/2.28 Kg), 15-dk2075tx',\n",
       " 'ASUS TUF Gaming F15 (2021), 15.6-inch (39.62 cms) FHD 144Hz, Intel Core i7-11800H 11th Gen, GeForce RTX 3050 4GB Graphics, Gaming Laptop (8GB/512GB SSD/Windows 10/Eclipse Gray/2.3 Kg), FX566HC-HN093T',\n",
       " 'Lenovo IdeaPad Gaming 3 11th Gen Intel Core i7-11370H 15.6\" (39.63cm) FHD IPS Gaming Laptop (8GB/512GB SSD/Windows 10/NVIDIA RTX 3050 4GB/120Hz Refresh Display/Shadow Black/2.25Kg), 82K1004EIN',\n",
       " 'HP Envy 15T x360 2021 Model i7-1165G7 11th Gen, 16 GB RAM, 1 TB SSD, 15.6\" FHD Touch, HP Tilt Pen, B&O Speakers, Win 10 Pro, Nvidia MX450 2GB HP Tilt Pen',\n",
       " '(Renewed) Hp Intel 4th Gen Core i7 15.6-inch (39.56 Cms) 1920 x 1080 Laptop (32GB RAM /1TB SSD/Windows 10 Pro/MS Office/NVIDIA Graphics/ Gray/2.5kg) HP ZBook 15 Mobile Workstation',\n",
       " 'Fujitsu UH-X 11th Gen Intel Core i7 13.3” (33.78cm) FHD IPS 400Nits 2-in1 Touch Convertible Laptop (16GB/1TB SSD/Win10/Office/Iris Xe Graphics/Backlit Kb/Black/997gms), 4ZR1D71993',\n",
       " 'Acer Nitro 5 Intel Core i7-11th Gen 15.6-inch (39.62 cms) 144 Hz Refresh Rate Gaming Laptop (8GB RAM/RTX 3050 Graphics/1TB HDD + 256GB SSD/Windows 10 HS/Black/2.4 Kgs), AN515-57',\n",
       " '(Renewed) HP Pavilion Gaming(2021) 10th Gen Intel Core i7 15.6-inch(39.6 cm) FHD IPS 144Hz Gaming Laptop (16GB/512GB SSD + 32GB Intel Optane/NVIDIA GTX 1650Ti 4GB/Win 10/MS Office/Shadow Black), 15-DK1511TX',\n",
       " 'HP Pavilion (2021) Thin & Light 11th Gen Core i7 Laptop, 16 GB RAM, 1TB SSD, Iris Xe Graphics, 14\" (35.56cms) FHD Screen, Windows 10, MS Office, Backlit Keyboard (14-dv0058TU)',\n",
       " '(Renewed) Hp Intel 4th Gen Core i7 15.6-inch (39.56 Cms) 1920 x 1080 Laptop (16GB RAM /1TB SSD/Windows 10 Pro/MS Office/NVIDIA Graphics/ Gray/2.5kg) HP ZBook 15 Mobile Workstation',\n",
       " 'Fujitsu UH-X 11th Gen Intel i7 Core 13.3” (33.78cm) FHD IPS 400Nits Thin and Light Laptop (16GB/512GB SSD/Win10/Office/Iris Xe Graphics/Backlit Kb/ Fingerprint Reader/Black/878gms), 4ZR1D67596',\n",
       " 'ASUS VivoBook S S14 Intel Core i7-1165G7 11th Gen, 14-inch FHD Thin and Light Laptop (8GB RAM/512GB SSD + 32GB Optane Memory/Windows 10/Office 2019/Iris X Graphics- Indie Black/1.4 Kg), S433EA-AM701TS',\n",
       " 'ASUS TUF Dash F15 (2021), 15.6-inch (39.62 cms) FHD 144Hz, Intel Core i7-11370H 11th Gen, RTX 3050 4GB Graphics Gaming Laptop (16GB RAM/512GB SSD/Windows 10/White/2 kg), FX516PC-HN062T']"
      ]
     },
     "execution_count": 195,
     "metadata": {},
     "output_type": "execute_result"
    }
   ],
   "source": [
    "title = []\n",
    "for i in t:\n",
    "    title.append(i.text)\n",
    "title"
   ]
  },
  {
   "cell_type": "code",
   "execution_count": 196,
   "metadata": {},
   "outputs": [
    {
     "data": {
      "text/plain": [
       "25"
      ]
     },
     "execution_count": 196,
     "metadata": {},
     "output_type": "execute_result"
    }
   ],
   "source": [
    "len(title)"
   ]
  },
  {
   "cell_type": "code",
   "execution_count": 246,
   "metadata": {},
   "outputs": [
    {
     "data": {
      "text/plain": [
       "[<selenium.webdriver.remote.webelement.WebElement (session=\"59fe6aa32b0869dcded30c447c1f85d6\", element=\"015cc066-3504-45d8-91a2-03f2970577bb\")>,\n",
       " <selenium.webdriver.remote.webelement.WebElement (session=\"59fe6aa32b0869dcded30c447c1f85d6\", element=\"3bd8bd3d-ab30-4863-b277-ae3a0111e689\")>,\n",
       " <selenium.webdriver.remote.webelement.WebElement (session=\"59fe6aa32b0869dcded30c447c1f85d6\", element=\"dc778d21-652f-4e79-809c-7705b302e113\")>,\n",
       " <selenium.webdriver.remote.webelement.WebElement (session=\"59fe6aa32b0869dcded30c447c1f85d6\", element=\"b831b2d8-e8ce-4549-a93f-54898939b133\")>,\n",
       " <selenium.webdriver.remote.webelement.WebElement (session=\"59fe6aa32b0869dcded30c447c1f85d6\", element=\"5f27fc49-a127-48d0-850f-91d5ca5fe7a1\")>,\n",
       " <selenium.webdriver.remote.webelement.WebElement (session=\"59fe6aa32b0869dcded30c447c1f85d6\", element=\"ba857684-a558-40e4-986c-f38e26a23d84\")>,\n",
       " <selenium.webdriver.remote.webelement.WebElement (session=\"59fe6aa32b0869dcded30c447c1f85d6\", element=\"e9b6c377-f644-4658-b3af-c86b7581abaa\")>,\n",
       " <selenium.webdriver.remote.webelement.WebElement (session=\"59fe6aa32b0869dcded30c447c1f85d6\", element=\"41156e11-8a72-4f88-a2e8-1a70ecd9fe7b\")>,\n",
       " <selenium.webdriver.remote.webelement.WebElement (session=\"59fe6aa32b0869dcded30c447c1f85d6\", element=\"15dfcd66-095d-42ba-8250-b878c52356fc\")>,\n",
       " <selenium.webdriver.remote.webelement.WebElement (session=\"59fe6aa32b0869dcded30c447c1f85d6\", element=\"1486e082-d6ef-40c7-ab18-59549a13afa7\")>,\n",
       " <selenium.webdriver.remote.webelement.WebElement (session=\"59fe6aa32b0869dcded30c447c1f85d6\", element=\"fde920a3-ce4b-4e5b-90cb-1eebdfe729c1\")>,\n",
       " <selenium.webdriver.remote.webelement.WebElement (session=\"59fe6aa32b0869dcded30c447c1f85d6\", element=\"c0647c0e-bc8c-4cd7-846c-bf8c4a05e239\")>,\n",
       " <selenium.webdriver.remote.webelement.WebElement (session=\"59fe6aa32b0869dcded30c447c1f85d6\", element=\"ef17fd2f-256a-4f53-9196-e2b75d432d94\")>,\n",
       " <selenium.webdriver.remote.webelement.WebElement (session=\"59fe6aa32b0869dcded30c447c1f85d6\", element=\"04d3482d-97ec-415d-b635-def2b771ed62\")>,\n",
       " <selenium.webdriver.remote.webelement.WebElement (session=\"59fe6aa32b0869dcded30c447c1f85d6\", element=\"af767690-5096-476b-bc64-3731a8117e1f\")>,\n",
       " <selenium.webdriver.remote.webelement.WebElement (session=\"59fe6aa32b0869dcded30c447c1f85d6\", element=\"c3a61d59-cfba-4d2b-a376-96ac371f2232\")>,\n",
       " <selenium.webdriver.remote.webelement.WebElement (session=\"59fe6aa32b0869dcded30c447c1f85d6\", element=\"5bdec3a7-a5b7-4add-8a20-d009ded0c886\")>,\n",
       " <selenium.webdriver.remote.webelement.WebElement (session=\"59fe6aa32b0869dcded30c447c1f85d6\", element=\"7a8a56fb-7219-425c-960d-e75fcc16d2d6\")>,\n",
       " <selenium.webdriver.remote.webelement.WebElement (session=\"59fe6aa32b0869dcded30c447c1f85d6\", element=\"380f3c91-04d0-41ad-95ae-9754a5b687b5\")>]"
      ]
     },
     "execution_count": 246,
     "metadata": {},
     "output_type": "execute_result"
    }
   ],
   "source": [
    "r  = driver.find_elements_by_xpath(\"//div[@class = 'a-row a-size-small']\")\n",
    "r"
   ]
  },
  {
   "cell_type": "code",
   "execution_count": 247,
   "metadata": {},
   "outputs": [
    {
     "data": {
      "text/plain": [
       "['230',\n",
       " '31',\n",
       " '100',\n",
       " '3',\n",
       " '3',\n",
       " '16',\n",
       " '811',\n",
       " '3',\n",
       " '65',\n",
       " '1',\n",
       " '29',\n",
       " '3',\n",
       " '2',\n",
       " '1',\n",
       " '26',\n",
       " '3',\n",
       " '405',\n",
       " '28',\n",
       " '255']"
      ]
     },
     "execution_count": 247,
     "metadata": {},
     "output_type": "execute_result"
    }
   ],
   "source": [
    "rating = []\n",
    "for i in r:\n",
    "    rating.append(i.text)\n",
    "rating"
   ]
  },
  {
   "cell_type": "code",
   "execution_count": 229,
   "metadata": {},
   "outputs": [
    {
     "data": {
      "text/plain": [
       "19"
      ]
     },
     "execution_count": 229,
     "metadata": {},
     "output_type": "execute_result"
    }
   ],
   "source": [
    "len(rating)"
   ]
  },
  {
   "cell_type": "code",
   "execution_count": 248,
   "metadata": {},
   "outputs": [
    {
     "data": {
      "text/plain": [
       "[<selenium.webdriver.remote.webelement.WebElement (session=\"59fe6aa32b0869dcded30c447c1f85d6\", element=\"af3573c2-3c2a-42f2-80c0-f15417bbc8a1\")>,\n",
       " <selenium.webdriver.remote.webelement.WebElement (session=\"59fe6aa32b0869dcded30c447c1f85d6\", element=\"99a6b93b-bf70-4233-826b-5326f34baef5\")>,\n",
       " <selenium.webdriver.remote.webelement.WebElement (session=\"59fe6aa32b0869dcded30c447c1f85d6\", element=\"25e525c2-9a82-477b-b443-29c310356629\")>,\n",
       " <selenium.webdriver.remote.webelement.WebElement (session=\"59fe6aa32b0869dcded30c447c1f85d6\", element=\"8dc28948-29ea-4537-b2e6-6446656fd9e2\")>,\n",
       " <selenium.webdriver.remote.webelement.WebElement (session=\"59fe6aa32b0869dcded30c447c1f85d6\", element=\"a4278bbd-4321-417c-a3d8-a8694621dcdd\")>,\n",
       " <selenium.webdriver.remote.webelement.WebElement (session=\"59fe6aa32b0869dcded30c447c1f85d6\", element=\"68e9386a-f804-42b2-a6f3-f8e505da89fc\")>,\n",
       " <selenium.webdriver.remote.webelement.WebElement (session=\"59fe6aa32b0869dcded30c447c1f85d6\", element=\"e75ede8c-3a67-4fe6-b329-e2b9a564249d\")>,\n",
       " <selenium.webdriver.remote.webelement.WebElement (session=\"59fe6aa32b0869dcded30c447c1f85d6\", element=\"1a9e3a1f-cda0-4a64-a85f-ac43e1214691\")>,\n",
       " <selenium.webdriver.remote.webelement.WebElement (session=\"59fe6aa32b0869dcded30c447c1f85d6\", element=\"19cf8284-393e-4604-bd8e-fdf9bc821766\")>,\n",
       " <selenium.webdriver.remote.webelement.WebElement (session=\"59fe6aa32b0869dcded30c447c1f85d6\", element=\"cd20a139-4bc8-497a-aa3b-ef1a7d22bf0d\")>,\n",
       " <selenium.webdriver.remote.webelement.WebElement (session=\"59fe6aa32b0869dcded30c447c1f85d6\", element=\"fd830ca3-671e-4c20-9294-8a213c06147b\")>,\n",
       " <selenium.webdriver.remote.webelement.WebElement (session=\"59fe6aa32b0869dcded30c447c1f85d6\", element=\"dfb0db8f-2cf4-4357-8858-f012ffe0d0cd\")>,\n",
       " <selenium.webdriver.remote.webelement.WebElement (session=\"59fe6aa32b0869dcded30c447c1f85d6\", element=\"d8b86942-2706-4e47-9401-3b9ed0f6df60\")>,\n",
       " <selenium.webdriver.remote.webelement.WebElement (session=\"59fe6aa32b0869dcded30c447c1f85d6\", element=\"059a18b8-baae-421e-a354-9195c33c5cb8\")>,\n",
       " <selenium.webdriver.remote.webelement.WebElement (session=\"59fe6aa32b0869dcded30c447c1f85d6\", element=\"879566d4-35d8-4469-8bef-b798859d5ac1\")>,\n",
       " <selenium.webdriver.remote.webelement.WebElement (session=\"59fe6aa32b0869dcded30c447c1f85d6\", element=\"7eeebd1c-fa36-44e1-9235-2569125fe707\")>,\n",
       " <selenium.webdriver.remote.webelement.WebElement (session=\"59fe6aa32b0869dcded30c447c1f85d6\", element=\"648a45ae-3793-4841-976f-f1d37bbb2e8f\")>,\n",
       " <selenium.webdriver.remote.webelement.WebElement (session=\"59fe6aa32b0869dcded30c447c1f85d6\", element=\"baac4492-6fdc-4241-9d2d-a08b9f3b6f82\")>,\n",
       " <selenium.webdriver.remote.webelement.WebElement (session=\"59fe6aa32b0869dcded30c447c1f85d6\", element=\"489460e0-4fae-4a85-be10-41bab13a3871\")>,\n",
       " <selenium.webdriver.remote.webelement.WebElement (session=\"59fe6aa32b0869dcded30c447c1f85d6\", element=\"ad6e14eb-e254-425e-91a3-272437817538\")>,\n",
       " <selenium.webdriver.remote.webelement.WebElement (session=\"59fe6aa32b0869dcded30c447c1f85d6\", element=\"9b4d6d78-ab53-441d-b5ff-a475c9ac60cf\")>,\n",
       " <selenium.webdriver.remote.webelement.WebElement (session=\"59fe6aa32b0869dcded30c447c1f85d6\", element=\"c0d9b735-3b9f-49fb-b119-2e78ec60c9d8\")>,\n",
       " <selenium.webdriver.remote.webelement.WebElement (session=\"59fe6aa32b0869dcded30c447c1f85d6\", element=\"940c2366-bdca-483b-b54a-0e8232bc5bc8\")>,\n",
       " <selenium.webdriver.remote.webelement.WebElement (session=\"59fe6aa32b0869dcded30c447c1f85d6\", element=\"46e0333c-89e7-49ce-9c91-cd92ef9e0a85\")>]"
      ]
     },
     "execution_count": 248,
     "metadata": {},
     "output_type": "execute_result"
    }
   ],
   "source": [
    "p = driver.find_elements_by_xpath(\"//span[@class ='a-price-whole']\")\n",
    "p"
   ]
  },
  {
   "cell_type": "code",
   "execution_count": 249,
   "metadata": {},
   "outputs": [
    {
     "data": {
      "text/plain": [
       "['1,23,300',\n",
       " '5,56,524',\n",
       " '77,990',\n",
       " '97,989',\n",
       " '94,000',\n",
       " '74,990',\n",
       " '57,990',\n",
       " '1,13,990',\n",
       " '87,990',\n",
       " '73,990',\n",
       " '63,999',\n",
       " '96,990',\n",
       " '93,190',\n",
       " '96,990',\n",
       " '84,990',\n",
       " '1,27,999',\n",
       " '52,999',\n",
       " '1,07,990',\n",
       " '89,999',\n",
       " '81,990',\n",
       " '47,999',\n",
       " '92,990',\n",
       " '81,290',\n",
       " '95,990']"
      ]
     },
     "execution_count": 249,
     "metadata": {},
     "output_type": "execute_result"
    }
   ],
   "source": [
    "price = []\n",
    "for i in p:\n",
    "    price.append(i.text)\n",
    "price"
   ]
  },
  {
   "cell_type": "code",
   "execution_count": 250,
   "metadata": {},
   "outputs": [
    {
     "data": {
      "text/plain": [
       "24"
      ]
     },
     "execution_count": 250,
     "metadata": {},
     "output_type": "execute_result"
    }
   ],
   "source": [
    "len(price)"
   ]
  },
  {
   "cell_type": "code",
   "execution_count": 251,
   "metadata": {},
   "outputs": [
    {
     "data": {
      "text/html": [
       "<div>\n",
       "<style scoped>\n",
       "    .dataframe tbody tr th:only-of-type {\n",
       "        vertical-align: middle;\n",
       "    }\n",
       "\n",
       "    .dataframe tbody tr th {\n",
       "        vertical-align: top;\n",
       "    }\n",
       "\n",
       "    .dataframe thead th {\n",
       "        text-align: right;\n",
       "    }\n",
       "</style>\n",
       "<table border=\"1\" class=\"dataframe\">\n",
       "  <thead>\n",
       "    <tr style=\"text-align: right;\">\n",
       "      <th></th>\n",
       "      <th>Title</th>\n",
       "      <th>Ratings</th>\n",
       "      <th>Price</th>\n",
       "    </tr>\n",
       "  </thead>\n",
       "  <tbody>\n",
       "    <tr>\n",
       "      <th>0</th>\n",
       "      <td>HP Envy 11th Gen Core i7 Processor 13.3-inch (...</td>\n",
       "      <td>230</td>\n",
       "      <td>1,23,300</td>\n",
       "    </tr>\n",
       "    <tr>\n",
       "      <th>1</th>\n",
       "      <td>ASUS ROG G703GI-E5148T 17.3\" (43.94 cms) FHD 1...</td>\n",
       "      <td>31</td>\n",
       "      <td>5,56,524</td>\n",
       "    </tr>\n",
       "    <tr>\n",
       "      <th>2</th>\n",
       "      <td>Lenovo IdeaPad S540 11th Gen Intel Core i7 13....</td>\n",
       "      <td>100</td>\n",
       "      <td>77,990</td>\n",
       "    </tr>\n",
       "    <tr>\n",
       "      <th>3</th>\n",
       "      <td>Lenovo Yoga 7 11th Gen Intel Core i7 14\" Full ...</td>\n",
       "      <td>3</td>\n",
       "      <td>97,989</td>\n",
       "    </tr>\n",
       "    <tr>\n",
       "      <th>4</th>\n",
       "      <td>HP Pavilion 13(2021) 11th Gen Intel Core i7 La...</td>\n",
       "      <td>3</td>\n",
       "      <td>94,000</td>\n",
       "    </tr>\n",
       "    <tr>\n",
       "      <th>5</th>\n",
       "      <td>MSI GF75 Thin, Intel i7-10750H, 17.3\" (43.9 cm...</td>\n",
       "      <td>16</td>\n",
       "      <td>74,990</td>\n",
       "    </tr>\n",
       "    <tr>\n",
       "      <th>6</th>\n",
       "      <td>Mi Notebook Horizon Edition 14 Intel Core i7-1...</td>\n",
       "      <td>811</td>\n",
       "      <td>57,990</td>\n",
       "    </tr>\n",
       "    <tr>\n",
       "      <th>7</th>\n",
       "      <td>ASUS TUF Gaming F17 (2021), 17.3-inch (43.94 c...</td>\n",
       "      <td>3</td>\n",
       "      <td>1,13,990</td>\n",
       "    </tr>\n",
       "    <tr>\n",
       "      <th>8</th>\n",
       "      <td>ASUS TUF Dash F15 (2021), 15.6-inch (39.62 cms...</td>\n",
       "      <td>65</td>\n",
       "      <td>87,990</td>\n",
       "    </tr>\n",
       "    <tr>\n",
       "      <th>9</th>\n",
       "      <td>Lenovo IdeaPad Gaming 3 Intel Core i7 10th Gen...</td>\n",
       "      <td>1</td>\n",
       "      <td>73,990</td>\n",
       "    </tr>\n",
       "  </tbody>\n",
       "</table>\n",
       "</div>"
      ],
      "text/plain": [
       "                                               Title Ratings     Price\n",
       "0  HP Envy 11th Gen Core i7 Processor 13.3-inch (...     230  1,23,300\n",
       "1  ASUS ROG G703GI-E5148T 17.3\" (43.94 cms) FHD 1...      31  5,56,524\n",
       "2  Lenovo IdeaPad S540 11th Gen Intel Core i7 13....     100    77,990\n",
       "3  Lenovo Yoga 7 11th Gen Intel Core i7 14\" Full ...       3    97,989\n",
       "4  HP Pavilion 13(2021) 11th Gen Intel Core i7 La...       3    94,000\n",
       "5  MSI GF75 Thin, Intel i7-10750H, 17.3\" (43.9 cm...      16    74,990\n",
       "6  Mi Notebook Horizon Edition 14 Intel Core i7-1...     811    57,990\n",
       "7  ASUS TUF Gaming F17 (2021), 17.3-inch (43.94 c...       3  1,13,990\n",
       "8  ASUS TUF Dash F15 (2021), 15.6-inch (39.62 cms...      65    87,990\n",
       "9  Lenovo IdeaPad Gaming 3 Intel Core i7 10th Gen...       1    73,990"
      ]
     },
     "execution_count": 251,
     "metadata": {},
     "output_type": "execute_result"
    }
   ],
   "source": [
    "laptop = pd.DataFrame({})\n",
    "laptop[\"Title\"] = title[:10]\n",
    "laptop[\"Ratings\"] = rating[:10]\n",
    "laptop[\"Price\"] = price[:10]\n",
    "\n",
    "laptop"
   ]
  },
  {
   "cell_type": "code",
   "execution_count": null,
   "metadata": {},
   "outputs": [],
   "source": []
  }
 ],
 "metadata": {
  "kernelspec": {
   "display_name": "Python 3",
   "language": "python",
   "name": "python3"
  },
  "language_info": {
   "codemirror_mode": {
    "name": "ipython",
    "version": 3
   },
   "file_extension": ".py",
   "mimetype": "text/x-python",
   "name": "python",
   "nbconvert_exporter": "python",
   "pygments_lexer": "ipython3",
   "version": "3.8.5"
  }
 },
 "nbformat": 4,
 "nbformat_minor": 4
}
